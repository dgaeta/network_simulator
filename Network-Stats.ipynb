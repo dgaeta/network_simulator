{
 "metadata": {
  "name": "",
  "signature": "sha256:9092e8867f0ecd4d83f396fe52f1dc456a0017d117a92055b072415ee47342a5"
 },
 "nbformat": 3,
 "nbformat_minor": 0,
 "worksheets": [
  {
   "cells": [
    {
     "cell_type": "code",
     "collapsed": false,
     "input": [
      "import csv\n",
      "import numpy as np\n",
      "import matplotlib.pyplot as plt\n",
      "from Simulator import *"
     ],
     "language": "python",
     "metadata": {},
     "outputs": [
      {
       "output_type": "stream",
       "stream": "stderr",
       "text": [
        "/Users/dgaeta/anaconda/lib/python2.7/site-packages/matplotlib/__init__.py:1155: UserWarning:  This call to matplotlib.use() has no effect\n",
        "because the backend has already been chosen;\n",
        "matplotlib.use() must be called *before* pylab, matplotlib.pyplot,\n",
        "or matplotlib.backends is imported for the first time.\n",
        "\n",
        "  warnings.warn(_use_error_msg)\n"
       ]
      }
     ],
     "prompt_number": 1
    },
    {
     "cell_type": "code",
     "collapsed": false,
     "input": [
      "network=Network(3,True)"
     ],
     "language": "python",
     "metadata": {},
     "outputs": [
      {
       "output_type": "stream",
       "stream": "stderr",
       "text": [
        "DEBUG:root:  Publishing complete. avail content_names are 10000 through 10467 \n"
       ]
      },
      {
       "output_type": "stream",
       "stream": "stderr",
       "text": [
        "DEBUG:root:Initializing RTT test:\n"
       ]
      },
      {
       "output_type": "stream",
       "stream": "stderr",
       "text": [
        "DEBUG:root:Starting no cached content test:\n"
       ]
      },
      {
       "output_type": "stream",
       "stream": "stderr",
       "text": [
        "DEBUG:root:Content name: 10000 -- Requester ID: 1118 -- Packet {'size': 1, '_type': 'request', 'content_name': '10000', 'time_start': 18.165956, 'from_id': 0}\n"
       ]
      },
      {
       "output_type": "stream",
       "stream": "stderr",
       "text": [
        "DEBUG:root:Content name: 10001 -- Requester ID: 1899 -- Packet {'size': 1, '_type': 'request', 'content_name': '10001', 'time_start': 18.166844, 'from_id': 0}\n"
       ]
      },
      {
       "output_type": "stream",
       "stream": "stderr",
       "text": [
        "DEBUG:root:Content name: 10002 -- Requester ID: 1703 -- Packet {'size': 1, '_type': 'request', 'content_name': '10002', 'time_start': 18.167659, 'from_id': 0}\n"
       ]
      },
      {
       "output_type": "stream",
       "stream": "stderr",
       "text": [
        "DEBUG:root:Content name: 10003 -- Requester ID: 1490 -- Packet {'size': 1, '_type': 'request', 'content_name': '10003', 'time_start': 18.168568, 'from_id': 0}\n"
       ]
      },
      {
       "output_type": "stream",
       "stream": "stderr",
       "text": [
        "DEBUG:root:Content name: 10004 -- Requester ID: 1996 -- Packet {'size': 1, '_type': 'request', 'content_name': '10004', 'time_start': 18.169422, 'from_id': 0}\n"
       ]
      },
      {
       "output_type": "stream",
       "stream": "stderr",
       "text": [
        "DEBUG:root:Content name: 10005 -- Requester ID: 1392 -- Packet {'size': 1, '_type': 'request', 'content_name': '10005', 'time_start': 18.170268, 'from_id': 0}\n"
       ]
      },
      {
       "output_type": "stream",
       "stream": "stderr",
       "text": [
        "DEBUG:root:Content name: 10006 -- Requester ID: 890 -- Packet {'size': 1, '_type': 'request', 'content_name': '10006', 'time_start': 18.171247, 'from_id': 0}\n"
       ]
      },
      {
       "output_type": "stream",
       "stream": "stderr",
       "text": [
        "DEBUG:root:Content name: 10007 -- Requester ID: 1279 -- Packet {'size': 1, '_type': 'request', 'content_name': '10007', 'time_start': 18.172283, 'from_id': 0}\n"
       ]
      },
      {
       "output_type": "stream",
       "stream": "stderr",
       "text": [
        "DEBUG:root:Content name: 10008 -- Requester ID: 901 -- Packet {'size': 1, '_type': 'request', 'content_name': '10008', 'time_start': 18.173319, 'from_id': 0}\n"
       ]
      },
      {
       "output_type": "stream",
       "stream": "stderr",
       "text": [
        "DEBUG:root:Content name: 10009 -- Requester ID: 1099 -- Packet {'size': 1, '_type': 'request', 'content_name': '10009', 'time_start': 18.174518, 'from_id': 0}\n"
       ]
      },
      {
       "output_type": "stream",
       "stream": "stderr",
       "text": [
        "DEBUG:root: processing incoming packet at 1996\n"
       ]
      },
      {
       "output_type": "stream",
       "stream": "stderr",
       "text": [
        "DEBUG:root: packet data: {'size': 1, '_type': 'request', 'content_name': '10004', 'time_start': 18.169422, 'from_id': 0}\n"
       ]
      },
      {
       "output_type": "stream",
       "stream": "stderr",
       "text": [
        "DEBUG:root: Forwarding a request for  10004, from 1996 to 285\n"
       ]
      },
      {
       "output_type": "stream",
       "stream": "stderr",
       "text": [
        "DEBUG:root: content 10004 NOT known, entry for requester 0 created in PT, sent request,  to parent 285\n"
       ]
      },
      {
       "output_type": "stream",
       "stream": "stderr",
       "text": [
        "DEBUG:root: processing incoming packet at 1899\n"
       ]
      },
      {
       "output_type": "stream",
       "stream": "stderr",
       "text": [
        "DEBUG:root: packet data: {'size': 1, '_type': 'request', 'content_name': '10001', 'time_start': 18.166844, 'from_id': 0}\n"
       ]
      },
      {
       "output_type": "stream",
       "stream": "stderr",
       "text": [
        "DEBUG:root: Forwarding a request for  10001, from 1899 to 271\n"
       ]
      },
      {
       "output_type": "stream",
       "stream": "stderr",
       "text": [
        "DEBUG:root: content 10001 NOT known, entry for requester 0 created in PT, sent request,  to parent 271\n"
       ]
      },
      {
       "output_type": "stream",
       "stream": "stderr",
       "text": [
        "DEBUG:root: processing incoming packet at 1703\n"
       ]
      },
      {
       "output_type": "stream",
       "stream": "stderr",
       "text": [
        "DEBUG:root: packet data: {'size': 1, '_type': 'request', 'content_name': '10002', 'time_start': 18.167659, 'from_id': 0}\n"
       ]
      },
      {
       "output_type": "stream",
       "stream": "stderr",
       "text": [
        "DEBUG:root: Forwarding a request for  10002, from 1703 to 243\n"
       ]
      },
      {
       "output_type": "stream",
       "stream": "stderr",
       "text": [
        "DEBUG:root: content 10002 NOT known, entry for requester 0 created in PT, sent request,  to parent 243\n"
       ]
      },
      {
       "output_type": "stream",
       "stream": "stderr",
       "text": [
        "DEBUG:root: processing incoming packet at 1490\n"
       ]
      },
      {
       "output_type": "stream",
       "stream": "stderr",
       "text": [
        "DEBUG:root: packet data: {'size': 1, '_type': 'request', 'content_name': '10003', 'time_start': 18.168568, 'from_id': 0}\n"
       ]
      },
      {
       "output_type": "stream",
       "stream": "stderr",
       "text": [
        "DEBUG:root: Forwarding a request for  10003, from 1490 to 212\n"
       ]
      },
      {
       "output_type": "stream",
       "stream": "stderr",
       "text": [
        "DEBUG:root: content 10003 NOT known, entry for requester 0 created in PT, sent request,  to parent 212\n"
       ]
      },
      {
       "output_type": "stream",
       "stream": "stderr",
       "text": [
        "DEBUG:root: processing incoming packet at 1392\n"
       ]
      },
      {
       "output_type": "stream",
       "stream": "stderr",
       "text": [
        "DEBUG:root: packet data: {'size': 1, '_type': 'request', 'content_name': '10005', 'time_start': 18.170268, 'from_id': 0}\n"
       ]
      },
      {
       "output_type": "stream",
       "stream": "stderr",
       "text": [
        "DEBUG:root: Forwarding a request for  10005, from 1392 to 198\n"
       ]
      },
      {
       "output_type": "stream",
       "stream": "stderr",
       "text": [
        "DEBUG:root: content 10005 NOT known, entry for requester 0 created in PT, sent request,  to parent 198\n"
       ]
      },
      {
       "output_type": "stream",
       "stream": "stderr",
       "text": [
        "DEBUG:root: processing incoming packet at 1279\n"
       ]
      },
      {
       "output_type": "stream",
       "stream": "stderr",
       "text": [
        "DEBUG:root: packet data: {'size': 1, '_type': 'request', 'content_name': '10007', 'time_start': 18.172283, 'from_id': 0}\n"
       ]
      },
      {
       "output_type": "stream",
       "stream": "stderr",
       "text": [
        "DEBUG:root: Forwarding a request for  10007, from 1279 to 182\n"
       ]
      },
      {
       "output_type": "stream",
       "stream": "stderr",
       "text": [
        "DEBUG:root: content 10007 NOT known, entry for requester 0 created in PT, sent request,  to parent 182\n"
       ]
      },
      {
       "output_type": "stream",
       "stream": "stderr",
       "text": [
        "DEBUG:root: processing incoming packet at 1118\n"
       ]
      },
      {
       "output_type": "stream",
       "stream": "stderr",
       "text": [
        "DEBUG:root: packet data: {'size': 1, '_type': 'request', 'content_name': '10000', 'time_start': 18.165956, 'from_id': 0}\n"
       ]
      },
      {
       "output_type": "stream",
       "stream": "stderr",
       "text": [
        "DEBUG:root: Forwarding a request for  10000, from 1118 to 159\n"
       ]
      },
      {
       "output_type": "stream",
       "stream": "stderr",
       "text": [
        "DEBUG:root: content 10000 NOT known, entry for requester 0 created in PT, sent request,  to parent 159\n"
       ]
      },
      {
       "output_type": "stream",
       "stream": "stderr",
       "text": [
        "DEBUG:root: processing incoming packet at 1099\n"
       ]
      },
      {
       "output_type": "stream",
       "stream": "stderr",
       "text": [
        "DEBUG:root: packet data: {'size': 1, '_type': 'request', 'content_name': '10009', 'time_start': 18.174518, 'from_id': 0}\n"
       ]
      },
      {
       "output_type": "stream",
       "stream": "stderr",
       "text": [
        "DEBUG:root: Forwarding a request for  10009, from 1099 to 156\n"
       ]
      },
      {
       "output_type": "stream",
       "stream": "stderr",
       "text": [
        "DEBUG:root: content 10009 NOT known, entry for requester 0 created in PT, sent request,  to parent 156\n"
       ]
      },
      {
       "output_type": "stream",
       "stream": "stderr",
       "text": [
        "DEBUG:root: processing incoming packet at 901\n"
       ]
      },
      {
       "output_type": "stream",
       "stream": "stderr",
       "text": [
        "DEBUG:root: packet data: {'size': 1, '_type': 'request', 'content_name': '10008', 'time_start': 18.173319, 'from_id': 0}\n"
       ]
      },
      {
       "output_type": "stream",
       "stream": "stderr",
       "text": [
        "DEBUG:root: Forwarding a request for  10008, from 901 to 128\n"
       ]
      },
      {
       "output_type": "stream",
       "stream": "stderr",
       "text": [
        "DEBUG:root: content 10008 NOT known, entry for requester 0 created in PT, sent request,  to parent 128\n"
       ]
      },
      {
       "output_type": "stream",
       "stream": "stderr",
       "text": [
        "DEBUG:root: processing incoming packet at 890\n"
       ]
      },
      {
       "output_type": "stream",
       "stream": "stderr",
       "text": [
        "DEBUG:root: packet data: {'size': 1, '_type': 'request', 'content_name': '10006', 'time_start': 18.171247, 'from_id': 0}\n"
       ]
      },
      {
       "output_type": "stream",
       "stream": "stderr",
       "text": [
        "DEBUG:root: Forwarding a request for  10006, from 890 to 127\n"
       ]
      },
      {
       "output_type": "stream",
       "stream": "stderr",
       "text": [
        "DEBUG:root: content 10006 NOT known, entry for requester 0 created in PT, sent request,  to parent 127\n"
       ]
      },
      {
       "output_type": "stream",
       "stream": "stderr",
       "text": [
        "DEBUG:root: Delivered packet from 890 to 127\n"
       ]
      },
      {
       "output_type": "stream",
       "stream": "stderr",
       "text": [
        "DEBUG:root: Delivered packet from 901 to 128\n"
       ]
      },
      {
       "output_type": "stream",
       "stream": "stderr",
       "text": [
        "DEBUG:root: Delivered packet from 1099 to 156\n"
       ]
      },
      {
       "output_type": "stream",
       "stream": "stderr",
       "text": [
        "DEBUG:root: Delivered packet from 1118 to 159\n"
       ]
      },
      {
       "output_type": "stream",
       "stream": "stderr",
       "text": [
        "DEBUG:root: Delivered packet from 1279 to 182\n"
       ]
      },
      {
       "output_type": "stream",
       "stream": "stderr",
       "text": [
        "DEBUG:root: Delivered packet from 1392 to 198\n"
       ]
      },
      {
       "output_type": "stream",
       "stream": "stderr",
       "text": [
        "DEBUG:root: Delivered packet from 1490 to 212\n"
       ]
      },
      {
       "output_type": "stream",
       "stream": "stderr",
       "text": [
        "DEBUG:root: Delivered packet from 1703 to 243\n"
       ]
      },
      {
       "output_type": "stream",
       "stream": "stderr",
       "text": [
        "DEBUG:root: Delivered packet from 1899 to 271\n"
       ]
      },
      {
       "output_type": "stream",
       "stream": "stderr",
       "text": [
        "DEBUG:root: Delivered packet from 1996 to 285\n"
       ]
      },
      {
       "output_type": "stream",
       "stream": "stderr",
       "text": [
        "DEBUG:root: processing incoming packet at 285\n"
       ]
      },
      {
       "output_type": "stream",
       "stream": "stderr",
       "text": [
        "DEBUG:root: packet data: {'_type': 'request', 'content_name': '10004', 'time_start': 18.169422, 'dest_id': 285, 'from_id': 1996, 'size': 1}\n"
       ]
      },
      {
       "output_type": "stream",
       "stream": "stdout",
       "text": [
        "GOT TO OUTGOING\n",
        "outgoing_packet time_start is 18.169422\n",
        "time start is18.169422\n",
        "GOT TO OUTGOING\n",
        "outgoing_packet time_start is 18.166844\n",
        "time start is18.166844\n",
        "GOT TO OUTGOING\n",
        "outgoing_packet time_start is 18.167659\n",
        "time start is18.167659\n",
        "GOT TO OUTGOING\n",
        "outgoing_packet time_start is 18.168568\n",
        "time start is18.168568\n",
        "GOT TO OUTGOING\n",
        "outgoing_packet time_start is 18.170268\n",
        "time start is18.170268\n",
        "GOT TO OUTGOING\n",
        "outgoing_packet time_start is 18.172283\n",
        "time start is18.172283\n",
        "GOT TO OUTGOING\n",
        "outgoing_packet time_start is 18.165956\n",
        "time start is18.165956\n",
        "GOT TO OUTGOING\n",
        "outgoing_packet time_start is 18.174518\n",
        "time start is18.174518\n",
        "GOT TO OUTGOING\n",
        "outgoing_packet time_start is 18.173319\n",
        "time start is18.173319\n",
        "GOT TO OUTGOING\n",
        "outgoing_packet time_start is 18.171247\n",
        "time start is18.171247\n",
        "GOT TO OUTGOING"
       ]
      },
      {
       "output_type": "stream",
       "stream": "stderr",
       "text": [
        "DEBUG:root: Forwarding a request for  10004, from 285 to 40\n"
       ]
      },
      {
       "output_type": "stream",
       "stream": "stderr",
       "text": [
        "DEBUG:root: content 10004 NOT known, entry for requester 1996 created in PT, sent request,  to parent 40\n"
       ]
      },
      {
       "output_type": "stream",
       "stream": "stderr",
       "text": [
        "DEBUG:root: processing incoming packet at 271\n"
       ]
      },
      {
       "output_type": "stream",
       "stream": "stderr",
       "text": [
        "DEBUG:root: packet data: {'_type': 'request', 'content_name': '10001', 'time_start': 18.166844, 'dest_id': 271, 'from_id': 1899, 'size': 1}\n"
       ]
      },
      {
       "output_type": "stream",
       "stream": "stderr",
       "text": [
        "DEBUG:root: Forwarding a request for  10001, from 271 to 38\n"
       ]
      },
      {
       "output_type": "stream",
       "stream": "stderr",
       "text": [
        "DEBUG:root: content 10001 NOT known, entry for requester 1899 created in PT, sent request,  to parent 38\n"
       ]
      },
      {
       "output_type": "stream",
       "stream": "stderr",
       "text": [
        "DEBUG:root: processing incoming packet at 243\n"
       ]
      },
      {
       "output_type": "stream",
       "stream": "stderr",
       "text": [
        "DEBUG:root: packet data: {'_type': 'request', 'content_name': '10002', 'time_start': 18.167659, 'dest_id': 243, 'from_id': 1703, 'size': 1}\n"
       ]
      },
      {
       "output_type": "stream",
       "stream": "stderr",
       "text": [
        "DEBUG:root: Forwarding a request for  10002, from 243 to 34\n"
       ]
      },
      {
       "output_type": "stream",
       "stream": "stderr",
       "text": [
        "DEBUG:root: content 10002 NOT known, entry for requester 1703 created in PT, sent request,  to parent 34\n"
       ]
      },
      {
       "output_type": "stream",
       "stream": "stderr",
       "text": [
        "DEBUG:root: processing incoming packet at 212\n"
       ]
      },
      {
       "output_type": "stream",
       "stream": "stderr",
       "text": [
        "DEBUG:root: packet data: {'_type': 'request', 'content_name': '10003', 'time_start': 18.168568, 'dest_id': 212, 'from_id': 1490, 'size': 1}\n"
       ]
      },
      {
       "output_type": "stream",
       "stream": "stderr",
       "text": [
        "DEBUG:root: Forwarding a request for  10003, from 212 to 30\n"
       ]
      },
      {
       "output_type": "stream",
       "stream": "stderr",
       "text": [
        "DEBUG:root: content 10003 NOT known, entry for requester 1490 created in PT, sent request,  to parent 30\n"
       ]
      },
      {
       "output_type": "stream",
       "stream": "stderr",
       "text": [
        "DEBUG:root: processing incoming packet at 198\n"
       ]
      },
      {
       "output_type": "stream",
       "stream": "stderr",
       "text": [
        "DEBUG:root: packet data: {'_type': 'request', 'content_name': '10005', 'time_start': 18.170268, 'dest_id': 198, 'from_id': 1392, 'size': 1}\n"
       ]
      },
      {
       "output_type": "stream",
       "stream": "stderr",
       "text": [
        "DEBUG:root: Forwarding a request for  10005, from 198 to 28\n"
       ]
      },
      {
       "output_type": "stream",
       "stream": "stderr",
       "text": [
        "DEBUG:root: content 10005 NOT known, entry for requester 1392 created in PT, sent request,  to parent 28\n"
       ]
      },
      {
       "output_type": "stream",
       "stream": "stderr",
       "text": [
        "DEBUG:root: processing incoming packet at 182\n"
       ]
      },
      {
       "output_type": "stream",
       "stream": "stderr",
       "text": [
        "DEBUG:root: packet data: {'_type': 'request', 'content_name': '10007', 'time_start': 18.172283, 'dest_id': 182, 'from_id': 1279, 'size': 1}\n"
       ]
      },
      {
       "output_type": "stream",
       "stream": "stderr",
       "text": [
        "DEBUG:root: Forwarding a request for  10007, from 182 to 25\n"
       ]
      },
      {
       "output_type": "stream",
       "stream": "stderr",
       "text": [
        "DEBUG:root: content 10007 NOT known, entry for requester 1279 created in PT, sent request,  to parent 25\n"
       ]
      },
      {
       "output_type": "stream",
       "stream": "stderr",
       "text": [
        "DEBUG:root: processing incoming packet at 159\n"
       ]
      },
      {
       "output_type": "stream",
       "stream": "stderr",
       "text": [
        "DEBUG:root: packet data: {'_type': 'request', 'content_name': '10000', 'time_start': 18.165956, 'dest_id': 159, 'from_id': 1118, 'size': 1}\n"
       ]
      },
      {
       "output_type": "stream",
       "stream": "stderr",
       "text": [
        "DEBUG:root: Forwarding a request for  10000, from 159 to 22\n"
       ]
      },
      {
       "output_type": "stream",
       "stream": "stderr",
       "text": [
        "DEBUG:root: content 10000 NOT known, entry for requester 1118 created in PT, sent request,  to parent 22\n"
       ]
      },
      {
       "output_type": "stream",
       "stream": "stderr",
       "text": [
        "DEBUG:root: processing incoming packet at 156\n"
       ]
      },
      {
       "output_type": "stream",
       "stream": "stderr",
       "text": [
        "DEBUG:root: packet data: {'_type': 'request', 'content_name': '10009', 'time_start': 18.174518, 'dest_id': 156, 'from_id': 1099, 'size': 1}\n"
       ]
      },
      {
       "output_type": "stream",
       "stream": "stderr",
       "text": [
        "DEBUG:root: Forwarding a request for  10009, from 156 to 22\n"
       ]
      },
      {
       "output_type": "stream",
       "stream": "stderr",
       "text": [
        "DEBUG:root: content 10009 NOT known, entry for requester 1099 created in PT, sent request,  to parent 22\n"
       ]
      },
      {
       "output_type": "stream",
       "stream": "stderr",
       "text": [
        "DEBUG:root: processing incoming packet at 128\n"
       ]
      },
      {
       "output_type": "stream",
       "stream": "stderr",
       "text": [
        "DEBUG:root: packet data: {'_type': 'request', 'content_name': '10008', 'time_start': 18.173319, 'dest_id': 128, 'from_id': 901, 'size': 1}\n"
       ]
      },
      {
       "output_type": "stream",
       "stream": "stderr",
       "text": [
        "DEBUG:root: Forwarding a request for  10008, from 128 to 18\n"
       ]
      },
      {
       "output_type": "stream",
       "stream": "stderr",
       "text": [
        "DEBUG:root: content 10008 NOT known, entry for requester 901 created in PT, sent request,  to parent 18\n"
       ]
      },
      {
       "output_type": "stream",
       "stream": "stderr",
       "text": [
        "DEBUG:root: processing incoming packet at 127\n"
       ]
      },
      {
       "output_type": "stream",
       "stream": "stderr",
       "text": [
        "DEBUG:root: packet data: {'_type': 'request', 'content_name': '10006', 'time_start': 18.171247, 'dest_id': 127, 'from_id': 890, 'size': 1}\n"
       ]
      },
      {
       "output_type": "stream",
       "stream": "stderr",
       "text": [
        "DEBUG:root: Forwarding a request for  10006, from 127 to 18\n"
       ]
      },
      {
       "output_type": "stream",
       "stream": "stderr",
       "text": [
        "DEBUG:root: content 10006 NOT known, entry for requester 890 created in PT, sent request,  to parent 18\n"
       ]
      },
      {
       "output_type": "stream",
       "stream": "stderr",
       "text": [
        "DEBUG:root: Delivered packet from 127 to 18\n"
       ]
      },
      {
       "output_type": "stream",
       "stream": "stderr",
       "text": [
        "DEBUG:root: Delivered packet from 128 to 18\n"
       ]
      },
      {
       "output_type": "stream",
       "stream": "stderr",
       "text": [
        "DEBUG:root: Delivered packet from 156 to 22\n"
       ]
      },
      {
       "output_type": "stream",
       "stream": "stderr",
       "text": [
        "DEBUG:root: Delivered packet from 159 to 22\n"
       ]
      },
      {
       "output_type": "stream",
       "stream": "stderr",
       "text": [
        "DEBUG:root: Delivered packet from 182 to 25\n"
       ]
      },
      {
       "output_type": "stream",
       "stream": "stderr",
       "text": [
        "DEBUG:root: Delivered packet from 198 to 28\n"
       ]
      },
      {
       "output_type": "stream",
       "stream": "stderr",
       "text": [
        "DEBUG:root: Delivered packet from 212 to 30\n"
       ]
      },
      {
       "output_type": "stream",
       "stream": "stderr",
       "text": [
        "DEBUG:root: Delivered packet from 243 to 34\n"
       ]
      },
      {
       "output_type": "stream",
       "stream": "stderr",
       "text": [
        "DEBUG:root: Delivered packet from 271 to 38\n"
       ]
      },
      {
       "output_type": "stream",
       "stream": "stderr",
       "text": [
        "DEBUG:root: Delivered packet from 285 to 40\n"
       ]
      },
      {
       "output_type": "stream",
       "stream": "stderr",
       "text": [
        "DEBUG:root: processing incoming packet at 40\n"
       ]
      },
      {
       "output_type": "stream",
       "stream": "stderr",
       "text": [
        "DEBUG:root: packet data: {'_type': 'request', 'content_name': '10004', 'time_start': 18.169422, 'dest_id': 40, 'from_id': 285, 'size': 1}\n"
       ]
      },
      {
       "output_type": "stream",
       "stream": "stdout",
       "text": [
        "\n",
        "outgoing_packet time_start is 18.169422\n",
        "time start is18.169422\n",
        "GOT TO OUTGOING\n",
        "outgoing_packet time_start is 18.166844\n",
        "time start is18.166844\n",
        "GOT TO OUTGOING\n",
        "outgoing_packet time_start is 18.167659\n",
        "time start is18.167659\n",
        "GOT TO OUTGOING\n",
        "outgoing_packet time_start is 18.168568\n",
        "time start is18.168568\n",
        "GOT TO OUTGOING\n",
        "outgoing_packet time_start is 18.170268\n",
        "time start is18.170268\n",
        "GOT TO OUTGOING\n",
        "outgoing_packet time_start is 18.172283\n",
        "time start is18.172283\n",
        "GOT TO OUTGOING\n",
        "outgoing_packet time_start is 18.165956\n",
        "time start is18.165956\n",
        "GOT TO OUTGOING\n",
        "outgoing_packet time_start is 18.174518\n",
        "time start is18.174518\n",
        "GOT TO OUTGOING\n",
        "outgoing_packet time_start is 18.173319\n",
        "time start is18.173319\n",
        "GOT TO OUTGOING\n",
        "outgoing_packet time_start is 18.171247\n",
        "time start is18.171247\n",
        "GOT TO OUTGOING"
       ]
      },
      {
       "output_type": "stream",
       "stream": "stderr",
       "text": [
        "DEBUG:root: Forwarding a request for  10004, from 40 to 5\n"
       ]
      },
      {
       "output_type": "stream",
       "stream": "stderr",
       "text": [
        "DEBUG:root: content 10004 NOT known, entry for requester 285 created in PT, sent request,  to parent 5\n"
       ]
      },
      {
       "output_type": "stream",
       "stream": "stderr",
       "text": [
        "DEBUG:root: processing incoming packet at 38\n"
       ]
      },
      {
       "output_type": "stream",
       "stream": "stderr",
       "text": [
        "DEBUG:root: packet data: {'_type': 'request', 'content_name': '10001', 'time_start': 18.166844, 'dest_id': 38, 'from_id': 271, 'size': 1}\n"
       ]
      },
      {
       "output_type": "stream",
       "stream": "stderr",
       "text": [
        "DEBUG:root: Forwarding a request for  10001, from 38 to 5\n"
       ]
      },
      {
       "output_type": "stream",
       "stream": "stderr",
       "text": [
        "DEBUG:root: content 10001 NOT known, entry for requester 271 created in PT, sent request,  to parent 5\n"
       ]
      },
      {
       "output_type": "stream",
       "stream": "stderr",
       "text": [
        "DEBUG:root: processing incoming packet at 34\n"
       ]
      },
      {
       "output_type": "stream",
       "stream": "stderr",
       "text": [
        "DEBUG:root: packet data: {'_type': 'request', 'content_name': '10002', 'time_start': 18.167659, 'dest_id': 34, 'from_id': 243, 'size': 1}\n"
       ]
      },
      {
       "output_type": "stream",
       "stream": "stderr",
       "text": [
        "DEBUG:root: Forwarding a request for  10002, from 34 to 4\n"
       ]
      },
      {
       "output_type": "stream",
       "stream": "stderr",
       "text": [
        "DEBUG:root: content 10002 NOT known, entry for requester 243 created in PT, sent request,  to parent 4\n"
       ]
      },
      {
       "output_type": "stream",
       "stream": "stderr",
       "text": [
        "DEBUG:root: processing incoming packet at 30\n"
       ]
      },
      {
       "output_type": "stream",
       "stream": "stderr",
       "text": [
        "DEBUG:root: packet data: {'_type': 'request', 'content_name': '10003', 'time_start': 18.168568, 'dest_id': 30, 'from_id': 212, 'size': 1}\n"
       ]
      },
      {
       "output_type": "stream",
       "stream": "stderr",
       "text": [
        "DEBUG:root: Forwarding a request for  10003, from 30 to 4\n"
       ]
      },
      {
       "output_type": "stream",
       "stream": "stderr",
       "text": [
        "DEBUG:root: content 10003 NOT known, entry for requester 212 created in PT, sent request,  to parent 4\n"
       ]
      },
      {
       "output_type": "stream",
       "stream": "stderr",
       "text": [
        "DEBUG:root: processing incoming packet at 28\n"
       ]
      },
      {
       "output_type": "stream",
       "stream": "stderr",
       "text": [
        "DEBUG:root: packet data: {'_type': 'request', 'content_name': '10005', 'time_start': 18.170268, 'dest_id': 28, 'from_id': 198, 'size': 1}\n"
       ]
      },
      {
       "output_type": "stream",
       "stream": "stderr",
       "text": [
        "DEBUG:root: Forwarding a request for  10005, from 28 to 3\n"
       ]
      },
      {
       "output_type": "stream",
       "stream": "stderr",
       "text": [
        "DEBUG:root: content 10005 NOT known, entry for requester 198 created in PT, sent request,  to parent 3\n"
       ]
      },
      {
       "output_type": "stream",
       "stream": "stderr",
       "text": [
        "DEBUG:root: processing incoming packet at 25\n"
       ]
      },
      {
       "output_type": "stream",
       "stream": "stderr",
       "text": [
        "DEBUG:root: packet data: {'_type': 'request', 'content_name': '10007', 'time_start': 18.172283, 'dest_id': 25, 'from_id': 182, 'size': 1}\n"
       ]
      },
      {
       "output_type": "stream",
       "stream": "stderr",
       "text": [
        "DEBUG:root: Forwarding a request for  10007, from 25 to 3\n"
       ]
      },
      {
       "output_type": "stream",
       "stream": "stderr",
       "text": [
        "DEBUG:root: content 10007 NOT known, entry for requester 182 created in PT, sent request,  to parent 3\n"
       ]
      },
      {
       "output_type": "stream",
       "stream": "stderr",
       "text": [
        "DEBUG:root: processing incoming packet at 22\n"
       ]
      },
      {
       "output_type": "stream",
       "stream": "stderr",
       "text": [
        "DEBUG:root: packet data: {'_type': 'request', 'content_name': '10009', 'time_start': 18.174518, 'dest_id': 22, 'from_id': 156, 'size': 1}\n"
       ]
      },
      {
       "output_type": "stream",
       "stream": "stderr",
       "text": [
        "DEBUG:root: Forwarding a request for  10009, from 22 to 3\n"
       ]
      },
      {
       "output_type": "stream",
       "stream": "stderr",
       "text": [
        "DEBUG:root: content 10009 NOT known, entry for requester 156 created in PT, sent request,  to parent 3\n"
       ]
      },
      {
       "output_type": "stream",
       "stream": "stderr",
       "text": [
        "DEBUG:root: processing incoming packet at 22\n"
       ]
      },
      {
       "output_type": "stream",
       "stream": "stderr",
       "text": [
        "DEBUG:root: packet data: {'_type': 'request', 'content_name': '10000', 'time_start': 18.165956, 'dest_id': 22, 'from_id': 159, 'size': 1}\n"
       ]
      },
      {
       "output_type": "stream",
       "stream": "stderr",
       "text": [
        "DEBUG:root: Forwarding a request for  10000, from 22 to 3\n"
       ]
      },
      {
       "output_type": "stream",
       "stream": "stderr",
       "text": [
        "DEBUG:root: content 10000 NOT known, entry for requester 159 created in PT, sent request,  to parent 3\n"
       ]
      },
      {
       "output_type": "stream",
       "stream": "stderr",
       "text": [
        "DEBUG:root: processing incoming packet at 18\n"
       ]
      },
      {
       "output_type": "stream",
       "stream": "stderr",
       "text": [
        "DEBUG:root: packet data: {'_type': 'request', 'content_name': '10006', 'time_start': 18.171247, 'dest_id': 18, 'from_id': 127, 'size': 1}\n"
       ]
      },
      {
       "output_type": "stream",
       "stream": "stderr",
       "text": [
        "DEBUG:root: Forwarding a request for  10006, from 18 to 2\n"
       ]
      },
      {
       "output_type": "stream",
       "stream": "stderr",
       "text": [
        "DEBUG:root: content 10006 NOT known, entry for requester 127 created in PT, sent request,  to parent 2\n"
       ]
      },
      {
       "output_type": "stream",
       "stream": "stderr",
       "text": [
        "DEBUG:root: processing incoming packet at 18\n"
       ]
      },
      {
       "output_type": "stream",
       "stream": "stderr",
       "text": [
        "DEBUG:root: packet data: {'_type': 'request', 'content_name': '10008', 'time_start': 18.173319, 'dest_id': 18, 'from_id': 128, 'size': 1}\n"
       ]
      },
      {
       "output_type": "stream",
       "stream": "stderr",
       "text": [
        "DEBUG:root: Forwarding a request for  10008, from 18 to 2\n"
       ]
      },
      {
       "output_type": "stream",
       "stream": "stderr",
       "text": [
        "DEBUG:root: content 10008 NOT known, entry for requester 128 created in PT, sent request,  to parent 2\n"
       ]
      },
      {
       "output_type": "stream",
       "stream": "stderr",
       "text": [
        "DEBUG:root: Delivered packet from 18 to 2\n"
       ]
      },
      {
       "output_type": "stream",
       "stream": "stderr",
       "text": [
        "DEBUG:root: Delivered packet from 18 to 2\n"
       ]
      },
      {
       "output_type": "stream",
       "stream": "stderr",
       "text": [
        "DEBUG:root: Delivered packet from 22 to 3\n"
       ]
      },
      {
       "output_type": "stream",
       "stream": "stderr",
       "text": [
        "DEBUG:root: Delivered packet from 22 to 3\n"
       ]
      },
      {
       "output_type": "stream",
       "stream": "stderr",
       "text": [
        "DEBUG:root: Delivered packet from 25 to 3\n"
       ]
      },
      {
       "output_type": "stream",
       "stream": "stderr",
       "text": [
        "DEBUG:root: Delivered packet from 28 to 3\n"
       ]
      },
      {
       "output_type": "stream",
       "stream": "stderr",
       "text": [
        "DEBUG:root: Delivered packet from 30 to 4\n"
       ]
      },
      {
       "output_type": "stream",
       "stream": "stderr",
       "text": [
        "DEBUG:root: Delivered packet from 34 to 4\n"
       ]
      },
      {
       "output_type": "stream",
       "stream": "stderr",
       "text": [
        "DEBUG:root: Delivered packet from 38 to 5\n"
       ]
      },
      {
       "output_type": "stream",
       "stream": "stderr",
       "text": [
        "DEBUG:root: Delivered packet from 40 to 5\n"
       ]
      },
      {
       "output_type": "stream",
       "stream": "stderr",
       "text": [
        "DEBUG:root: processing incoming packet at 5\n"
       ]
      },
      {
       "output_type": "stream",
       "stream": "stderr",
       "text": [
        "DEBUG:root: packet data: {'_type': 'request', 'content_name': '10001', 'time_start': 18.166844, 'dest_id': 5, 'from_id': 38, 'size': 1}\n"
       ]
      },
      {
       "output_type": "stream",
       "stream": "stdout",
       "text": [
        "\n",
        "outgoing_packet time_start is 18.169422\n",
        "time start is18.169422\n",
        "GOT TO OUTGOING\n",
        "outgoing_packet time_start is 18.166844\n",
        "time start is18.166844\n",
        "GOT TO OUTGOING\n",
        "outgoing_packet time_start is 18.167659\n",
        "time start is18.167659\n",
        "GOT TO OUTGOING\n",
        "outgoing_packet time_start is 18.168568\n",
        "time start is18.168568\n",
        "GOT TO OUTGOING\n",
        "outgoing_packet time_start is 18.170268\n",
        "time start is18.170268\n",
        "GOT TO OUTGOING\n",
        "outgoing_packet time_start is 18.172283\n",
        "time start is18.172283\n",
        "GOT TO OUTGOING\n",
        "outgoing_packet time_start is 18.174518\n",
        "time start is18.174518\n",
        "GOT TO OUTGOING\n",
        "outgoing_packet time_start is 18.165956\n",
        "time start is18.165956\n",
        "GOT TO OUTGOING\n",
        "outgoing_packet time_start is 18.171247\n",
        "time start is18.171247\n",
        "GOT TO OUTGOING\n",
        "outgoing_packet time_start is 18.173319\n",
        "time start is18.173319\n",
        "GOT TO OUTGOING"
       ]
      },
      {
       "output_type": "stream",
       "stream": "stderr",
       "text": [
        "DEBUG:root: Forwarding a request for  10001, from 5 to 1\n"
       ]
      },
      {
       "output_type": "stream",
       "stream": "stderr",
       "text": [
        "DEBUG:root: content 10001 NOT known, entry for requester 38 created in PT, sent request,  to parent 1\n"
       ]
      },
      {
       "output_type": "stream",
       "stream": "stderr",
       "text": [
        "DEBUG:root: processing incoming packet at 5\n"
       ]
      },
      {
       "output_type": "stream",
       "stream": "stderr",
       "text": [
        "DEBUG:root: packet data: {'_type': 'request', 'content_name': '10004', 'time_start': 18.169422, 'dest_id': 5, 'from_id': 40, 'size': 1}\n"
       ]
      },
      {
       "output_type": "stream",
       "stream": "stderr",
       "text": [
        "DEBUG:root: Forwarding a request for  10004, from 5 to 1\n"
       ]
      },
      {
       "output_type": "stream",
       "stream": "stderr",
       "text": [
        "DEBUG:root: content 10004 NOT known, entry for requester 40 created in PT, sent request,  to parent 1\n"
       ]
      },
      {
       "output_type": "stream",
       "stream": "stderr",
       "text": [
        "DEBUG:root: processing incoming packet at 4\n"
       ]
      },
      {
       "output_type": "stream",
       "stream": "stderr",
       "text": [
        "DEBUG:root: packet data: {'_type': 'request', 'content_name': '10003', 'time_start': 18.168568, 'dest_id': 4, 'from_id': 30, 'size': 1}\n"
       ]
      },
      {
       "output_type": "stream",
       "stream": "stderr",
       "text": [
        "DEBUG:root: Forwarding a request for  10003, from 4 to 1\n"
       ]
      },
      {
       "output_type": "stream",
       "stream": "stderr",
       "text": [
        "DEBUG:root: content 10003 NOT known, entry for requester 30 created in PT, sent request,  to parent 1\n"
       ]
      },
      {
       "output_type": "stream",
       "stream": "stderr",
       "text": [
        "DEBUG:root: processing incoming packet at 4\n"
       ]
      },
      {
       "output_type": "stream",
       "stream": "stderr",
       "text": [
        "DEBUG:root: packet data: {'_type': 'request', 'content_name': '10002', 'time_start': 18.167659, 'dest_id': 4, 'from_id': 34, 'size': 1}\n"
       ]
      },
      {
       "output_type": "stream",
       "stream": "stderr",
       "text": [
        "DEBUG:root: Forwarding a request for  10002, from 4 to 1\n"
       ]
      },
      {
       "output_type": "stream",
       "stream": "stderr",
       "text": [
        "DEBUG:root: content 10002 NOT known, entry for requester 34 created in PT, sent request,  to parent 1\n"
       ]
      },
      {
       "output_type": "stream",
       "stream": "stderr",
       "text": [
        "DEBUG:root: processing incoming packet at 3\n"
       ]
      },
      {
       "output_type": "stream",
       "stream": "stderr",
       "text": [
        "DEBUG:root: packet data: {'_type': 'request', 'content_name': '10000', 'time_start': 18.165956, 'dest_id': 3, 'from_id': 22, 'size': 1}\n"
       ]
      },
      {
       "output_type": "stream",
       "stream": "stderr",
       "text": [
        "DEBUG:root: Forwarding a request for  10000, from 3 to 1\n"
       ]
      },
      {
       "output_type": "stream",
       "stream": "stderr",
       "text": [
        "DEBUG:root: content 10000 NOT known, entry for requester 22 created in PT, sent request,  to parent 1\n"
       ]
      },
      {
       "output_type": "stream",
       "stream": "stderr",
       "text": [
        "DEBUG:root: processing incoming packet at 3\n"
       ]
      },
      {
       "output_type": "stream",
       "stream": "stderr",
       "text": [
        "DEBUG:root: packet data: {'_type': 'request', 'content_name': '10009', 'time_start': 18.174518, 'dest_id': 3, 'from_id': 22, 'size': 1}\n"
       ]
      },
      {
       "output_type": "stream",
       "stream": "stderr",
       "text": [
        "DEBUG:root: Forwarding a request for  10009, from 3 to 1\n"
       ]
      },
      {
       "output_type": "stream",
       "stream": "stderr",
       "text": [
        "DEBUG:root: content 10009 NOT known, entry for requester 22 created in PT, sent request,  to parent 1\n"
       ]
      },
      {
       "output_type": "stream",
       "stream": "stderr",
       "text": [
        "DEBUG:root: processing incoming packet at 3\n"
       ]
      },
      {
       "output_type": "stream",
       "stream": "stderr",
       "text": [
        "DEBUG:root: packet data: {'_type': 'request', 'content_name': '10007', 'time_start': 18.172283, 'dest_id': 3, 'from_id': 25, 'size': 1}\n"
       ]
      },
      {
       "output_type": "stream",
       "stream": "stderr",
       "text": [
        "DEBUG:root: Forwarding a request for  10007, from 3 to 1\n"
       ]
      },
      {
       "output_type": "stream",
       "stream": "stderr",
       "text": [
        "DEBUG:root: content 10007 NOT known, entry for requester 25 created in PT, sent request,  to parent 1\n"
       ]
      },
      {
       "output_type": "stream",
       "stream": "stderr",
       "text": [
        "DEBUG:root: processing incoming packet at 3\n"
       ]
      },
      {
       "output_type": "stream",
       "stream": "stderr",
       "text": [
        "DEBUG:root: packet data: {'_type': 'request', 'content_name': '10005', 'time_start': 18.170268, 'dest_id': 3, 'from_id': 28, 'size': 1}\n"
       ]
      },
      {
       "output_type": "stream",
       "stream": "stderr",
       "text": [
        "DEBUG:root: Forwarding a request for  10005, from 3 to 1\n"
       ]
      },
      {
       "output_type": "stream",
       "stream": "stderr",
       "text": [
        "DEBUG:root: content 10005 NOT known, entry for requester 28 created in PT, sent request,  to parent 1\n"
       ]
      },
      {
       "output_type": "stream",
       "stream": "stderr",
       "text": [
        "DEBUG:root: processing incoming packet at 2\n"
       ]
      },
      {
       "output_type": "stream",
       "stream": "stderr",
       "text": [
        "DEBUG:root: packet data: {'_type': 'request', 'content_name': '10008', 'time_start': 18.173319, 'dest_id': 2, 'from_id': 18, 'size': 1}\n"
       ]
      },
      {
       "output_type": "stream",
       "stream": "stderr",
       "text": [
        "DEBUG:root: Forwarding a request for  10008, from 2 to 1\n"
       ]
      },
      {
       "output_type": "stream",
       "stream": "stderr",
       "text": [
        "DEBUG:root: content 10008 NOT known, entry for requester 18 created in PT, sent request,  to parent 1\n"
       ]
      },
      {
       "output_type": "stream",
       "stream": "stderr",
       "text": [
        "DEBUG:root: processing incoming packet at 2\n"
       ]
      },
      {
       "output_type": "stream",
       "stream": "stderr",
       "text": [
        "DEBUG:root: packet data: {'_type': 'request', 'content_name': '10006', 'time_start': 18.171247, 'dest_id': 2, 'from_id': 18, 'size': 1}\n"
       ]
      },
      {
       "output_type": "stream",
       "stream": "stderr",
       "text": [
        "DEBUG:root: Forwarding a request for  10006, from 2 to 1\n"
       ]
      },
      {
       "output_type": "stream",
       "stream": "stderr",
       "text": [
        "DEBUG:root: content 10006 NOT known, entry for requester 18 created in PT, sent request,  to parent 1\n"
       ]
      },
      {
       "output_type": "stream",
       "stream": "stderr",
       "text": [
        "DEBUG:root: Delivered packet from 2 to 1\n"
       ]
      },
      {
       "output_type": "stream",
       "stream": "stderr",
       "text": [
        "DEBUG:root: Delivered packet from 2 to 1\n"
       ]
      },
      {
       "output_type": "stream",
       "stream": "stderr",
       "text": [
        "DEBUG:root: Delivered packet from 3 to 1\n"
       ]
      },
      {
       "output_type": "stream",
       "stream": "stderr",
       "text": [
        "DEBUG:root: Delivered packet from 3 to 1\n"
       ]
      },
      {
       "output_type": "stream",
       "stream": "stderr",
       "text": [
        "DEBUG:root: Delivered packet from 3 to 1\n"
       ]
      },
      {
       "output_type": "stream",
       "stream": "stderr",
       "text": [
        "DEBUG:root: Delivered packet from 3 to 1\n"
       ]
      },
      {
       "output_type": "stream",
       "stream": "stderr",
       "text": [
        "DEBUG:root: Delivered packet from 4 to 1\n"
       ]
      },
      {
       "output_type": "stream",
       "stream": "stderr",
       "text": [
        "DEBUG:root: Delivered packet from 4 to 1\n"
       ]
      },
      {
       "output_type": "stream",
       "stream": "stderr",
       "text": [
        "DEBUG:root: Delivered packet from 5 to 1\n"
       ]
      },
      {
       "output_type": "stream",
       "stream": "stderr",
       "text": [
        "DEBUG:root: Delivered packet from 5 to 1\n"
       ]
      },
      {
       "output_type": "stream",
       "stream": "stderr",
       "text": [
        "DEBUG:root: processing incoming packet at 1\n"
       ]
      },
      {
       "output_type": "stream",
       "stream": "stderr",
       "text": [
        "DEBUG:root: packet data: {'_type': 'request', 'content_name': '10006', 'time_start': 18.171247, 'dest_id': 1, 'from_id': 2, 'size': 1}\n"
       ]
      },
      {
       "output_type": "stream",
       "stream": "stdout",
       "text": [
        "\n",
        "outgoing_packet time_start is 18.166844\n",
        "time start is18.166844\n",
        "GOT TO OUTGOING\n",
        "outgoing_packet time_start is 18.169422\n",
        "time start is18.169422\n",
        "GOT TO OUTGOING\n",
        "outgoing_packet time_start is 18.168568\n",
        "time start is18.168568\n",
        "GOT TO OUTGOING\n",
        "outgoing_packet time_start is 18.167659\n",
        "time start is18.167659\n",
        "GOT TO OUTGOING\n",
        "outgoing_packet time_start is 18.165956\n",
        "time start is18.165956\n",
        "GOT TO OUTGOING\n",
        "outgoing_packet time_start is 18.174518\n",
        "time start is18.174518\n",
        "GOT TO OUTGOING\n",
        "outgoing_packet time_start is 18.172283\n",
        "time start is18.172283\n",
        "GOT TO OUTGOING\n",
        "outgoing_packet time_start is 18.170268\n",
        "time start is18.170268\n",
        "GOT TO OUTGOING\n",
        "outgoing_packet time_start is 18.173319\n",
        "time start is18.173319\n",
        "GOT TO OUTGOING\n",
        "outgoing_packet time_start is 18.171247\n",
        "time start is18.171247\n",
        "GOT TO OUTGOING"
       ]
      },
      {
       "output_type": "stream",
       "stream": "stderr",
       "text": [
        "DEBUG:root: Forwarding a request for  10006, from 1 to 7\n"
       ]
      },
      {
       "output_type": "stream",
       "stream": "stderr",
       "text": [
        "DEBUG:root: location content 10006 known, entry for requester 2 created in PT\n"
       ]
      },
      {
       "output_type": "stream",
       "stream": "stderr",
       "text": [
        "DEBUG:root: forwarded request to child 7 \n"
       ]
      },
      {
       "output_type": "stream",
       "stream": "stderr",
       "text": [
        "DEBUG:root: processing incoming packet at 1\n"
       ]
      },
      {
       "output_type": "stream",
       "stream": "stderr",
       "text": [
        "DEBUG:root: packet data: {'_type': 'request', 'content_name': '10008', 'time_start': 18.173319, 'dest_id': 1, 'from_id': 2, 'size': 1}\n"
       ]
      },
      {
       "output_type": "stream",
       "stream": "stderr",
       "text": [
        "DEBUG:root: Forwarding a request for  10008, from 1 to 7\n"
       ]
      },
      {
       "output_type": "stream",
       "stream": "stderr",
       "text": [
        "DEBUG:root: location content 10008 known, entry for requester 2 created in PT\n"
       ]
      },
      {
       "output_type": "stream",
       "stream": "stderr",
       "text": [
        "DEBUG:root: forwarded request to child 7 \n"
       ]
      },
      {
       "output_type": "stream",
       "stream": "stderr",
       "text": [
        "DEBUG:root: processing incoming packet at 1\n"
       ]
      },
      {
       "output_type": "stream",
       "stream": "stderr",
       "text": [
        "DEBUG:root: packet data: {'_type': 'request', 'content_name': '10005', 'time_start': 18.170268, 'dest_id': 1, 'from_id': 3, 'size': 1}\n"
       ]
      },
      {
       "output_type": "stream",
       "stream": "stderr",
       "text": [
        "DEBUG:root: Forwarding a request for  10005, from 1 to 7\n"
       ]
      },
      {
       "output_type": "stream",
       "stream": "stderr",
       "text": [
        "DEBUG:root: location content 10005 known, entry for requester 3 created in PT\n"
       ]
      },
      {
       "output_type": "stream",
       "stream": "stderr",
       "text": [
        "DEBUG:root: forwarded request to child 7 \n"
       ]
      },
      {
       "output_type": "stream",
       "stream": "stderr",
       "text": [
        "DEBUG:root: processing incoming packet at 1\n"
       ]
      },
      {
       "output_type": "stream",
       "stream": "stderr",
       "text": [
        "DEBUG:root: packet data: {'_type': 'request', 'content_name': '10007', 'time_start': 18.172283, 'dest_id': 1, 'from_id': 3, 'size': 1}\n"
       ]
      },
      {
       "output_type": "stream",
       "stream": "stderr",
       "text": [
        "DEBUG:root: Forwarding a request for  10007, from 1 to 7\n"
       ]
      },
      {
       "output_type": "stream",
       "stream": "stderr",
       "text": [
        "DEBUG:root: location content 10007 known, entry for requester 3 created in PT\n"
       ]
      },
      {
       "output_type": "stream",
       "stream": "stderr",
       "text": [
        "DEBUG:root: forwarded request to child 7 \n"
       ]
      },
      {
       "output_type": "stream",
       "stream": "stderr",
       "text": [
        "DEBUG:root: Delivered packet from 1 to 7\n"
       ]
      },
      {
       "output_type": "stream",
       "stream": "stderr",
       "text": [
        "DEBUG:root: Delivered packet from 1 to 7\n"
       ]
      },
      {
       "output_type": "stream",
       "stream": "stderr",
       "text": [
        "DEBUG:root: Delivered packet from 1 to 7\n"
       ]
      },
      {
       "output_type": "stream",
       "stream": "stderr",
       "text": [
        "DEBUG:root: Delivered packet from 1 to 7\n"
       ]
      },
      {
       "output_type": "stream",
       "stream": "stderr",
       "text": [
        "DEBUG:root: processing incoming packet at 7\n"
       ]
      },
      {
       "output_type": "stream",
       "stream": "stderr",
       "text": [
        "DEBUG:root: packet data: {'_type': 'request', 'content_name': '10007', 'time_start': 18.172283, 'dest_id': 7, 'from_id': 1, 'size': 1}\n"
       ]
      },
      {
       "output_type": "stream",
       "stream": "stdout",
       "text": [
        "\n",
        "outgoing_packet time_start is 18.171247\n",
        "GOT TO OUTGOING\n",
        "outgoing_packet time_start is 18.173319\n",
        "GOT TO OUTGOING\n",
        "outgoing_packet time_start is 18.170268\n",
        "GOT TO OUTGOING\n",
        "outgoing_packet time_start is 18.172283\n",
        "GOT TO OUTGOING"
       ]
      },
      {
       "output_type": "stream",
       "stream": "stderr",
       "text": [
        "DEBUG:root: Forwarding a request for  10007, from 7 to 56\n"
       ]
      },
      {
       "output_type": "stream",
       "stream": "stderr",
       "text": [
        "DEBUG:root: location content 10007 known, entry for requester 1 created in PT\n"
       ]
      },
      {
       "output_type": "stream",
       "stream": "stderr",
       "text": [
        "DEBUG:root: forwarded request to child 56 \n"
       ]
      },
      {
       "output_type": "stream",
       "stream": "stderr",
       "text": [
        "DEBUG:root: processing incoming packet at 7\n"
       ]
      },
      {
       "output_type": "stream",
       "stream": "stderr",
       "text": [
        "DEBUG:root: packet data: {'_type': 'request', 'content_name': '10005', 'time_start': 18.170268, 'dest_id': 7, 'from_id': 1, 'size': 1}\n"
       ]
      },
      {
       "output_type": "stream",
       "stream": "stderr",
       "text": [
        "DEBUG:root: Forwarding a request for  10005, from 7 to 56\n"
       ]
      },
      {
       "output_type": "stream",
       "stream": "stderr",
       "text": [
        "DEBUG:root: location content 10005 known, entry for requester 1 created in PT\n"
       ]
      },
      {
       "output_type": "stream",
       "stream": "stderr",
       "text": [
        "DEBUG:root: forwarded request to child 56 \n"
       ]
      },
      {
       "output_type": "stream",
       "stream": "stderr",
       "text": [
        "DEBUG:root: processing incoming packet at 7\n"
       ]
      },
      {
       "output_type": "stream",
       "stream": "stderr",
       "text": [
        "DEBUG:root: packet data: {'_type': 'request', 'content_name': '10008', 'time_start': 18.173319, 'dest_id': 7, 'from_id': 1, 'size': 1}\n"
       ]
      },
      {
       "output_type": "stream",
       "stream": "stderr",
       "text": [
        "DEBUG:root: Forwarding a request for  10008, from 7 to 55\n"
       ]
      },
      {
       "output_type": "stream",
       "stream": "stderr",
       "text": [
        "DEBUG:root: location content 10008 known, entry for requester 1 created in PT\n"
       ]
      },
      {
       "output_type": "stream",
       "stream": "stderr",
       "text": [
        "DEBUG:root: forwarded request to child 55 \n"
       ]
      },
      {
       "output_type": "stream",
       "stream": "stderr",
       "text": [
        "DEBUG:root: processing incoming packet at 7\n"
       ]
      },
      {
       "output_type": "stream",
       "stream": "stderr",
       "text": [
        "DEBUG:root: packet data: {'_type': 'request', 'content_name': '10006', 'time_start': 18.171247, 'dest_id': 7, 'from_id': 1, 'size': 1}\n"
       ]
      },
      {
       "output_type": "stream",
       "stream": "stderr",
       "text": [
        "DEBUG:root: Forwarding a request for  10006, from 7 to 56\n"
       ]
      },
      {
       "output_type": "stream",
       "stream": "stderr",
       "text": [
        "DEBUG:root: location content 10006 known, entry for requester 1 created in PT\n"
       ]
      },
      {
       "output_type": "stream",
       "stream": "stderr",
       "text": [
        "DEBUG:root: forwarded request to child 56 \n"
       ]
      },
      {
       "output_type": "stream",
       "stream": "stderr",
       "text": [
        "DEBUG:root: processing incoming packet at 1\n"
       ]
      },
      {
       "output_type": "stream",
       "stream": "stderr",
       "text": [
        "DEBUG:root: packet data: {'_type': 'request', 'content_name': '10009', 'time_start': 18.174518, 'dest_id': 1, 'from_id': 3, 'size': 1}\n"
       ]
      },
      {
       "output_type": "stream",
       "stream": "stderr",
       "text": [
        "DEBUG:root: Forwarding a request for  10009, from 1 to 7\n"
       ]
      },
      {
       "output_type": "stream",
       "stream": "stderr",
       "text": [
        "DEBUG:root: location content 10009 known, entry for requester 3 created in PT\n"
       ]
      },
      {
       "output_type": "stream",
       "stream": "stderr",
       "text": [
        "DEBUG:root: forwarded request to child 7 \n"
       ]
      },
      {
       "output_type": "stream",
       "stream": "stderr",
       "text": [
        "DEBUG:root: processing incoming packet at 1\n"
       ]
      },
      {
       "output_type": "stream",
       "stream": "stderr",
       "text": [
        "DEBUG:root: packet data: {'_type': 'request', 'content_name': '10000', 'time_start': 18.165956, 'dest_id': 1, 'from_id': 3, 'size': 1}\n"
       ]
      },
      {
       "output_type": "stream",
       "stream": "stderr",
       "text": [
        "DEBUG:root: Forwarding a request for  10000, from 1 to 7\n"
       ]
      },
      {
       "output_type": "stream",
       "stream": "stderr",
       "text": [
        "DEBUG:root: location content 10000 known, entry for requester 3 created in PT\n"
       ]
      },
      {
       "output_type": "stream",
       "stream": "stderr",
       "text": [
        "DEBUG:root: forwarded request to child 7 \n"
       ]
      },
      {
       "output_type": "stream",
       "stream": "stderr",
       "text": [
        "DEBUG:root: processing incoming packet at 1\n"
       ]
      },
      {
       "output_type": "stream",
       "stream": "stderr",
       "text": [
        "DEBUG:root: packet data: {'_type': 'request', 'content_name': '10002', 'time_start': 18.167659, 'dest_id': 1, 'from_id': 4, 'size': 1}\n"
       ]
      },
      {
       "output_type": "stream",
       "stream": "stderr",
       "text": [
        "DEBUG:root: Forwarding a request for  10002, from 1 to 7\n"
       ]
      },
      {
       "output_type": "stream",
       "stream": "stderr",
       "text": [
        "DEBUG:root: location content 10002 known, entry for requester 4 created in PT\n"
       ]
      },
      {
       "output_type": "stream",
       "stream": "stderr",
       "text": [
        "DEBUG:root: forwarded request to child 7 \n"
       ]
      },
      {
       "output_type": "stream",
       "stream": "stderr",
       "text": [
        "DEBUG:root: processing incoming packet at 1\n"
       ]
      },
      {
       "output_type": "stream",
       "stream": "stderr",
       "text": [
        "DEBUG:root: packet data: {'_type': 'request', 'content_name': '10003', 'time_start': 18.168568, 'dest_id': 1, 'from_id': 4, 'size': 1}\n"
       ]
      },
      {
       "output_type": "stream",
       "stream": "stderr",
       "text": [
        "DEBUG:root: Forwarding a request for  10003, from 1 to 7\n"
       ]
      },
      {
       "output_type": "stream",
       "stream": "stderr",
       "text": [
        "DEBUG:root: location content 10003 known, entry for requester 4 created in PT\n"
       ]
      },
      {
       "output_type": "stream",
       "stream": "stderr",
       "text": [
        "DEBUG:root: forwarded request to child 7 \n"
       ]
      },
      {
       "output_type": "stream",
       "stream": "stderr",
       "text": [
        "DEBUG:root: Delivered packet from 1 to 7\n"
       ]
      },
      {
       "output_type": "stream",
       "stream": "stderr",
       "text": [
        "DEBUG:root: Delivered packet from 1 to 7\n"
       ]
      },
      {
       "output_type": "stream",
       "stream": "stderr",
       "text": [
        "DEBUG:root: Delivered packet from 1 to 7\n"
       ]
      },
      {
       "output_type": "stream",
       "stream": "stderr",
       "text": [
        "DEBUG:root: Delivered packet from 1 to 7\n"
       ]
      },
      {
       "output_type": "stream",
       "stream": "stderr",
       "text": [
        "DEBUG:root: Delivered packet from 7 to 56\n"
       ]
      },
      {
       "output_type": "stream",
       "stream": "stderr",
       "text": [
        "DEBUG:root: Delivered packet from 7 to 55\n"
       ]
      },
      {
       "output_type": "stream",
       "stream": "stderr",
       "text": [
        "DEBUG:root: Delivered packet from 7 to 56\n"
       ]
      },
      {
       "output_type": "stream",
       "stream": "stderr",
       "text": [
        "DEBUG:root: Delivered packet from 7 to 56\n"
       ]
      },
      {
       "output_type": "stream",
       "stream": "stderr",
       "text": [
        "DEBUG:root: processing incoming packet at 56\n"
       ]
      },
      {
       "output_type": "stream",
       "stream": "stderr",
       "text": [
        "DEBUG:root: packet data: {'_type': 'request', 'content_name': '10006', 'time_start': 18.171247, 'dest_id': 56, 'from_id': 7, 'size': 1}\n"
       ]
      },
      {
       "output_type": "stream",
       "stream": "stdout",
       "text": [
        "\n",
        "outgoing_packet time_start is 18.172283\n",
        "GOT TO OUTGOING\n",
        "outgoing_packet time_start is 18.170268\n",
        "GOT TO OUTGOING\n",
        "outgoing_packet time_start is 18.173319\n",
        "GOT TO OUTGOING\n",
        "outgoing_packet time_start is 18.171247\n",
        "GOT TO OUTGOING\n",
        "outgoing_packet time_start is 18.174518\n",
        "GOT TO OUTGOING\n",
        "outgoing_packet time_start is 18.165956\n",
        "GOT TO OUTGOING\n",
        "outgoing_packet time_start is 18.167659\n",
        "GOT TO OUTGOING\n",
        "outgoing_packet time_start is 18.168568\n",
        "GOT TO OUTGOING"
       ]
      },
      {
       "output_type": "stream",
       "stream": "stderr",
       "text": [
        "DEBUG:root: Forwarding a request for  10006, from 56 to 394\n"
       ]
      },
      {
       "output_type": "stream",
       "stream": "stderr",
       "text": [
        "DEBUG:root: location content 10006 known, entry for requester 7 created in PT\n"
       ]
      },
      {
       "output_type": "stream",
       "stream": "stderr",
       "text": [
        "DEBUG:root: forwarded request to child 394 \n"
       ]
      },
      {
       "output_type": "stream",
       "stream": "stderr",
       "text": [
        "DEBUG:root: processing incoming packet at 56\n"
       ]
      },
      {
       "output_type": "stream",
       "stream": "stderr",
       "text": [
        "DEBUG:root: packet data: {'_type': 'request', 'content_name': '10005', 'time_start': 18.170268, 'dest_id': 56, 'from_id': 7, 'size': 1}\n"
       ]
      },
      {
       "output_type": "stream",
       "stream": "stderr",
       "text": [
        "DEBUG:root: Forwarding a request for  10005, from 56 to 394\n"
       ]
      },
      {
       "output_type": "stream",
       "stream": "stderr",
       "text": [
        "DEBUG:root: location content 10005 known, entry for requester 7 created in PT\n"
       ]
      },
      {
       "output_type": "stream",
       "stream": "stderr",
       "text": [
        "DEBUG:root: forwarded request to child 394 \n"
       ]
      },
      {
       "output_type": "stream",
       "stream": "stderr",
       "text": [
        "DEBUG:root: processing incoming packet at 56\n"
       ]
      },
      {
       "output_type": "stream",
       "stream": "stderr",
       "text": [
        "DEBUG:root: packet data: {'_type': 'request', 'content_name': '10007', 'time_start': 18.172283, 'dest_id': 56, 'from_id': 7, 'size': 1}\n"
       ]
      },
      {
       "output_type": "stream",
       "stream": "stderr",
       "text": [
        "DEBUG:root: Forwarding a request for  10007, from 56 to 393\n"
       ]
      },
      {
       "output_type": "stream",
       "stream": "stderr",
       "text": [
        "DEBUG:root: location content 10007 known, entry for requester 7 created in PT\n"
       ]
      },
      {
       "output_type": "stream",
       "stream": "stderr",
       "text": [
        "DEBUG:root: forwarded request to child 393 \n"
       ]
      },
      {
       "output_type": "stream",
       "stream": "stderr",
       "text": [
        "DEBUG:root: processing incoming packet at 55\n"
       ]
      },
      {
       "output_type": "stream",
       "stream": "stderr",
       "text": [
        "DEBUG:root: packet data: {'_type': 'request', 'content_name': '10008', 'time_start': 18.173319, 'dest_id': 55, 'from_id': 7, 'size': 1}\n"
       ]
      },
      {
       "output_type": "stream",
       "stream": "stderr",
       "text": [
        "DEBUG:root: Forwarding a request for  10008, from 55 to 392\n"
       ]
      },
      {
       "output_type": "stream",
       "stream": "stderr",
       "text": [
        "DEBUG:root: location content 10008 known, entry for requester 7 created in PT\n"
       ]
      },
      {
       "output_type": "stream",
       "stream": "stderr",
       "text": [
        "DEBUG:root: forwarded request to child 392 \n"
       ]
      },
      {
       "output_type": "stream",
       "stream": "stderr",
       "text": [
        "DEBUG:root: processing incoming packet at 7\n"
       ]
      },
      {
       "output_type": "stream",
       "stream": "stderr",
       "text": [
        "DEBUG:root: packet data: {'_type': 'request', 'content_name': '10003', 'time_start': 18.168568, 'dest_id': 7, 'from_id': 1, 'size': 1}\n"
       ]
      },
      {
       "output_type": "stream",
       "stream": "stderr",
       "text": [
        "DEBUG:root: Forwarding a request for  10003, from 7 to 56\n"
       ]
      },
      {
       "output_type": "stream",
       "stream": "stderr",
       "text": [
        "DEBUG:root: location content 10003 known, entry for requester 1 created in PT\n"
       ]
      },
      {
       "output_type": "stream",
       "stream": "stderr",
       "text": [
        "DEBUG:root: forwarded request to child 56 \n"
       ]
      },
      {
       "output_type": "stream",
       "stream": "stderr",
       "text": [
        "DEBUG:root: processing incoming packet at 7\n"
       ]
      },
      {
       "output_type": "stream",
       "stream": "stderr",
       "text": [
        "DEBUG:root: packet data: {'_type': 'request', 'content_name': '10002', 'time_start': 18.167659, 'dest_id': 7, 'from_id': 1, 'size': 1}\n"
       ]
      },
      {
       "output_type": "stream",
       "stream": "stderr",
       "text": [
        "DEBUG:root: Forwarding a request for  10002, from 7 to 56\n"
       ]
      },
      {
       "output_type": "stream",
       "stream": "stderr",
       "text": [
        "DEBUG:root: location content 10002 known, entry for requester 1 created in PT\n"
       ]
      },
      {
       "output_type": "stream",
       "stream": "stderr",
       "text": [
        "DEBUG:root: forwarded request to child 56 \n"
       ]
      },
      {
       "output_type": "stream",
       "stream": "stderr",
       "text": [
        "DEBUG:root: processing incoming packet at 7\n"
       ]
      },
      {
       "output_type": "stream",
       "stream": "stderr",
       "text": [
        "DEBUG:root: packet data: {'_type': 'request', 'content_name': '10000', 'time_start': 18.165956, 'dest_id': 7, 'from_id': 1, 'size': 1}\n"
       ]
      },
      {
       "output_type": "stream",
       "stream": "stderr",
       "text": [
        "DEBUG:root: Forwarding a request for  10000, from 7 to 56\n"
       ]
      },
      {
       "output_type": "stream",
       "stream": "stderr",
       "text": [
        "DEBUG:root: location content 10000 known, entry for requester 1 created in PT\n"
       ]
      },
      {
       "output_type": "stream",
       "stream": "stderr",
       "text": [
        "DEBUG:root: forwarded request to child 56 \n"
       ]
      },
      {
       "output_type": "stream",
       "stream": "stderr",
       "text": [
        "DEBUG:root: processing incoming packet at 7\n"
       ]
      },
      {
       "output_type": "stream",
       "stream": "stderr",
       "text": [
        "DEBUG:root: packet data: {'_type': 'request', 'content_name': '10009', 'time_start': 18.174518, 'dest_id': 7, 'from_id': 1, 'size': 1}\n"
       ]
      },
      {
       "output_type": "stream",
       "stream": "stderr",
       "text": [
        "DEBUG:root: Forwarding a request for  10009, from 7 to 55\n"
       ]
      },
      {
       "output_type": "stream",
       "stream": "stderr",
       "text": [
        "DEBUG:root: location content 10009 known, entry for requester 1 created in PT\n"
       ]
      },
      {
       "output_type": "stream",
       "stream": "stderr",
       "text": [
        "DEBUG:root: forwarded request to child 55 \n"
       ]
      },
      {
       "output_type": "stream",
       "stream": "stderr",
       "text": [
        "DEBUG:root: processing incoming packet at 1\n"
       ]
      },
      {
       "output_type": "stream",
       "stream": "stderr",
       "text": [
        "DEBUG:root: packet data: {'_type': 'request', 'content_name': '10004', 'time_start': 18.169422, 'dest_id': 1, 'from_id': 5, 'size': 1}\n"
       ]
      },
      {
       "output_type": "stream",
       "stream": "stderr",
       "text": [
        "DEBUG:root: Forwarding a request for  10004, from 1 to 7\n"
       ]
      },
      {
       "output_type": "stream",
       "stream": "stderr",
       "text": [
        "DEBUG:root: location content 10004 known, entry for requester 5 created in PT\n"
       ]
      },
      {
       "output_type": "stream",
       "stream": "stderr",
       "text": [
        "DEBUG:root: forwarded request to child 7 \n"
       ]
      },
      {
       "output_type": "stream",
       "stream": "stderr",
       "text": [
        "DEBUG:root: processing incoming packet at 1\n"
       ]
      },
      {
       "output_type": "stream",
       "stream": "stderr",
       "text": [
        "DEBUG:root: packet data: {'_type': 'request', 'content_name': '10001', 'time_start': 18.166844, 'dest_id': 1, 'from_id': 5, 'size': 1}\n"
       ]
      },
      {
       "output_type": "stream",
       "stream": "stderr",
       "text": [
        "DEBUG:root: Forwarding a request for  10001, from 1 to 7\n"
       ]
      },
      {
       "output_type": "stream",
       "stream": "stderr",
       "text": [
        "DEBUG:root: location content 10001 known, entry for requester 5 created in PT\n"
       ]
      },
      {
       "output_type": "stream",
       "stream": "stderr",
       "text": [
        "DEBUG:root: forwarded request to child 7 \n"
       ]
      },
      {
       "output_type": "stream",
       "stream": "stderr",
       "text": [
        "DEBUG:root: Delivered packet from 1 to 7\n"
       ]
      },
      {
       "output_type": "stream",
       "stream": "stderr",
       "text": [
        "DEBUG:root: Delivered packet from 1 to 7\n"
       ]
      },
      {
       "output_type": "stream",
       "stream": "stderr",
       "text": [
        "DEBUG:root: Delivered packet from 7 to 55\n"
       ]
      },
      {
       "output_type": "stream",
       "stream": "stderr",
       "text": [
        "DEBUG:root: Delivered packet from 7 to 56\n"
       ]
      },
      {
       "output_type": "stream",
       "stream": "stderr",
       "text": [
        "DEBUG:root: Delivered packet from 7 to 56\n"
       ]
      },
      {
       "output_type": "stream",
       "stream": "stderr",
       "text": [
        "DEBUG:root: Delivered packet from 7 to 56\n"
       ]
      },
      {
       "output_type": "stream",
       "stream": "stderr",
       "text": [
        "DEBUG:root: Delivered packet from 55 to 392\n"
       ]
      },
      {
       "output_type": "stream",
       "stream": "stderr",
       "text": [
        "DEBUG:root: Delivered packet from 56 to 393\n"
       ]
      },
      {
       "output_type": "stream",
       "stream": "stderr",
       "text": [
        "DEBUG:root: Delivered packet from 56 to 394\n"
       ]
      },
      {
       "output_type": "stream",
       "stream": "stderr",
       "text": [
        "DEBUG:root: Delivered packet from 56 to 394\n"
       ]
      },
      {
       "output_type": "stream",
       "stream": "stderr",
       "text": [
        "DEBUG:root: processing incoming packet at 394\n"
       ]
      },
      {
       "output_type": "stream",
       "stream": "stderr",
       "text": [
        "DEBUG:root: packet data: {'_type': 'request', 'content_name': '10005', 'time_start': 18.170268, 'dest_id': 394, 'from_id': 56, 'size': 1}\n"
       ]
      },
      {
       "output_type": "stream",
       "stream": "stdout",
       "text": [
        "\n",
        "outgoing_packet time_start is 18.171247\n",
        "GOT TO OUTGOING\n",
        "outgoing_packet time_start is 18.170268\n",
        "GOT TO OUTGOING\n",
        "outgoing_packet time_start is 18.172283\n",
        "GOT TO OUTGOING\n",
        "outgoing_packet time_start is 18.173319\n",
        "GOT TO OUTGOING\n",
        "outgoing_packet time_start is 18.168568\n",
        "GOT TO OUTGOING\n",
        "outgoing_packet time_start is 18.167659\n",
        "GOT TO OUTGOING\n",
        "outgoing_packet time_start is 18.165956\n",
        "GOT TO OUTGOING\n",
        "outgoing_packet time_start is 18.174518\n",
        "GOT TO OUTGOING\n",
        "outgoing_packet time_start is 18.169422\n",
        "GOT TO OUTGOING\n",
        "outgoing_packet time_start is 18.166844\n",
        "GOT TO OUTGOING"
       ]
      },
      {
       "output_type": "stream",
       "stream": "stderr",
       "text": [
        "DEBUG:root: Forwarding a request for  10005, from 394 to 2765\n"
       ]
      },
      {
       "output_type": "stream",
       "stream": "stderr",
       "text": [
        "DEBUG:root: location content 10005 known, entry for requester 56 created in PT\n"
       ]
      },
      {
       "output_type": "stream",
       "stream": "stderr",
       "text": [
        "DEBUG:root: forwarded request to child 2765 \n"
       ]
      },
      {
       "output_type": "stream",
       "stream": "stderr",
       "text": [
        "DEBUG:root: processing incoming packet at 394\n"
       ]
      },
      {
       "output_type": "stream",
       "stream": "stderr",
       "text": [
        "DEBUG:root: packet data: {'_type': 'request', 'content_name': '10006', 'time_start': 18.171247, 'dest_id': 394, 'from_id': 56, 'size': 1}\n"
       ]
      },
      {
       "output_type": "stream",
       "stream": "stderr",
       "text": [
        "DEBUG:root: Forwarding a request for  10006, from 394 to 2760\n"
       ]
      },
      {
       "output_type": "stream",
       "stream": "stderr",
       "text": [
        "DEBUG:root: location content 10006 known, entry for requester 56 created in PT\n"
       ]
      },
      {
       "output_type": "stream",
       "stream": "stderr",
       "text": [
        "DEBUG:root: forwarded request to child 2760 \n"
       ]
      },
      {
       "output_type": "stream",
       "stream": "stderr",
       "text": [
        "DEBUG:root: processing incoming packet at 393\n"
       ]
      },
      {
       "output_type": "stream",
       "stream": "stderr",
       "text": [
        "DEBUG:root: packet data: {'_type': 'request', 'content_name': '10007', 'time_start': 18.172283, 'dest_id': 393, 'from_id': 56, 'size': 1}\n"
       ]
      },
      {
       "output_type": "stream",
       "stream": "stderr",
       "text": [
        "DEBUG:root: Forwarding a request for  10007, from 393 to 2755\n"
       ]
      },
      {
       "output_type": "stream",
       "stream": "stderr",
       "text": [
        "DEBUG:root: location content 10007 known, entry for requester 56 created in PT\n"
       ]
      },
      {
       "output_type": "stream",
       "stream": "stderr",
       "text": [
        "DEBUG:root: forwarded request to child 2755 \n"
       ]
      },
      {
       "output_type": "stream",
       "stream": "stderr",
       "text": [
        "DEBUG:root: processing incoming packet at 392\n"
       ]
      },
      {
       "output_type": "stream",
       "stream": "stderr",
       "text": [
        "DEBUG:root: packet data: {'_type': 'request', 'content_name': '10008', 'time_start': 18.173319, 'dest_id': 392, 'from_id': 55, 'size': 1}\n"
       ]
      },
      {
       "output_type": "stream",
       "stream": "stderr",
       "text": [
        "DEBUG:root: Forwarding a request for  10008, from 392 to 2750\n"
       ]
      },
      {
       "output_type": "stream",
       "stream": "stderr",
       "text": [
        "DEBUG:root: location content 10008 known, entry for requester 55 created in PT\n"
       ]
      },
      {
       "output_type": "stream",
       "stream": "stderr",
       "text": [
        "DEBUG:root: forwarded request to child 2750 \n"
       ]
      },
      {
       "output_type": "stream",
       "stream": "stderr",
       "text": [
        "DEBUG:root: processing incoming packet at 56\n"
       ]
      },
      {
       "output_type": "stream",
       "stream": "stderr",
       "text": [
        "DEBUG:root: packet data: {'_type': 'request', 'content_name': '10000', 'time_start': 18.165956, 'dest_id': 56, 'from_id': 7, 'size': 1}\n"
       ]
      },
      {
       "output_type": "stream",
       "stream": "stderr",
       "text": [
        "DEBUG:root: Forwarding a request for  10000, from 56 to 398\n"
       ]
      },
      {
       "output_type": "stream",
       "stream": "stderr",
       "text": [
        "DEBUG:root: location content 10000 known, entry for requester 7 created in PT\n"
       ]
      },
      {
       "output_type": "stream",
       "stream": "stderr",
       "text": [
        "DEBUG:root: forwarded request to child 398 \n"
       ]
      },
      {
       "output_type": "stream",
       "stream": "stderr",
       "text": [
        "DEBUG:root: processing incoming packet at 56\n"
       ]
      },
      {
       "output_type": "stream",
       "stream": "stderr",
       "text": [
        "DEBUG:root: packet data: {'_type': 'request', 'content_name': '10002', 'time_start': 18.167659, 'dest_id': 56, 'from_id': 7, 'size': 1}\n"
       ]
      },
      {
       "output_type": "stream",
       "stream": "stderr",
       "text": [
        "DEBUG:root: Forwarding a request for  10002, from 56 to 397\n"
       ]
      },
      {
       "output_type": "stream",
       "stream": "stderr",
       "text": [
        "DEBUG:root: location content 10002 known, entry for requester 7 created in PT\n"
       ]
      },
      {
       "output_type": "stream",
       "stream": "stderr",
       "text": [
        "DEBUG:root: forwarded request to child 397 \n"
       ]
      },
      {
       "output_type": "stream",
       "stream": "stderr",
       "text": [
        "DEBUG:root: processing incoming packet at 56\n"
       ]
      },
      {
       "output_type": "stream",
       "stream": "stderr",
       "text": [
        "DEBUG:root: packet data: {'_type': 'request', 'content_name': '10003', 'time_start': 18.168568, 'dest_id': 56, 'from_id': 7, 'size': 1}\n"
       ]
      },
      {
       "output_type": "stream",
       "stream": "stderr",
       "text": [
        "DEBUG:root: Forwarding a request for  10003, from 56 to 396\n"
       ]
      },
      {
       "output_type": "stream",
       "stream": "stderr",
       "text": [
        "DEBUG:root: location content 10003 known, entry for requester 7 created in PT\n"
       ]
      },
      {
       "output_type": "stream",
       "stream": "stderr",
       "text": [
        "DEBUG:root: forwarded request to child 396 \n"
       ]
      },
      {
       "output_type": "stream",
       "stream": "stderr",
       "text": [
        "DEBUG:root: processing incoming packet at 55\n"
       ]
      },
      {
       "output_type": "stream",
       "stream": "stderr",
       "text": [
        "DEBUG:root: packet data: {'_type': 'request', 'content_name': '10009', 'time_start': 18.174518, 'dest_id': 55, 'from_id': 7, 'size': 1}\n"
       ]
      },
      {
       "output_type": "stream",
       "stream": "stderr",
       "text": [
        "DEBUG:root: Forwarding a request for  10009, from 55 to 392\n"
       ]
      },
      {
       "output_type": "stream",
       "stream": "stderr",
       "text": [
        "DEBUG:root: location content 10009 known, entry for requester 7 created in PT\n"
       ]
      },
      {
       "output_type": "stream",
       "stream": "stderr",
       "text": [
        "DEBUG:root: forwarded request to child 392 \n"
       ]
      },
      {
       "output_type": "stream",
       "stream": "stderr",
       "text": [
        "DEBUG:root: processing incoming packet at 7\n"
       ]
      },
      {
       "output_type": "stream",
       "stream": "stderr",
       "text": [
        "DEBUG:root: packet data: {'_type': 'request', 'content_name': '10001', 'time_start': 18.166844, 'dest_id': 7, 'from_id': 1, 'size': 1}\n"
       ]
      },
      {
       "output_type": "stream",
       "stream": "stderr",
       "text": [
        "DEBUG:root: Forwarding a request for  10001, from 7 to 56\n"
       ]
      },
      {
       "output_type": "stream",
       "stream": "stderr",
       "text": [
        "DEBUG:root: location content 10001 known, entry for requester 1 created in PT\n"
       ]
      },
      {
       "output_type": "stream",
       "stream": "stderr",
       "text": [
        "DEBUG:root: forwarded request to child 56 \n"
       ]
      },
      {
       "output_type": "stream",
       "stream": "stderr",
       "text": [
        "DEBUG:root: processing incoming packet at 7\n"
       ]
      },
      {
       "output_type": "stream",
       "stream": "stderr",
       "text": [
        "DEBUG:root: packet data: {'_type': 'request', 'content_name': '10004', 'time_start': 18.169422, 'dest_id': 7, 'from_id': 1, 'size': 1}\n"
       ]
      },
      {
       "output_type": "stream",
       "stream": "stderr",
       "text": [
        "DEBUG:root: Forwarding a request for  10004, from 7 to 56\n"
       ]
      },
      {
       "output_type": "stream",
       "stream": "stderr",
       "text": [
        "DEBUG:root: location content 10004 known, entry for requester 1 created in PT\n"
       ]
      },
      {
       "output_type": "stream",
       "stream": "stderr",
       "text": [
        "DEBUG:root: forwarded request to child 56 \n"
       ]
      },
      {
       "output_type": "stream",
       "stream": "stderr",
       "text": [
        "DEBUG:root: Delivered packet from 7 to 56\n"
       ]
      },
      {
       "output_type": "stream",
       "stream": "stderr",
       "text": [
        "DEBUG:root: Delivered packet from 7 to 56\n"
       ]
      },
      {
       "output_type": "stream",
       "stream": "stderr",
       "text": [
        "DEBUG:root: Delivered packet from 55 to 392\n"
       ]
      },
      {
       "output_type": "stream",
       "stream": "stderr",
       "text": [
        "DEBUG:root: Delivered packet from 56 to 396\n"
       ]
      },
      {
       "output_type": "stream",
       "stream": "stderr",
       "text": [
        "DEBUG:root: Delivered packet from 56 to 397\n"
       ]
      },
      {
       "output_type": "stream",
       "stream": "stderr",
       "text": [
        "DEBUG:root: Delivered packet from 56 to 398\n"
       ]
      },
      {
       "output_type": "stream",
       "stream": "stderr",
       "text": [
        "DEBUG:root: Delivered packet from 392 to 2750\n"
       ]
      },
      {
       "output_type": "stream",
       "stream": "stderr",
       "text": [
        "DEBUG:root: Delivered packet from 393 to 2755\n"
       ]
      },
      {
       "output_type": "stream",
       "stream": "stderr",
       "text": [
        "DEBUG:root: Delivered packet from 394 to 2760\n"
       ]
      },
      {
       "output_type": "stream",
       "stream": "stderr",
       "text": [
        "DEBUG:root: Delivered packet from 394 to 2765\n"
       ]
      },
      {
       "output_type": "stream",
       "stream": "stderr",
       "text": [
        "DEBUG:root: processing incoming packet at 2765\n"
       ]
      },
      {
       "output_type": "stream",
       "stream": "stderr",
       "text": [
        "DEBUG:root: packet data: {'_type': 'request', 'content_name': '10005', 'time_start': 18.170268, 'dest_id': 2765, 'from_id': 394, 'size': 1}\n"
       ]
      },
      {
       "output_type": "stream",
       "stream": "stdout",
       "text": [
        "\n",
        "outgoing_packet time_start is 18.170268\n",
        "GOT TO OUTGOING\n",
        "outgoing_packet time_start is 18.171247\n",
        "GOT TO OUTGOING\n",
        "outgoing_packet time_start is 18.172283\n",
        "GOT TO OUTGOING\n",
        "outgoing_packet time_start is 18.173319\n",
        "GOT TO OUTGOING\n",
        "outgoing_packet time_start is 18.165956\n",
        "GOT TO OUTGOING\n",
        "outgoing_packet time_start is 18.167659\n",
        "GOT TO OUTGOING\n",
        "outgoing_packet time_start is 18.168568\n",
        "GOT TO OUTGOING\n",
        "outgoing_packet time_start is 18.174518\n",
        "GOT TO OUTGOING\n",
        "outgoing_packet time_start is 18.166844\n",
        "GOT TO OUTGOING\n",
        "outgoing_packet time_start is 18.169422\n",
        "GOT TO OUTGOING"
       ]
      },
      {
       "output_type": "stream",
       "stream": "stderr",
       "text": [
        "DEBUG:root: content 10005 already in cache\n"
       ]
      },
      {
       "output_type": "stream",
       "stream": "stderr",
       "text": [
        "DEBUG:root: sent content back to  394 \n"
       ]
      },
      {
       "output_type": "stream",
       "stream": "stderr",
       "text": [
        "DEBUG:root: processing incoming packet at 2760\n"
       ]
      },
      {
       "output_type": "stream",
       "stream": "stderr",
       "text": [
        "DEBUG:root: packet data: {'_type': 'request', 'content_name': '10006', 'time_start': 18.171247, 'dest_id': 2760, 'from_id': 394, 'size': 1}\n"
       ]
      },
      {
       "output_type": "stream",
       "stream": "stderr",
       "text": [
        "DEBUG:root: content 10006 already in cache\n"
       ]
      },
      {
       "output_type": "stream",
       "stream": "stderr",
       "text": [
        "DEBUG:root: sent content back to  394 \n"
       ]
      },
      {
       "output_type": "stream",
       "stream": "stderr",
       "text": [
        "DEBUG:root: processing incoming packet at 2755\n"
       ]
      },
      {
       "output_type": "stream",
       "stream": "stderr",
       "text": [
        "DEBUG:root: packet data: {'_type': 'request', 'content_name': '10007', 'time_start': 18.172283, 'dest_id': 2755, 'from_id': 393, 'size': 1}\n"
       ]
      },
      {
       "output_type": "stream",
       "stream": "stderr",
       "text": [
        "DEBUG:root: content 10007 already in cache\n"
       ]
      },
      {
       "output_type": "stream",
       "stream": "stderr",
       "text": [
        "DEBUG:root: sent content back to  393 \n"
       ]
      },
      {
       "output_type": "stream",
       "stream": "stderr",
       "text": [
        "DEBUG:root: processing incoming packet at 2750\n"
       ]
      },
      {
       "output_type": "stream",
       "stream": "stderr",
       "text": [
        "DEBUG:root: packet data: {'_type': 'request', 'content_name': '10008', 'time_start': 18.173319, 'dest_id': 2750, 'from_id': 392, 'size': 1}\n"
       ]
      },
      {
       "output_type": "stream",
       "stream": "stderr",
       "text": [
        "DEBUG:root: content 10008 already in cache\n"
       ]
      },
      {
       "output_type": "stream",
       "stream": "stderr",
       "text": [
        "DEBUG:root: sent content back to  392 \n"
       ]
      },
      {
       "output_type": "stream",
       "stream": "stderr",
       "text": [
        "DEBUG:root: processing incoming packet at 398\n"
       ]
      },
      {
       "output_type": "stream",
       "stream": "stderr",
       "text": [
        "DEBUG:root: packet data: {'_type': 'request', 'content_name': '10000', 'time_start': 18.165956, 'dest_id': 398, 'from_id': 56, 'size': 1}\n"
       ]
      },
      {
       "output_type": "stream",
       "stream": "stderr",
       "text": [
        "DEBUG:root: Forwarding a request for  10000, from 398 to 2790\n"
       ]
      },
      {
       "output_type": "stream",
       "stream": "stderr",
       "text": [
        "DEBUG:root: location content 10000 known, entry for requester 56 created in PT\n"
       ]
      },
      {
       "output_type": "stream",
       "stream": "stderr",
       "text": [
        "DEBUG:root: forwarded request to child 2790 \n"
       ]
      },
      {
       "output_type": "stream",
       "stream": "stderr",
       "text": [
        "DEBUG:root: processing incoming packet at 397\n"
       ]
      },
      {
       "output_type": "stream",
       "stream": "stderr",
       "text": [
        "DEBUG:root: packet data: {'_type': 'request', 'content_name': '10002', 'time_start': 18.167659, 'dest_id': 397, 'from_id': 56, 'size': 1}\n"
       ]
      },
      {
       "output_type": "stream",
       "stream": "stderr",
       "text": [
        "DEBUG:root: Forwarding a request for  10002, from 397 to 2780\n"
       ]
      },
      {
       "output_type": "stream",
       "stream": "stderr",
       "text": [
        "DEBUG:root: location content 10002 known, entry for requester 56 created in PT\n"
       ]
      },
      {
       "output_type": "stream",
       "stream": "stderr",
       "text": [
        "DEBUG:root: forwarded request to child 2780 \n"
       ]
      },
      {
       "output_type": "stream",
       "stream": "stderr",
       "text": [
        "DEBUG:root: processing incoming packet at 396\n"
       ]
      },
      {
       "output_type": "stream",
       "stream": "stderr",
       "text": [
        "DEBUG:root: packet data: {'_type': 'request', 'content_name': '10003', 'time_start': 18.168568, 'dest_id': 396, 'from_id': 56, 'size': 1}\n"
       ]
      },
      {
       "output_type": "stream",
       "stream": "stderr",
       "text": [
        "DEBUG:root: Forwarding a request for  10003, from 396 to 2775\n"
       ]
      },
      {
       "output_type": "stream",
       "stream": "stderr",
       "text": [
        "DEBUG:root: location content 10003 known, entry for requester 56 created in PT\n"
       ]
      },
      {
       "output_type": "stream",
       "stream": "stderr",
       "text": [
        "DEBUG:root: forwarded request to child 2775 \n"
       ]
      },
      {
       "output_type": "stream",
       "stream": "stderr",
       "text": [
        "DEBUG:root: processing incoming packet at 392\n"
       ]
      },
      {
       "output_type": "stream",
       "stream": "stderr",
       "text": [
        "DEBUG:root: packet data: {'_type': 'request', 'content_name': '10009', 'time_start': 18.174518, 'dest_id': 392, 'from_id': 55, 'size': 1}\n"
       ]
      },
      {
       "output_type": "stream",
       "stream": "stderr",
       "text": [
        "DEBUG:root: Forwarding a request for  10009, from 392 to 2745\n"
       ]
      },
      {
       "output_type": "stream",
       "stream": "stderr",
       "text": [
        "DEBUG:root: location content 10009 known, entry for requester 55 created in PT\n"
       ]
      },
      {
       "output_type": "stream",
       "stream": "stderr",
       "text": [
        "DEBUG:root: forwarded request to child 2745 \n"
       ]
      },
      {
       "output_type": "stream",
       "stream": "stderr",
       "text": [
        "DEBUG:root: processing incoming packet at 56\n"
       ]
      },
      {
       "output_type": "stream",
       "stream": "stderr",
       "text": [
        "DEBUG:root: packet data: {'_type': 'request', 'content_name': '10004', 'time_start': 18.169422, 'dest_id': 56, 'from_id': 7, 'size': 1}\n"
       ]
      },
      {
       "output_type": "stream",
       "stream": "stderr",
       "text": [
        "DEBUG:root: Forwarding a request for  10004, from 56 to 395\n"
       ]
      },
      {
       "output_type": "stream",
       "stream": "stderr",
       "text": [
        "DEBUG:root: location content 10004 known, entry for requester 7 created in PT\n"
       ]
      },
      {
       "output_type": "stream",
       "stream": "stderr",
       "text": [
        "DEBUG:root: forwarded request to child 395 \n"
       ]
      },
      {
       "output_type": "stream",
       "stream": "stderr",
       "text": [
        "DEBUG:root: processing incoming packet at 56\n"
       ]
      },
      {
       "output_type": "stream",
       "stream": "stderr",
       "text": [
        "DEBUG:root: packet data: {'_type': 'request', 'content_name': '10001', 'time_start': 18.166844, 'dest_id': 56, 'from_id': 7, 'size': 1}\n"
       ]
      },
      {
       "output_type": "stream",
       "stream": "stderr",
       "text": [
        "DEBUG:root: Forwarding a request for  10001, from 56 to 397\n"
       ]
      },
      {
       "output_type": "stream",
       "stream": "stderr",
       "text": [
        "DEBUG:root: location content 10001 known, entry for requester 7 created in PT\n"
       ]
      },
      {
       "output_type": "stream",
       "stream": "stderr",
       "text": [
        "DEBUG:root: forwarded request to child 397 \n"
       ]
      },
      {
       "output_type": "stream",
       "stream": "stderr",
       "text": [
        "DEBUG:root: Delivered packet from 56 to 397\n"
       ]
      },
      {
       "output_type": "stream",
       "stream": "stderr",
       "text": [
        "DEBUG:root: Delivered packet from 56 to 395\n"
       ]
      },
      {
       "output_type": "stream",
       "stream": "stderr",
       "text": [
        "DEBUG:root: Delivered packet from 392 to 2745\n"
       ]
      },
      {
       "output_type": "stream",
       "stream": "stderr",
       "text": [
        "DEBUG:root: Delivered packet from 396 to 2775\n"
       ]
      },
      {
       "output_type": "stream",
       "stream": "stderr",
       "text": [
        "DEBUG:root: Delivered packet from 397 to 2780\n"
       ]
      },
      {
       "output_type": "stream",
       "stream": "stderr",
       "text": [
        "DEBUG:root: Delivered packet from 398 to 2790\n"
       ]
      },
      {
       "output_type": "stream",
       "stream": "stderr",
       "text": [
        "DEBUG:root: Delivered packet from 2750 to 392\n"
       ]
      },
      {
       "output_type": "stream",
       "stream": "stderr",
       "text": [
        "DEBUG:root: Delivered packet from 2755 to 393\n"
       ]
      },
      {
       "output_type": "stream",
       "stream": "stderr",
       "text": [
        "DEBUG:root: Delivered packet from 2760 to 394\n"
       ]
      },
      {
       "output_type": "stream",
       "stream": "stderr",
       "text": [
        "DEBUG:root: Delivered packet from 2765 to 394\n"
       ]
      },
      {
       "output_type": "stream",
       "stream": "stderr",
       "text": [
        "DEBUG:root: processing incoming packet at 2790\n"
       ]
      },
      {
       "output_type": "stream",
       "stream": "stderr",
       "text": [
        "DEBUG:root: packet data: {'_type': 'request', 'content_name': '10000', 'time_start': 18.165956, 'dest_id': 2790, 'from_id': 398, 'size': 1}\n"
       ]
      },
      {
       "output_type": "stream",
       "stream": "stdout",
       "text": [
        "\n",
        "GOT TO OUTGOING\n",
        "GOT TO OUTGOING\n",
        "GOT TO OUTGOING\n",
        "GOT TO OUTGOING\n",
        "outgoing_packet time_start is 18.165956\n",
        "GOT TO OUTGOING\n",
        "outgoing_packet time_start is 18.167659\n",
        "GOT TO OUTGOING\n",
        "outgoing_packet time_start is 18.168568\n",
        "GOT TO OUTGOING\n",
        "outgoing_packet time_start is 18.174518\n",
        "GOT TO OUTGOING\n",
        "outgoing_packet time_start is 18.169422\n",
        "GOT TO OUTGOING\n",
        "outgoing_packet time_start is 18.166844\n",
        "GOT TO OUTGOING"
       ]
      },
      {
       "output_type": "stream",
       "stream": "stderr",
       "text": [
        "DEBUG:root: content 10000 already in cache\n"
       ]
      },
      {
       "output_type": "stream",
       "stream": "stderr",
       "text": [
        "DEBUG:root: sent content back to  398 \n"
       ]
      },
      {
       "output_type": "stream",
       "stream": "stderr",
       "text": [
        "DEBUG:root: processing incoming packet at 2780\n"
       ]
      },
      {
       "output_type": "stream",
       "stream": "stderr",
       "text": [
        "DEBUG:root: packet data: {'_type': 'request', 'content_name': '10002', 'time_start': 18.167659, 'dest_id': 2780, 'from_id': 397, 'size': 1}\n"
       ]
      },
      {
       "output_type": "stream",
       "stream": "stderr",
       "text": [
        "DEBUG:root: content 10002 already in cache\n"
       ]
      },
      {
       "output_type": "stream",
       "stream": "stderr",
       "text": [
        "DEBUG:root: sent content back to  397 \n"
       ]
      },
      {
       "output_type": "stream",
       "stream": "stderr",
       "text": [
        "DEBUG:root: processing incoming packet at 2775\n"
       ]
      },
      {
       "output_type": "stream",
       "stream": "stderr",
       "text": [
        "DEBUG:root: packet data: {'_type': 'request', 'content_name': '10003', 'time_start': 18.168568, 'dest_id': 2775, 'from_id': 396, 'size': 1}\n"
       ]
      },
      {
       "output_type": "stream",
       "stream": "stderr",
       "text": [
        "DEBUG:root: content 10003 already in cache\n"
       ]
      },
      {
       "output_type": "stream",
       "stream": "stderr",
       "text": [
        "DEBUG:root: sent content back to  396 \n"
       ]
      },
      {
       "output_type": "stream",
       "stream": "stderr",
       "text": [
        "DEBUG:root: processing incoming packet at 2745\n"
       ]
      },
      {
       "output_type": "stream",
       "stream": "stderr",
       "text": [
        "DEBUG:root: packet data: {'_type': 'request', 'content_name': '10009', 'time_start': 18.174518, 'dest_id': 2745, 'from_id': 392, 'size': 1}\n"
       ]
      },
      {
       "output_type": "stream",
       "stream": "stderr",
       "text": [
        "DEBUG:root: content 10009 already in cache\n"
       ]
      },
      {
       "output_type": "stream",
       "stream": "stderr",
       "text": [
        "DEBUG:root: sent content back to  392 \n"
       ]
      },
      {
       "output_type": "stream",
       "stream": "stderr",
       "text": [
        "DEBUG:root: processing incoming packet at 397\n"
       ]
      },
      {
       "output_type": "stream",
       "stream": "stderr",
       "text": [
        "DEBUG:root: packet data: {'_type': 'request', 'content_name': '10001', 'time_start': 18.166844, 'dest_id': 397, 'from_id': 56, 'size': 1}\n"
       ]
      },
      {
       "output_type": "stream",
       "stream": "stderr",
       "text": [
        "DEBUG:root: Forwarding a request for  10001, from 397 to 2785\n"
       ]
      },
      {
       "output_type": "stream",
       "stream": "stderr",
       "text": [
        "DEBUG:root: location content 10001 known, entry for requester 56 created in PT\n"
       ]
      },
      {
       "output_type": "stream",
       "stream": "stderr",
       "text": [
        "DEBUG:root: forwarded request to child 2785 \n"
       ]
      },
      {
       "output_type": "stream",
       "stream": "stderr",
       "text": [
        "DEBUG:root: processing incoming packet at 395\n"
       ]
      },
      {
       "output_type": "stream",
       "stream": "stderr",
       "text": [
        "DEBUG:root: packet data: {'_type': 'request', 'content_name': '10004', 'time_start': 18.169422, 'dest_id': 395, 'from_id': 56, 'size': 1}\n"
       ]
      },
      {
       "output_type": "stream",
       "stream": "stderr",
       "text": [
        "DEBUG:root: Forwarding a request for  10004, from 395 to 2770\n"
       ]
      },
      {
       "output_type": "stream",
       "stream": "stderr",
       "text": [
        "DEBUG:root: location content 10004 known, entry for requester 56 created in PT\n"
       ]
      },
      {
       "output_type": "stream",
       "stream": "stderr",
       "text": [
        "DEBUG:root: forwarded request to child 2770 \n"
       ]
      },
      {
       "output_type": "stream",
       "stream": "stderr",
       "text": [
        "DEBUG:root: processing incoming packet at 394\n"
       ]
      },
      {
       "output_type": "stream",
       "stream": "stderr",
       "text": [
        "DEBUG:root: packet data: {'_type': 'response', 'content_name': '10006', 'time_start': 18.171247, 'dest_id': 394, 'content_data': '10006', 'from_id': 2760, 'size': 1}\n"
       ]
      },
      {
       "output_type": "stream",
       "stream": "stderr",
       "text": [
        "DEBUG:root:Forwarding response along to all requesters, I am: 394 ... \n"
       ]
      },
      {
       "output_type": "stream",
       "stream": "stderr",
       "text": [
        "DEBUG:root:Sent response to requester 56 \n"
       ]
      },
      {
       "output_type": "stream",
       "stream": "stderr",
       "text": [
        "DEBUG:root:Forwarding to all requesters complete\n"
       ]
      },
      {
       "output_type": "stream",
       "stream": "stderr",
       "text": [
        "DEBUG:root: Deleted content (10006) from PT\n"
       ]
      },
      {
       "output_type": "stream",
       "stream": "stderr",
       "text": [
        "DEBUG:root: Added content (10006) to content store\n"
       ]
      },
      {
       "output_type": "stream",
       "stream": "stderr",
       "text": [
        "DEBUG:root: processing incoming packet at 394\n"
       ]
      },
      {
       "output_type": "stream",
       "stream": "stderr",
       "text": [
        "DEBUG:root: packet data: {'_type': 'response', 'content_name': '10005', 'time_start': 18.170268, 'dest_id': 394, 'content_data': '10005', 'from_id': 2765, 'size': 1}\n"
       ]
      },
      {
       "output_type": "stream",
       "stream": "stderr",
       "text": [
        "DEBUG:root:Forwarding response along to all requesters, I am: 394 ... \n"
       ]
      },
      {
       "output_type": "stream",
       "stream": "stderr",
       "text": [
        "DEBUG:root:Sent response to requester 56 \n"
       ]
      },
      {
       "output_type": "stream",
       "stream": "stderr",
       "text": [
        "DEBUG:root:Forwarding to all requesters complete\n"
       ]
      },
      {
       "output_type": "stream",
       "stream": "stderr",
       "text": [
        "DEBUG:root: Deleted content (10005) from PT\n"
       ]
      },
      {
       "output_type": "stream",
       "stream": "stderr",
       "text": [
        "DEBUG:root: Added content (10005) to content store\n"
       ]
      },
      {
       "output_type": "stream",
       "stream": "stderr",
       "text": [
        "DEBUG:root: processing incoming packet at 393\n"
       ]
      },
      {
       "output_type": "stream",
       "stream": "stderr",
       "text": [
        "DEBUG:root: packet data: {'_type': 'response', 'content_name': '10007', 'time_start': 18.172283, 'dest_id': 393, 'content_data': '10007', 'from_id': 2755, 'size': 1}\n"
       ]
      },
      {
       "output_type": "stream",
       "stream": "stderr",
       "text": [
        "DEBUG:root:Forwarding response along to all requesters, I am: 393 ... \n"
       ]
      },
      {
       "output_type": "stream",
       "stream": "stderr",
       "text": [
        "DEBUG:root:Sent response to requester 56 \n"
       ]
      },
      {
       "output_type": "stream",
       "stream": "stderr",
       "text": [
        "DEBUG:root:Forwarding to all requesters complete\n"
       ]
      },
      {
       "output_type": "stream",
       "stream": "stderr",
       "text": [
        "DEBUG:root: Deleted content (10007) from PT\n"
       ]
      },
      {
       "output_type": "stream",
       "stream": "stderr",
       "text": [
        "DEBUG:root: Added content (10007) to content store\n"
       ]
      },
      {
       "output_type": "stream",
       "stream": "stderr",
       "text": [
        "DEBUG:root: processing incoming packet at 392\n"
       ]
      },
      {
       "output_type": "stream",
       "stream": "stderr",
       "text": [
        "DEBUG:root: packet data: {'_type': 'response', 'content_name': '10008', 'time_start': 18.173319, 'dest_id': 392, 'content_data': '10008', 'from_id': 2750, 'size': 1}\n"
       ]
      },
      {
       "output_type": "stream",
       "stream": "stderr",
       "text": [
        "DEBUG:root:Forwarding response along to all requesters, I am: 392 ... \n"
       ]
      },
      {
       "output_type": "stream",
       "stream": "stderr",
       "text": [
        "DEBUG:root:Sent response to requester 55 \n"
       ]
      },
      {
       "output_type": "stream",
       "stream": "stderr",
       "text": [
        "DEBUG:root:Forwarding to all requesters complete\n"
       ]
      },
      {
       "output_type": "stream",
       "stream": "stderr",
       "text": [
        "DEBUG:root: Deleted content (10008) from PT\n"
       ]
      },
      {
       "output_type": "stream",
       "stream": "stderr",
       "text": [
        "DEBUG:root: Added content (10008) to content store\n"
       ]
      },
      {
       "output_type": "stream",
       "stream": "stderr",
       "text": [
        "DEBUG:root: Delivered packet from 392 to 55\n"
       ]
      },
      {
       "output_type": "stream",
       "stream": "stderr",
       "text": [
        "DEBUG:root: Delivered packet from 393 to 56\n"
       ]
      },
      {
       "output_type": "stream",
       "stream": "stderr",
       "text": [
        "DEBUG:root: Delivered packet from 394 to 56\n"
       ]
      },
      {
       "output_type": "stream",
       "stream": "stderr",
       "text": [
        "DEBUG:root: Delivered packet from 394 to 56\n"
       ]
      },
      {
       "output_type": "stream",
       "stream": "stderr",
       "text": [
        "DEBUG:root: Delivered packet from 395 to 2770\n"
       ]
      },
      {
       "output_type": "stream",
       "stream": "stderr",
       "text": [
        "DEBUG:root: Delivered packet from 397 to 2785\n"
       ]
      },
      {
       "output_type": "stream",
       "stream": "stderr",
       "text": [
        "DEBUG:root: Delivered packet from 2745 to 392\n"
       ]
      },
      {
       "output_type": "stream",
       "stream": "stderr",
       "text": [
        "DEBUG:root: Delivered packet from 2775 to 396\n"
       ]
      },
      {
       "output_type": "stream",
       "stream": "stderr",
       "text": [
        "DEBUG:root: Delivered packet from 2780 to 397\n"
       ]
      },
      {
       "output_type": "stream",
       "stream": "stderr",
       "text": [
        "DEBUG:root: Delivered packet from 2790 to 398\n"
       ]
      },
      {
       "output_type": "stream",
       "stream": "stderr",
       "text": [
        "DEBUG:root: processing incoming packet at 2785\n"
       ]
      },
      {
       "output_type": "stream",
       "stream": "stderr",
       "text": [
        "DEBUG:root: packet data: {'_type': 'request', 'content_name': '10001', 'time_start': 18.166844, 'dest_id': 2785, 'from_id': 397, 'size': 1}\n"
       ]
      },
      {
       "output_type": "stream",
       "stream": "stdout",
       "text": [
        "\n",
        "GOT TO OUTGOING\n",
        "GOT TO OUTGOING\n",
        "GOT TO OUTGOING\n",
        "GOT TO OUTGOING\n",
        "outgoing_packet time_start is 18.166844\n",
        "GOT TO OUTGOING\n",
        "outgoing_packet time_start is 18.169422\n",
        "None\n",
        "GOT TO OUTGOING\n",
        "None\n",
        "GOT TO OUTGOING\n",
        "None\n",
        "GOT TO OUTGOING\n",
        "None\n",
        "GOT TO OUTGOING\n",
        "GOT TO OUTGOING"
       ]
      },
      {
       "output_type": "stream",
       "stream": "stderr",
       "text": [
        "DEBUG:root: content 10001 already in cache\n"
       ]
      },
      {
       "output_type": "stream",
       "stream": "stderr",
       "text": [
        "DEBUG:root: sent content back to  397 \n"
       ]
      },
      {
       "output_type": "stream",
       "stream": "stderr",
       "text": [
        "DEBUG:root: processing incoming packet at 2770\n"
       ]
      },
      {
       "output_type": "stream",
       "stream": "stderr",
       "text": [
        "DEBUG:root: packet data: {'_type': 'request', 'content_name': '10004', 'time_start': 18.169422, 'dest_id': 2770, 'from_id': 395, 'size': 1}\n"
       ]
      },
      {
       "output_type": "stream",
       "stream": "stderr",
       "text": [
        "DEBUG:root: content 10004 already in cache\n"
       ]
      },
      {
       "output_type": "stream",
       "stream": "stderr",
       "text": [
        "DEBUG:root: sent content back to  395 \n"
       ]
      },
      {
       "output_type": "stream",
       "stream": "stderr",
       "text": [
        "DEBUG:root: processing incoming packet at 398\n"
       ]
      },
      {
       "output_type": "stream",
       "stream": "stderr",
       "text": [
        "DEBUG:root: packet data: {'_type': 'response', 'content_name': '10000', 'time_start': 18.165956, 'dest_id': 398, 'content_data': '10000', 'from_id': 2790, 'size': 1}\n"
       ]
      },
      {
       "output_type": "stream",
       "stream": "stderr",
       "text": [
        "DEBUG:root:Forwarding response along to all requesters, I am: 398 ... \n"
       ]
      },
      {
       "output_type": "stream",
       "stream": "stderr",
       "text": [
        "DEBUG:root:Sent response to requester 56 \n"
       ]
      },
      {
       "output_type": "stream",
       "stream": "stderr",
       "text": [
        "DEBUG:root:Forwarding to all requesters complete\n"
       ]
      },
      {
       "output_type": "stream",
       "stream": "stderr",
       "text": [
        "DEBUG:root: Deleted content (10000) from PT\n"
       ]
      },
      {
       "output_type": "stream",
       "stream": "stderr",
       "text": [
        "DEBUG:root: Added content (10000) to content store\n"
       ]
      },
      {
       "output_type": "stream",
       "stream": "stderr",
       "text": [
        "DEBUG:root: processing incoming packet at 397\n"
       ]
      },
      {
       "output_type": "stream",
       "stream": "stderr",
       "text": [
        "DEBUG:root: packet data: {'_type': 'response', 'content_name': '10002', 'time_start': 18.167659, 'dest_id': 397, 'content_data': '10002', 'from_id': 2780, 'size': 1}\n"
       ]
      },
      {
       "output_type": "stream",
       "stream": "stderr",
       "text": [
        "DEBUG:root:Forwarding response along to all requesters, I am: 397 ... \n"
       ]
      },
      {
       "output_type": "stream",
       "stream": "stderr",
       "text": [
        "DEBUG:root:Sent response to requester 56 \n"
       ]
      },
      {
       "output_type": "stream",
       "stream": "stderr",
       "text": [
        "DEBUG:root:Forwarding to all requesters complete\n"
       ]
      },
      {
       "output_type": "stream",
       "stream": "stderr",
       "text": [
        "DEBUG:root: Deleted content (10002) from PT\n"
       ]
      },
      {
       "output_type": "stream",
       "stream": "stderr",
       "text": [
        "DEBUG:root: Added content (10002) to content store\n"
       ]
      },
      {
       "output_type": "stream",
       "stream": "stderr",
       "text": [
        "DEBUG:root: processing incoming packet at 396\n"
       ]
      },
      {
       "output_type": "stream",
       "stream": "stderr",
       "text": [
        "DEBUG:root: packet data: {'_type': 'response', 'content_name': '10003', 'time_start': 18.168568, 'dest_id': 396, 'content_data': '10003', 'from_id': 2775, 'size': 1}\n"
       ]
      },
      {
       "output_type": "stream",
       "stream": "stderr",
       "text": [
        "DEBUG:root:Forwarding response along to all requesters, I am: 396 ... \n"
       ]
      },
      {
       "output_type": "stream",
       "stream": "stderr",
       "text": [
        "DEBUG:root:Sent response to requester 56 \n"
       ]
      },
      {
       "output_type": "stream",
       "stream": "stderr",
       "text": [
        "DEBUG:root:Forwarding to all requesters complete\n"
       ]
      },
      {
       "output_type": "stream",
       "stream": "stderr",
       "text": [
        "DEBUG:root: Deleted content (10003) from PT\n"
       ]
      },
      {
       "output_type": "stream",
       "stream": "stderr",
       "text": [
        "DEBUG:root: Added content (10003) to content store\n"
       ]
      },
      {
       "output_type": "stream",
       "stream": "stderr",
       "text": [
        "DEBUG:root: processing incoming packet at 392\n"
       ]
      },
      {
       "output_type": "stream",
       "stream": "stderr",
       "text": [
        "DEBUG:root: packet data: {'_type': 'response', 'content_name': '10009', 'time_start': 18.174518, 'dest_id': 392, 'content_data': '10009', 'from_id': 2745, 'size': 1}\n"
       ]
      },
      {
       "output_type": "stream",
       "stream": "stderr",
       "text": [
        "DEBUG:root:Forwarding response along to all requesters, I am: 392 ... \n"
       ]
      },
      {
       "output_type": "stream",
       "stream": "stderr",
       "text": [
        "DEBUG:root:Sent response to requester 55 \n"
       ]
      },
      {
       "output_type": "stream",
       "stream": "stderr",
       "text": [
        "DEBUG:root:Forwarding to all requesters complete\n"
       ]
      },
      {
       "output_type": "stream",
       "stream": "stderr",
       "text": [
        "DEBUG:root: Deleted content (10009) from PT\n"
       ]
      },
      {
       "output_type": "stream",
       "stream": "stderr",
       "text": [
        "DEBUG:root: Added content (10009) to content store\n"
       ]
      },
      {
       "output_type": "stream",
       "stream": "stderr",
       "text": [
        "DEBUG:root: processing incoming packet at 56\n"
       ]
      },
      {
       "output_type": "stream",
       "stream": "stderr",
       "text": [
        "DEBUG:root: packet data: {'_type': 'response', 'content_name': '10007', 'time_start': 18.172283, 'dest_id': 56, 'content_data': '10007', 'from_id': 393, 'size': 1}\n"
       ]
      },
      {
       "output_type": "stream",
       "stream": "stderr",
       "text": [
        "DEBUG:root:Forwarding response along to all requesters, I am: 56 ... \n"
       ]
      },
      {
       "output_type": "stream",
       "stream": "stderr",
       "text": [
        "DEBUG:root:Sent response to requester 7 \n"
       ]
      },
      {
       "output_type": "stream",
       "stream": "stderr",
       "text": [
        "DEBUG:root:Forwarding to all requesters complete\n"
       ]
      },
      {
       "output_type": "stream",
       "stream": "stderr",
       "text": [
        "DEBUG:root: Deleted content (10007) from PT\n"
       ]
      },
      {
       "output_type": "stream",
       "stream": "stderr",
       "text": [
        "DEBUG:root: Added content (10007) to content store\n"
       ]
      },
      {
       "output_type": "stream",
       "stream": "stderr",
       "text": [
        "DEBUG:root: processing incoming packet at 56\n"
       ]
      },
      {
       "output_type": "stream",
       "stream": "stderr",
       "text": [
        "DEBUG:root: packet data: {'_type': 'response', 'content_name': '10005', 'time_start': 18.170268, 'dest_id': 56, 'content_data': '10005', 'from_id': 394, 'size': 1}\n"
       ]
      },
      {
       "output_type": "stream",
       "stream": "stderr",
       "text": [
        "DEBUG:root:Forwarding response along to all requesters, I am: 56 ... \n"
       ]
      },
      {
       "output_type": "stream",
       "stream": "stderr",
       "text": [
        "DEBUG:root:Sent response to requester 7 \n"
       ]
      },
      {
       "output_type": "stream",
       "stream": "stderr",
       "text": [
        "DEBUG:root:Forwarding to all requesters complete\n"
       ]
      },
      {
       "output_type": "stream",
       "stream": "stderr",
       "text": [
        "DEBUG:root: Deleted content (10005) from PT\n"
       ]
      },
      {
       "output_type": "stream",
       "stream": "stderr",
       "text": [
        "DEBUG:root: Added content (10005) to content store\n"
       ]
      },
      {
       "output_type": "stream",
       "stream": "stderr",
       "text": [
        "DEBUG:root: processing incoming packet at 56\n"
       ]
      },
      {
       "output_type": "stream",
       "stream": "stderr",
       "text": [
        "DEBUG:root: packet data: {'_type': 'response', 'content_name': '10006', 'time_start': 18.171247, 'dest_id': 56, 'content_data': '10006', 'from_id': 394, 'size': 1}\n"
       ]
      },
      {
       "output_type": "stream",
       "stream": "stderr",
       "text": [
        "DEBUG:root:Forwarding response along to all requesters, I am: 56 ... \n"
       ]
      },
      {
       "output_type": "stream",
       "stream": "stderr",
       "text": [
        "DEBUG:root:Sent response to requester 7 \n"
       ]
      },
      {
       "output_type": "stream",
       "stream": "stderr",
       "text": [
        "DEBUG:root:Forwarding to all requesters complete\n"
       ]
      },
      {
       "output_type": "stream",
       "stream": "stderr",
       "text": [
        "DEBUG:root: Deleted content (10006) from PT\n"
       ]
      },
      {
       "output_type": "stream",
       "stream": "stderr",
       "text": [
        "DEBUG:root: Added content (10006) to content store\n"
       ]
      },
      {
       "output_type": "stream",
       "stream": "stderr",
       "text": [
        "DEBUG:root: processing incoming packet at 55\n"
       ]
      },
      {
       "output_type": "stream",
       "stream": "stderr",
       "text": [
        "DEBUG:root: packet data: {'_type': 'response', 'content_name': '10008', 'time_start': 18.173319, 'dest_id': 55, 'content_data': '10008', 'from_id': 392, 'size': 1}\n"
       ]
      },
      {
       "output_type": "stream",
       "stream": "stderr",
       "text": [
        "DEBUG:root:Forwarding response along to all requesters, I am: 55 ... \n"
       ]
      },
      {
       "output_type": "stream",
       "stream": "stderr",
       "text": [
        "DEBUG:root:Sent response to requester 7 \n"
       ]
      },
      {
       "output_type": "stream",
       "stream": "stderr",
       "text": [
        "DEBUG:root:Forwarding to all requesters complete\n"
       ]
      },
      {
       "output_type": "stream",
       "stream": "stderr",
       "text": [
        "DEBUG:root: Deleted content (10008) from PT\n"
       ]
      },
      {
       "output_type": "stream",
       "stream": "stderr",
       "text": [
        "DEBUG:root: Added content (10008) to content store\n"
       ]
      },
      {
       "output_type": "stream",
       "stream": "stderr",
       "text": [
        "DEBUG:root: Delivered packet from 55 to 7\n"
       ]
      },
      {
       "output_type": "stream",
       "stream": "stderr",
       "text": [
        "DEBUG:root: Delivered packet from 56 to 7\n"
       ]
      },
      {
       "output_type": "stream",
       "stream": "stderr",
       "text": [
        "DEBUG:root: Delivered packet from 56 to 7\n"
       ]
      },
      {
       "output_type": "stream",
       "stream": "stderr",
       "text": [
        "DEBUG:root: Delivered packet from 56 to 7\n"
       ]
      },
      {
       "output_type": "stream",
       "stream": "stderr",
       "text": [
        "DEBUG:root: Delivered packet from 392 to 55\n"
       ]
      },
      {
       "output_type": "stream",
       "stream": "stderr",
       "text": [
        "DEBUG:root: Delivered packet from 396 to 56\n"
       ]
      },
      {
       "output_type": "stream",
       "stream": "stderr",
       "text": [
        "DEBUG:root: Delivered packet from 397 to 56\n"
       ]
      },
      {
       "output_type": "stream",
       "stream": "stderr",
       "text": [
        "DEBUG:root: Delivered packet from 398 to 56\n"
       ]
      },
      {
       "output_type": "stream",
       "stream": "stderr",
       "text": [
        "DEBUG:root: Delivered packet from 2770 to 395\n"
       ]
      },
      {
       "output_type": "stream",
       "stream": "stderr",
       "text": [
        "DEBUG:root: Delivered packet from 2785 to 397\n"
       ]
      },
      {
       "output_type": "stream",
       "stream": "stderr",
       "text": [
        "DEBUG:root: processing incoming packet at 397\n"
       ]
      },
      {
       "output_type": "stream",
       "stream": "stderr",
       "text": [
        "DEBUG:root: packet data: {'_type': 'response', 'content_name': '10001', 'time_start': 18.166844, 'dest_id': 397, 'content_data': '10001', 'from_id': 2785, 'size': 1}\n"
       ]
      },
      {
       "output_type": "stream",
       "stream": "stderr",
       "text": [
        "DEBUG:root:Forwarding response along to all requesters, I am: 397 ... \n"
       ]
      },
      {
       "output_type": "stream",
       "stream": "stdout",
       "text": [
        "\n",
        "GOT TO OUTGOING\n",
        "None\n",
        "GOT TO OUTGOING\n",
        "None\n",
        "GOT TO OUTGOING\n",
        "None\n",
        "GOT TO OUTGOING\n",
        "None\n",
        "GOT TO OUTGOING\n",
        "None\n",
        "GOT TO OUTGOING\n",
        "None\n",
        "GOT TO OUTGOING\n",
        "None\n",
        "GOT TO OUTGOING\n",
        "None\n",
        "GOT TO OUTGOING\n",
        "None"
       ]
      },
      {
       "output_type": "stream",
       "stream": "stderr",
       "text": [
        "DEBUG:root:Sent response to requester 56 \n"
       ]
      },
      {
       "output_type": "stream",
       "stream": "stderr",
       "text": [
        "DEBUG:root:Forwarding to all requesters complete\n"
       ]
      },
      {
       "output_type": "stream",
       "stream": "stderr",
       "text": [
        "DEBUG:root: Deleted content (10001) from PT\n"
       ]
      },
      {
       "output_type": "stream",
       "stream": "stderr",
       "text": [
        "DEBUG:root: Added content (10001) to content store\n"
       ]
      },
      {
       "output_type": "stream",
       "stream": "stderr",
       "text": [
        "DEBUG:root: processing incoming packet at 395\n"
       ]
      },
      {
       "output_type": "stream",
       "stream": "stderr",
       "text": [
        "DEBUG:root: packet data: {'_type': 'response', 'content_name': '10004', 'time_start': 18.169422, 'dest_id': 395, 'content_data': '10004', 'from_id': 2770, 'size': 1}\n"
       ]
      },
      {
       "output_type": "stream",
       "stream": "stderr",
       "text": [
        "DEBUG:root:Forwarding response along to all requesters, I am: 395 ... \n"
       ]
      },
      {
       "output_type": "stream",
       "stream": "stderr",
       "text": [
        "DEBUG:root:Sent response to requester 56 \n"
       ]
      },
      {
       "output_type": "stream",
       "stream": "stderr",
       "text": [
        "DEBUG:root:Forwarding to all requesters complete\n"
       ]
      },
      {
       "output_type": "stream",
       "stream": "stderr",
       "text": [
        "DEBUG:root: Deleted content (10004) from PT\n"
       ]
      },
      {
       "output_type": "stream",
       "stream": "stderr",
       "text": [
        "DEBUG:root: Added content (10004) to content store\n"
       ]
      },
      {
       "output_type": "stream",
       "stream": "stderr",
       "text": [
        "DEBUG:root: processing incoming packet at 56\n"
       ]
      },
      {
       "output_type": "stream",
       "stream": "stderr",
       "text": [
        "DEBUG:root: packet data: {'_type': 'response', 'content_name': '10003', 'time_start': 18.168568, 'dest_id': 56, 'content_data': '10003', 'from_id': 396, 'size': 1}\n"
       ]
      },
      {
       "output_type": "stream",
       "stream": "stderr",
       "text": [
        "DEBUG:root:Forwarding response along to all requesters, I am: 56 ... \n"
       ]
      },
      {
       "output_type": "stream",
       "stream": "stderr",
       "text": [
        "DEBUG:root:Sent response to requester 7 \n"
       ]
      },
      {
       "output_type": "stream",
       "stream": "stderr",
       "text": [
        "DEBUG:root:Forwarding to all requesters complete\n"
       ]
      },
      {
       "output_type": "stream",
       "stream": "stderr",
       "text": [
        "DEBUG:root: Deleted content (10003) from PT\n"
       ]
      },
      {
       "output_type": "stream",
       "stream": "stderr",
       "text": [
        "DEBUG:root: Added content (10003) to content store\n"
       ]
      },
      {
       "output_type": "stream",
       "stream": "stderr",
       "text": [
        "DEBUG:root: processing incoming packet at 56\n"
       ]
      },
      {
       "output_type": "stream",
       "stream": "stderr",
       "text": [
        "DEBUG:root: packet data: {'_type': 'response', 'content_name': '10002', 'time_start': 18.167659, 'dest_id': 56, 'content_data': '10002', 'from_id': 397, 'size': 1}\n"
       ]
      },
      {
       "output_type": "stream",
       "stream": "stderr",
       "text": [
        "DEBUG:root:Forwarding response along to all requesters, I am: 56 ... \n"
       ]
      },
      {
       "output_type": "stream",
       "stream": "stderr",
       "text": [
        "DEBUG:root:Sent response to requester 7 \n"
       ]
      },
      {
       "output_type": "stream",
       "stream": "stderr",
       "text": [
        "DEBUG:root:Forwarding to all requesters complete\n"
       ]
      },
      {
       "output_type": "stream",
       "stream": "stderr",
       "text": [
        "DEBUG:root: Deleted content (10002) from PT\n"
       ]
      },
      {
       "output_type": "stream",
       "stream": "stderr",
       "text": [
        "DEBUG:root: Added content (10002) to content store\n"
       ]
      },
      {
       "output_type": "stream",
       "stream": "stderr",
       "text": [
        "DEBUG:root: processing incoming packet at 56\n"
       ]
      },
      {
       "output_type": "stream",
       "stream": "stderr",
       "text": [
        "DEBUG:root: packet data: {'_type': 'response', 'content_name': '10000', 'time_start': 18.165956, 'dest_id': 56, 'content_data': '10000', 'from_id': 398, 'size': 1}\n"
       ]
      },
      {
       "output_type": "stream",
       "stream": "stderr",
       "text": [
        "DEBUG:root:Forwarding response along to all requesters, I am: 56 ... \n"
       ]
      },
      {
       "output_type": "stream",
       "stream": "stderr",
       "text": [
        "DEBUG:root:Sent response to requester 7 \n"
       ]
      },
      {
       "output_type": "stream",
       "stream": "stderr",
       "text": [
        "DEBUG:root:Forwarding to all requesters complete\n"
       ]
      },
      {
       "output_type": "stream",
       "stream": "stderr",
       "text": [
        "DEBUG:root: Deleted content (10000) from PT\n"
       ]
      },
      {
       "output_type": "stream",
       "stream": "stderr",
       "text": [
        "DEBUG:root: Added content (10000) to content store\n"
       ]
      },
      {
       "output_type": "stream",
       "stream": "stderr",
       "text": [
        "DEBUG:root: processing incoming packet at 55\n"
       ]
      },
      {
       "output_type": "stream",
       "stream": "stderr",
       "text": [
        "DEBUG:root: packet data: {'_type': 'response', 'content_name': '10009', 'time_start': 18.174518, 'dest_id': 55, 'content_data': '10009', 'from_id': 392, 'size': 1}\n"
       ]
      },
      {
       "output_type": "stream",
       "stream": "stderr",
       "text": [
        "DEBUG:root:Forwarding response along to all requesters, I am: 55 ... \n"
       ]
      },
      {
       "output_type": "stream",
       "stream": "stderr",
       "text": [
        "DEBUG:root:Sent response to requester 7 \n"
       ]
      },
      {
       "output_type": "stream",
       "stream": "stderr",
       "text": [
        "DEBUG:root:Forwarding to all requesters complete\n"
       ]
      },
      {
       "output_type": "stream",
       "stream": "stderr",
       "text": [
        "DEBUG:root: Deleted content (10009) from PT\n"
       ]
      },
      {
       "output_type": "stream",
       "stream": "stderr",
       "text": [
        "DEBUG:root: Added content (10009) to content store\n"
       ]
      },
      {
       "output_type": "stream",
       "stream": "stderr",
       "text": [
        "DEBUG:root: processing incoming packet at 7\n"
       ]
      },
      {
       "output_type": "stream",
       "stream": "stderr",
       "text": [
        "DEBUG:root: packet data: {'_type': 'response', 'content_name': '10008', 'time_start': 18.173319, 'dest_id': 7, 'content_data': '10008', 'from_id': 55, 'size': 1}\n"
       ]
      },
      {
       "output_type": "stream",
       "stream": "stderr",
       "text": [
        "DEBUG:root:Forwarding response along to all requesters, I am: 7 ... \n"
       ]
      },
      {
       "output_type": "stream",
       "stream": "stderr",
       "text": [
        "DEBUG:root:Sent response to requester 1 \n"
       ]
      },
      {
       "output_type": "stream",
       "stream": "stderr",
       "text": [
        "DEBUG:root:Forwarding to all requesters complete\n"
       ]
      },
      {
       "output_type": "stream",
       "stream": "stderr",
       "text": [
        "DEBUG:root: Deleted content (10008) from PT\n"
       ]
      },
      {
       "output_type": "stream",
       "stream": "stderr",
       "text": [
        "DEBUG:root: Added content (10008) to content store\n"
       ]
      },
      {
       "output_type": "stream",
       "stream": "stderr",
       "text": [
        "DEBUG:root: processing incoming packet at 7\n"
       ]
      },
      {
       "output_type": "stream",
       "stream": "stderr",
       "text": [
        "DEBUG:root: packet data: {'_type': 'response', 'content_name': '10006', 'time_start': 18.171247, 'dest_id': 7, 'content_data': '10006', 'from_id': 56, 'size': 1}\n"
       ]
      },
      {
       "output_type": "stream",
       "stream": "stderr",
       "text": [
        "DEBUG:root:Forwarding response along to all requesters, I am: 7 ... \n"
       ]
      },
      {
       "output_type": "stream",
       "stream": "stderr",
       "text": [
        "DEBUG:root:Sent response to requester 1 \n"
       ]
      },
      {
       "output_type": "stream",
       "stream": "stderr",
       "text": [
        "DEBUG:root:Forwarding to all requesters complete\n"
       ]
      },
      {
       "output_type": "stream",
       "stream": "stderr",
       "text": [
        "DEBUG:root: Deleted content (10006) from PT\n"
       ]
      },
      {
       "output_type": "stream",
       "stream": "stderr",
       "text": [
        "DEBUG:root: Added content (10006) to content store\n"
       ]
      },
      {
       "output_type": "stream",
       "stream": "stderr",
       "text": [
        "DEBUG:root: processing incoming packet at 7\n"
       ]
      },
      {
       "output_type": "stream",
       "stream": "stderr",
       "text": [
        "DEBUG:root: packet data: {'_type': 'response', 'content_name': '10005', 'time_start': 18.170268, 'dest_id': 7, 'content_data': '10005', 'from_id': 56, 'size': 1}\n"
       ]
      },
      {
       "output_type": "stream",
       "stream": "stderr",
       "text": [
        "DEBUG:root:Forwarding response along to all requesters, I am: 7 ... \n"
       ]
      },
      {
       "output_type": "stream",
       "stream": "stderr",
       "text": [
        "DEBUG:root:Sent response to requester 1 \n"
       ]
      },
      {
       "output_type": "stream",
       "stream": "stderr",
       "text": [
        "DEBUG:root:Forwarding to all requesters complete\n"
       ]
      },
      {
       "output_type": "stream",
       "stream": "stderr",
       "text": [
        "DEBUG:root: Deleted content (10005) from PT\n"
       ]
      },
      {
       "output_type": "stream",
       "stream": "stderr",
       "text": [
        "DEBUG:root: Added content (10005) to content store\n"
       ]
      },
      {
       "output_type": "stream",
       "stream": "stderr",
       "text": [
        "DEBUG:root: processing incoming packet at 7\n"
       ]
      },
      {
       "output_type": "stream",
       "stream": "stderr",
       "text": [
        "DEBUG:root: packet data: {'_type': 'response', 'content_name': '10007', 'time_start': 18.172283, 'dest_id': 7, 'content_data': '10007', 'from_id': 56, 'size': 1}\n"
       ]
      },
      {
       "output_type": "stream",
       "stream": "stderr",
       "text": [
        "DEBUG:root:Forwarding response along to all requesters, I am: 7 ... \n"
       ]
      },
      {
       "output_type": "stream",
       "stream": "stderr",
       "text": [
        "DEBUG:root:Sent response to requester 1 \n"
       ]
      },
      {
       "output_type": "stream",
       "stream": "stderr",
       "text": [
        "DEBUG:root:Forwarding to all requesters complete\n"
       ]
      },
      {
       "output_type": "stream",
       "stream": "stderr",
       "text": [
        "DEBUG:root: Deleted content (10007) from PT\n"
       ]
      },
      {
       "output_type": "stream",
       "stream": "stderr",
       "text": [
        "DEBUG:root: Added content (10007) to content store\n"
       ]
      },
      {
       "output_type": "stream",
       "stream": "stderr",
       "text": [
        "DEBUG:root: Delivered packet from 7 to 1\n"
       ]
      },
      {
       "output_type": "stream",
       "stream": "stderr",
       "text": [
        "DEBUG:root: Delivered packet from 7 to 1\n"
       ]
      },
      {
       "output_type": "stream",
       "stream": "stderr",
       "text": [
        "DEBUG:root: Delivered packet from 7 to 1\n"
       ]
      },
      {
       "output_type": "stream",
       "stream": "stderr",
       "text": [
        "DEBUG:root: Delivered packet from 7 to 1\n"
       ]
      },
      {
       "output_type": "stream",
       "stream": "stderr",
       "text": [
        "DEBUG:root: Delivered packet from 55 to 7\n"
       ]
      },
      {
       "output_type": "stream",
       "stream": "stderr",
       "text": [
        "DEBUG:root: Delivered packet from 56 to 7\n"
       ]
      },
      {
       "output_type": "stream",
       "stream": "stderr",
       "text": [
        "DEBUG:root: Delivered packet from 56 to 7\n"
       ]
      },
      {
       "output_type": "stream",
       "stream": "stderr",
       "text": [
        "DEBUG:root: Delivered packet from 56 to 7\n"
       ]
      },
      {
       "output_type": "stream",
       "stream": "stderr",
       "text": [
        "DEBUG:root: Delivered packet from 395 to 56\n"
       ]
      },
      {
       "output_type": "stream",
       "stream": "stderr",
       "text": [
        "DEBUG:root: Delivered packet from 397 to 56\n"
       ]
      },
      {
       "output_type": "stream",
       "stream": "stderr",
       "text": [
        "DEBUG:root: processing incoming packet at 56\n"
       ]
      },
      {
       "output_type": "stream",
       "stream": "stderr",
       "text": [
        "DEBUG:root: packet data: {'_type': 'response', 'content_name': '10004', 'time_start': 18.169422, 'dest_id': 56, 'content_data': '10004', 'from_id': 395, 'size': 1}\n"
       ]
      },
      {
       "output_type": "stream",
       "stream": "stderr",
       "text": [
        "DEBUG:root:Forwarding response along to all requesters, I am: 56 ... \n"
       ]
      },
      {
       "output_type": "stream",
       "stream": "stdout",
       "text": [
        "\n",
        "GOT TO OUTGOING\n",
        "None\n",
        "GOT TO OUTGOING\n",
        "None\n",
        "GOT TO OUTGOING\n",
        "None\n",
        "GOT TO OUTGOING\n",
        "None\n",
        "GOT TO OUTGOING\n",
        "None\n",
        "GOT TO OUTGOING\n",
        "None\n",
        "GOT TO OUTGOING\n",
        "None\n",
        "GOT TO OUTGOING\n",
        "None\n",
        "GOT TO OUTGOING\n",
        "None\n",
        "GOT TO OUTGOING\n",
        "None"
       ]
      },
      {
       "output_type": "stream",
       "stream": "stderr",
       "text": [
        "DEBUG:root:Sent response to requester 7 \n"
       ]
      },
      {
       "output_type": "stream",
       "stream": "stderr",
       "text": [
        "DEBUG:root:Forwarding to all requesters complete\n"
       ]
      },
      {
       "output_type": "stream",
       "stream": "stderr",
       "text": [
        "DEBUG:root: Deleted content (10004) from PT\n"
       ]
      },
      {
       "output_type": "stream",
       "stream": "stderr",
       "text": [
        "DEBUG:root: Added content (10004) to content store\n"
       ]
      },
      {
       "output_type": "stream",
       "stream": "stderr",
       "text": [
        "DEBUG:root: processing incoming packet at 56\n"
       ]
      },
      {
       "output_type": "stream",
       "stream": "stderr",
       "text": [
        "DEBUG:root: packet data: {'_type': 'response', 'content_name': '10001', 'time_start': 18.166844, 'dest_id': 56, 'content_data': '10001', 'from_id': 397, 'size': 1}\n"
       ]
      },
      {
       "output_type": "stream",
       "stream": "stderr",
       "text": [
        "DEBUG:root:Forwarding response along to all requesters, I am: 56 ... \n"
       ]
      },
      {
       "output_type": "stream",
       "stream": "stderr",
       "text": [
        "DEBUG:root:Sent response to requester 7 \n"
       ]
      },
      {
       "output_type": "stream",
       "stream": "stderr",
       "text": [
        "DEBUG:root:Forwarding to all requesters complete\n"
       ]
      },
      {
       "output_type": "stream",
       "stream": "stderr",
       "text": [
        "DEBUG:root: Deleted content (10001) from PT\n"
       ]
      },
      {
       "output_type": "stream",
       "stream": "stderr",
       "text": [
        "DEBUG:root: Added content (10001) to content store\n"
       ]
      },
      {
       "output_type": "stream",
       "stream": "stderr",
       "text": [
        "DEBUG:root: processing incoming packet at 7\n"
       ]
      },
      {
       "output_type": "stream",
       "stream": "stderr",
       "text": [
        "DEBUG:root: packet data: {'_type': 'response', 'content_name': '10009', 'time_start': 18.174518, 'dest_id': 7, 'content_data': '10009', 'from_id': 55, 'size': 1}\n"
       ]
      },
      {
       "output_type": "stream",
       "stream": "stderr",
       "text": [
        "DEBUG:root:Forwarding response along to all requesters, I am: 7 ... \n"
       ]
      },
      {
       "output_type": "stream",
       "stream": "stderr",
       "text": [
        "DEBUG:root:Sent response to requester 1 \n"
       ]
      },
      {
       "output_type": "stream",
       "stream": "stderr",
       "text": [
        "DEBUG:root:Forwarding to all requesters complete\n"
       ]
      },
      {
       "output_type": "stream",
       "stream": "stderr",
       "text": [
        "DEBUG:root: Deleted content (10009) from PT\n"
       ]
      },
      {
       "output_type": "stream",
       "stream": "stderr",
       "text": [
        "DEBUG:root: Added content (10009) to content store\n"
       ]
      },
      {
       "output_type": "stream",
       "stream": "stderr",
       "text": [
        "DEBUG:root: processing incoming packet at 7\n"
       ]
      },
      {
       "output_type": "stream",
       "stream": "stderr",
       "text": [
        "DEBUG:root: packet data: {'_type': 'response', 'content_name': '10000', 'time_start': 18.165956, 'dest_id': 7, 'content_data': '10000', 'from_id': 56, 'size': 1}\n"
       ]
      },
      {
       "output_type": "stream",
       "stream": "stderr",
       "text": [
        "DEBUG:root:Forwarding response along to all requesters, I am: 7 ... \n"
       ]
      },
      {
       "output_type": "stream",
       "stream": "stderr",
       "text": [
        "DEBUG:root:Sent response to requester 1 \n"
       ]
      },
      {
       "output_type": "stream",
       "stream": "stderr",
       "text": [
        "DEBUG:root:Forwarding to all requesters complete\n"
       ]
      },
      {
       "output_type": "stream",
       "stream": "stderr",
       "text": [
        "DEBUG:root: Deleted content (10000) from PT\n"
       ]
      },
      {
       "output_type": "stream",
       "stream": "stderr",
       "text": [
        "DEBUG:root: Added content (10000) to content store\n"
       ]
      },
      {
       "output_type": "stream",
       "stream": "stderr",
       "text": [
        "DEBUG:root: processing incoming packet at 7\n"
       ]
      },
      {
       "output_type": "stream",
       "stream": "stderr",
       "text": [
        "DEBUG:root: packet data: {'_type': 'response', 'content_name': '10002', 'time_start': 18.167659, 'dest_id': 7, 'content_data': '10002', 'from_id': 56, 'size': 1}\n"
       ]
      },
      {
       "output_type": "stream",
       "stream": "stderr",
       "text": [
        "DEBUG:root:Forwarding response along to all requesters, I am: 7 ... \n"
       ]
      },
      {
       "output_type": "stream",
       "stream": "stderr",
       "text": [
        "DEBUG:root:Sent response to requester 1 \n"
       ]
      },
      {
       "output_type": "stream",
       "stream": "stderr",
       "text": [
        "DEBUG:root:Forwarding to all requesters complete\n"
       ]
      },
      {
       "output_type": "stream",
       "stream": "stderr",
       "text": [
        "DEBUG:root: Deleted content (10002) from PT\n"
       ]
      },
      {
       "output_type": "stream",
       "stream": "stderr",
       "text": [
        "DEBUG:root: Added content (10002) to content store\n"
       ]
      },
      {
       "output_type": "stream",
       "stream": "stderr",
       "text": [
        "DEBUG:root: processing incoming packet at 7\n"
       ]
      },
      {
       "output_type": "stream",
       "stream": "stderr",
       "text": [
        "DEBUG:root: packet data: {'_type': 'response', 'content_name': '10003', 'time_start': 18.168568, 'dest_id': 7, 'content_data': '10003', 'from_id': 56, 'size': 1}\n"
       ]
      },
      {
       "output_type": "stream",
       "stream": "stderr",
       "text": [
        "DEBUG:root:Forwarding response along to all requesters, I am: 7 ... \n"
       ]
      },
      {
       "output_type": "stream",
       "stream": "stderr",
       "text": [
        "DEBUG:root:Sent response to requester 1 \n"
       ]
      },
      {
       "output_type": "stream",
       "stream": "stderr",
       "text": [
        "DEBUG:root:Forwarding to all requesters complete\n"
       ]
      },
      {
       "output_type": "stream",
       "stream": "stderr",
       "text": [
        "DEBUG:root: Deleted content (10003) from PT\n"
       ]
      },
      {
       "output_type": "stream",
       "stream": "stderr",
       "text": [
        "DEBUG:root: Added content (10003) to content store\n"
       ]
      },
      {
       "output_type": "stream",
       "stream": "stderr",
       "text": [
        "DEBUG:root: processing incoming packet at 1\n"
       ]
      },
      {
       "output_type": "stream",
       "stream": "stderr",
       "text": [
        "DEBUG:root: packet data: {'_type': 'response', 'content_name': '10007', 'time_start': 18.172283, 'dest_id': 1, 'content_data': '10007', 'from_id': 7, 'size': 1}\n"
       ]
      },
      {
       "output_type": "stream",
       "stream": "stderr",
       "text": [
        "DEBUG:root:Forwarding response along to all requesters, I am: 1 ... \n"
       ]
      },
      {
       "output_type": "stream",
       "stream": "stderr",
       "text": [
        "DEBUG:root:Sent response to requester 3 \n"
       ]
      },
      {
       "output_type": "stream",
       "stream": "stderr",
       "text": [
        "DEBUG:root:Forwarding to all requesters complete\n"
       ]
      },
      {
       "output_type": "stream",
       "stream": "stderr",
       "text": [
        "DEBUG:root: Deleted content (10007) from PT\n"
       ]
      },
      {
       "output_type": "stream",
       "stream": "stderr",
       "text": [
        "DEBUG:root: Added content (10007) to content store\n"
       ]
      },
      {
       "output_type": "stream",
       "stream": "stderr",
       "text": [
        "DEBUG:root: processing incoming packet at 1\n"
       ]
      },
      {
       "output_type": "stream",
       "stream": "stderr",
       "text": [
        "DEBUG:root: packet data: {'_type': 'response', 'content_name': '10005', 'time_start': 18.170268, 'dest_id': 1, 'content_data': '10005', 'from_id': 7, 'size': 1}\n"
       ]
      },
      {
       "output_type": "stream",
       "stream": "stderr",
       "text": [
        "DEBUG:root:Forwarding response along to all requesters, I am: 1 ... \n"
       ]
      },
      {
       "output_type": "stream",
       "stream": "stderr",
       "text": [
        "DEBUG:root:Sent response to requester 3 \n"
       ]
      },
      {
       "output_type": "stream",
       "stream": "stderr",
       "text": [
        "DEBUG:root:Forwarding to all requesters complete\n"
       ]
      },
      {
       "output_type": "stream",
       "stream": "stderr",
       "text": [
        "DEBUG:root: Deleted content (10005) from PT\n"
       ]
      },
      {
       "output_type": "stream",
       "stream": "stderr",
       "text": [
        "DEBUG:root: Added content (10005) to content store\n"
       ]
      },
      {
       "output_type": "stream",
       "stream": "stderr",
       "text": [
        "DEBUG:root: processing incoming packet at 1\n"
       ]
      },
      {
       "output_type": "stream",
       "stream": "stderr",
       "text": [
        "DEBUG:root: packet data: {'_type': 'response', 'content_name': '10006', 'time_start': 18.171247, 'dest_id': 1, 'content_data': '10006', 'from_id': 7, 'size': 1}\n"
       ]
      },
      {
       "output_type": "stream",
       "stream": "stderr",
       "text": [
        "DEBUG:root:Forwarding response along to all requesters, I am: 1 ... \n"
       ]
      },
      {
       "output_type": "stream",
       "stream": "stderr",
       "text": [
        "DEBUG:root:Sent response to requester 2 \n"
       ]
      },
      {
       "output_type": "stream",
       "stream": "stderr",
       "text": [
        "DEBUG:root:Forwarding to all requesters complete\n"
       ]
      },
      {
       "output_type": "stream",
       "stream": "stderr",
       "text": [
        "DEBUG:root: Deleted content (10006) from PT\n"
       ]
      },
      {
       "output_type": "stream",
       "stream": "stderr",
       "text": [
        "DEBUG:root: Added content (10006) to content store\n"
       ]
      },
      {
       "output_type": "stream",
       "stream": "stderr",
       "text": [
        "DEBUG:root: processing incoming packet at 1\n"
       ]
      },
      {
       "output_type": "stream",
       "stream": "stderr",
       "text": [
        "DEBUG:root: packet data: {'_type': 'response', 'content_name': '10008', 'time_start': 18.173319, 'dest_id': 1, 'content_data': '10008', 'from_id': 7, 'size': 1}\n"
       ]
      },
      {
       "output_type": "stream",
       "stream": "stderr",
       "text": [
        "DEBUG:root:Forwarding response along to all requesters, I am: 1 ... \n"
       ]
      },
      {
       "output_type": "stream",
       "stream": "stderr",
       "text": [
        "DEBUG:root:Sent response to requester 2 \n"
       ]
      },
      {
       "output_type": "stream",
       "stream": "stderr",
       "text": [
        "DEBUG:root:Forwarding to all requesters complete\n"
       ]
      },
      {
       "output_type": "stream",
       "stream": "stderr",
       "text": [
        "DEBUG:root: Deleted content (10008) from PT\n"
       ]
      },
      {
       "output_type": "stream",
       "stream": "stderr",
       "text": [
        "DEBUG:root: Added content (10008) to content store\n"
       ]
      },
      {
       "output_type": "stream",
       "stream": "stderr",
       "text": [
        "DEBUG:root: Delivered packet from 1 to 2\n"
       ]
      },
      {
       "output_type": "stream",
       "stream": "stderr",
       "text": [
        "DEBUG:root: Delivered packet from 1 to 2\n"
       ]
      },
      {
       "output_type": "stream",
       "stream": "stderr",
       "text": [
        "DEBUG:root: Delivered packet from 1 to 3\n"
       ]
      },
      {
       "output_type": "stream",
       "stream": "stderr",
       "text": [
        "DEBUG:root: Delivered packet from 1 to 3\n"
       ]
      },
      {
       "output_type": "stream",
       "stream": "stderr",
       "text": [
        "DEBUG:root: Delivered packet from 7 to 1\n"
       ]
      },
      {
       "output_type": "stream",
       "stream": "stderr",
       "text": [
        "DEBUG:root: Delivered packet from 7 to 1\n"
       ]
      },
      {
       "output_type": "stream",
       "stream": "stderr",
       "text": [
        "DEBUG:root: Delivered packet from 7 to 1\n"
       ]
      },
      {
       "output_type": "stream",
       "stream": "stderr",
       "text": [
        "DEBUG:root: Delivered packet from 7 to 1\n"
       ]
      },
      {
       "output_type": "stream",
       "stream": "stderr",
       "text": [
        "DEBUG:root: Delivered packet from 56 to 7\n"
       ]
      },
      {
       "output_type": "stream",
       "stream": "stderr",
       "text": [
        "DEBUG:root: processing incoming packet at 7\n"
       ]
      },
      {
       "output_type": "stream",
       "stream": "stderr",
       "text": [
        "DEBUG:root: packet data: {'_type': 'response', 'content_name': '10001', 'time_start': 18.166844, 'dest_id': 7, 'content_data': '10001', 'from_id': 56, 'size': 1}\n"
       ]
      },
      {
       "output_type": "stream",
       "stream": "stderr",
       "text": [
        "DEBUG:root:Forwarding response along to all requesters, I am: 7 ... \n"
       ]
      },
      {
       "output_type": "stream",
       "stream": "stdout",
       "text": [
        "\n",
        "GOT TO OUTGOING\n",
        "None\n",
        "GOT TO OUTGOING\n",
        "None\n",
        "GOT TO OUTGOING\n",
        "None\n",
        "GOT TO OUTGOING\n",
        "None\n",
        "GOT TO OUTGOING\n",
        "None\n",
        "GOT TO OUTGOING\n",
        "None\n",
        "GOT TO OUTGOING\n",
        "None\n",
        "GOT TO OUTGOING\n",
        "None\n",
        "GOT TO OUTGOING\n",
        "None\n",
        "GOT TO OUTGOING\n",
        "None"
       ]
      },
      {
       "output_type": "stream",
       "stream": "stderr",
       "text": [
        "DEBUG:root:Sent response to requester 1 \n"
       ]
      },
      {
       "output_type": "stream",
       "stream": "stderr",
       "text": [
        "DEBUG:root:Forwarding to all requesters complete\n"
       ]
      },
      {
       "output_type": "stream",
       "stream": "stderr",
       "text": [
        "DEBUG:root: Deleted content (10001) from PT\n"
       ]
      },
      {
       "output_type": "stream",
       "stream": "stderr",
       "text": [
        "DEBUG:root: Added content (10001) to content store\n"
       ]
      },
      {
       "output_type": "stream",
       "stream": "stderr",
       "text": [
        "DEBUG:root: processing incoming packet at 3\n"
       ]
      },
      {
       "output_type": "stream",
       "stream": "stderr",
       "text": [
        "DEBUG:root: packet data: {'_type': 'response', 'content_name': '10005', 'time_start': 18.170268, 'dest_id': 3, 'content_data': '10005', 'from_id': 1, 'size': 1}\n"
       ]
      },
      {
       "output_type": "stream",
       "stream": "stderr",
       "text": [
        "DEBUG:root:Forwarding response along to all requesters, I am: 3 ... \n"
       ]
      },
      {
       "output_type": "stream",
       "stream": "stderr",
       "text": [
        "DEBUG:root:Sent response to requester 28 \n"
       ]
      },
      {
       "output_type": "stream",
       "stream": "stderr",
       "text": [
        "DEBUG:root:Forwarding to all requesters complete\n"
       ]
      },
      {
       "output_type": "stream",
       "stream": "stderr",
       "text": [
        "DEBUG:root: Deleted content (10005) from PT\n"
       ]
      },
      {
       "output_type": "stream",
       "stream": "stderr",
       "text": [
        "DEBUG:root: Added content (10005) to content store\n"
       ]
      },
      {
       "output_type": "stream",
       "stream": "stderr",
       "text": [
        "DEBUG:root: processing incoming packet at 3\n"
       ]
      },
      {
       "output_type": "stream",
       "stream": "stderr",
       "text": [
        "DEBUG:root: packet data: {'_type': 'response', 'content_name': '10007', 'time_start': 18.172283, 'dest_id': 3, 'content_data': '10007', 'from_id': 1, 'size': 1}\n"
       ]
      },
      {
       "output_type": "stream",
       "stream": "stderr",
       "text": [
        "DEBUG:root:Forwarding response along to all requesters, I am: 3 ... \n"
       ]
      },
      {
       "output_type": "stream",
       "stream": "stderr",
       "text": [
        "DEBUG:root:Sent response to requester 25 \n"
       ]
      },
      {
       "output_type": "stream",
       "stream": "stderr",
       "text": [
        "DEBUG:root:Forwarding to all requesters complete\n"
       ]
      },
      {
       "output_type": "stream",
       "stream": "stderr",
       "text": [
        "DEBUG:root: Deleted content (10007) from PT\n"
       ]
      },
      {
       "output_type": "stream",
       "stream": "stderr",
       "text": [
        "DEBUG:root: Added content (10007) to content store\n"
       ]
      },
      {
       "output_type": "stream",
       "stream": "stderr",
       "text": [
        "DEBUG:root: processing incoming packet at 2\n"
       ]
      },
      {
       "output_type": "stream",
       "stream": "stderr",
       "text": [
        "DEBUG:root: packet data: {'_type': 'response', 'content_name': '10008', 'time_start': 18.173319, 'dest_id': 2, 'content_data': '10008', 'from_id': 1, 'size': 1}\n"
       ]
      },
      {
       "output_type": "stream",
       "stream": "stderr",
       "text": [
        "DEBUG:root:Forwarding response along to all requesters, I am: 2 ... \n"
       ]
      },
      {
       "output_type": "stream",
       "stream": "stderr",
       "text": [
        "DEBUG:root:Sent response to requester 18 \n"
       ]
      },
      {
       "output_type": "stream",
       "stream": "stderr",
       "text": [
        "DEBUG:root:Forwarding to all requesters complete\n"
       ]
      },
      {
       "output_type": "stream",
       "stream": "stderr",
       "text": [
        "DEBUG:root: Deleted content (10008) from PT\n"
       ]
      },
      {
       "output_type": "stream",
       "stream": "stderr",
       "text": [
        "DEBUG:root: Added content (10008) to content store\n"
       ]
      },
      {
       "output_type": "stream",
       "stream": "stderr",
       "text": [
        "DEBUG:root: processing incoming packet at 2\n"
       ]
      },
      {
       "output_type": "stream",
       "stream": "stderr",
       "text": [
        "DEBUG:root: packet data: {'_type': 'response', 'content_name': '10006', 'time_start': 18.171247, 'dest_id': 2, 'content_data': '10006', 'from_id': 1, 'size': 1}\n"
       ]
      },
      {
       "output_type": "stream",
       "stream": "stderr",
       "text": [
        "DEBUG:root:Forwarding response along to all requesters, I am: 2 ... \n"
       ]
      },
      {
       "output_type": "stream",
       "stream": "stderr",
       "text": [
        "DEBUG:root:Sent response to requester 18 \n"
       ]
      },
      {
       "output_type": "stream",
       "stream": "stderr",
       "text": [
        "DEBUG:root:Forwarding to all requesters complete\n"
       ]
      },
      {
       "output_type": "stream",
       "stream": "stderr",
       "text": [
        "DEBUG:root: Deleted content (10006) from PT\n"
       ]
      },
      {
       "output_type": "stream",
       "stream": "stderr",
       "text": [
        "DEBUG:root: Added content (10006) to content store\n"
       ]
      },
      {
       "output_type": "stream",
       "stream": "stderr",
       "text": [
        "DEBUG:root: processing incoming packet at 1\n"
       ]
      },
      {
       "output_type": "stream",
       "stream": "stderr",
       "text": [
        "DEBUG:root: packet data: {'_type': 'response', 'content_name': '10003', 'time_start': 18.168568, 'dest_id': 1, 'content_data': '10003', 'from_id': 7, 'size': 1}\n"
       ]
      },
      {
       "output_type": "stream",
       "stream": "stderr",
       "text": [
        "DEBUG:root:Forwarding response along to all requesters, I am: 1 ... \n"
       ]
      },
      {
       "output_type": "stream",
       "stream": "stderr",
       "text": [
        "DEBUG:root:Sent response to requester 4 \n"
       ]
      },
      {
       "output_type": "stream",
       "stream": "stderr",
       "text": [
        "DEBUG:root:Forwarding to all requesters complete\n"
       ]
      },
      {
       "output_type": "stream",
       "stream": "stderr",
       "text": [
        "DEBUG:root: Deleted content (10003) from PT\n"
       ]
      },
      {
       "output_type": "stream",
       "stream": "stderr",
       "text": [
        "DEBUG:root: Added content (10003) to content store\n"
       ]
      },
      {
       "output_type": "stream",
       "stream": "stderr",
       "text": [
        "DEBUG:root: processing incoming packet at 1\n"
       ]
      },
      {
       "output_type": "stream",
       "stream": "stderr",
       "text": [
        "DEBUG:root: packet data: {'_type': 'response', 'content_name': '10002', 'time_start': 18.167659, 'dest_id': 1, 'content_data': '10002', 'from_id': 7, 'size': 1}\n"
       ]
      },
      {
       "output_type": "stream",
       "stream": "stderr",
       "text": [
        "DEBUG:root:Forwarding response along to all requesters, I am: 1 ... \n"
       ]
      },
      {
       "output_type": "stream",
       "stream": "stderr",
       "text": [
        "DEBUG:root:Sent response to requester 4 \n"
       ]
      },
      {
       "output_type": "stream",
       "stream": "stderr",
       "text": [
        "DEBUG:root:Forwarding to all requesters complete\n"
       ]
      },
      {
       "output_type": "stream",
       "stream": "stderr",
       "text": [
        "DEBUG:root: Deleted content (10002) from PT\n"
       ]
      },
      {
       "output_type": "stream",
       "stream": "stderr",
       "text": [
        "DEBUG:root: Added content (10002) to content store\n"
       ]
      },
      {
       "output_type": "stream",
       "stream": "stderr",
       "text": [
        "DEBUG:root: processing incoming packet at 1\n"
       ]
      },
      {
       "output_type": "stream",
       "stream": "stderr",
       "text": [
        "DEBUG:root: packet data: {'_type': 'response', 'content_name': '10000', 'time_start': 18.165956, 'dest_id': 1, 'content_data': '10000', 'from_id': 7, 'size': 1}\n"
       ]
      },
      {
       "output_type": "stream",
       "stream": "stderr",
       "text": [
        "DEBUG:root:Forwarding response along to all requesters, I am: 1 ... \n"
       ]
      },
      {
       "output_type": "stream",
       "stream": "stderr",
       "text": [
        "DEBUG:root:Sent response to requester 3 \n"
       ]
      },
      {
       "output_type": "stream",
       "stream": "stderr",
       "text": [
        "DEBUG:root:Forwarding to all requesters complete\n"
       ]
      },
      {
       "output_type": "stream",
       "stream": "stderr",
       "text": [
        "DEBUG:root: Deleted content (10000) from PT\n"
       ]
      },
      {
       "output_type": "stream",
       "stream": "stderr",
       "text": [
        "DEBUG:root: Added content (10000) to content store\n"
       ]
      },
      {
       "output_type": "stream",
       "stream": "stderr",
       "text": [
        "DEBUG:root: processing incoming packet at 1\n"
       ]
      },
      {
       "output_type": "stream",
       "stream": "stderr",
       "text": [
        "DEBUG:root: packet data: {'_type': 'response', 'content_name': '10009', 'time_start': 18.174518, 'dest_id': 1, 'content_data': '10009', 'from_id': 7, 'size': 1}\n"
       ]
      },
      {
       "output_type": "stream",
       "stream": "stderr",
       "text": [
        "DEBUG:root:Forwarding response along to all requesters, I am: 1 ... \n"
       ]
      },
      {
       "output_type": "stream",
       "stream": "stderr",
       "text": [
        "DEBUG:root:Sent response to requester 3 \n"
       ]
      },
      {
       "output_type": "stream",
       "stream": "stderr",
       "text": [
        "DEBUG:root:Forwarding to all requesters complete\n"
       ]
      },
      {
       "output_type": "stream",
       "stream": "stderr",
       "text": [
        "DEBUG:root: Deleted content (10009) from PT\n"
       ]
      },
      {
       "output_type": "stream",
       "stream": "stderr",
       "text": [
        "DEBUG:root: Added content (10009) to content store\n"
       ]
      },
      {
       "output_type": "stream",
       "stream": "stderr",
       "text": [
        "DEBUG:root: Delivered packet from 1 to 3\n"
       ]
      },
      {
       "output_type": "stream",
       "stream": "stderr",
       "text": [
        "DEBUG:root: Delivered packet from 1 to 3\n"
       ]
      },
      {
       "output_type": "stream",
       "stream": "stderr",
       "text": [
        "DEBUG:root: Delivered packet from 1 to 4\n"
       ]
      },
      {
       "output_type": "stream",
       "stream": "stderr",
       "text": [
        "DEBUG:root: Delivered packet from 1 to 4\n"
       ]
      },
      {
       "output_type": "stream",
       "stream": "stderr",
       "text": [
        "DEBUG:root: Delivered packet from 2 to 18\n"
       ]
      },
      {
       "output_type": "stream",
       "stream": "stderr",
       "text": [
        "DEBUG:root: Delivered packet from 2 to 18\n"
       ]
      },
      {
       "output_type": "stream",
       "stream": "stderr",
       "text": [
        "DEBUG:root: Delivered packet from 3 to 25\n"
       ]
      },
      {
       "output_type": "stream",
       "stream": "stderr",
       "text": [
        "DEBUG:root: Delivered packet from 3 to 28\n"
       ]
      },
      {
       "output_type": "stream",
       "stream": "stderr",
       "text": [
        "DEBUG:root: Delivered packet from 7 to 1\n"
       ]
      },
      {
       "output_type": "stream",
       "stream": "stderr",
       "text": [
        "DEBUG:root: Delivered packet from 56 to 7\n"
       ]
      },
      {
       "output_type": "stream",
       "stream": "stderr",
       "text": [
        "DEBUG:root: processing incoming packet at 28\n"
       ]
      },
      {
       "output_type": "stream",
       "stream": "stderr",
       "text": [
        "DEBUG:root: packet data: {'_type': 'response', 'content_name': '10005', 'time_start': 18.170268, 'dest_id': 28, 'content_data': '10005', 'from_id': 3, 'size': 1}\n"
       ]
      },
      {
       "output_type": "stream",
       "stream": "stderr",
       "text": [
        "DEBUG:root:Forwarding response along to all requesters, I am: 28 ... \n"
       ]
      },
      {
       "output_type": "stream",
       "stream": "stdout",
       "text": [
        "\n",
        "GOT TO OUTGOING\n",
        "None\n",
        "GOT TO OUTGOING\n",
        "None\n",
        "GOT TO OUTGOING\n",
        "None\n",
        "GOT TO OUTGOING\n",
        "None\n",
        "GOT TO OUTGOING\n",
        "None\n",
        "GOT TO OUTGOING\n",
        "None\n",
        "GOT TO OUTGOING\n",
        "None\n",
        "GOT TO OUTGOING\n",
        "None\n",
        "GOT TO OUTGOING\n",
        "None"
       ]
      },
      {
       "output_type": "stream",
       "stream": "stderr",
       "text": [
        "DEBUG:root:Sent response to requester 198 \n"
       ]
      },
      {
       "output_type": "stream",
       "stream": "stderr",
       "text": [
        "DEBUG:root:Forwarding to all requesters complete\n"
       ]
      },
      {
       "output_type": "stream",
       "stream": "stderr",
       "text": [
        "DEBUG:root: Deleted content (10005) from PT\n"
       ]
      },
      {
       "output_type": "stream",
       "stream": "stderr",
       "text": [
        "DEBUG:root: Added content (10005) to content store\n"
       ]
      },
      {
       "output_type": "stream",
       "stream": "stderr",
       "text": [
        "DEBUG:root: processing incoming packet at 25\n"
       ]
      },
      {
       "output_type": "stream",
       "stream": "stderr",
       "text": [
        "DEBUG:root: packet data: {'_type': 'response', 'content_name': '10007', 'time_start': 18.172283, 'dest_id': 25, 'content_data': '10007', 'from_id': 3, 'size': 1}\n"
       ]
      },
      {
       "output_type": "stream",
       "stream": "stderr",
       "text": [
        "DEBUG:root:Forwarding response along to all requesters, I am: 25 ... \n"
       ]
      },
      {
       "output_type": "stream",
       "stream": "stderr",
       "text": [
        "DEBUG:root:Sent response to requester 182 \n"
       ]
      },
      {
       "output_type": "stream",
       "stream": "stderr",
       "text": [
        "DEBUG:root:Forwarding to all requesters complete\n"
       ]
      },
      {
       "output_type": "stream",
       "stream": "stderr",
       "text": [
        "DEBUG:root: Deleted content (10007) from PT\n"
       ]
      },
      {
       "output_type": "stream",
       "stream": "stderr",
       "text": [
        "DEBUG:root: Added content (10007) to content store\n"
       ]
      },
      {
       "output_type": "stream",
       "stream": "stderr",
       "text": [
        "DEBUG:root: processing incoming packet at 18\n"
       ]
      },
      {
       "output_type": "stream",
       "stream": "stderr",
       "text": [
        "DEBUG:root: packet data: {'_type': 'response', 'content_name': '10006', 'time_start': 18.171247, 'dest_id': 18, 'content_data': '10006', 'from_id': 2, 'size': 1}\n"
       ]
      },
      {
       "output_type": "stream",
       "stream": "stderr",
       "text": [
        "DEBUG:root:Forwarding response along to all requesters, I am: 18 ... \n"
       ]
      },
      {
       "output_type": "stream",
       "stream": "stderr",
       "text": [
        "DEBUG:root:Sent response to requester 127 \n"
       ]
      },
      {
       "output_type": "stream",
       "stream": "stderr",
       "text": [
        "DEBUG:root:Forwarding to all requesters complete\n"
       ]
      },
      {
       "output_type": "stream",
       "stream": "stderr",
       "text": [
        "DEBUG:root: Deleted content (10006) from PT\n"
       ]
      },
      {
       "output_type": "stream",
       "stream": "stderr",
       "text": [
        "DEBUG:root: Added content (10006) to content store\n"
       ]
      },
      {
       "output_type": "stream",
       "stream": "stderr",
       "text": [
        "DEBUG:root: processing incoming packet at 18\n"
       ]
      },
      {
       "output_type": "stream",
       "stream": "stderr",
       "text": [
        "DEBUG:root: packet data: {'_type': 'response', 'content_name': '10008', 'time_start': 18.173319, 'dest_id': 18, 'content_data': '10008', 'from_id': 2, 'size': 1}\n"
       ]
      },
      {
       "output_type": "stream",
       "stream": "stderr",
       "text": [
        "DEBUG:root:Forwarding response along to all requesters, I am: 18 ... \n"
       ]
      },
      {
       "output_type": "stream",
       "stream": "stderr",
       "text": [
        "DEBUG:root:Sent response to requester 128 \n"
       ]
      },
      {
       "output_type": "stream",
       "stream": "stderr",
       "text": [
        "DEBUG:root:Forwarding to all requesters complete\n"
       ]
      },
      {
       "output_type": "stream",
       "stream": "stderr",
       "text": [
        "DEBUG:root: Deleted content (10008) from PT\n"
       ]
      },
      {
       "output_type": "stream",
       "stream": "stderr",
       "text": [
        "DEBUG:root: Added content (10008) to content store\n"
       ]
      },
      {
       "output_type": "stream",
       "stream": "stderr",
       "text": [
        "DEBUG:root: processing incoming packet at 7\n"
       ]
      },
      {
       "output_type": "stream",
       "stream": "stderr",
       "text": [
        "DEBUG:root: packet data: {'_type': 'response', 'content_name': '10004', 'time_start': 18.169422, 'dest_id': 7, 'content_data': '10004', 'from_id': 56, 'size': 1}\n"
       ]
      },
      {
       "output_type": "stream",
       "stream": "stderr",
       "text": [
        "DEBUG:root:Forwarding response along to all requesters, I am: 7 ... \n"
       ]
      },
      {
       "output_type": "stream",
       "stream": "stderr",
       "text": [
        "DEBUG:root:Sent response to requester 1 \n"
       ]
      },
      {
       "output_type": "stream",
       "stream": "stderr",
       "text": [
        "DEBUG:root:Forwarding to all requesters complete\n"
       ]
      },
      {
       "output_type": "stream",
       "stream": "stderr",
       "text": [
        "DEBUG:root: Deleted content (10004) from PT\n"
       ]
      },
      {
       "output_type": "stream",
       "stream": "stderr",
       "text": [
        "DEBUG:root: Added content (10004) to content store\n"
       ]
      },
      {
       "output_type": "stream",
       "stream": "stderr",
       "text": [
        "DEBUG:root: processing incoming packet at 4\n"
       ]
      },
      {
       "output_type": "stream",
       "stream": "stderr",
       "text": [
        "DEBUG:root: packet data: {'_type': 'response', 'content_name': '10002', 'time_start': 18.167659, 'dest_id': 4, 'content_data': '10002', 'from_id': 1, 'size': 1}\n"
       ]
      },
      {
       "output_type": "stream",
       "stream": "stderr",
       "text": [
        "DEBUG:root:Forwarding response along to all requesters, I am: 4 ... \n"
       ]
      },
      {
       "output_type": "stream",
       "stream": "stderr",
       "text": [
        "DEBUG:root:Sent response to requester 34 \n"
       ]
      },
      {
       "output_type": "stream",
       "stream": "stderr",
       "text": [
        "DEBUG:root:Forwarding to all requesters complete\n"
       ]
      },
      {
       "output_type": "stream",
       "stream": "stderr",
       "text": [
        "DEBUG:root: Deleted content (10002) from PT\n"
       ]
      },
      {
       "output_type": "stream",
       "stream": "stderr",
       "text": [
        "DEBUG:root: Added content (10002) to content store\n"
       ]
      },
      {
       "output_type": "stream",
       "stream": "stderr",
       "text": [
        "DEBUG:root: processing incoming packet at 4\n"
       ]
      },
      {
       "output_type": "stream",
       "stream": "stderr",
       "text": [
        "DEBUG:root: packet data: {'_type': 'response', 'content_name': '10003', 'time_start': 18.168568, 'dest_id': 4, 'content_data': '10003', 'from_id': 1, 'size': 1}\n"
       ]
      },
      {
       "output_type": "stream",
       "stream": "stderr",
       "text": [
        "DEBUG:root:Forwarding response along to all requesters, I am: 4 ... \n"
       ]
      },
      {
       "output_type": "stream",
       "stream": "stderr",
       "text": [
        "DEBUG:root:Sent response to requester 30 \n"
       ]
      },
      {
       "output_type": "stream",
       "stream": "stderr",
       "text": [
        "DEBUG:root:Forwarding to all requesters complete\n"
       ]
      },
      {
       "output_type": "stream",
       "stream": "stderr",
       "text": [
        "DEBUG:root: Deleted content (10003) from PT\n"
       ]
      },
      {
       "output_type": "stream",
       "stream": "stderr",
       "text": [
        "DEBUG:root: Added content (10003) to content store\n"
       ]
      },
      {
       "output_type": "stream",
       "stream": "stderr",
       "text": [
        "DEBUG:root: processing incoming packet at 3\n"
       ]
      },
      {
       "output_type": "stream",
       "stream": "stderr",
       "text": [
        "DEBUG:root: packet data: {'_type': 'response', 'content_name': '10009', 'time_start': 18.174518, 'dest_id': 3, 'content_data': '10009', 'from_id': 1, 'size': 1}\n"
       ]
      },
      {
       "output_type": "stream",
       "stream": "stderr",
       "text": [
        "DEBUG:root:Forwarding response along to all requesters, I am: 3 ... \n"
       ]
      },
      {
       "output_type": "stream",
       "stream": "stderr",
       "text": [
        "DEBUG:root:Sent response to requester 22 \n"
       ]
      },
      {
       "output_type": "stream",
       "stream": "stderr",
       "text": [
        "DEBUG:root:Forwarding to all requesters complete\n"
       ]
      },
      {
       "output_type": "stream",
       "stream": "stderr",
       "text": [
        "DEBUG:root: Deleted content (10009) from PT\n"
       ]
      },
      {
       "output_type": "stream",
       "stream": "stderr",
       "text": [
        "DEBUG:root: Added content (10009) to content store\n"
       ]
      },
      {
       "output_type": "stream",
       "stream": "stderr",
       "text": [
        "DEBUG:root: processing incoming packet at 3\n"
       ]
      },
      {
       "output_type": "stream",
       "stream": "stderr",
       "text": [
        "DEBUG:root: packet data: {'_type': 'response', 'content_name': '10000', 'time_start': 18.165956, 'dest_id': 3, 'content_data': '10000', 'from_id': 1, 'size': 1}\n"
       ]
      },
      {
       "output_type": "stream",
       "stream": "stderr",
       "text": [
        "DEBUG:root:Forwarding response along to all requesters, I am: 3 ... \n"
       ]
      },
      {
       "output_type": "stream",
       "stream": "stderr",
       "text": [
        "DEBUG:root:Sent response to requester 22 \n"
       ]
      },
      {
       "output_type": "stream",
       "stream": "stderr",
       "text": [
        "DEBUG:root:Forwarding to all requesters complete\n"
       ]
      },
      {
       "output_type": "stream",
       "stream": "stderr",
       "text": [
        "DEBUG:root: Deleted content (10000) from PT\n"
       ]
      },
      {
       "output_type": "stream",
       "stream": "stderr",
       "text": [
        "DEBUG:root: Added content (10000) to content store\n"
       ]
      },
      {
       "output_type": "stream",
       "stream": "stderr",
       "text": [
        "DEBUG:root: processing incoming packet at 1\n"
       ]
      },
      {
       "output_type": "stream",
       "stream": "stderr",
       "text": [
        "DEBUG:root: packet data: {'_type': 'response', 'content_name': '10001', 'time_start': 18.166844, 'dest_id': 1, 'content_data': '10001', 'from_id': 7, 'size': 1}\n"
       ]
      },
      {
       "output_type": "stream",
       "stream": "stderr",
       "text": [
        "DEBUG:root:Forwarding response along to all requesters, I am: 1 ... \n"
       ]
      },
      {
       "output_type": "stream",
       "stream": "stderr",
       "text": [
        "DEBUG:root:Sent response to requester 5 \n"
       ]
      },
      {
       "output_type": "stream",
       "stream": "stderr",
       "text": [
        "DEBUG:root:Forwarding to all requesters complete\n"
       ]
      },
      {
       "output_type": "stream",
       "stream": "stderr",
       "text": [
        "DEBUG:root: Deleted content (10001) from PT\n"
       ]
      },
      {
       "output_type": "stream",
       "stream": "stderr",
       "text": [
        "DEBUG:root: Added content (10001) to content store\n"
       ]
      },
      {
       "output_type": "stream",
       "stream": "stderr",
       "text": [
        "DEBUG:root: Delivered packet from 1 to 5\n"
       ]
      },
      {
       "output_type": "stream",
       "stream": "stderr",
       "text": [
        "DEBUG:root: Delivered packet from 3 to 22\n"
       ]
      },
      {
       "output_type": "stream",
       "stream": "stderr",
       "text": [
        "DEBUG:root: Delivered packet from 3 to 22\n"
       ]
      },
      {
       "output_type": "stream",
       "stream": "stderr",
       "text": [
        "DEBUG:root: Delivered packet from 4 to 30\n"
       ]
      },
      {
       "output_type": "stream",
       "stream": "stderr",
       "text": [
        "DEBUG:root: Delivered packet from 4 to 34\n"
       ]
      },
      {
       "output_type": "stream",
       "stream": "stderr",
       "text": [
        "DEBUG:root: Delivered packet from 7 to 1\n"
       ]
      },
      {
       "output_type": "stream",
       "stream": "stderr",
       "text": [
        "DEBUG:root: Delivered packet from 18 to 128\n"
       ]
      },
      {
       "output_type": "stream",
       "stream": "stderr",
       "text": [
        "DEBUG:root: Delivered packet from 18 to 127\n"
       ]
      },
      {
       "output_type": "stream",
       "stream": "stderr",
       "text": [
        "DEBUG:root: Delivered packet from 25 to 182\n"
       ]
      },
      {
       "output_type": "stream",
       "stream": "stderr",
       "text": [
        "DEBUG:root: Delivered packet from 28 to 198\n"
       ]
      },
      {
       "output_type": "stream",
       "stream": "stderr",
       "text": [
        "DEBUG:root: processing incoming packet at 198\n"
       ]
      },
      {
       "output_type": "stream",
       "stream": "stderr",
       "text": [
        "DEBUG:root: packet data: {'_type': 'response', 'content_name': '10005', 'time_start': 18.170268, 'dest_id': 198, 'content_data': '10005', 'from_id': 28, 'size': 1}\n"
       ]
      },
      {
       "output_type": "stream",
       "stream": "stderr",
       "text": [
        "DEBUG:root:Forwarding response along to all requesters, I am: 198 ... \n"
       ]
      },
      {
       "output_type": "stream",
       "stream": "stdout",
       "text": [
        "\n",
        "GOT TO OUTGOING\n",
        "None\n",
        "GOT TO OUTGOING\n",
        "None\n",
        "GOT TO OUTGOING\n",
        "None\n",
        "GOT TO OUTGOING\n",
        "None\n",
        "GOT TO OUTGOING\n",
        "None\n",
        "GOT TO OUTGOING\n",
        "None\n",
        "GOT TO OUTGOING\n",
        "None\n",
        "GOT TO OUTGOING\n",
        "None\n",
        "GOT TO OUTGOING\n",
        "None\n",
        "GOT TO OUTGOING\n",
        "None"
       ]
      },
      {
       "output_type": "stream",
       "stream": "stderr",
       "text": [
        "DEBUG:root:Sent response to requester 1392 \n"
       ]
      },
      {
       "output_type": "stream",
       "stream": "stderr",
       "text": [
        "DEBUG:root:Forwarding to all requesters complete\n"
       ]
      },
      {
       "output_type": "stream",
       "stream": "stderr",
       "text": [
        "DEBUG:root: Deleted content (10005) from PT\n"
       ]
      },
      {
       "output_type": "stream",
       "stream": "stderr",
       "text": [
        "DEBUG:root: Added content (10005) to content store\n"
       ]
      },
      {
       "output_type": "stream",
       "stream": "stderr",
       "text": [
        "DEBUG:root: processing incoming packet at 182\n"
       ]
      },
      {
       "output_type": "stream",
       "stream": "stderr",
       "text": [
        "DEBUG:root: packet data: {'_type': 'response', 'content_name': '10007', 'time_start': 18.172283, 'dest_id': 182, 'content_data': '10007', 'from_id': 25, 'size': 1}\n"
       ]
      },
      {
       "output_type": "stream",
       "stream": "stderr",
       "text": [
        "DEBUG:root:Forwarding response along to all requesters, I am: 182 ... \n"
       ]
      },
      {
       "output_type": "stream",
       "stream": "stderr",
       "text": [
        "DEBUG:root:Sent response to requester 1279 \n"
       ]
      },
      {
       "output_type": "stream",
       "stream": "stderr",
       "text": [
        "DEBUG:root:Forwarding to all requesters complete\n"
       ]
      },
      {
       "output_type": "stream",
       "stream": "stderr",
       "text": [
        "DEBUG:root: Deleted content (10007) from PT\n"
       ]
      },
      {
       "output_type": "stream",
       "stream": "stderr",
       "text": [
        "DEBUG:root: Added content (10007) to content store\n"
       ]
      },
      {
       "output_type": "stream",
       "stream": "stderr",
       "text": [
        "DEBUG:root: processing incoming packet at 128\n"
       ]
      },
      {
       "output_type": "stream",
       "stream": "stderr",
       "text": [
        "DEBUG:root: packet data: {'_type': 'response', 'content_name': '10008', 'time_start': 18.173319, 'dest_id': 128, 'content_data': '10008', 'from_id': 18, 'size': 1}\n"
       ]
      },
      {
       "output_type": "stream",
       "stream": "stderr",
       "text": [
        "DEBUG:root:Forwarding response along to all requesters, I am: 128 ... \n"
       ]
      },
      {
       "output_type": "stream",
       "stream": "stderr",
       "text": [
        "DEBUG:root:Sent response to requester 901 \n"
       ]
      },
      {
       "output_type": "stream",
       "stream": "stderr",
       "text": [
        "DEBUG:root:Forwarding to all requesters complete\n"
       ]
      },
      {
       "output_type": "stream",
       "stream": "stderr",
       "text": [
        "DEBUG:root: Deleted content (10008) from PT\n"
       ]
      },
      {
       "output_type": "stream",
       "stream": "stderr",
       "text": [
        "DEBUG:root: Added content (10008) to content store\n"
       ]
      },
      {
       "output_type": "stream",
       "stream": "stderr",
       "text": [
        "DEBUG:root: processing incoming packet at 127\n"
       ]
      },
      {
       "output_type": "stream",
       "stream": "stderr",
       "text": [
        "DEBUG:root: packet data: {'_type': 'response', 'content_name': '10006', 'time_start': 18.171247, 'dest_id': 127, 'content_data': '10006', 'from_id': 18, 'size': 1}\n"
       ]
      },
      {
       "output_type": "stream",
       "stream": "stderr",
       "text": [
        "DEBUG:root:Forwarding response along to all requesters, I am: 127 ... \n"
       ]
      },
      {
       "output_type": "stream",
       "stream": "stderr",
       "text": [
        "DEBUG:root:Sent response to requester 890 \n"
       ]
      },
      {
       "output_type": "stream",
       "stream": "stderr",
       "text": [
        "DEBUG:root:Forwarding to all requesters complete\n"
       ]
      },
      {
       "output_type": "stream",
       "stream": "stderr",
       "text": [
        "DEBUG:root: Deleted content (10006) from PT\n"
       ]
      },
      {
       "output_type": "stream",
       "stream": "stderr",
       "text": [
        "DEBUG:root: Added content (10006) to content store\n"
       ]
      },
      {
       "output_type": "stream",
       "stream": "stderr",
       "text": [
        "DEBUG:root: processing incoming packet at 34\n"
       ]
      },
      {
       "output_type": "stream",
       "stream": "stderr",
       "text": [
        "DEBUG:root: packet data: {'_type': 'response', 'content_name': '10002', 'time_start': 18.167659, 'dest_id': 34, 'content_data': '10002', 'from_id': 4, 'size': 1}\n"
       ]
      },
      {
       "output_type": "stream",
       "stream": "stderr",
       "text": [
        "DEBUG:root:Forwarding response along to all requesters, I am: 34 ... \n"
       ]
      },
      {
       "output_type": "stream",
       "stream": "stderr",
       "text": [
        "DEBUG:root:Sent response to requester 243 \n"
       ]
      },
      {
       "output_type": "stream",
       "stream": "stderr",
       "text": [
        "DEBUG:root:Forwarding to all requesters complete\n"
       ]
      },
      {
       "output_type": "stream",
       "stream": "stderr",
       "text": [
        "DEBUG:root: Deleted content (10002) from PT\n"
       ]
      },
      {
       "output_type": "stream",
       "stream": "stderr",
       "text": [
        "DEBUG:root: Added content (10002) to content store\n"
       ]
      },
      {
       "output_type": "stream",
       "stream": "stderr",
       "text": [
        "DEBUG:root: processing incoming packet at 30\n"
       ]
      },
      {
       "output_type": "stream",
       "stream": "stderr",
       "text": [
        "DEBUG:root: packet data: {'_type': 'response', 'content_name': '10003', 'time_start': 18.168568, 'dest_id': 30, 'content_data': '10003', 'from_id': 4, 'size': 1}\n"
       ]
      },
      {
       "output_type": "stream",
       "stream": "stderr",
       "text": [
        "DEBUG:root:Forwarding response along to all requesters, I am: 30 ... \n"
       ]
      },
      {
       "output_type": "stream",
       "stream": "stderr",
       "text": [
        "DEBUG:root:Sent response to requester 212 \n"
       ]
      },
      {
       "output_type": "stream",
       "stream": "stderr",
       "text": [
        "DEBUG:root:Forwarding to all requesters complete\n"
       ]
      },
      {
       "output_type": "stream",
       "stream": "stderr",
       "text": [
        "DEBUG:root: Deleted content (10003) from PT\n"
       ]
      },
      {
       "output_type": "stream",
       "stream": "stderr",
       "text": [
        "DEBUG:root: Added content (10003) to content store\n"
       ]
      },
      {
       "output_type": "stream",
       "stream": "stderr",
       "text": [
        "DEBUG:root: processing incoming packet at 22\n"
       ]
      },
      {
       "output_type": "stream",
       "stream": "stderr",
       "text": [
        "DEBUG:root: packet data: {'_type': 'response', 'content_name': '10000', 'time_start': 18.165956, 'dest_id': 22, 'content_data': '10000', 'from_id': 3, 'size': 1}\n"
       ]
      },
      {
       "output_type": "stream",
       "stream": "stderr",
       "text": [
        "DEBUG:root:Forwarding response along to all requesters, I am: 22 ... \n"
       ]
      },
      {
       "output_type": "stream",
       "stream": "stderr",
       "text": [
        "DEBUG:root:Sent response to requester 159 \n"
       ]
      },
      {
       "output_type": "stream",
       "stream": "stderr",
       "text": [
        "DEBUG:root:Forwarding to all requesters complete\n"
       ]
      },
      {
       "output_type": "stream",
       "stream": "stderr",
       "text": [
        "DEBUG:root: Deleted content (10000) from PT\n"
       ]
      },
      {
       "output_type": "stream",
       "stream": "stderr",
       "text": [
        "DEBUG:root: Added content (10000) to content store\n"
       ]
      },
      {
       "output_type": "stream",
       "stream": "stderr",
       "text": [
        "DEBUG:root: processing incoming packet at 22\n"
       ]
      },
      {
       "output_type": "stream",
       "stream": "stderr",
       "text": [
        "DEBUG:root: packet data: {'_type': 'response', 'content_name': '10009', 'time_start': 18.174518, 'dest_id': 22, 'content_data': '10009', 'from_id': 3, 'size': 1}\n"
       ]
      },
      {
       "output_type": "stream",
       "stream": "stderr",
       "text": [
        "DEBUG:root:Forwarding response along to all requesters, I am: 22 ... \n"
       ]
      },
      {
       "output_type": "stream",
       "stream": "stderr",
       "text": [
        "DEBUG:root:Sent response to requester 156 \n"
       ]
      },
      {
       "output_type": "stream",
       "stream": "stderr",
       "text": [
        "DEBUG:root:Forwarding to all requesters complete\n"
       ]
      },
      {
       "output_type": "stream",
       "stream": "stderr",
       "text": [
        "DEBUG:root: Deleted content (10009) from PT\n"
       ]
      },
      {
       "output_type": "stream",
       "stream": "stderr",
       "text": [
        "DEBUG:root: Added content (10009) to content store\n"
       ]
      },
      {
       "output_type": "stream",
       "stream": "stderr",
       "text": [
        "DEBUG:root: processing incoming packet at 5\n"
       ]
      },
      {
       "output_type": "stream",
       "stream": "stderr",
       "text": [
        "DEBUG:root: packet data: {'_type': 'response', 'content_name': '10001', 'time_start': 18.166844, 'dest_id': 5, 'content_data': '10001', 'from_id': 1, 'size': 1}\n"
       ]
      },
      {
       "output_type": "stream",
       "stream": "stderr",
       "text": [
        "DEBUG:root:Forwarding response along to all requesters, I am: 5 ... \n"
       ]
      },
      {
       "output_type": "stream",
       "stream": "stderr",
       "text": [
        "DEBUG:root:Sent response to requester 38 \n"
       ]
      },
      {
       "output_type": "stream",
       "stream": "stderr",
       "text": [
        "DEBUG:root:Forwarding to all requesters complete\n"
       ]
      },
      {
       "output_type": "stream",
       "stream": "stderr",
       "text": [
        "DEBUG:root: Deleted content (10001) from PT\n"
       ]
      },
      {
       "output_type": "stream",
       "stream": "stderr",
       "text": [
        "DEBUG:root: Added content (10001) to content store\n"
       ]
      },
      {
       "output_type": "stream",
       "stream": "stderr",
       "text": [
        "DEBUG:root: processing incoming packet at 1\n"
       ]
      },
      {
       "output_type": "stream",
       "stream": "stderr",
       "text": [
        "DEBUG:root: packet data: {'_type': 'response', 'content_name': '10004', 'time_start': 18.169422, 'dest_id': 1, 'content_data': '10004', 'from_id': 7, 'size': 1}\n"
       ]
      },
      {
       "output_type": "stream",
       "stream": "stderr",
       "text": [
        "DEBUG:root:Forwarding response along to all requesters, I am: 1 ... \n"
       ]
      },
      {
       "output_type": "stream",
       "stream": "stderr",
       "text": [
        "DEBUG:root:Sent response to requester 5 \n"
       ]
      },
      {
       "output_type": "stream",
       "stream": "stderr",
       "text": [
        "DEBUG:root:Forwarding to all requesters complete\n"
       ]
      },
      {
       "output_type": "stream",
       "stream": "stderr",
       "text": [
        "DEBUG:root: Deleted content (10004) from PT\n"
       ]
      },
      {
       "output_type": "stream",
       "stream": "stderr",
       "text": [
        "DEBUG:root: Added content (10004) to content store\n"
       ]
      },
      {
       "output_type": "stream",
       "stream": "stderr",
       "text": [
        "DEBUG:root: Delivered packet from 1 to 5\n"
       ]
      },
      {
       "output_type": "stream",
       "stream": "stderr",
       "text": [
        "DEBUG:root: Delivered packet from 5 to 38\n"
       ]
      },
      {
       "output_type": "stream",
       "stream": "stderr",
       "text": [
        "DEBUG:root: Delivered packet from 22 to 156\n"
       ]
      },
      {
       "output_type": "stream",
       "stream": "stderr",
       "text": [
        "DEBUG:root: Delivered packet from 22 to 159\n"
       ]
      },
      {
       "output_type": "stream",
       "stream": "stderr",
       "text": [
        "DEBUG:root: Delivered packet from 30 to 212\n"
       ]
      },
      {
       "output_type": "stream",
       "stream": "stderr",
       "text": [
        "DEBUG:root: Delivered packet from 34 to 243\n"
       ]
      },
      {
       "output_type": "stream",
       "stream": "stderr",
       "text": [
        "DEBUG:root: Delivered packet from 127 to 890\n"
       ]
      },
      {
       "output_type": "stream",
       "stream": "stderr",
       "text": [
        "DEBUG:root: Delivered packet from 128 to 901\n"
       ]
      },
      {
       "output_type": "stream",
       "stream": "stderr",
       "text": [
        "DEBUG:root: Delivered packet from 182 to 1279\n"
       ]
      },
      {
       "output_type": "stream",
       "stream": "stderr",
       "text": [
        "DEBUG:root: Delivered packet from 198 to 1392\n"
       ]
      },
      {
       "output_type": "stream",
       "stream": "stderr",
       "text": [
        "DEBUG:root: processing incoming packet at 1392\n"
       ]
      },
      {
       "output_type": "stream",
       "stream": "stderr",
       "text": [
        "DEBUG:root: packet data: {'_type': 'response', 'content_name': '10005', 'time_start': 18.170268, 'dest_id': 1392, 'content_data': '10005', 'from_id': 198, 'size': 1}\n"
       ]
      },
      {
       "output_type": "stream",
       "stream": "stdout",
       "text": [
        "\n",
        "GOT TO OUTGOING\n",
        "None\n",
        "GOT TO OUTGOING\n",
        "None\n",
        "GOT TO OUTGOING\n",
        "None\n",
        "GOT TO OUTGOING\n",
        "None\n",
        "GOT TO OUTGOING\n",
        "None\n",
        "GOT TO OUTGOING\n",
        "None\n",
        "GOT TO OUTGOING\n",
        "None\n",
        "GOT TO OUTGOING\n",
        "None\n",
        "GOT TO OUTGOING\n",
        "None\n",
        "GOT TO OUTGOING\n",
        "18.170268"
       ]
      },
      {
       "output_type": "stream",
       "stream": "stderr",
       "text": [
        "DEBUG:root: DONE! I am the source: 1392\n"
       ]
      },
      {
       "output_type": "stream",
       "stream": "stderr",
       "text": [
        "DEBUG:root: Added content (10005) to content store\n"
       ]
      },
      {
       "output_type": "stream",
       "stream": "stderr",
       "text": [
        "DEBUG:root: Deleted content (10005) from PT\n"
       ]
      },
      {
       "output_type": "stream",
       "stream": "stderr",
       "text": [
        "DEBUG:root: processing incoming packet at 1279\n"
       ]
      },
      {
       "output_type": "stream",
       "stream": "stderr",
       "text": [
        "DEBUG:root: packet data: {'_type': 'response', 'content_name': '10007', 'time_start': 18.172283, 'dest_id': 1279, 'content_data': '10007', 'from_id': 182, 'size': 1}\n"
       ]
      },
      {
       "output_type": "stream",
       "stream": "stderr",
       "text": [
        "DEBUG:root: DONE! I am the source: 1279\n"
       ]
      },
      {
       "output_type": "stream",
       "stream": "stderr",
       "text": [
        "DEBUG:root: Added content (10007) to content store\n"
       ]
      },
      {
       "output_type": "stream",
       "stream": "stderr",
       "text": [
        "DEBUG:root: Deleted content (10007) from PT\n"
       ]
      },
      {
       "output_type": "stream",
       "stream": "stderr",
       "text": [
        "DEBUG:root: processing incoming packet at 901\n"
       ]
      },
      {
       "output_type": "stream",
       "stream": "stderr",
       "text": [
        "DEBUG:root: packet data: {'_type': 'response', 'content_name': '10008', 'time_start': 18.173319, 'dest_id': 901, 'content_data': '10008', 'from_id': 128, 'size': 1}\n"
       ]
      },
      {
       "output_type": "stream",
       "stream": "stderr",
       "text": [
        "DEBUG:root: DONE! I am the source: 901\n"
       ]
      },
      {
       "output_type": "stream",
       "stream": "stderr",
       "text": [
        "DEBUG:root: Added content (10008) to content store\n"
       ]
      },
      {
       "output_type": "stream",
       "stream": "stderr",
       "text": [
        "DEBUG:root: Deleted content (10008) from PT\n"
       ]
      },
      {
       "output_type": "stream",
       "stream": "stderr",
       "text": [
        "DEBUG:root: processing incoming packet at 890\n"
       ]
      },
      {
       "output_type": "stream",
       "stream": "stderr",
       "text": [
        "DEBUG:root: packet data: {'_type': 'response', 'content_name': '10006', 'time_start': 18.171247, 'dest_id': 890, 'content_data': '10006', 'from_id': 127, 'size': 1}\n"
       ]
      },
      {
       "output_type": "stream",
       "stream": "stderr",
       "text": [
        "DEBUG:root: DONE! I am the source: 890\n"
       ]
      },
      {
       "output_type": "stream",
       "stream": "stderr",
       "text": [
        "DEBUG:root: Added content (10006) to content store\n"
       ]
      },
      {
       "output_type": "stream",
       "stream": "stderr",
       "text": [
        "DEBUG:root: Deleted content (10006) from PT\n"
       ]
      },
      {
       "output_type": "stream",
       "stream": "stderr",
       "text": [
        "DEBUG:root: processing incoming packet at 243\n"
       ]
      },
      {
       "output_type": "stream",
       "stream": "stderr",
       "text": [
        "DEBUG:root: packet data: {'_type': 'response', 'content_name': '10002', 'time_start': 18.167659, 'dest_id': 243, 'content_data': '10002', 'from_id': 34, 'size': 1}\n"
       ]
      },
      {
       "output_type": "stream",
       "stream": "stderr",
       "text": [
        "DEBUG:root:Forwarding response along to all requesters, I am: 243 ... \n"
       ]
      },
      {
       "output_type": "stream",
       "stream": "stderr",
       "text": [
        "DEBUG:root:Sent response to requester 1703 \n"
       ]
      },
      {
       "output_type": "stream",
       "stream": "stderr",
       "text": [
        "DEBUG:root:Forwarding to all requesters complete\n"
       ]
      },
      {
       "output_type": "stream",
       "stream": "stderr",
       "text": [
        "DEBUG:root: Deleted content (10002) from PT\n"
       ]
      },
      {
       "output_type": "stream",
       "stream": "stderr",
       "text": [
        "DEBUG:root: Added content (10002) to content store\n"
       ]
      },
      {
       "output_type": "stream",
       "stream": "stderr",
       "text": [
        "DEBUG:root: processing incoming packet at 212\n"
       ]
      },
      {
       "output_type": "stream",
       "stream": "stderr",
       "text": [
        "DEBUG:root: packet data: {'_type': 'response', 'content_name': '10003', 'time_start': 18.168568, 'dest_id': 212, 'content_data': '10003', 'from_id': 30, 'size': 1}\n"
       ]
      },
      {
       "output_type": "stream",
       "stream": "stderr",
       "text": [
        "DEBUG:root:Forwarding response along to all requesters, I am: 212 ... \n"
       ]
      },
      {
       "output_type": "stream",
       "stream": "stderr",
       "text": [
        "DEBUG:root:Sent response to requester 1490 \n"
       ]
      },
      {
       "output_type": "stream",
       "stream": "stderr",
       "text": [
        "DEBUG:root:Forwarding to all requesters complete\n"
       ]
      },
      {
       "output_type": "stream",
       "stream": "stderr",
       "text": [
        "DEBUG:root: Deleted content (10003) from PT\n"
       ]
      },
      {
       "output_type": "stream",
       "stream": "stderr",
       "text": [
        "DEBUG:root: Added content (10003) to content store\n"
       ]
      },
      {
       "output_type": "stream",
       "stream": "stderr",
       "text": [
        "DEBUG:root: processing incoming packet at 159\n"
       ]
      },
      {
       "output_type": "stream",
       "stream": "stderr",
       "text": [
        "DEBUG:root: packet data: {'_type': 'response', 'content_name': '10000', 'time_start': 18.165956, 'dest_id': 159, 'content_data': '10000', 'from_id': 22, 'size': 1}\n"
       ]
      },
      {
       "output_type": "stream",
       "stream": "stderr",
       "text": [
        "DEBUG:root:Forwarding response along to all requesters, I am: 159 ... \n"
       ]
      },
      {
       "output_type": "stream",
       "stream": "stderr",
       "text": [
        "DEBUG:root:Sent response to requester 1118 \n"
       ]
      },
      {
       "output_type": "stream",
       "stream": "stderr",
       "text": [
        "DEBUG:root:Forwarding to all requesters complete\n"
       ]
      },
      {
       "output_type": "stream",
       "stream": "stderr",
       "text": [
        "DEBUG:root: Deleted content (10000) from PT\n"
       ]
      },
      {
       "output_type": "stream",
       "stream": "stderr",
       "text": [
        "DEBUG:root: Added content (10000) to content store\n"
       ]
      },
      {
       "output_type": "stream",
       "stream": "stderr",
       "text": [
        "DEBUG:root: processing incoming packet at 156\n"
       ]
      },
      {
       "output_type": "stream",
       "stream": "stderr",
       "text": [
        "DEBUG:root: packet data: {'_type': 'response', 'content_name': '10009', 'time_start': 18.174518, 'dest_id': 156, 'content_data': '10009', 'from_id': 22, 'size': 1}\n"
       ]
      },
      {
       "output_type": "stream",
       "stream": "stderr",
       "text": [
        "DEBUG:root:Forwarding response along to all requesters, I am: 156 ... \n"
       ]
      },
      {
       "output_type": "stream",
       "stream": "stderr",
       "text": [
        "DEBUG:root:Sent response to requester 1099 \n"
       ]
      },
      {
       "output_type": "stream",
       "stream": "stderr",
       "text": [
        "DEBUG:root:Forwarding to all requesters complete\n"
       ]
      },
      {
       "output_type": "stream",
       "stream": "stderr",
       "text": [
        "DEBUG:root: Deleted content (10009) from PT\n"
       ]
      },
      {
       "output_type": "stream",
       "stream": "stderr",
       "text": [
        "DEBUG:root: Added content (10009) to content store\n"
       ]
      },
      {
       "output_type": "stream",
       "stream": "stderr",
       "text": [
        "DEBUG:root: processing incoming packet at 38\n"
       ]
      },
      {
       "output_type": "stream",
       "stream": "stderr",
       "text": [
        "DEBUG:root: packet data: {'_type': 'response', 'content_name': '10001', 'time_start': 18.166844, 'dest_id': 38, 'content_data': '10001', 'from_id': 5, 'size': 1}\n"
       ]
      },
      {
       "output_type": "stream",
       "stream": "stderr",
       "text": [
        "DEBUG:root:Forwarding response along to all requesters, I am: 38 ... \n"
       ]
      },
      {
       "output_type": "stream",
       "stream": "stderr",
       "text": [
        "DEBUG:root:Sent response to requester 271 \n"
       ]
      },
      {
       "output_type": "stream",
       "stream": "stderr",
       "text": [
        "DEBUG:root:Forwarding to all requesters complete\n"
       ]
      },
      {
       "output_type": "stream",
       "stream": "stderr",
       "text": [
        "DEBUG:root: Deleted content (10001) from PT\n"
       ]
      },
      {
       "output_type": "stream",
       "stream": "stderr",
       "text": [
        "DEBUG:root: Added content (10001) to content store\n"
       ]
      },
      {
       "output_type": "stream",
       "stream": "stderr",
       "text": [
        "DEBUG:root: processing incoming packet at 5\n"
       ]
      },
      {
       "output_type": "stream",
       "stream": "stderr",
       "text": [
        "DEBUG:root: packet data: {'_type': 'response', 'content_name': '10004', 'time_start': 18.169422, 'dest_id': 5, 'content_data': '10004', 'from_id': 1, 'size': 1}\n"
       ]
      },
      {
       "output_type": "stream",
       "stream": "stderr",
       "text": [
        "DEBUG:root:Forwarding response along to all requesters, I am: 5 ... \n"
       ]
      },
      {
       "output_type": "stream",
       "stream": "stderr",
       "text": [
        "DEBUG:root:Sent response to requester 40 \n"
       ]
      },
      {
       "output_type": "stream",
       "stream": "stderr",
       "text": [
        "DEBUG:root:Forwarding to all requesters complete\n"
       ]
      },
      {
       "output_type": "stream",
       "stream": "stderr",
       "text": [
        "DEBUG:root: Deleted content (10004) from PT\n"
       ]
      },
      {
       "output_type": "stream",
       "stream": "stderr",
       "text": [
        "DEBUG:root: Added content (10004) to content store\n"
       ]
      },
      {
       "output_type": "stream",
       "stream": "stderr",
       "text": [
        "DEBUG:root: Delivered packet from 5 to 40\n"
       ]
      },
      {
       "output_type": "stream",
       "stream": "stderr",
       "text": [
        "DEBUG:root: Delivered packet from 38 to 271\n"
       ]
      },
      {
       "output_type": "stream",
       "stream": "stderr",
       "text": [
        "DEBUG:root: Delivered packet from 156 to 1099\n"
       ]
      },
      {
       "output_type": "stream",
       "stream": "stderr",
       "text": [
        "DEBUG:root: Delivered packet from 159 to 1118\n"
       ]
      },
      {
       "output_type": "stream",
       "stream": "stderr",
       "text": [
        "DEBUG:root: Delivered packet from 212 to 1490\n"
       ]
      },
      {
       "output_type": "stream",
       "stream": "stderr",
       "text": [
        "DEBUG:root: Delivered packet from 243 to 1703\n"
       ]
      },
      {
       "output_type": "stream",
       "stream": "stderr",
       "text": [
        "DEBUG:root: processing incoming packet at 1703\n"
       ]
      },
      {
       "output_type": "stream",
       "stream": "stderr",
       "text": [
        "DEBUG:root: packet data: {'_type': 'response', 'content_name': '10002', 'time_start': 18.167659, 'dest_id': 1703, 'content_data': '10002', 'from_id': 243, 'size': 1}\n"
       ]
      },
      {
       "output_type": "stream",
       "stream": "stdout",
       "text": [
        "\n",
        "18.172283\n",
        "18.173319\n",
        "18.171247\n",
        "None\n",
        "GOT TO OUTGOING\n",
        "None\n",
        "GOT TO OUTGOING\n",
        "None\n",
        "GOT TO OUTGOING\n",
        "None\n",
        "GOT TO OUTGOING\n",
        "None\n",
        "GOT TO OUTGOING\n",
        "None\n",
        "GOT TO OUTGOING\n",
        "18.167659"
       ]
      },
      {
       "output_type": "stream",
       "stream": "stderr",
       "text": [
        "DEBUG:root: DONE! I am the source: 1703\n"
       ]
      },
      {
       "output_type": "stream",
       "stream": "stderr",
       "text": [
        "DEBUG:root: Added content (10002) to content store\n"
       ]
      },
      {
       "output_type": "stream",
       "stream": "stderr",
       "text": [
        "DEBUG:root: Deleted content (10002) from PT\n"
       ]
      },
      {
       "output_type": "stream",
       "stream": "stderr",
       "text": [
        "DEBUG:root: processing incoming packet at 1490\n"
       ]
      },
      {
       "output_type": "stream",
       "stream": "stderr",
       "text": [
        "DEBUG:root: packet data: {'_type': 'response', 'content_name': '10003', 'time_start': 18.168568, 'dest_id': 1490, 'content_data': '10003', 'from_id': 212, 'size': 1}\n"
       ]
      },
      {
       "output_type": "stream",
       "stream": "stderr",
       "text": [
        "DEBUG:root: DONE! I am the source: 1490\n"
       ]
      },
      {
       "output_type": "stream",
       "stream": "stderr",
       "text": [
        "DEBUG:root: Added content (10003) to content store\n"
       ]
      },
      {
       "output_type": "stream",
       "stream": "stderr",
       "text": [
        "DEBUG:root: Deleted content (10003) from PT\n"
       ]
      },
      {
       "output_type": "stream",
       "stream": "stderr",
       "text": [
        "DEBUG:root: processing incoming packet at 1118\n"
       ]
      },
      {
       "output_type": "stream",
       "stream": "stderr",
       "text": [
        "DEBUG:root: packet data: {'_type': 'response', 'content_name': '10000', 'time_start': 18.165956, 'dest_id': 1118, 'content_data': '10000', 'from_id': 159, 'size': 1}\n"
       ]
      },
      {
       "output_type": "stream",
       "stream": "stderr",
       "text": [
        "DEBUG:root: DONE! I am the source: 1118\n"
       ]
      },
      {
       "output_type": "stream",
       "stream": "stderr",
       "text": [
        "DEBUG:root: Added content (10000) to content store\n"
       ]
      },
      {
       "output_type": "stream",
       "stream": "stderr",
       "text": [
        "DEBUG:root: Deleted content (10000) from PT\n"
       ]
      },
      {
       "output_type": "stream",
       "stream": "stderr",
       "text": [
        "DEBUG:root: processing incoming packet at 1099\n"
       ]
      },
      {
       "output_type": "stream",
       "stream": "stderr",
       "text": [
        "DEBUG:root: packet data: {'_type': 'response', 'content_name': '10009', 'time_start': 18.174518, 'dest_id': 1099, 'content_data': '10009', 'from_id': 156, 'size': 1}\n"
       ]
      },
      {
       "output_type": "stream",
       "stream": "stderr",
       "text": [
        "DEBUG:root: DONE! I am the source: 1099\n"
       ]
      },
      {
       "output_type": "stream",
       "stream": "stderr",
       "text": [
        "DEBUG:root: Added content (10009) to content store\n"
       ]
      },
      {
       "output_type": "stream",
       "stream": "stderr",
       "text": [
        "DEBUG:root: Deleted content (10009) from PT\n"
       ]
      },
      {
       "output_type": "stream",
       "stream": "stderr",
       "text": [
        "DEBUG:root: processing incoming packet at 271\n"
       ]
      },
      {
       "output_type": "stream",
       "stream": "stderr",
       "text": [
        "DEBUG:root: packet data: {'_type': 'response', 'content_name': '10001', 'time_start': 18.166844, 'dest_id': 271, 'content_data': '10001', 'from_id': 38, 'size': 1}\n"
       ]
      },
      {
       "output_type": "stream",
       "stream": "stderr",
       "text": [
        "DEBUG:root:Forwarding response along to all requesters, I am: 271 ... \n"
       ]
      },
      {
       "output_type": "stream",
       "stream": "stderr",
       "text": [
        "DEBUG:root:Sent response to requester 1899 \n"
       ]
      },
      {
       "output_type": "stream",
       "stream": "stderr",
       "text": [
        "DEBUG:root:Forwarding to all requesters complete\n"
       ]
      },
      {
       "output_type": "stream",
       "stream": "stderr",
       "text": [
        "DEBUG:root: Deleted content (10001) from PT\n"
       ]
      },
      {
       "output_type": "stream",
       "stream": "stderr",
       "text": [
        "DEBUG:root: Added content (10001) to content store\n"
       ]
      },
      {
       "output_type": "stream",
       "stream": "stderr",
       "text": [
        "DEBUG:root: processing incoming packet at 40\n"
       ]
      },
      {
       "output_type": "stream",
       "stream": "stderr",
       "text": [
        "DEBUG:root: packet data: {'_type': 'response', 'content_name': '10004', 'time_start': 18.169422, 'dest_id': 40, 'content_data': '10004', 'from_id': 5, 'size': 1}\n"
       ]
      },
      {
       "output_type": "stream",
       "stream": "stderr",
       "text": [
        "DEBUG:root:Forwarding response along to all requesters, I am: 40 ... \n"
       ]
      },
      {
       "output_type": "stream",
       "stream": "stderr",
       "text": [
        "DEBUG:root:Sent response to requester 285 \n"
       ]
      },
      {
       "output_type": "stream",
       "stream": "stderr",
       "text": [
        "DEBUG:root:Forwarding to all requesters complete\n"
       ]
      },
      {
       "output_type": "stream",
       "stream": "stderr",
       "text": [
        "DEBUG:root: Deleted content (10004) from PT\n"
       ]
      },
      {
       "output_type": "stream",
       "stream": "stderr",
       "text": [
        "DEBUG:root: Added content (10004) to content store\n"
       ]
      },
      {
       "output_type": "stream",
       "stream": "stderr",
       "text": [
        "DEBUG:root: Delivered packet from 40 to 285\n"
       ]
      },
      {
       "output_type": "stream",
       "stream": "stderr",
       "text": [
        "DEBUG:root: Delivered packet from 271 to 1899\n"
       ]
      },
      {
       "output_type": "stream",
       "stream": "stderr",
       "text": [
        "DEBUG:root: processing incoming packet at 1899\n"
       ]
      },
      {
       "output_type": "stream",
       "stream": "stderr",
       "text": [
        "DEBUG:root: packet data: {'_type': 'response', 'content_name': '10001', 'time_start': 18.166844, 'dest_id': 1899, 'content_data': '10001', 'from_id': 271, 'size': 1}\n"
       ]
      },
      {
       "output_type": "stream",
       "stream": "stdout",
       "text": [
        "\n",
        "18.168568\n",
        "18.165956\n",
        "18.174518\n",
        "None\n",
        "GOT TO OUTGOING\n",
        "None\n",
        "GOT TO OUTGOING\n",
        "18.166844"
       ]
      },
      {
       "output_type": "stream",
       "stream": "stderr",
       "text": [
        "DEBUG:root: DONE! I am the source: 1899\n"
       ]
      },
      {
       "output_type": "stream",
       "stream": "stderr",
       "text": [
        "DEBUG:root: Added content (10001) to content store\n"
       ]
      },
      {
       "output_type": "stream",
       "stream": "stderr",
       "text": [
        "DEBUG:root: Deleted content (10001) from PT\n"
       ]
      },
      {
       "output_type": "stream",
       "stream": "stderr",
       "text": [
        "DEBUG:root: processing incoming packet at 285\n"
       ]
      },
      {
       "output_type": "stream",
       "stream": "stderr",
       "text": [
        "DEBUG:root: packet data: {'_type': 'response', 'content_name': '10004', 'time_start': 18.169422, 'dest_id': 285, 'content_data': '10004', 'from_id': 40, 'size': 1}\n"
       ]
      },
      {
       "output_type": "stream",
       "stream": "stderr",
       "text": [
        "DEBUG:root:Forwarding response along to all requesters, I am: 285 ... \n"
       ]
      },
      {
       "output_type": "stream",
       "stream": "stderr",
       "text": [
        "DEBUG:root:Sent response to requester 1996 \n"
       ]
      },
      {
       "output_type": "stream",
       "stream": "stderr",
       "text": [
        "DEBUG:root:Forwarding to all requesters complete\n"
       ]
      },
      {
       "output_type": "stream",
       "stream": "stderr",
       "text": [
        "DEBUG:root: Deleted content (10004) from PT\n"
       ]
      },
      {
       "output_type": "stream",
       "stream": "stderr",
       "text": [
        "DEBUG:root: Added content (10004) to content store\n"
       ]
      },
      {
       "output_type": "stream",
       "stream": "stderr",
       "text": [
        "DEBUG:root: Delivered packet from 285 to 1996\n"
       ]
      },
      {
       "output_type": "stream",
       "stream": "stderr",
       "text": [
        "DEBUG:root: processing incoming packet at 1996\n"
       ]
      },
      {
       "output_type": "stream",
       "stream": "stderr",
       "text": [
        "DEBUG:root: packet data: {'_type': 'response', 'content_name': '10004', 'time_start': 18.169422, 'dest_id': 1996, 'content_data': '10004', 'from_id': 285, 'size': 1}\n"
       ]
      },
      {
       "output_type": "stream",
       "stream": "stdout",
       "text": [
        "\n",
        "None\n",
        "GOT TO OUTGOING\n",
        "18.169422"
       ]
      },
      {
       "output_type": "stream",
       "stream": "stderr",
       "text": [
        "DEBUG:root: DONE! I am the source: 1996\n"
       ]
      },
      {
       "output_type": "stream",
       "stream": "stderr",
       "text": [
        "DEBUG:root: Added content (10004) to content store\n"
       ]
      },
      {
       "output_type": "stream",
       "stream": "stderr",
       "text": [
        "DEBUG:root: Deleted content (10004) from PT\n"
       ]
      },
      {
       "output_type": "stream",
       "stream": "stdout",
       "text": [
        "\n"
       ]
      },
      {
       "ename": "SystemExit",
       "evalue": "",
       "output_type": "pyerr",
       "traceback": [
        "An exception has occurred, use %tb to see the full traceback.\n",
        "\u001b[0;31mSystemExit\u001b[0m\n"
       ]
      },
      {
       "output_type": "stream",
       "stream": "stderr",
       "text": [
        "To exit: use 'exit', 'quit', or Ctrl-D.\n"
       ]
      }
     ],
     "prompt_number": 6
    },
    {
     "cell_type": "code",
     "collapsed": false,
     "input": [
      "times = []\n",
      "with open('rtt.csv', 'rb') as rtt:\n",
      "    reader = csv.reader(rtt)\n",
      "    for row in reader:\n",
      "        times = row[0].split(' ')\n",
      "print times"
     ],
     "language": "python",
     "metadata": {},
     "outputs": [
      {
       "output_type": "stream",
       "stream": "stdout",
       "text": [
        "['1', '1', '1', '1', '1', '1', '1', '1', '1', '1']\n"
       ]
      }
     ],
     "prompt_number": 7
    },
    {
     "cell_type": "code",
     "collapsed": false,
     "input": [
      "data = []\n",
      "for time in times:\n",
      "    data.append(float(time))"
     ],
     "language": "python",
     "metadata": {},
     "outputs": [],
     "prompt_number": 8
    },
    {
     "cell_type": "code",
     "collapsed": false,
     "input": [
      "average = float(sum(data))/len(times)\n",
      "print average\n"
     ],
     "language": "python",
     "metadata": {},
     "outputs": [
      {
       "output_type": "stream",
       "stream": "stdout",
       "text": [
        "1.0\n"
       ]
      }
     ],
     "prompt_number": 9
    },
    {
     "cell_type": "code",
     "collapsed": false,
     "input": [
      "plt.plot([average], [1], 'ro')\n",
      "plt.show()"
     ],
     "language": "python",
     "metadata": {},
     "outputs": [],
     "prompt_number": 70
    },
    {
     "cell_type": "code",
     "collapsed": false,
     "input": [],
     "language": "python",
     "metadata": {},
     "outputs": [
      {
       "metadata": {},
       "output_type": "pyout",
       "prompt_number": 63,
       "text": [
        "<Container object of 1 artists>"
       ]
      }
     ],
     "prompt_number": 63
    },
    {
     "cell_type": "code",
     "collapsed": false,
     "input": [],
     "language": "python",
     "metadata": {},
     "outputs": [],
     "prompt_number": 64
    },
    {
     "cell_type": "code",
     "collapsed": false,
     "input": [],
     "language": "python",
     "metadata": {},
     "outputs": []
    }
   ],
   "metadata": {}
  }
 ]
}