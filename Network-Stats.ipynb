{
 "metadata": {
  "name": "",
  "signature": "sha256:b6627080e4b47b501c21a20a4971fe0ff5dfc354d4f0d9926f39cd27cfcccd7f"
 },
 "nbformat": 3,
 "nbformat_minor": 0,
 "worksheets": [
  {
   "cells": [
    {
     "cell_type": "code",
     "collapsed": false,
     "input": [
      "import csv\n",
      "import numpy as np\n",
      "import matplotlib.pyplot as plt\n",
      "import pylab as P\n",
      "import pandas as pd\n",
      "from Simulator import *"
     ],
     "language": "python",
     "metadata": {},
     "outputs": [],
     "prompt_number": 13
    },
    {
     "cell_type": "code",
     "collapsed": false,
     "input": [],
     "language": "python",
     "metadata": {},
     "outputs": [],
     "prompt_number": 13
    },
    {
     "cell_type": "code",
     "collapsed": false,
     "input": [
      "times = []\n",
      "with open('level_congestion.csv', 'rb') as rtt:\n",
      "    reader = csv.reader(rtt)\n",
      "    for row in reader:\n",
      "        times.append([int(x) for x in row])\n"
     ],
     "language": "python",
     "metadata": {},
     "outputs": [],
     "prompt_number": 19
    },
    {
     "cell_type": "code",
     "collapsed": false,
     "input": [],
     "language": "python",
     "metadata": {},
     "outputs": [],
     "prompt_number": 19
    },
    {
     "cell_type": "code",
     "collapsed": false,
     "input": [
      "df = pd.DataFrame(np.array(times), columns=pd.Index(['0', '1', '2', '3'], name='Level'))"
     ],
     "language": "python",
     "metadata": {},
     "outputs": [],
     "prompt_number": 61
    },
    {
     "cell_type": "code",
     "collapsed": false,
     "input": [
      "df\n"
     ],
     "language": "python",
     "metadata": {},
     "outputs": [
      {
       "html": [
        "<div style=\"max-height:1000px;max-width:1500px;overflow:auto;\">\n",
        "<table border=\"1\" class=\"dataframe\">\n",
        "  <thead>\n",
        "    <tr style=\"text-align: right;\">\n",
        "      <th>Level</th>\n",
        "      <th>0</th>\n",
        "      <th>1</th>\n",
        "      <th>2</th>\n",
        "      <th>3</th>\n",
        "    </tr>\n",
        "  </thead>\n",
        "  <tbody>\n",
        "    <tr>\n",
        "      <th>0 </th>\n",
        "      <td> 1201</td>\n",
        "      <td>  10</td>\n",
        "      <td>   2</td>\n",
        "      <td> 519</td>\n",
        "    </tr>\n",
        "    <tr>\n",
        "      <th>1 </th>\n",
        "      <td> 1318</td>\n",
        "      <td>  23</td>\n",
        "      <td>  13</td>\n",
        "      <td> 512</td>\n",
        "    </tr>\n",
        "    <tr>\n",
        "      <th>2 </th>\n",
        "      <td> 1125</td>\n",
        "      <td>  20</td>\n",
        "      <td>  31</td>\n",
        "      <td>  28</td>\n",
        "    </tr>\n",
        "    <tr>\n",
        "      <th>3 </th>\n",
        "      <td> 1206</td>\n",
        "      <td>  84</td>\n",
        "      <td>  86</td>\n",
        "      <td>  76</td>\n",
        "    </tr>\n",
        "    <tr>\n",
        "      <th>4 </th>\n",
        "      <td> 1207</td>\n",
        "      <td>  78</td>\n",
        "      <td>  59</td>\n",
        "      <td> 580</td>\n",
        "    </tr>\n",
        "    <tr>\n",
        "      <th>5 </th>\n",
        "      <td> 1239</td>\n",
        "      <td>  65</td>\n",
        "      <td>  80</td>\n",
        "      <td>  58</td>\n",
        "    </tr>\n",
        "    <tr>\n",
        "      <th>6 </th>\n",
        "      <td> 1222</td>\n",
        "      <td> 123</td>\n",
        "      <td>  87</td>\n",
        "      <td>  85</td>\n",
        "    </tr>\n",
        "    <tr>\n",
        "      <th>7 </th>\n",
        "      <td> 1203</td>\n",
        "      <td>  70</td>\n",
        "      <td>  82</td>\n",
        "      <td> 569</td>\n",
        "    </tr>\n",
        "    <tr>\n",
        "      <th>8 </th>\n",
        "      <td> 1203</td>\n",
        "      <td>  96</td>\n",
        "      <td>  72</td>\n",
        "      <td>  96</td>\n",
        "    </tr>\n",
        "    <tr>\n",
        "      <th>9 </th>\n",
        "      <td> 1139</td>\n",
        "      <td> 150</td>\n",
        "      <td>  93</td>\n",
        "      <td> 103</td>\n",
        "    </tr>\n",
        "    <tr>\n",
        "      <th>10</th>\n",
        "      <td> 1102</td>\n",
        "      <td> 167</td>\n",
        "      <td>  83</td>\n",
        "      <td>  87</td>\n",
        "    </tr>\n",
        "    <tr>\n",
        "      <th>11</th>\n",
        "      <td> 1053</td>\n",
        "      <td> 311</td>\n",
        "      <td>  73</td>\n",
        "      <td>  91</td>\n",
        "    </tr>\n",
        "    <tr>\n",
        "      <th>12</th>\n",
        "      <td> 1336</td>\n",
        "      <td>  46</td>\n",
        "      <td>  53</td>\n",
        "      <td> 543</td>\n",
        "    </tr>\n",
        "    <tr>\n",
        "      <th>13</th>\n",
        "      <td> 1275</td>\n",
        "      <td>  15</td>\n",
        "      <td>  15</td>\n",
        "      <td> 537</td>\n",
        "    </tr>\n",
        "    <tr>\n",
        "      <th>14</th>\n",
        "      <td> 1315</td>\n",
        "      <td> 155</td>\n",
        "      <td> 111</td>\n",
        "      <td>  84</td>\n",
        "    </tr>\n",
        "    <tr>\n",
        "      <th>15</th>\n",
        "      <td> 1329</td>\n",
        "      <td> 124</td>\n",
        "      <td>  50</td>\n",
        "      <td> 576</td>\n",
        "    </tr>\n",
        "    <tr>\n",
        "      <th>16</th>\n",
        "      <td> 1402</td>\n",
        "      <td>  49</td>\n",
        "      <td>  75</td>\n",
        "      <td>  78</td>\n",
        "    </tr>\n",
        "    <tr>\n",
        "      <th>17</th>\n",
        "      <td> 1332</td>\n",
        "      <td> 108</td>\n",
        "      <td>  89</td>\n",
        "      <td>  78</td>\n",
        "    </tr>\n",
        "    <tr>\n",
        "      <th>18</th>\n",
        "      <td> 1352</td>\n",
        "      <td> 166</td>\n",
        "      <td>  65</td>\n",
        "      <td>  49</td>\n",
        "    </tr>\n",
        "    <tr>\n",
        "      <th>19</th>\n",
        "      <td> 1353</td>\n",
        "      <td> 148</td>\n",
        "      <td>  80</td>\n",
        "      <td>  53</td>\n",
        "    </tr>\n",
        "    <tr>\n",
        "      <th>20</th>\n",
        "      <td> 1344</td>\n",
        "      <td> 152</td>\n",
        "      <td>  82</td>\n",
        "      <td>  67</td>\n",
        "    </tr>\n",
        "    <tr>\n",
        "      <th>21</th>\n",
        "      <td> 1277</td>\n",
        "      <td>  27</td>\n",
        "      <td>  44</td>\n",
        "      <td> 552</td>\n",
        "    </tr>\n",
        "    <tr>\n",
        "      <th>22</th>\n",
        "      <td> 1236</td>\n",
        "      <td>  42</td>\n",
        "      <td>  50</td>\n",
        "      <td>  84</td>\n",
        "    </tr>\n",
        "    <tr>\n",
        "      <th>23</th>\n",
        "      <td> 1286</td>\n",
        "      <td> 189</td>\n",
        "      <td>  80</td>\n",
        "      <td>  78</td>\n",
        "    </tr>\n",
        "    <tr>\n",
        "      <th>24</th>\n",
        "      <td> 1373</td>\n",
        "      <td>  58</td>\n",
        "      <td>  54</td>\n",
        "      <td>  54</td>\n",
        "    </tr>\n",
        "  </tbody>\n",
        "</table>\n",
        "</div>"
       ],
       "metadata": {},
       "output_type": "pyout",
       "prompt_number": 62,
       "text": [
        "Level     0    1    2    3\n",
        "0      1201   10    2  519\n",
        "1      1318   23   13  512\n",
        "2      1125   20   31   28\n",
        "3      1206   84   86   76\n",
        "4      1207   78   59  580\n",
        "5      1239   65   80   58\n",
        "6      1222  123   87   85\n",
        "7      1203   70   82  569\n",
        "8      1203   96   72   96\n",
        "9      1139  150   93  103\n",
        "10     1102  167   83   87\n",
        "11     1053  311   73   91\n",
        "12     1336   46   53  543\n",
        "13     1275   15   15  537\n",
        "14     1315  155  111   84\n",
        "15     1329  124   50  576\n",
        "16     1402   49   75   78\n",
        "17     1332  108   89   78\n",
        "18     1352  166   65   49\n",
        "19     1353  148   80   53\n",
        "20     1344  152   82   67\n",
        "21     1277   27   44  552\n",
        "22     1236   42   50   84\n",
        "23     1286  189   80   78\n",
        "24     1373   58   54   54"
       ]
      }
     ],
     "prompt_number": 62
    },
    {
     "cell_type": "code",
     "collapsed": false,
     "input": [
      "ax = df.plot(kind='bar', label='time', legend=True)\n",
      "ax.set_ylabel('PACKETS')\n",
      "\n",
      "ax.set_xlabel('TIME')\n",
      "ax.set_title('Load by Level @ 500 packets/sec')\n",
      "\n"
     ],
     "language": "python",
     "metadata": {},
     "outputs": [
      {
       "metadata": {},
       "output_type": "pyout",
       "prompt_number": 63,
       "text": [
        "<matplotlib.text.Text at 0x10e37f310>"
       ]
      },
      {
       "metadata": {},
       "output_type": "display_data",
       "png": "[encoded data removed]",
       "text": [
        "<matplotlib.figure.Figure at 0x10d455250>"
       ]
      }
     ],
     "prompt_number": 63
    },
    {
     "cell_type": "code",
     "collapsed": false,
     "input": [
      "plt.show()"
     ],
     "language": "python",
     "metadata": {},
     "outputs": [],
     "prompt_number": 64
    },
    {
     "cell_type": "code",
     "collapsed": false,
     "input": [],
     "language": "python",
     "metadata": {},
     "outputs": [],
     "prompt_number": 20
    },
    {
     "cell_type": "code",
     "collapsed": false,
     "input": [
      "# Visualization of levels\n",
      "from matplotlib.patches import Circle, PathPatch\n",
      "from mpl_toolkits.mplot3d import Axes3D \n",
      "import mpl_toolkits.mplot3d.art3d as art3d\n",
      "\n",
      "\n",
      "fig = plt.figure()\n",
      "ax=fig.gca(projection='3d')\n",
      "\n",
      "for i in range(1,5):\n",
      "    circle = Circle((0, 0), 6/i, color='blue', edgecolor='blue', alpha=.2)\n",
      "    ax.add_patch(circle)\n",
      "    art3d.pathpatch_2d_to_3d(circle, z=(3-i), zdir=\"z\")\n",
      "\n",
      "\n",
      "ax.set_xlim3d(-6, 6)\n",
      "ax.set_ylim3d(-6, 6)\n",
      "ax.set_zlim3d(-6, 6)\n",
      "ax.text(4,6,2, 'Level 0')\n",
      "ax.text(4,6,1, 'Level 1')\n",
      "ax.text(4,6,-0, 'Level 2')\n",
      "ax.text(4,6,-1, 'Level 3')\n",
      "\n",
      "plt.show()"
     ],
     "language": "python",
     "metadata": {},
     "outputs": [
      {
       "output_type": "stream",
       "stream": "stderr",
       "text": [
        "/Users/dgaeta/anaconda/lib/python2.7/site-packages/matplotlib/patches.py:87: UserWarning: Setting the 'color' property will overridethe edgecolor or facecolor properties. \n",
        "  warnings.warn(\"Setting the 'color' property will override\"\n",
        "/Users/dgaeta/anaconda/lib/python2.7/site-packages/mpl_toolkits/mplot3d/axes3d.py:1088: FutureWarning: comparison to `None` will result in an elementwise object comparison in the future.\n",
        "  if self.button_pressed in self._rotate_btn:\n"
       ]
      }
     ],
     "prompt_number": 21
    },
    {
     "cell_type": "code",
     "collapsed": false,
     "input": [],
     "language": "python",
     "metadata": {},
     "outputs": [],
     "prompt_number": 21
    },
    {
     "cell_type": "code",
     "collapsed": false,
     "input": [
      "rtt_means = []\n",
      "with open('rtt.csv', 'rb') as rtt:\n",
      "    reader = csv.reader(rtt)\n",
      "    for row in reader:\n",
      "        rtt_means.append(int(row[0]))"
     ],
     "language": "python",
     "metadata": {},
     "outputs": [],
     "prompt_number": 54
    },
    {
     "cell_type": "code",
     "collapsed": false,
     "input": [
      "rtt_means\n"
     ],
     "language": "python",
     "metadata": {},
     "outputs": [
      {
       "metadata": {},
       "output_type": "pyout",
       "prompt_number": 55,
       "text": [
        "[387,\n",
        " 364,\n",
        " 371,\n",
        " 373,\n",
        " 358,\n",
        " 368,\n",
        " 370,\n",
        " 377,\n",
        " 381,\n",
        " 378,\n",
        " 362,\n",
        " 373,\n",
        " 372,\n",
        " 354,\n",
        " 360,\n",
        " 352,\n",
        " 354,\n",
        " 361,\n",
        " 355,\n",
        " 367,\n",
        " 370,\n",
        " 367,\n",
        " 374,\n",
        " 370,\n",
        " 367,\n",
        " 362,\n",
        " 365,\n",
        " 375,\n",
        " 376,\n",
        " 363]"
       ]
      }
     ],
     "prompt_number": 55
    },
    {
     "cell_type": "code",
     "collapsed": false,
     "input": [
      "df_rtt = pd.DataFrame(np.array(rtt_means))\n"
     ],
     "language": "python",
     "metadata": {},
     "outputs": [],
     "prompt_number": 56
    },
    {
     "cell_type": "code",
     "collapsed": false,
     "input": [],
     "language": "python",
     "metadata": {},
     "outputs": [],
     "prompt_number": 56
    },
    {
     "cell_type": "code",
     "collapsed": false,
     "input": [
      "%matplotlib inline\n",
      "ind = range(0,len(rtt_means))\n",
      "width = 0.35\n",
      "bar1 = plt.bar(ind, rtt_means, width)\n",
      "plt.ylabel('Milliseconds')\n",
      "plt.xlabel('Interval')\n",
      "plt.title('Mean RTT for Name Based Routing')\n",
      "plt.show()\n"
     ],
     "language": "python",
     "metadata": {},
     "outputs": [
      {
       "metadata": {},
       "output_type": "display_data",
       "png": "[encoded data removed]",
       "text": [
        "<matplotlib.figure.Figure at 0x107ca2690>"
       ]
      }
     ],
     "prompt_number": 57
    },
    {
     "cell_type": "code",
     "collapsed": false,
     "input": [
      "ip_rtt_means = []\n",
      "with open('ip_rtt.csv', 'rb') as rtt:\n",
      "    reader = csv.reader(rtt)\n",
      "    for row in reader:\n",
      "        ip_rtt_means.append(int(row[0]))"
     ],
     "language": "python",
     "metadata": {},
     "outputs": [],
     "prompt_number": 58
    },
    {
     "cell_type": "code",
     "collapsed": false,
     "input": [
      "ip_rtt_means\n",
      "df_rtt = pd.DataFrame(np.array(rtt_means))"
     ],
     "language": "python",
     "metadata": {},
     "outputs": [],
     "prompt_number": 59
    },
    {
     "cell_type": "code",
     "collapsed": false,
     "input": [
      "%matplotlib inline\n",
      "ind = range(0,len(ip_rtt_means))\n",
      "width = 0.35\n",
      "bar1 = plt.bar(ind, ip_rtt_means, width)\n",
      "plt.ylabel('Milliseconds')\n",
      "plt.xlabel('Interval')\n",
      "plt.title('Mean RTT for Standard IP')\n",
      "plt.show()"
     ],
     "language": "python",
     "metadata": {},
     "outputs": [
      {
       "metadata": {},
       "output_type": "display_data",
       "png": "[encoded data removed]",
       "text": [
        "<matplotlib.figure.Figure at 0x10e37fb10>"
       ]
      }
     ],
     "prompt_number": 60
    },
    {
     "cell_type": "code",
     "collapsed": false,
     "input": [],
     "language": "python",
     "metadata": {},
     "outputs": [],
     "prompt_number": 60
    },
    {
     "cell_type": "code",
     "collapsed": false,
     "input": [],
     "language": "python",
     "metadata": {},
     "outputs": []
    }
   ],
   "metadata": {}
  }
 ]
}