{
 "metadata": {
  "name": "",
  "signature": "sha256:896e89653412f612ed0ffa1383182ba7852b676d605fd99d8d6701636c390b6d"
 },
 "nbformat": 3,
 "nbformat_minor": 0,
 "worksheets": [
  {
   "cells": [
    {
     "cell_type": "code",
     "collapsed": false,
     "input": [
      "import csv\n",
      "import numpy as np\n",
      "import matplotlib.pyplot as plt\n",
      "import pylab as P\n",
      "import pandas as pd\n",
      "%matplotlib inline"
     ],
     "language": "python",
     "metadata": {},
     "outputs": [],
     "prompt_number": 1
    },
    {
     "cell_type": "code",
     "collapsed": false,
     "input": [
      "nb_means = []\n",
      "nb_rtt_means4 = []\n",
      "with open('nb_rtt4.csv', 'rb') as rtt:\n",
      "    reader = csv.reader(rtt)\n",
      "    for row in reader:\n",
      "        nb_rtt_means4.append(int(row[0]))\n",
      "nb_means.append(int(sum(nb_rtt_means4)/len(nb_rtt_means4)))\n",
      "\n",
      "nb_rtt_means5 = []\n",
      "with open('nb_rtt5.csv', 'rb') as rtt:\n",
      "    reader = csv.reader(rtt)\n",
      "    for row in reader:\n",
      "        nb_rtt_means5.append(int(row[0]))      \n",
      "nb_means.append(int(sum(nb_rtt_means5)/len(nb_rtt_means5))) \n",
      "\n",
      "\n",
      "nb_rtt_means6 = []\n",
      "try:\n",
      "    with open('nb_rtt6.csv', 'rb') as rtt:\n",
      "        reader = csv.reader(rtt)\n",
      "        for row in reader:\n",
      "            nb_rtt_means6.append(int(row[0]))\n",
      "    nb_means.append(int(sum(nb_rtt_means6)/len(nb_rtt_means6)))\n",
      "except IOError:\n",
      "    nb_means = 0\n",
      "\n",
      "\n",
      "\n",
      "\n",
      "\n",
      "\n",
      "ip_means = []        \n",
      "ip_rtt_means4 = []\n",
      "with open('ip_rtt4.csv', 'rb') as rtt:\n",
      "    reader = csv.reader(rtt)\n",
      "    for row in reader:\n",
      "        ip_rtt_means4.append(int(row[0]))\n",
      "ip_means.append(int(sum(ip_rtt_means4)/len(ip_rtt_means4)))        \n",
      "\n",
      "ip_rtt_means5 = []\n",
      "with open('ip_rtt5.csv', 'rb') as rtt:\n",
      "    reader = csv.reader(rtt)\n",
      "    for row in reader:\n",
      "        ip_rtt_means5.append(int(row[0]))\n",
      "ip_means.append(int(sum(ip_rtt_means5)/len(ip_rtt_means5)))        \n",
      "\n",
      "\n",
      "\n",
      "ip_rtt_means6 = []\n",
      "with open('ip_rtt6.csv', 'rb') as rtt:\n",
      "    reader = csv.reader(rtt)\n",
      "    for row in reader:\n",
      "        ip_rtt_means6.append(int(row[0]))\n",
      "ip_means.append(int(sum(ip_rtt_means6)/len(ip_rtt_means6)))     \n",
      "\n",
      "\n",
      "\n",
      "\n",
      "N = 3\n",
      "ind = np.arange(N)\n",
      "width = 0.35\n",
      "\n",
      "fig, ax = plt.subplots()\n",
      "rects1 = ax.bar(ind, nb_means, width, color='r')\n",
      "rects2 = ax.bar(ind+width, ip_means, width, color='y')\n",
      "\n",
      "# add some\n",
      "ax.set_ylabel('Ticks')\n",
      "ax.set_xlabel('Network Depth')\n",
      "ax.set_title('Total Time to Fulfill Requests Over all Levels by Depth')\n",
      "ax.set_xticks(ind+width)\n",
      "ax.set_xticklabels( ('4', '5', '6') )\n",
      "\n",
      "ax.legend( (rects1[0], rects2[0]), ('NB', 'IP') )\n",
      "\n",
      "plt.show()"
     ],
     "language": "python",
     "metadata": {},
     "outputs": [
      {
       "metadata": {},
       "output_type": "display_data",
       "png": "[encoded data removed]",
       "text": [
        "<matplotlib.figure.Figure at 0x1078b5990>"
       ]
      }
     ],
     "prompt_number": 6
    },
    {
     "cell_type": "markdown",
     "metadata": {},
     "source": []
    },
    {
     "cell_type": "code",
     "collapsed": false,
     "input": [
      "nb_means = []\n",
      "nb_rtt_means4 = []\n",
      "with open('nb_rtt4.csv', 'rb') as rtt:\n",
      "    reader = csv.reader(rtt)\n",
      "    for row in reader:\n",
      "        nb_rtt_means4.append(int(row[0]))\n",
      "nb_means.append(int(sum(nb_rtt_means4)/len(nb_rtt_means4)))\n",
      "\n",
      "nb_rtt_means5 = []\n",
      "with open('nb_rtt5.csv', 'rb') as rtt:\n",
      "    reader = csv.reader(rtt)\n",
      "    for row in reader:\n",
      "        nb_rtt_means5.append(int(row[0]))      \n",
      "nb_means.append(int(sum(nb_rtt_means5)/len(nb_rtt_means5))) \n",
      "\n",
      "nb_rtt_means6 = []\n",
      "with open('nb_rtt6.csv', 'rb') as rtt:\n",
      "    reader = csv.reader(rtt)\n",
      "    for row in reader:\n",
      "        nb_rtt_means6.append(int(row[0]))\n",
      "nb_means.append(int(sum(nb_rtt_means6)/len(nb_rtt_means6)))\n",
      "\n",
      "###\n",
      "\n",
      "ip_means = []        \n",
      "ip_rtt_means4 = []\n",
      "with open('ip_rtt4.csv', 'rb') as rtt:\n",
      "    reader = csv.reader(rtt)\n",
      "    for row in reader:\n",
      "        ip_rtt_means4.append(int(row[0]))\n",
      "ip_means.append(int(sum(ip_rtt_means4)/len(ip_rtt_means4)))        \n",
      "\n",
      "ip_rtt_means5 = []\n",
      "with open('ip_rtt5.csv', 'rb') as rtt:\n",
      "    reader = csv.reader(rtt)\n",
      "    for row in reader:\n",
      "        ip_rtt_means5.append(int(row[0]))\n",
      "ip_means.append(int(sum(ip_rtt_means5)/len(ip_rtt_means5)))        \n",
      "\n",
      "ip_rtt_means6 = []\n",
      "with open('ip_rtt6.csv', 'rb') as rtt:\n",
      "    reader = csv.reader(rtt)\n",
      "    for row in reader:\n",
      "        ip_rtt_means6.append(int(row[0]))\n",
      "ip_means.append(int(sum(ip_rtt_means6)/len(ip_rtt_means6)))     \n",
      "\n",
      "avg_diff = []\n",
      "level = 4\n",
      "for i in range(0,3):\n",
      "    avg_diff.append((ip_means[i] - nb_means[i])/level)\n",
      "    level+=1 \n",
      "\n",
      "\n",
      "\n",
      "fig, ax = plt.subplots()\n",
      "\n",
      "ax.plot(np.array(avg_diff), '-o', ms=20, lw=2, alpha=0.7, mfc='orange')\n",
      "ax.set_xticklabels( ('4', '', '5', '',  '6') )\n",
      "ax.grid()\n",
      "\n",
      "plt.show()"
     ],
     "language": "python",
     "metadata": {},
     "outputs": [
      {
       "metadata": {},
       "output_type": "display_data",
       "png": "[encoded data removed]",
       "text": [
        "<matplotlib.figure.Figure at 0x1029b6cd0>"
       ]
      }
     ],
     "prompt_number": 12
    },
    {
     "cell_type": "code",
     "collapsed": false,
     "input": [
      "nb_means"
     ],
     "language": "python",
     "metadata": {},
     "outputs": [
      {
       "metadata": {},
       "output_type": "pyout",
       "prompt_number": 6,
       "text": [
        "[436, 217, 67]"
       ]
      }
     ],
     "prompt_number": 6
    },
    {
     "cell_type": "code",
     "collapsed": false,
     "input": [
      "ip_means\n"
     ],
     "language": "python",
     "metadata": {},
     "outputs": [
      {
       "metadata": {},
       "output_type": "pyout",
       "prompt_number": 7,
       "text": [
        "[2529, 1275, 201]"
       ]
      }
     ],
     "prompt_number": 7
    },
    {
     "cell_type": "code",
     "collapsed": false,
     "input": [
      "(201-67)/6\n"
     ],
     "language": "python",
     "metadata": {},
     "outputs": [
      {
       "metadata": {},
       "output_type": "pyout",
       "prompt_number": 9,
       "text": [
        "22"
       ]
      }
     ],
     "prompt_number": 9
    },
    {
     "cell_type": "code",
     "collapsed": false,
     "input": [
      "avg_diff"
     ],
     "language": "python",
     "metadata": {},
     "outputs": [
      {
       "metadata": {},
       "output_type": "pyout",
       "prompt_number": 8,
       "text": [
        "[523, 211, 22]"
       ]
      }
     ],
     "prompt_number": 8
    },
    {
     "cell_type": "code",
     "collapsed": false,
     "input": [],
     "language": "python",
     "metadata": {},
     "outputs": [
      {
       "ename": "NameError",
       "evalue": "name 'cwd' is not defined",
       "output_type": "pyerr",
       "traceback": [
        "\u001b[0;31m---------------------------------------------------------------------------\u001b[0m\n\u001b[0;31mNameError\u001b[0m                                 Traceback (most recent call last)",
        "\u001b[0;32m<ipython-input-17-7b0a70ca696e>\u001b[0m in \u001b[0;36m<module>\u001b[0;34m()\u001b[0m\n\u001b[0;32m----> 1\u001b[0;31m \u001b[0;32mprint\u001b[0m \u001b[0mcwd\u001b[0m\u001b[0;34m\u001b[0m\u001b[0m\n\u001b[0m",
        "\u001b[0;31mNameError\u001b[0m: name 'cwd' is not defined"
       ]
      }
     ],
     "prompt_number": 17
    },
    {
     "cell_type": "code",
     "collapsed": false,
     "input": [],
     "language": "python",
     "metadata": {},
     "outputs": [],
     "prompt_number": 35
    },
    {
     "cell_type": "code",
     "collapsed": false,
     "input": [],
     "language": "python",
     "metadata": {},
     "outputs": []
    }
   ],
   "metadata": {}
  }
 ]
}