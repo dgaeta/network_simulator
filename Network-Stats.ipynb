{
 "metadata": {
  "name": "",
  "signature": "sha256:28a7913088d2b3d3dafb7d8b2771c103812a6bcde41492f154a45fa4e96fd8b6"
 },
 "nbformat": 3,
 "nbformat_minor": 0,
 "worksheets": [
  {
   "cells": [
    {
     "cell_type": "code",
     "collapsed": false,
     "input": [
      "import csv\n",
      "import numpy as np\n",
      "import matplotlib.pyplot as plt\n",
      "import pylab as P\n",
      "import pandas as pd\n",
      "from Simulator import *"
     ],
     "language": "python",
     "metadata": {},
     "outputs": [],
     "prompt_number": 179
    },
    {
     "cell_type": "code",
     "collapsed": false,
     "input": [],
     "language": "python",
     "metadata": {},
     "outputs": [],
     "prompt_number": 179
    },
    {
     "cell_type": "code",
     "collapsed": false,
     "input": [
      "times = []\n",
      "with open('level_congestion.csv', 'rb') as rtt:\n",
      "    reader = csv.reader(rtt)\n",
      "    for row in reader:\n",
      "        times.append([int(x) for x in row])\n"
     ],
     "language": "python",
     "metadata": {},
     "outputs": [],
     "prompt_number": 186
    },
    {
     "cell_type": "code",
     "collapsed": false,
     "input": [
      "numar = np.array(times)"
     ],
     "language": "python",
     "metadata": {},
     "outputs": [],
     "prompt_number": 187
    },
    {
     "cell_type": "code",
     "collapsed": false,
     "input": [
      "df = pd.DataFrame(np.array(times), columns=pd.Index(['0', '1', '2', '3'], name='Level'))"
     ],
     "language": "python",
     "metadata": {},
     "outputs": [],
     "prompt_number": 188
    },
    {
     "cell_type": "code",
     "collapsed": false,
     "input": [
      "df\n"
     ],
     "language": "python",
     "metadata": {},
     "outputs": [
      {
       "html": [
        "<div style=\"max-height:1000px;max-width:1500px;overflow:auto;\">\n",
        "<table border=\"1\" class=\"dataframe\">\n",
        "  <thead>\n",
        "    <tr style=\"text-align: right;\">\n",
        "      <th>Level</th>\n",
        "      <th>0</th>\n",
        "      <th>1</th>\n",
        "      <th>2</th>\n",
        "      <th>3</th>\n",
        "    </tr>\n",
        "  </thead>\n",
        "  <tbody>\n",
        "    <tr>\n",
        "      <th>0</th>\n",
        "      <td> 1556</td>\n",
        "      <td>  17</td>\n",
        "      <td> 25</td>\n",
        "      <td> 11</td>\n",
        "    </tr>\n",
        "    <tr>\n",
        "      <th>1</th>\n",
        "      <td> 1506</td>\n",
        "      <td>  31</td>\n",
        "      <td> 58</td>\n",
        "      <td> 54</td>\n",
        "    </tr>\n",
        "    <tr>\n",
        "      <th>2</th>\n",
        "      <td> 1497</td>\n",
        "      <td>  42</td>\n",
        "      <td> 45</td>\n",
        "      <td> 43</td>\n",
        "    </tr>\n",
        "    <tr>\n",
        "      <th>3</th>\n",
        "      <td> 1640</td>\n",
        "      <td>  67</td>\n",
        "      <td> 79</td>\n",
        "      <td> 94</td>\n",
        "    </tr>\n",
        "    <tr>\n",
        "      <th>4</th>\n",
        "      <td> 1533</td>\n",
        "      <td>  30</td>\n",
        "      <td> 23</td>\n",
        "      <td> 19</td>\n",
        "    </tr>\n",
        "    <tr>\n",
        "      <th>5</th>\n",
        "      <td> 1490</td>\n",
        "      <td>  26</td>\n",
        "      <td> 10</td>\n",
        "      <td> 35</td>\n",
        "    </tr>\n",
        "    <tr>\n",
        "      <th>6</th>\n",
        "      <td> 1487</td>\n",
        "      <td>  23</td>\n",
        "      <td> 32</td>\n",
        "      <td> 27</td>\n",
        "    </tr>\n",
        "    <tr>\n",
        "      <th>7</th>\n",
        "      <td> 1526</td>\n",
        "      <td>  56</td>\n",
        "      <td> 68</td>\n",
        "      <td> 63</td>\n",
        "    </tr>\n",
        "    <tr>\n",
        "      <th>8</th>\n",
        "      <td> 1472</td>\n",
        "      <td>  55</td>\n",
        "      <td> 45</td>\n",
        "      <td> 48</td>\n",
        "    </tr>\n",
        "    <tr>\n",
        "      <th>9</th>\n",
        "      <td> 1465</td>\n",
        "      <td> 107</td>\n",
        "      <td> 75</td>\n",
        "      <td> 79</td>\n",
        "    </tr>\n",
        "  </tbody>\n",
        "</table>\n",
        "</div>"
       ],
       "metadata": {},
       "output_type": "pyout",
       "prompt_number": 189,
       "text": [
        "Level     0    1   2   3\n",
        "0      1556   17  25  11\n",
        "1      1506   31  58  54\n",
        "2      1497   42  45  43\n",
        "3      1640   67  79  94\n",
        "4      1533   30  23  19\n",
        "5      1490   26  10  35\n",
        "6      1487   23  32  27\n",
        "7      1526   56  68  63\n",
        "8      1472   55  45  48\n",
        "9      1465  107  75  79"
       ]
      }
     ],
     "prompt_number": 189
    },
    {
     "cell_type": "code",
     "collapsed": false,
     "input": [
      "ax = df.plot(kind='bar', label='time', legend=True)\n",
      "ax.set_ylabel('PACKETS')\n",
      "ax.set_xlabel('TIME')\n",
      "ax.set_title('Load by Level')\n",
      "\n"
     ],
     "language": "python",
     "metadata": {},
     "outputs": [
      {
       "metadata": {},
       "output_type": "pyout",
       "prompt_number": 190,
       "text": [
        "<matplotlib.text.Text at 0x116ac7790>"
       ]
      }
     ],
     "prompt_number": 190
    },
    {
     "cell_type": "code",
     "collapsed": false,
     "input": [
      "plt.show()"
     ],
     "language": "python",
     "metadata": {},
     "outputs": [],
     "prompt_number": 191
    },
    {
     "cell_type": "code",
     "collapsed": false,
     "input": [],
     "language": "python",
     "metadata": {},
     "outputs": [],
     "prompt_number": 156
    },
    {
     "cell_type": "code",
     "collapsed": false,
     "input": [
      "# Visualization of levels\n",
      "from matplotlib.patches import Circle, PathPatch\n",
      "from mpl_toolkits.mplot3d import Axes3D \n",
      "import mpl_toolkits.mplot3d.art3d as art3d\n",
      "\n",
      "\n",
      "fig = plt.figure()\n",
      "ax=fig.gca(projection='3d')\n",
      "\n",
      "for i in range(1,5):\n",
      "    circle = Circle((0, 0), 6/i, color='blue', edgecolor='blue', alpha=.2)\n",
      "    ax.add_patch(circle)\n",
      "    art3d.pathpatch_2d_to_3d(circle, z=(3-i), zdir=\"z\")\n",
      "\n",
      "\n",
      "ax.set_xlim3d(-6, 6)\n",
      "ax.set_ylim3d(-6, 6)\n",
      "ax.set_zlim3d(-6, 6)\n",
      "ax.text(4,6,2, 'Level 0')\n",
      "ax.text(4,6,1, 'Level 1')\n",
      "ax.text(4,6,-0, 'Level 2')\n",
      "ax.text(4,6,-1, 'Level 3')\n",
      "\n",
      "plt.show()"
     ],
     "language": "python",
     "metadata": {},
     "outputs": [],
     "prompt_number": 165
    },
    {
     "cell_type": "code",
     "collapsed": false,
     "input": [],
     "language": "python",
     "metadata": {},
     "outputs": [],
     "prompt_number": 112
    },
    {
     "cell_type": "code",
     "collapsed": false,
     "input": [],
     "language": "python",
     "metadata": {},
     "outputs": []
    }
   ],
   "metadata": {}
  }
 ]
}