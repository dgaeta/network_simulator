{
 "metadata": {
  "name": "",
  "signature": "sha256:f8905029519cb8494f2faeca6ebd915f3cc234cdedd55934c38e159ae9b9df48"
 },
 "nbformat": 3,
 "nbformat_minor": 0,
 "worksheets": [
  {
   "cells": [
    {
     "cell_type": "code",
     "collapsed": false,
     "input": [
      "import csv\n",
      "import numpy as np\n",
      "import matplotlib.pyplot as plt\n",
      "import pylab as P\n",
      "import pandas as pd\n",
      "from Simulator import *"
     ],
     "language": "python",
     "metadata": {},
     "outputs": [],
     "prompt_number": 179
    },
    {
     "cell_type": "code",
     "collapsed": false,
     "input": [],
     "language": "python",
     "metadata": {},
     "outputs": [],
     "prompt_number": 179
    },
    {
     "cell_type": "code",
     "collapsed": false,
     "input": [
      "times = []\n",
      "with open('level_congestion.csv', 'rb') as rtt:\n",
      "    reader = csv.reader(rtt)\n",
      "    for row in reader:\n",
      "        times.append([int(x) for x in row])\n"
     ],
     "language": "python",
     "metadata": {},
     "outputs": [],
     "prompt_number": 180
    },
    {
     "cell_type": "code",
     "collapsed": false,
     "input": [
      "numar = np.array(times)"
     ],
     "language": "python",
     "metadata": {},
     "outputs": [],
     "prompt_number": 181
    },
    {
     "cell_type": "code",
     "collapsed": false,
     "input": [
      "df = pd.DataFrame(np.array(times), columns=pd.Index(['0', '1', '2', '3'], name='Level'))"
     ],
     "language": "python",
     "metadata": {},
     "outputs": [],
     "prompt_number": 182
    },
    {
     "cell_type": "code",
     "collapsed": false,
     "input": [
      "df\n"
     ],
     "language": "python",
     "metadata": {},
     "outputs": [
      {
       "html": [
        "<div style=\"max-height:1000px;max-width:1500px;overflow:auto;\">\n",
        "<table border=\"1\" class=\"dataframe\">\n",
        "  <thead>\n",
        "    <tr style=\"text-align: right;\">\n",
        "      <th>Level</th>\n",
        "      <th>0</th>\n",
        "      <th>1</th>\n",
        "      <th>2</th>\n",
        "      <th>3</th>\n",
        "    </tr>\n",
        "  </thead>\n",
        "  <tbody>\n",
        "    <tr>\n",
        "      <th>0</th>\n",
        "      <td> 1335</td>\n",
        "      <td> 21</td>\n",
        "      <td> 26</td>\n",
        "      <td> 507</td>\n",
        "    </tr>\n",
        "    <tr>\n",
        "      <th>1</th>\n",
        "      <td> 1357</td>\n",
        "      <td> 20</td>\n",
        "      <td> 29</td>\n",
        "      <td>  11</td>\n",
        "    </tr>\n",
        "    <tr>\n",
        "      <th>2</th>\n",
        "      <td> 1451</td>\n",
        "      <td> 40</td>\n",
        "      <td> 37</td>\n",
        "      <td>  48</td>\n",
        "    </tr>\n",
        "    <tr>\n",
        "      <th>3</th>\n",
        "      <td> 1419</td>\n",
        "      <td> 28</td>\n",
        "      <td> 32</td>\n",
        "      <td>  22</td>\n",
        "    </tr>\n",
        "    <tr>\n",
        "      <th>4</th>\n",
        "      <td> 1372</td>\n",
        "      <td> 34</td>\n",
        "      <td> 21</td>\n",
        "      <td>  31</td>\n",
        "    </tr>\n",
        "    <tr>\n",
        "      <th>5</th>\n",
        "      <td> 1420</td>\n",
        "      <td> 65</td>\n",
        "      <td> 51</td>\n",
        "      <td>  61</td>\n",
        "    </tr>\n",
        "    <tr>\n",
        "      <th>6</th>\n",
        "      <td> 1358</td>\n",
        "      <td> 64</td>\n",
        "      <td> 42</td>\n",
        "      <td>  42</td>\n",
        "    </tr>\n",
        "    <tr>\n",
        "      <th>7</th>\n",
        "      <td> 1320</td>\n",
        "      <td> 41</td>\n",
        "      <td> 31</td>\n",
        "      <td> 545</td>\n",
        "    </tr>\n",
        "    <tr>\n",
        "      <th>8</th>\n",
        "      <td> 1282</td>\n",
        "      <td> 30</td>\n",
        "      <td> 31</td>\n",
        "      <td>  48</td>\n",
        "    </tr>\n",
        "    <tr>\n",
        "      <th>9</th>\n",
        "      <td> 1268</td>\n",
        "      <td> 47</td>\n",
        "      <td> 39</td>\n",
        "      <td>  57</td>\n",
        "    </tr>\n",
        "  </tbody>\n",
        "</table>\n",
        "</div>"
       ],
       "metadata": {},
       "output_type": "pyout",
       "prompt_number": 183,
       "text": [
        "Level     0   1   2    3\n",
        "0      1335  21  26  507\n",
        "1      1357  20  29   11\n",
        "2      1451  40  37   48\n",
        "3      1419  28  32   22\n",
        "4      1372  34  21   31\n",
        "5      1420  65  51   61\n",
        "6      1358  64  42   42\n",
        "7      1320  41  31  545\n",
        "8      1282  30  31   48\n",
        "9      1268  47  39   57"
       ]
      }
     ],
     "prompt_number": 183
    },
    {
     "cell_type": "code",
     "collapsed": false,
     "input": [
      "ax = df.plot(kind='bar', label='time', legend=True)\n",
      "ax.set_ylabel('PACKETS')\n",
      "ax.set_xlabel('TIME')\n",
      "ax.set_title('Load by Level')\n",
      "\n"
     ],
     "language": "python",
     "metadata": {},
     "outputs": [
      {
       "metadata": {},
       "output_type": "pyout",
       "prompt_number": 184,
       "text": [
        "<matplotlib.text.Text at 0x115f9f610>"
       ]
      }
     ],
     "prompt_number": 184
    },
    {
     "cell_type": "code",
     "collapsed": false,
     "input": [
      "plt.show()"
     ],
     "language": "python",
     "metadata": {},
     "outputs": [],
     "prompt_number": 185
    },
    {
     "cell_type": "code",
     "collapsed": false,
     "input": [],
     "language": "python",
     "metadata": {},
     "outputs": [],
     "prompt_number": 156
    },
    {
     "cell_type": "code",
     "collapsed": false,
     "input": [
      "# Visualization of levels\n",
      "from matplotlib.patches import Circle, PathPatch\n",
      "from mpl_toolkits.mplot3d import Axes3D \n",
      "import mpl_toolkits.mplot3d.art3d as art3d\n",
      "\n",
      "\n",
      "fig = plt.figure()\n",
      "ax=fig.gca(projection='3d')\n",
      "\n",
      "for i in range(1,5):\n",
      "    circle = Circle((0, 0), 6/i, color='blue', edgecolor='blue', alpha=.2)\n",
      "    ax.add_patch(circle)\n",
      "    art3d.pathpatch_2d_to_3d(circle, z=(3-i), zdir=\"z\")\n",
      "\n",
      "\n",
      "ax.set_xlim3d(-6, 6)\n",
      "ax.set_ylim3d(-6, 6)\n",
      "ax.set_zlim3d(-6, 6)\n",
      "ax.text(4,6,2, 'Level 0')\n",
      "ax.text(4,6,1, 'Level 1')\n",
      "ax.text(4,6,-0, 'Level 2')\n",
      "ax.text(4,6,-1, 'Level 3')\n",
      "\n",
      "plt.show()"
     ],
     "language": "python",
     "metadata": {},
     "outputs": [],
     "prompt_number": 165
    },
    {
     "cell_type": "code",
     "collapsed": false,
     "input": [],
     "language": "python",
     "metadata": {},
     "outputs": [],
     "prompt_number": 112
    },
    {
     "cell_type": "code",
     "collapsed": false,
     "input": [],
     "language": "python",
     "metadata": {},
     "outputs": []
    }
   ],
   "metadata": {}
  }
 ]
}