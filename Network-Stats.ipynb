{
 "metadata": {
  "name": "",
  "signature": "sha256:81080a3cc58a22d3d59a40969b4b9b5ee3529f7eaac13bd3001d78d91e73cf4f"
 },
 "nbformat": 3,
 "nbformat_minor": 0,
 "worksheets": [
  {
   "cells": [
    {
     "cell_type": "code",
     "collapsed": false,
     "input": [
      "import csv\n",
      "import numpy as np\n",
      "import matplotlib.pyplot as plt\n",
      "import pylab as P\n",
      "import pandas as pd\n",
      "from Simulator import *"
     ],
     "language": "python",
     "metadata": {},
     "outputs": [
      {
       "output_type": "stream",
       "stream": "stderr",
       "text": [
        "/Users/dgaeta/anaconda/lib/python2.7/site-packages/matplotlib/__init__.py:1155: UserWarning:  This call to matplotlib.use() has no effect\n",
        "because the backend has already been chosen;\n",
        "matplotlib.use() must be called *before* pylab, matplotlib.pyplot,\n",
        "or matplotlib.backends is imported for the first time.\n",
        "\n",
        "  warnings.warn(_use_error_msg)\n"
       ]
      }
     ],
     "prompt_number": 1
    },
    {
     "cell_type": "code",
     "collapsed": false,
     "input": [],
     "language": "python",
     "metadata": {},
     "outputs": [],
     "prompt_number": 1
    },
    {
     "cell_type": "code",
     "collapsed": false,
     "input": [
      "times = []\n",
      "with open('level_congestion.csv', 'rb') as rtt:\n",
      "    reader = csv.reader(rtt)\n",
      "    for row in reader:\n",
      "        times.append([int(x) for x in row])\n"
     ],
     "language": "python",
     "metadata": {},
     "outputs": [],
     "prompt_number": 14
    },
    {
     "cell_type": "code",
     "collapsed": false,
     "input": [],
     "language": "python",
     "metadata": {},
     "outputs": [],
     "prompt_number": 14
    },
    {
     "cell_type": "code",
     "collapsed": false,
     "input": [
      "df = pd.DataFrame(np.array(times), columns=pd.Index(['0', '1', '2', '3'], name='Level'))"
     ],
     "language": "python",
     "metadata": {},
     "outputs": [],
     "prompt_number": 17
    },
    {
     "cell_type": "code",
     "collapsed": false,
     "input": [
      "df\n"
     ],
     "language": "python",
     "metadata": {},
     "outputs": [
      {
       "html": [
        "<div style=\"max-height:1000px;max-width:1500px;overflow:auto;\">\n",
        "<table border=\"1\" class=\"dataframe\">\n",
        "  <thead>\n",
        "    <tr style=\"text-align: right;\">\n",
        "      <th>Level</th>\n",
        "      <th>0</th>\n",
        "      <th>1</th>\n",
        "      <th>2</th>\n",
        "      <th>3</th>\n",
        "    </tr>\n",
        "  </thead>\n",
        "  <tbody>\n",
        "    <tr>\n",
        "      <th>0 </th>\n",
        "      <td> 1201</td>\n",
        "      <td>  10</td>\n",
        "      <td>  2</td>\n",
        "      <td> 519</td>\n",
        "    </tr>\n",
        "    <tr>\n",
        "      <th>1 </th>\n",
        "      <td> 1318</td>\n",
        "      <td>  23</td>\n",
        "      <td> 13</td>\n",
        "      <td> 512</td>\n",
        "    </tr>\n",
        "    <tr>\n",
        "      <th>2 </th>\n",
        "      <td> 1125</td>\n",
        "      <td>  20</td>\n",
        "      <td> 31</td>\n",
        "      <td>  28</td>\n",
        "    </tr>\n",
        "    <tr>\n",
        "      <th>3 </th>\n",
        "      <td> 1206</td>\n",
        "      <td>  84</td>\n",
        "      <td> 86</td>\n",
        "      <td>  76</td>\n",
        "    </tr>\n",
        "    <tr>\n",
        "      <th>4 </th>\n",
        "      <td> 1207</td>\n",
        "      <td>  78</td>\n",
        "      <td> 59</td>\n",
        "      <td> 580</td>\n",
        "    </tr>\n",
        "    <tr>\n",
        "      <th>5 </th>\n",
        "      <td> 1239</td>\n",
        "      <td>  65</td>\n",
        "      <td> 80</td>\n",
        "      <td>  58</td>\n",
        "    </tr>\n",
        "    <tr>\n",
        "      <th>6 </th>\n",
        "      <td> 1222</td>\n",
        "      <td> 123</td>\n",
        "      <td> 87</td>\n",
        "      <td>  85</td>\n",
        "    </tr>\n",
        "    <tr>\n",
        "      <th>7 </th>\n",
        "      <td> 1203</td>\n",
        "      <td>  70</td>\n",
        "      <td> 82</td>\n",
        "      <td> 569</td>\n",
        "    </tr>\n",
        "    <tr>\n",
        "      <th>8 </th>\n",
        "      <td> 1203</td>\n",
        "      <td>  96</td>\n",
        "      <td> 72</td>\n",
        "      <td>  96</td>\n",
        "    </tr>\n",
        "    <tr>\n",
        "      <th>9 </th>\n",
        "      <td> 1139</td>\n",
        "      <td> 150</td>\n",
        "      <td> 93</td>\n",
        "      <td> 103</td>\n",
        "    </tr>\n",
        "    <tr>\n",
        "      <th>10</th>\n",
        "      <td> 1102</td>\n",
        "      <td> 167</td>\n",
        "      <td> 83</td>\n",
        "      <td>  87</td>\n",
        "    </tr>\n",
        "    <tr>\n",
        "      <th>11</th>\n",
        "      <td> 1053</td>\n",
        "      <td> 311</td>\n",
        "      <td> 73</td>\n",
        "      <td>  91</td>\n",
        "    </tr>\n",
        "  </tbody>\n",
        "</table>\n",
        "</div>"
       ],
       "metadata": {},
       "output_type": "pyout",
       "prompt_number": 18,
       "text": [
        "Level     0    1   2    3\n",
        "0      1201   10   2  519\n",
        "1      1318   23  13  512\n",
        "2      1125   20  31   28\n",
        "3      1206   84  86   76\n",
        "4      1207   78  59  580\n",
        "5      1239   65  80   58\n",
        "6      1222  123  87   85\n",
        "7      1203   70  82  569\n",
        "8      1203   96  72   96\n",
        "9      1139  150  93  103\n",
        "10     1102  167  83   87\n",
        "11     1053  311  73   91"
       ]
      }
     ],
     "prompt_number": 18
    },
    {
     "cell_type": "code",
     "collapsed": false,
     "input": [
      "ax = df.plot(kind='bar', label='time', legend=True)\n",
      "ax.set_ylabel('PACKETS')\n",
      "\n",
      "ax.set_xlabel('TIME')\n",
      "ax.set_title('Load by Level')\n",
      "\n"
     ],
     "language": "python",
     "metadata": {},
     "outputs": [
      {
       "metadata": {},
       "output_type": "pyout",
       "prompt_number": 19,
       "text": [
        "<matplotlib.text.Text at 0x10d7f1090>"
       ]
      }
     ],
     "prompt_number": 19
    },
    {
     "cell_type": "code",
     "collapsed": false,
     "input": [
      "plt.show()"
     ],
     "language": "python",
     "metadata": {},
     "outputs": [],
     "prompt_number": 20
    },
    {
     "cell_type": "code",
     "collapsed": false,
     "input": [],
     "language": "python",
     "metadata": {},
     "outputs": [],
     "prompt_number": 20
    },
    {
     "cell_type": "code",
     "collapsed": false,
     "input": [
      "# Visualization of levels\n",
      "from matplotlib.patches import Circle, PathPatch\n",
      "from mpl_toolkits.mplot3d import Axes3D \n",
      "import mpl_toolkits.mplot3d.art3d as art3d\n",
      "\n",
      "\n",
      "fig = plt.figure()\n",
      "ax=fig.gca(projection='3d')\n",
      "\n",
      "for i in range(1,5):\n",
      "    circle = Circle((0, 0), 6/i, color='blue', edgecolor='blue', alpha=.2)\n",
      "    ax.add_patch(circle)\n",
      "    art3d.pathpatch_2d_to_3d(circle, z=(3-i), zdir=\"z\")\n",
      "\n",
      "\n",
      "ax.set_xlim3d(-6, 6)\n",
      "ax.set_ylim3d(-6, 6)\n",
      "ax.set_zlim3d(-6, 6)\n",
      "ax.text(4,6,2, 'Level 0')\n",
      "ax.text(4,6,1, 'Level 1')\n",
      "ax.text(4,6,-0, 'Level 2')\n",
      "ax.text(4,6,-1, 'Level 3')\n",
      "\n",
      "plt.show()"
     ],
     "language": "python",
     "metadata": {},
     "outputs": [
      {
       "output_type": "stream",
       "stream": "stderr",
       "text": [
        "/Users/dgaeta/anaconda/lib/python2.7/site-packages/matplotlib/patches.py:87: UserWarning: Setting the 'color' property will overridethe edgecolor or facecolor properties. \n",
        "  warnings.warn(\"Setting the 'color' property will override\"\n",
        "/Users/dgaeta/anaconda/lib/python2.7/site-packages/mpl_toolkits/mplot3d/axes3d.py:1088: FutureWarning: comparison to `None` will result in an elementwise object comparison in the future.\n",
        "  if self.button_pressed in self._rotate_btn:\n"
       ]
      }
     ],
     "prompt_number": 21
    },
    {
     "cell_type": "code",
     "collapsed": false,
     "input": [],
     "language": "python",
     "metadata": {},
     "outputs": [],
     "prompt_number": 21
    },
    {
     "cell_type": "code",
     "collapsed": false,
     "input": [
      "rtt_means = []\n",
      "with open('rtt.csv', 'rb') as rtt:\n",
      "    reader = csv.reader(rtt)\n",
      "    for row in reader:\n",
      "        rtt_means.append(int(row[0]))"
     ],
     "language": "python",
     "metadata": {},
     "outputs": [],
     "prompt_number": 22
    },
    {
     "cell_type": "code",
     "collapsed": false,
     "input": [
      "rtt_means\n"
     ],
     "language": "python",
     "metadata": {},
     "outputs": [
      {
       "metadata": {},
       "output_type": "pyout",
       "prompt_number": 23,
       "text": [
        "[374,\n",
        " 335,\n",
        " 309,\n",
        " 314,\n",
        " 283,\n",
        " 303,\n",
        " 289,\n",
        " 291,\n",
        " 294,\n",
        " 283,\n",
        " 372,\n",
        " 303,\n",
        " 324,\n",
        " 301,\n",
        " 312,\n",
        " 303,\n",
        " 284,\n",
        " 280,\n",
        " 268,\n",
        " 282,\n",
        " 326,\n",
        " 269,\n",
        " 267,\n",
        " 267,\n",
        " 263,\n",
        " 255,\n",
        " 260,\n",
        " 253,\n",
        " 243,\n",
        " 235,\n",
        " 327,\n",
        " 290,\n",
        " 273,\n",
        " 278,\n",
        " 264,\n",
        " 271,\n",
        " 268,\n",
        " 269,\n",
        " 254,\n",
        " 240,\n",
        " 339,\n",
        " 307,\n",
        " 292,\n",
        " 298,\n",
        " 278,\n",
        " 293,\n",
        " 271,\n",
        " 278,\n",
        " 266,\n",
        " 262,\n",
        " 310,\n",
        " 278,\n",
        " 261,\n",
        " 263,\n",
        " 250,\n",
        " 256,\n",
        " 241,\n",
        " 244,\n",
        " 240,\n",
        " 236,\n",
        " 212,\n",
        " 209,\n",
        " 210,\n",
        " 207,\n",
        " 206,\n",
        " 382,\n",
        " 391,\n",
        " 382,\n",
        " 391,\n",
        " 335,\n",
        " 303,\n",
        " 350,\n",
        " 266,\n",
        " 282,\n",
        " 283,\n",
        " 269,\n",
        " 254,\n",
        " 270,\n",
        " 263]"
       ]
      }
     ],
     "prompt_number": 23
    },
    {
     "cell_type": "code",
     "collapsed": false,
     "input": [
      "df_rtt = pd.DataFrame(np.array(rtt_means))\n"
     ],
     "language": "python",
     "metadata": {},
     "outputs": [],
     "prompt_number": 24
    },
    {
     "cell_type": "code",
     "collapsed": false,
     "input": [],
     "language": "python",
     "metadata": {},
     "outputs": [],
     "prompt_number": 24
    },
    {
     "cell_type": "code",
     "collapsed": false,
     "input": [
      "%matplotlib inline\n",
      "ind = range(0,len(rtt_means))\n",
      "width = 0.35\n",
      "bar1 = plt.bar(ind, rtt_means, width)\n",
      "plt.ylabel('Milliseconds')\n",
      "plt.xlabel('Interval')\n",
      "plt.title('Mean RTT for Name Based Routing')\n",
      "plt.show()\n"
     ],
     "language": "python",
     "metadata": {},
     "outputs": [
      {
       "metadata": {},
       "output_type": "display_data",
       "png": "[encoded data removed]",
       "text": [
        "<matplotlib.figure.Figure at 0x10da22410>"
       ]
      }
     ],
     "prompt_number": 25
    },
    {
     "cell_type": "code",
     "collapsed": false,
     "input": [],
     "language": "python",
     "metadata": {},
     "outputs": []
    }
   ],
   "metadata": {}
  }
 ]
}