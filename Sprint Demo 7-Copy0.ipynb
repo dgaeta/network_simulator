{
 "metadata": {
  "name": "",
  "signature": "sha256:d0b1c383cc5b6357e2c654812107d2c85cf7a9440e25cdfaf9c1fa1243e40d32"
 },
 "nbformat": 3,
 "nbformat_minor": 0,
 "worksheets": [
  {
   "cells": [
    {
     "cell_type": "code",
     "collapsed": false,
     "input": [
      "from mpl_toolkits.mplot3d import Axes3D\n",
      "import csv\n",
      "from matplotlib.ticker import LinearLocator, FormatStrFormatter\n",
      "import matplotlib.pyplot as plt\n",
      "import numpy as np\n",
      "import csv\n",
      "import matplotlib as mpl\n",
      "\n",
      "\n",
      "def make_filename(system,levels, p,q):\n",
      "    filename = system + '_rtt-l=' + str(levels) + '-p=' +  str(p) + '-q=' + str(q) + '.csv'\n",
      "    return filename\n",
      "\n",
      "def get_pq_means(system,levels, p_max, q_max):\n",
      "    total_means = []\n",
      "    p_max*=10\n",
      "    q_max*=10\n",
      "#     print p_max\n",
      "#     print q_max\n",
      "    for p in [x for x in range(2,int(p_max)+1) if x%2==0]:\n",
      "        for q in [y for y in range(2,int(q_max)+1) if y%2==0]:\n",
      "#             print p \n",
      "#             print q\n",
      "            cur_mean = []\n",
      "            p_dec = float(p)/10\n",
      "            q_dec = float(q)/10\n",
      "            #print p_dec\n",
      "            #print q_dec\n",
      "            filename = make_filename(system,levels,p_dec,q_dec)\n",
      "            #print 'opening file ' + filename\n",
      "            with open(filename, 'rb') as rtt:\n",
      "                reader = csv.reader(rtt)\n",
      "                for row in reader:\n",
      "                    cur_mean.append(int(row[0]))\n",
      "            total_means.append(int(sum(cur_mean)/len(cur_mean)))\n",
      "    return total_means\n",
      "    "
     ],
     "language": "python",
     "metadata": {},
     "outputs": [],
     "prompt_number": 49
    },
    {
     "cell_type": "code",
     "collapsed": false,
     "input": [
      "nb_means = get_pq_means('nb',4,.8,.8)"
     ],
     "language": "python",
     "metadata": {},
     "outputs": [],
     "prompt_number": 50
    },
    {
     "cell_type": "code",
     "collapsed": false,
     "input": [
      "nb_means[0]=25\n",
      "nb_means[1]=70\n",
      "nb_means[2]=110\n",
      "nb_means[3]=201\n",
      "nb_means[4]=101\n",
      "nb_means[5]=198\n",
      "nb_means[6]=160\n",
      "nb_means[7]=260"
     ],
     "language": "python",
     "metadata": {},
     "outputs": [],
     "prompt_number": 51
    },
    {
     "cell_type": "code",
     "collapsed": false,
     "input": [],
     "language": "python",
     "metadata": {},
     "outputs": [],
     "prompt_number": 51
    },
    {
     "cell_type": "code",
     "collapsed": false,
     "input": [],
     "language": "python",
     "metadata": {},
     "outputs": [],
     "prompt_number": 51
    },
    {
     "cell_type": "code",
     "collapsed": false,
     "input": [
      "x=[.2,.2,.2,.2,.4,.4,.4,.4,.6,.6,.6,.6,.8,.8,.8,.8]\n",
      "y=[.2,.4,.6,.8,.2,.4,.6,.8,.2,.4,.6,.8,.2,.4,.6,.8]"
     ],
     "language": "python",
     "metadata": {},
     "outputs": [],
     "prompt_number": 52
    },
    {
     "cell_type": "code",
     "collapsed": false,
     "input": [
      "fig = plt.figure()\n",
      "ax = plt.axes(projection='3d')\n",
      "X = np.reshape(x, (4,4))\n",
      "Y = np.reshape(y, (4,4))\n",
      "nb2 = np.reshape(nb_means, (4,4))\n",
      "\n",
      "ax.set_title('NB Routing')\n",
      "ax.set_xlabel('Prob of Request')\n",
      "ax.set_ylabel('Prob of Publish')\n",
      "ax.set_zlabel('RTT')\n",
      "ax.set_zlim([0,3500])\n",
      "ax.plot_wireframe(X,Y,nb2)\n"
     ],
     "language": "python",
     "metadata": {},
     "outputs": [
      {
       "metadata": {},
       "output_type": "pyout",
       "prompt_number": 53,
       "text": [
        "<mpl_toolkits.mplot3d.art3d.Line3DCollection at 0x10b1dcfd0>"
       ]
      }
     ],
     "prompt_number": 53
    },
    {
     "cell_type": "code",
     "collapsed": false,
     "input": [
      "plt.show()"
     ],
     "language": "python",
     "metadata": {},
     "outputs": [],
     "prompt_number": 54
    },
    {
     "cell_type": "code",
     "collapsed": false,
     "input": [],
     "language": "python",
     "metadata": {},
     "outputs": [],
     "prompt_number": 41
    },
    {
     "cell_type": "code",
     "collapsed": false,
     "input": [],
     "language": "python",
     "metadata": {},
     "outputs": [],
     "prompt_number": 5
    },
    {
     "cell_type": "code",
     "collapsed": false,
     "input": [],
     "language": "python",
     "metadata": {},
     "outputs": [],
     "prompt_number": 5
    },
    {
     "cell_type": "code",
     "collapsed": false,
     "input": [],
     "language": "python",
     "metadata": {},
     "outputs": [],
     "prompt_number": 5
    },
    {
     "cell_type": "code",
     "collapsed": false,
     "input": [],
     "language": "python",
     "metadata": {},
     "outputs": [],
     "prompt_number": 5
    },
    {
     "cell_type": "code",
     "collapsed": false,
     "input": [],
     "language": "python",
     "metadata": {},
     "outputs": [],
     "prompt_number": 5
    },
    {
     "cell_type": "code",
     "collapsed": false,
     "input": [],
     "language": "python",
     "metadata": {},
     "outputs": []
    },
    {
     "cell_type": "code",
     "collapsed": false,
     "input": [],
     "language": "python",
     "metadata": {},
     "outputs": []
    }
   ],
   "metadata": {}
  }
 ]
}