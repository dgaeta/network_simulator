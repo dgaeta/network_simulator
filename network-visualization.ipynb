{
 "metadata": {
  "name": "",
  "signature": "sha256:6897dc01dbed38e69abbe6748bce8398f3f2c7d4b7a4b8a64820a04111655fb7"
 },
 "nbformat": 3,
 "nbformat_minor": 0,
 "worksheets": [
  {
   "cells": [
    {
     "cell_type": "code",
     "collapsed": false,
     "input": [
      "from matplotlib import animation \n",
      "import matplotlib.pyplot as plt\n",
      "import matplotlib as mpl\n",
      "import numpy as np\n",
      "import math "
     ],
     "language": "python",
     "metadata": {},
     "outputs": [],
     "prompt_number": 1
    },
    {
     "cell_type": "code",
     "collapsed": false,
     "input": [
      "# needed for inline animation viewing\n",
      "from tempfile import NamedTemporaryFile\n",
      "\n",
      "VIDEO_TAG = \"\"\"<video controls>\n",
      " <source src=\"data:video/x-webm;base64,{0}\" type=\"video/webm\">\n",
      " Your browser does not support the video tag.\n",
      "</video>\"\"\"\n",
      "\n",
      "def anim_to_html(anim):\n",
      "    if not hasattr(anim, '_encoded_video'):\n",
      "        with NamedTemporaryFile(suffix='.webm') as f:\n",
      "            anim.save(f.name, fps=6, extra_args=['-vcodec', 'libvpx'])\n",
      "            video = open(f.name, \"rb\").read()\n",
      "        anim._encoded_video = video.encode(\"base64\")\n",
      "    \n",
      "    return VIDEO_TAG.format(anim._encoded_video)"
     ],
     "language": "python",
     "metadata": {},
     "outputs": [],
     "prompt_number": 2
    },
    {
     "cell_type": "code",
     "collapsed": false,
     "input": [
      "# needed for inline animation viewing \n",
      "from IPython.display import HTML\n",
      "\n",
      "def display_animation(anim):\n",
      "    plt.close(anim._fig)\n",
      "    return HTML(anim_to_html(anim))"
     ],
     "language": "python",
     "metadata": {},
     "outputs": [],
     "prompt_number": 3
    },
    {
     "cell_type": "code",
     "collapsed": false,
     "input": [
      "global network_nodes\n",
      "network_nodes = {}\n"
     ],
     "language": "python",
     "metadata": {},
     "outputs": [],
     "prompt_number": 4
    },
    {
     "cell_type": "code",
     "collapsed": false,
     "input": [
      "# Generates the network hierarchy \n",
      "def network_gen(level,i,r,x,y):\n",
      "    global network_nodes\n",
      "    #center = 7i+1\n",
      "    #north = 7i+2\n",
      "    #south = 7i+3\n",
      "    #northaast = 7i+4\n",
      "    #southeast = 7i+5\n",
      "    #northwest = 7i+6\n",
      "    #southwest = 7i+7\n",
      "    \n",
      "    \n",
      "    if level > 0:\n",
      "\n",
      "        #center\n",
      "        network_nodes[7*i+1] = plt.Circle((x,y),radius = r, fc = 'white', alpha = 0.5, edgecolor = 'grey',lw = 1.0)\n",
      "        plt.gca().add_patch(network_nodes[7*i+1])\n",
      "        network_gen(level-1,7*i+1,r/3,x,y)\n",
      "\n",
      "        #north\n",
      "        network_nodes[7*i+2] = plt.Circle((x,y+(2.0*r)),radius = r, fc = 'white', alpha = 0.5, edgecolor = 'grey',lw = 1.0)\n",
      "        plt.gca().add_patch(network_nodes[7*i+2])\n",
      "        network_gen(level-1,7*i+2,r/3,x,y+(2.0*r))\n",
      "\n",
      "        #south\n",
      "        network_nodes[7*i+3] = plt.Circle((x,y-(2.0*r)),radius = r, fc = 'white', alpha = 0.5, edgecolor = 'grey',lw = 1.0)\n",
      "        plt.gca().add_patch(network_nodes[7*i+3])\n",
      "        network_gen(level-1,7*i+3,r/3,x,y-(2.0*r))\n",
      "\n",
      "        #northeast\n",
      "        network_nodes[7*i+4] = plt.Circle((x+2*r*math.sqrt(3)/2,y+r),radius = r, fc = 'white', alpha = 0.5, edgecolor = 'grey',lw = 1.0)\n",
      "        plt.gca().add_patch(network_nodes[7*i+4])\n",
      "        network_gen(level-1,7*i+4,r/3,x+2*r*math.sqrt(3)/2,y+r)\n",
      "\n",
      "        #southeast\n",
      "        network_nodes[7*i+5] = plt.Circle((x+2*r*math.sqrt(3)/2,y-r),radius = r, fc = 'white', alpha = 0.5, edgecolor = 'grey',lw = 1.0)\n",
      "        plt.gca().add_patch(network_nodes[7*i+5])\n",
      "        network_gen(level-1,7*i+5,r/3,x+2*r*math.sqrt(3)/2,y-r)\n",
      "\n",
      "        #northwest\n",
      "        network_nodes[7*i+6] = plt.Circle((x-2*r*math.sqrt(3)/2,y+r),radius = r, fc = 'white', alpha = 0.5, edgecolor = 'grey',lw = 1.0)\n",
      "        plt.gca().add_patch(network_nodes[7*i+6])\n",
      "        network_gen(level-1,7*i+6,r/3,x-2*r*math.sqrt(3)/2,y+r)\n",
      "\n",
      "        #southwest\n",
      "        network_nodes[7*i+7] = plt.Circle((x-2*r*math.sqrt(3)/2,y-r),radius = r, fc = 'white', alpha = 0.5, edgecolor = 'grey',lw = 1.0)\n",
      "        plt.gca().add_patch(network_nodes[7*i+7])\n",
      "        network_gen(level-1,7*i+7,r/3,x-2*r*math.sqrt(3)/2,y-r)\n",
      " \n",
      "    else:\n",
      "        if level == 0:\n",
      "            #center\n",
      "            network_nodes[7*i+1] = plt.Circle((x,y),radius = r, fc = 'white', alpha = 0.5, edgecolor = 'grey',lw = 1.0)\n",
      "            fig.gca().add_patch(network_nodes[7*i+1])\n",
      "    \n",
      "        #north\n",
      "            network_nodes[7*i+2] = plt.Circle((x,y+(2.0*r)),radius = r, fc = 'white', alpha = 0.5, edgecolor = 'grey',lw = 1.0)\n",
      "            fig.gca().add_patch(network_nodes[7*i+2])\n",
      "    \n",
      "        #south\n",
      "            network_nodes[7*i+3] = plt.Circle((x,y-(2.0*r)),radius = r, fc = 'white', alpha = 0.5, edgecolor = 'grey',lw = 1.0)\n",
      "            fig.gca().add_patch(network_nodes[7*i+3])\n",
      "    \n",
      "        #northeast\n",
      "            network_nodes[7*i+4] = plt.Circle((x+2*r*math.sqrt(3)/2,y+r),radius = r, fc = 'white', alpha = 0.5, edgecolor = 'grey',lw = 1.0)\n",
      "            fig.gca().add_patch(network_nodes[7*i+4])\n",
      "    \n",
      "        #southeast\n",
      "            network_nodes[7*i+5] = plt.Circle((x+2*r*math.sqrt(3)/2,y-r),radius = r, fc = 'white', alpha = 0.5, edgecolor = 'grey',lw = 1.0)\n",
      "            fig.gca().add_patch(network_nodes[7*i+5])\n",
      "    \n",
      "        #northwest\n",
      "            network_nodes[7*i+6] = plt.Circle((x-2*r*math.sqrt(3)/2,y+r),radius = r, fc = 'white', alpha = 0.5, edgecolor = 'grey',lw = 1.0)\n",
      "            fig.gca().add_patch(network_nodes[7*i+6])\n",
      "    \n",
      "        #southwest\n",
      "            network_nodes[7*i+7] = plt.Circle((x-2*r*math.sqrt(3)/2,y-r),radius = r, fc = 'white', alpha = 0.5, edgecolor = 'grey',lw = 1.0)\n",
      "            fig.gca().add_patch(network_nodes[7*i+7])\n",
      "     "
     ],
     "language": "python",
     "metadata": {},
     "outputs": [],
     "prompt_number": 5
    },
    {
     "cell_type": "code",
     "collapsed": false,
     "input": [
      "global w_nodes\n",
      "w_nodes = {}"
     ],
     "language": "python",
     "metadata": {},
     "outputs": [],
     "prompt_number": 6
    },
    {
     "cell_type": "code",
     "collapsed": false,
     "input": [
      "# Generates the network hierarchy \n",
      "def draw_white(level,i,r,x,y):\n",
      "    global w_nodes\n",
      "    #center = 7i+1\n",
      "    #north = 7i+2\n",
      "    #south = 7i+3\n",
      "    #northaast = 7i+4\n",
      "    #southeast = 7i+5\n",
      "    #northwest = 7i+6\n",
      "    #southwest = 7i+7\n",
      "    \n",
      "    \n",
      "    if level > 0:\n",
      "\n",
      "        #center\n",
      "        w_nodes[7*i+1] = plt.Circle((x,y),radius = r, fc = 'white', alpha = 0.5, edgecolor = 'white',lw = 4.0)\n",
      "        plt.gca().add_patch(w_nodes[7*i+1])\n",
      "        draw_white(level-1,7*i+1,r/3,x,y)\n",
      "\n",
      "        #north\n",
      "        w_nodes[7*i+2] = plt.Circle((x,y+(2.0*r)),radius = r, fc = 'white', alpha = 0.5, edgecolor = 'white',lw = 4.0)\n",
      "        plt.gca().add_patch(w_nodes[7*i+2])\n",
      "        draw_white(level-1,7*i+2,r/3,x,y+(2.0*r))\n",
      "\n",
      "        #south\n",
      "        w_nodes[7*i+3] = plt.Circle((x,y-(2.0*r)),radius = r, fc = 'white', alpha = 0.5, edgecolor = 'white',lw = 4.0)\n",
      "        plt.gca().add_patch(w_nodes[7*i+3])\n",
      "        draw_white(level-1,7*i+3,r/3,x,y-(2.0*r))\n",
      "\n",
      "        #northeast\n",
      "        w_nodes[7*i+4] = plt.Circle((x+2*r*math.sqrt(3)/2,y+r),radius = r, fc = 'white', alpha = 0.5, edgecolor = 'white',lw = 4.0)\n",
      "        plt.gca().add_patch(w_nodes[7*i+4])\n",
      "        draw_white(level-1,7*i+4,r/3,x+2*r*math.sqrt(3)/2,y+r)\n",
      "\n",
      "        #southeast\n",
      "        w_nodes[7*i+5] = plt.Circle((x+2*r*math.sqrt(3)/2,y-r),radius = r, fc = 'white', alpha = 0.5, edgecolor = 'white',lw = 4.0)\n",
      "        plt.gca().add_patch(w_nodes[7*i+5])\n",
      "        draw_white(level-1,7*i+5,r/3,x+2*r*math.sqrt(3)/2,y-r)\n",
      "\n",
      "        #northwest\n",
      "        w_nodes[7*i+6] = plt.Circle((x-2*r*math.sqrt(3)/2,y+r),radius = r, fc = 'white', alpha = 0.5, edgecolor = 'white',lw = 4.0)\n",
      "        plt.gca().add_patch(w_nodes[7*i+6])\n",
      "        draw_white(level-1,7*i+6,r/3,x-2*r*math.sqrt(3)/2,y+r)\n",
      "\n",
      "        #southwest\n",
      "        w_nodes[7*i+7] = plt.Circle((x-2*r*math.sqrt(3)/2,y-r),radius = r, fc = 'white', alpha = 0.5, edgecolor = 'white',lw = 4.0)\n",
      "        plt.gca().add_patch(w_nodes[7*i+7])\n",
      "        draw_white(level-1,7*i+7,r/3,x-2*r*math.sqrt(3)/2,y-r)\n",
      " \n",
      "    else:\n",
      "        if level == 0:\n",
      "            #center\n",
      "            w_nodes[7*i+1] = plt.Circle((x,y),radius = r, fc = 'white', alpha = 0.5, edgecolor = 'white',lw = 4.0)\n",
      "            fig.gca().add_patch(w_nodes[7*i+1])\n",
      "    \n",
      "        #north\n",
      "            w_nodes[7*i+2] = plt.Circle((x,y+(2.0*r)),radius = r, fc = 'white', alpha = 0.5, edgecolor = 'white',lw = 4.0)\n",
      "            fig.gca().add_patch(w_nodes[7*i+2])\n",
      "    \n",
      "        #south\n",
      "            w_nodes[7*i+3] = plt.Circle((x,y-(2.0*r)),radius = r, fc = 'white', alpha = 0.5, edgecolor = 'white',lw = 4.0)\n",
      "            fig.gca().add_patch(w_nodes[7*i+3])\n",
      "    \n",
      "        #northeast\n",
      "            w_nodes[7*i+4] = plt.Circle((x+2*r*math.sqrt(3)/2,y+r),radius = r, fc = 'white', alpha = 0.5, edgecolor = 'white',lw = 4.0)\n",
      "            fig.gca().add_patch(w_nodes[7*i+4])\n",
      "    \n",
      "        #southeast\n",
      "            w_nodes[7*i+5] = plt.Circle((x+2*r*math.sqrt(3)/2,y-r),radius = r, fc = 'white', alpha = 0.5, edgecolor = 'white',lw = 4.0)\n",
      "            fig.gca().add_patch(w_nodes[7*i+5])\n",
      "    \n",
      "        #northwest\n",
      "            w_nodes[7*i+6] = plt.Circle((x-2*r*math.sqrt(3)/2,y+r),radius = r, fc = 'white', alpha = 0.5, edgecolor = 'white',lw = 4.0)\n",
      "            fig.gca().add_patch(w_nodes[7*i+6])\n",
      "    \n",
      "        #southwest\n",
      "            w_nodes[7*i+7] = plt.Circle((x-2*r*math.sqrt(3)/2,y-r),radius = r, fc = 'white', alpha = 0.5, edgecolor ='white',lw = 4.0)\n",
      "            fig.gca().add_patch(w_nodes[7*i+7])\n",
      "     "
     ],
     "language": "python",
     "metadata": {},
     "outputs": [],
     "prompt_number": 7
    },
    {
     "cell_type": "code",
     "collapsed": false,
     "input": [
      "def get_parent(n):\n",
      "    if (n <= 7):\n",
      "        return 1 \n",
      "    elif (n%7 == 1):\n",
      "        return (n/7) \n",
      "    else:\n",
      "        return (n - ((n-1)%7)) \n",
      "   "
     ],
     "language": "python",
     "metadata": {},
     "outputs": [],
     "prompt_number": 8
    },
    {
     "cell_type": "code",
     "collapsed": false,
     "input": [
      "print get_parent(63)"
     ],
     "language": "python",
     "metadata": {},
     "outputs": [
      {
       "output_type": "stream",
       "stream": "stdout",
       "text": [
        "57\n"
       ]
      }
     ],
     "prompt_number": 34
    },
    {
     "cell_type": "code",
     "collapsed": false,
     "input": [
      "def get_child_at(dir, i):\n",
      "    if (dir.lower() == 'c'):\n",
      "        return 7*i + 1\n",
      "    elif (dir.lower() == 'n'):\n",
      "        return 7*i + 2\n",
      "    elif (dir.lower() == 's'):\n",
      "        return 7*i + 3\n",
      "    elif (dir.lower() == 'ne'):\n",
      "        return 7*i + 4\n",
      "    elif (dir.lower() == 'se'):\n",
      "        return 7*i + 5\n",
      "    elif (dir.lower() == 'nw'):\n",
      "        return 7*i + 6\n",
      "    elif (dir.lower() == 'sw'):\n",
      "        return 7*i + 7\n",
      "    else:\n",
      "        return 'error'"
     ],
     "language": "python",
     "metadata": {},
     "outputs": [],
     "prompt_number": 10
    },
    {
     "cell_type": "code",
     "collapsed": false,
     "input": [
      "print get_child_at('c',63)"
     ],
     "language": "python",
     "metadata": {},
     "outputs": [
      {
       "output_type": "stream",
       "stream": "stdout",
       "text": [
        "442\n"
       ]
      }
     ],
     "prompt_number": 21
    },
    {
     "cell_type": "code",
     "collapsed": false,
     "input": [
      "# set up network and figure\n",
      "levels = 3         # hard coded\n",
      "radius = 5.0       # hard coded\n",
      "\n",
      "fig = plt.figure()\n",
      "plt.axis([-5,5,-5,5])     # hard coded\n",
      "ax = plt.gca()\n",
      "ax.set_aspect(1)\n",
      "\n",
      "# hard coded routing  \n",
      "global network_nodes, route, active_stack, found\n",
      "\n",
      "# multiple requests\n",
      "#route = [ {'requesters': [444,445,429], 'middlemen':[], 'receivers':[]}  , {'requesters': [444,445,429], 'middlemen': [63, 442, 61, 428], 'receivers':[]}, {'requesters': [444,445,429],'middlemen':[8,400], 'receivers':[]} , {'requesters': [444,445,429], 'middlemen':[1, 400], 'receivers':[]} , { 'requesters': [444,445,429],'middlemen':[13, 645], 'receivers':[]}, {'requesters': [444,445,429],'middlemen':[97, 680], 'receivers':[]}, {'requesters': [444,445,429],'middlemen':[], 'receivers':[686]} , {'requesters': [444,445,429],'middlemen':[], 'receivers':[97, 680]} , {'requesters': [444,445,429],'receivers':[13, 645]}, {'requesters': [444,445,429],'receivers':[1, 400]}, {'requesters': [444,445,429],'receivers':[8, 400],  }, {'requesters': [444,445,429],'middlemen':[], 'receivers':[63, 442, 61, 428]}, {'requesters': [],'middlemen':[], 'receivers': [444,445,429]} ] # hard coded\n",
      "\n",
      "# single request\n",
      "route = [ {'requesters': [444], 'middlemen':[], 'receivers':[]}  , {'requesters': [444], 'middlemen': [63, 442], 'receivers':[]}, {'requesters': [444],'middlemen':[8,400], 'receivers':[]} , {'requesters': [444], 'middlemen':[1, 400], 'receivers':[]} , { 'requesters': [444],'middlemen':[13, 645], 'receivers':[]}, {'requesters': [444],'middlemen':[97, 680], 'receivers':[]}, {'requesters': [444],'middlemen':[], 'receivers':[686]} , {'requesters': [444],'middlemen':[], 'receivers':[97, 680]} , {'requesters': [444],'receivers':[13, 645]}, {'requesters': [444],'receivers':[1, 400]}, {'requesters': [444],'middlemen':[], 'receivers':[8, 400],  }, {'requesters': [444],'middlemen':[], 'receivers':[63, 442]}, {'requesters': [],'middlemen':[], 'receivers': [444]} ] # hard coded\n",
      "\n",
      "active_nodes = [] \n",
      "found = False"
     ],
     "language": "python",
     "metadata": {},
     "outputs": [],
     "prompt_number": 23
    },
    {
     "cell_type": "code",
     "collapsed": false,
     "input": [
      "global count\n",
      "count = 0 "
     ],
     "language": "python",
     "metadata": {},
     "outputs": [],
     "prompt_number": 24
    },
    {
     "cell_type": "code",
     "collapsed": false,
     "input": [
      "def init():\n",
      "    #network_gen(levels,0.0,radius,0.0,0.0) \n",
      "    pass"
     ],
     "language": "python",
     "metadata": {},
     "outputs": [],
     "prompt_number": 25
    },
    {
     "cell_type": "code",
     "collapsed": false,
     "input": [
      "print len(route)"
     ],
     "language": "python",
     "metadata": {},
     "outputs": [
      {
       "output_type": "stream",
       "stream": "stdout",
       "text": [
        "13\n"
       ]
      }
     ],
     "prompt_number": 26
    },
    {
     "cell_type": "code",
     "collapsed": false,
     "input": [],
     "language": "python",
     "metadata": {},
     "outputs": [],
     "prompt_number": 26
    },
    {
     "cell_type": "code",
     "collapsed": false,
     "input": [],
     "language": "python",
     "metadata": {},
     "outputs": [],
     "prompt_number": 26
    },
    {
     "cell_type": "code",
     "collapsed": false,
     "input": [
      "import time \n",
      "\n",
      "def animate(i):\n",
      "    global network_nodes, active_stack, count, found, fig\n",
      "    \n",
      "     \n",
      "    \n",
      "    count += 1\n",
      "    print \"stage %d\" % count\n",
      "    active = route[i]\n",
      "    \n",
      "    \n",
      "    # draw colorless network\n",
      "    draw_white(levels,0.0,radius,0.0,0.0)\n",
      "    network_gen(levels,0.0,radius,0.0,0.0)  \n",
      "    \n",
      "   \n",
      "    if (count ==1):\n",
      "        for node in route[0]['requesters']:\n",
      "            prop = { \"lw\":4.0, \"edgecolor\":\"red\"}\n",
      "            network_nodes[node].update(prop)\n",
      "            #network_nodes[node].set_edgecolor('red')\n",
      "            fig.gca().add_patch(network_nodes[node])\n",
      "    elif (found): \n",
      "        for node in active['receivers']:\n",
      "            prop = { \"lw\":4.0, \"edgecolor\":\"green\"}\n",
      "            network_nodes[node].update(prop)\n",
      "            fig.gca().add_patch(network_nodes[node])\n",
      "        for node in active['requesters']:\n",
      "            network_nodes[node].set_edgecolor('red')\n",
      "            fig.gca().add_patch(network_nodes[node])\n",
      "    else:\n",
      "        if(686 in active['receivers']):\n",
      "            found = True\n",
      "        for node in active['requesters']:\n",
      "            network_nodes[node].set_edgecolor('red')\n",
      "            fig.gca().add_patch(network_nodes[node])\n",
      "        for node in active['middlemen']:\n",
      "            prop = { \"lw\":4.0, \"edgecolor\":\"blue\"}\n",
      "            network_nodes[node].update(prop)\n",
      "            fig.gca().add_patch(network_nodes[node])\n",
      "        for node in active['receivers']:\n",
      "            prop = { \"lw\":4.0, \"edgecolor\":\"green\"}\n",
      "            network_nodes[node].update(prop)\n",
      "            fig.gca().add_patch(network_nodes[node])\n",
      "    \n",
      "        \n",
      "    network_nodes[686].set_edgecolor('green')\n",
      "    fig.gca().add_patch(network_nodes[686])\n",
      "    \n",
      "    \n",
      "    "
     ],
     "language": "python",
     "metadata": {},
     "outputs": [],
     "prompt_number": 27
    },
    {
     "cell_type": "code",
     "collapsed": false,
     "input": [
      "mywriter = animation.FFMpegWriter(fps=.2)"
     ],
     "language": "python",
     "metadata": {},
     "outputs": [],
     "prompt_number": 28
    },
    {
     "cell_type": "code",
     "collapsed": false,
     "input": [
      "if (network_nodes): network_nodes.clear()\n",
      "anim = animation.FuncAnimation(fig, animate, init_func=init,\n",
      "                               frames= 13,interval=30000, blit=False)"
     ],
     "language": "python",
     "metadata": {},
     "outputs": [],
     "prompt_number": 29
    },
    {
     "cell_type": "code",
     "collapsed": false,
     "input": [],
     "language": "python",
     "metadata": {},
     "outputs": [],
     "prompt_number": 29
    },
    {
     "cell_type": "code",
     "collapsed": false,
     "input": [],
     "language": "python",
     "metadata": {},
     "outputs": [],
     "prompt_number": 29
    },
    {
     "cell_type": "code",
     "collapsed": false,
     "input": [
      "anim.save('sim68.mp4',writer=mywriter, fps=1)"
     ],
     "language": "python",
     "metadata": {},
     "outputs": [
      {
       "output_type": "stream",
       "stream": "stdout",
       "text": [
        "stage 1\n",
        "stage 2"
       ]
      },
      {
       "output_type": "stream",
       "stream": "stdout",
       "text": [
        "\n",
        "stage 3"
       ]
      },
      {
       "output_type": "stream",
       "stream": "stdout",
       "text": [
        "\n",
        "stage 4"
       ]
      },
      {
       "output_type": "stream",
       "stream": "stdout",
       "text": [
        "\n",
        "stage 5"
       ]
      },
      {
       "output_type": "stream",
       "stream": "stdout",
       "text": [
        "\n",
        "stage 6"
       ]
      },
      {
       "output_type": "stream",
       "stream": "stdout",
       "text": [
        "\n",
        "stage 7"
       ]
      },
      {
       "output_type": "stream",
       "stream": "stdout",
       "text": [
        "\n",
        "stage 8"
       ]
      },
      {
       "output_type": "stream",
       "stream": "stdout",
       "text": [
        "\n",
        "stage 9"
       ]
      },
      {
       "output_type": "stream",
       "stream": "stdout",
       "text": [
        "\n",
        "stage 10"
       ]
      },
      {
       "output_type": "stream",
       "stream": "stdout",
       "text": [
        "\n",
        "stage 11"
       ]
      },
      {
       "output_type": "stream",
       "stream": "stdout",
       "text": [
        "\n",
        "stage 12"
       ]
      },
      {
       "output_type": "stream",
       "stream": "stdout",
       "text": [
        "\n",
        "stage 13"
       ]
      },
      {
       "output_type": "stream",
       "stream": "stdout",
       "text": [
        "\n"
       ]
      }
     ],
     "prompt_number": 30
    },
    {
     "cell_type": "code",
     "collapsed": false,
     "input": [],
     "language": "python",
     "metadata": {},
     "outputs": []
    },
    {
     "cell_type": "code",
     "collapsed": false,
     "input": [
      "#testing\n",
      "c = plt.Circle((1,1),radius = 1, fc = 'white', alpha = 0.5, edgecolor = 'b',lw = 1.0)"
     ],
     "language": "python",
     "metadata": {},
     "outputs": [],
     "prompt_number": 28
    },
    {
     "cell_type": "code",
     "collapsed": false,
     "input": [
      "#testing\n",
      "prop = { \"alpha\":.1, \"edgecolor\":\"blue\"}\n",
      "c.update(prop)"
     ],
     "language": "python",
     "metadata": {},
     "outputs": [],
     "prompt_number": 30
    },
    {
     "cell_type": "code",
     "collapsed": false,
     "input": [],
     "language": "python",
     "metadata": {},
     "outputs": [],
     "prompt_number": 17
    },
    {
     "cell_type": "code",
     "collapsed": false,
     "input": [],
     "language": "python",
     "metadata": {},
     "outputs": [],
     "prompt_number": 119
    },
    {
     "cell_type": "code",
     "collapsed": false,
     "input": [],
     "language": "python",
     "metadata": {},
     "outputs": [],
     "prompt_number": 155
    },
    {
     "cell_type": "raw",
     "metadata": {},
     "source": []
    },
    {
     "cell_type": "code",
     "collapsed": false,
     "input": [],
     "language": "python",
     "metadata": {},
     "outputs": [],
     "prompt_number": 156
    },
    {
     "cell_type": "code",
     "collapsed": false,
     "input": [],
     "language": "python",
     "metadata": {},
     "outputs": [],
     "prompt_number": 157
    },
    {
     "cell_type": "code",
     "collapsed": false,
     "input": [],
     "language": "python",
     "metadata": {},
     "outputs": [],
     "prompt_number": 158
    },
    {
     "cell_type": "code",
     "collapsed": false,
     "input": [],
     "language": "python",
     "metadata": {},
     "outputs": [],
     "prompt_number": 185
    },
    {
     "cell_type": "code",
     "collapsed": false,
     "input": [],
     "language": "python",
     "metadata": {},
     "outputs": [],
     "prompt_number": 119
    },
    {
     "cell_type": "code",
     "collapsed": false,
     "input": [],
     "language": "python",
     "metadata": {},
     "outputs": [],
     "prompt_number": 88
    },
    {
     "cell_type": "code",
     "collapsed": false,
     "input": [],
     "language": "python",
     "metadata": {},
     "outputs": [],
     "prompt_number": 179
    },
    {
     "cell_type": "code",
     "collapsed": false,
     "input": [],
     "language": "python",
     "metadata": {},
     "outputs": [],
     "prompt_number": 180
    },
    {
     "cell_type": "code",
     "collapsed": false,
     "input": [],
     "language": "python",
     "metadata": {},
     "outputs": [],
     "prompt_number": 181
    },
    {
     "cell_type": "code",
     "collapsed": false,
     "input": [],
     "language": "python",
     "metadata": {},
     "outputs": [],
     "prompt_number": 185
    },
    {
     "cell_type": "code",
     "collapsed": false,
     "input": [],
     "language": "python",
     "metadata": {},
     "outputs": [],
     "prompt_number": 183
    },
    {
     "cell_type": "code",
     "collapsed": false,
     "input": [],
     "language": "python",
     "metadata": {},
     "outputs": [],
     "prompt_number": 184
    },
    {
     "cell_type": "code",
     "collapsed": false,
     "input": [],
     "language": "python",
     "metadata": {},
     "outputs": [],
     "prompt_number": 185
    },
    {
     "cell_type": "code",
     "collapsed": false,
     "input": [],
     "language": "python",
     "metadata": {},
     "outputs": [],
     "prompt_number": 89
    },
    {
     "cell_type": "code",
     "collapsed": false,
     "input": [],
     "language": "python",
     "metadata": {},
     "outputs": [],
     "prompt_number": 89
    },
    {
     "cell_type": "code",
     "collapsed": false,
     "input": [],
     "language": "python",
     "metadata": {},
     "outputs": [],
     "prompt_number": 89
    },
    {
     "cell_type": "code",
     "collapsed": false,
     "input": [],
     "language": "python",
     "metadata": {},
     "outputs": [],
     "prompt_number": 89
    },
    {
     "cell_type": "code",
     "collapsed": false,
     "input": [],
     "language": "python",
     "metadata": {},
     "outputs": [],
     "prompt_number": 89
    },
    {
     "cell_type": "raw",
     "metadata": {},
     "source": []
    },
    {
     "cell_type": "code",
     "collapsed": false,
     "input": [],
     "language": "python",
     "metadata": {},
     "outputs": [],
     "prompt_number": 89
    },
    {
     "cell_type": "code",
     "collapsed": false,
     "input": [],
     "language": "python",
     "metadata": {},
     "outputs": [],
     "prompt_number": 89
    },
    {
     "cell_type": "code",
     "collapsed": false,
     "input": [],
     "language": "python",
     "metadata": {},
     "outputs": [],
     "prompt_number": 89
    },
    {
     "cell_type": "code",
     "collapsed": false,
     "input": [],
     "language": "python",
     "metadata": {},
     "outputs": []
    }
   ],
   "metadata": {}
  }
 ]
}