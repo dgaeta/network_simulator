{
 "metadata": {
  "name": "",
  "signature": "sha256:4397cb8fae109ea976afe0fb482c2f68613208ba0821504f554e152f624f7598"
 },
 "nbformat": 3,
 "nbformat_minor": 0,
 "worksheets": [
  {
   "cells": [
    {
     "cell_type": "code",
     "collapsed": false,
     "input": [
      "import matplotlib\n",
      "matplotlib.use('TkAgg') # this must be placed before import matplotlib\n",
      "\n",
      "\n",
      "from numpy import arange, sin, pi\n",
      "from matplotlib.backends.backend_tkagg import FigureCanvasTkAgg, NavigationToolbar2TkAgg\n",
      "# implement the default mpl key bindings\n",
      "from matplotlib.backend_bases import key_press_handler\n"
     ],
     "language": "python",
     "metadata": {},
     "outputs": [],
     "prompt_number": 1
    },
    {
     "cell_type": "code",
     "collapsed": false,
     "input": [
      "from matplotlib.figure import Figure"
     ],
     "language": "python",
     "metadata": {},
     "outputs": [],
     "prompt_number": 2
    },
    {
     "cell_type": "code",
     "collapsed": false,
     "input": [
      "import sys\n",
      "if sys.version_info[0] < 3:\n",
      "    import Tkinter as Tk\n",
      "else:\n",
      "    import Tkinter as Tk"
     ],
     "language": "python",
     "metadata": {},
     "outputs": [],
     "prompt_number": 24
    },
    {
     "cell_type": "code",
     "collapsed": false,
     "input": [
      "root = Tk.Tk()"
     ],
     "language": "python",
     "metadata": {},
     "outputs": [],
     "prompt_number": 30
    },
    {
     "cell_type": "code",
     "collapsed": false,
     "input": [
      "f = Figure(figsize=(5,4), dpi=100)\n",
      "a = f.add_subplot(111)"
     ],
     "language": "python",
     "metadata": {},
     "outputs": [],
     "prompt_number": 25
    },
    {
     "cell_type": "code",
     "collapsed": false,
     "input": [
      "canvas = FigureCanvasTkAgg(f, master=root)\n",
      "canvas.show()\n",
      "canvas.get_tk_widget().pack(side=Tk.TOP, fill=Tk.BOTH, expand=1)"
     ],
     "language": "python",
     "metadata": {},
     "outputs": [],
     "prompt_number": 31
    },
    {
     "cell_type": "code",
     "collapsed": false,
     "input": [
      "def on_key_event(event):\n",
      "    print('you pressed %s'%event.key)\n",
      "    key_press_handler(event, canvas, toolbar)\n"
     ],
     "language": "python",
     "metadata": {},
     "outputs": [],
     "prompt_number": 26
    },
    {
     "cell_type": "code",
     "collapsed": false,
     "input": [
      "def _quit():\n",
      "    root.quit()     # stops mainloop\n",
      "    root.destroy()  # this is necessary on Windows to prevent\n",
      "                    # Fatal Python Error: PyEval_RestoreThread: NULL tstate\n"
     ],
     "language": "python",
     "metadata": {},
     "outputs": [],
     "prompt_number": 27
    },
    {
     "cell_type": "code",
     "collapsed": false,
     "input": [
      "def _create_circle(self, x, y, r, **kwargs):\n",
      "    \"\"\"implementation for creating a circle in Tk\"\"\"\n",
      "    return Tk.create_oval(x-r, y-r, x+r, y+r, **kwargs)\n",
      "    Tk.Canvas.create_circle = _create_circle\n"
     ],
     "language": "python",
     "metadata": {},
     "outputs": [],
     "prompt_number": 29
    },
    {
     "cell_type": "code",
     "collapsed": false,
     "input": [
      "class App:\n",
      "\n",
      "    def __init__(self, master):\n",
      "\n",
      "        frame = Frame(master)\n",
      "        frame.pack()\n",
      "\n",
      "        self.button = Button(\n",
      "            frame, text=\"QUIT\", fg=\"red\", command=frame.quit\n",
      "            )\n",
      "        self.button.pack(side=LEFT)\n",
      "\n",
      "        self.hi_there = Button(frame, text=\"Hello\", command=self.say_hi)\n",
      "        self.hi_there.pack(side=LEFT)\n",
      "\n",
      "    def say_hi(self):\n",
      "        print \"hi there, everyone!\""
     ],
     "language": "python",
     "metadata": {},
     "outputs": [],
     "prompt_number": 20
    },
    {
     "cell_type": "code",
     "collapsed": false,
     "input": [
      "root = Tk()\n",
      "\n",
      "app = App(root)\n",
      "\n",
      "root.mainloop()\n",
      "root.destroy() # optional; see description below"
     ],
     "language": "python",
     "metadata": {},
     "outputs": [],
     "prompt_number": 22
    },
    {
     "cell_type": "code",
     "collapsed": false,
     "input": [],
     "language": "python",
     "metadata": {},
     "outputs": [],
     "prompt_number": 30
    },
    {
     "cell_type": "code",
     "collapsed": false,
     "input": [
      "\n",
      "   "
     ],
     "language": "python",
     "metadata": {},
     "outputs": [],
     "prompt_number": 12
    },
    {
     "cell_type": "code",
     "collapsed": false,
     "input": [],
     "language": "python",
     "metadata": {},
     "outputs": [],
     "prompt_number": 12
    },
    {
     "cell_type": "code",
     "collapsed": false,
     "input": [],
     "language": "python",
     "metadata": {},
     "outputs": [],
     "prompt_number": 12
    },
    {
     "cell_type": "code",
     "collapsed": false,
     "input": [],
     "language": "python",
     "metadata": {},
     "outputs": [],
     "prompt_number": 12
    },
    {
     "cell_type": "code",
     "collapsed": false,
     "input": [],
     "language": "python",
     "metadata": {},
     "outputs": [],
     "prompt_number": 2
    },
    {
     "cell_type": "code",
     "collapsed": false,
     "input": [],
     "language": "python",
     "metadata": {},
     "outputs": [],
     "prompt_number": 2
    },
    {
     "cell_type": "code",
     "collapsed": false,
     "input": [],
     "language": "python",
     "metadata": {},
     "outputs": [],
     "prompt_number": 2
    },
    {
     "cell_type": "code",
     "collapsed": false,
     "input": [],
     "language": "python",
     "metadata": {},
     "outputs": [],
     "prompt_number": 2
    },
    {
     "cell_type": "code",
     "collapsed": false,
     "input": [],
     "language": "python",
     "metadata": {},
     "outputs": [],
     "prompt_number": 26
    },
    {
     "cell_type": "code",
     "collapsed": false,
     "input": [],
     "language": "python",
     "metadata": {},
     "outputs": [],
     "prompt_number": 3
    },
    {
     "cell_type": "code",
     "collapsed": false,
     "input": [],
     "language": "python",
     "metadata": {},
     "outputs": [],
     "prompt_number": 27
    },
    {
     "cell_type": "code",
     "collapsed": false,
     "input": [],
     "language": "python",
     "metadata": {},
     "outputs": [],
     "prompt_number": 2
    },
    {
     "cell_type": "code",
     "collapsed": false,
     "input": [],
     "language": "python",
     "metadata": {},
     "outputs": [],
     "prompt_number": 2
    },
    {
     "cell_type": "code",
     "collapsed": false,
     "input": [],
     "language": "python",
     "metadata": {},
     "outputs": [],
     "prompt_number": 29
    },
    {
     "cell_type": "code",
     "collapsed": false,
     "input": [],
     "language": "python",
     "metadata": {},
     "outputs": [],
     "prompt_number": 29
    },
    {
     "cell_type": "code",
     "collapsed": false,
     "input": [],
     "language": "python",
     "metadata": {},
     "outputs": [],
     "prompt_number": 2
    },
    {
     "cell_type": "code",
     "collapsed": false,
     "input": [],
     "language": "python",
     "metadata": {},
     "outputs": []
    },
    {
     "cell_type": "code",
     "collapsed": false,
     "input": [
      "#testing\n",
      "c = plt.Circle((1,1),radius = 1, fc = 'white', alpha = 0.5, edgecolor = 'b',lw = 1.0)"
     ],
     "language": "python",
     "metadata": {},
     "outputs": [],
     "prompt_number": 28
    },
    {
     "cell_type": "code",
     "collapsed": false,
     "input": [
      "#testing\n",
      "prop = { \"alpha\":.1, \"edgecolor\":\"blue\"}\n",
      "c.update(prop)"
     ],
     "language": "python",
     "metadata": {},
     "outputs": [],
     "prompt_number": 30
    },
    {
     "cell_type": "code",
     "collapsed": false,
     "input": [],
     "language": "python",
     "metadata": {},
     "outputs": [],
     "prompt_number": 17
    },
    {
     "cell_type": "code",
     "collapsed": false,
     "input": [],
     "language": "python",
     "metadata": {},
     "outputs": [],
     "prompt_number": 119
    },
    {
     "cell_type": "code",
     "collapsed": false,
     "input": [],
     "language": "python",
     "metadata": {},
     "outputs": [],
     "prompt_number": 155
    },
    {
     "cell_type": "raw",
     "metadata": {},
     "source": []
    },
    {
     "cell_type": "code",
     "collapsed": false,
     "input": [],
     "language": "python",
     "metadata": {},
     "outputs": [],
     "prompt_number": 156
    },
    {
     "cell_type": "code",
     "collapsed": false,
     "input": [],
     "language": "python",
     "metadata": {},
     "outputs": [],
     "prompt_number": 157
    },
    {
     "cell_type": "code",
     "collapsed": false,
     "input": [
      "#!/usr/bin/env python\n",
      "import matplotlib\n",
      "matplotlib.use('TkAgg')\n",
      "\n",
      "from numpy import arange, sin, pi\n",
      "from matplotlib.backends.backend_tkagg import FigureCanvasTkAgg, NavigationToolbar2TkAgg\n",
      "from matplotlib.figure import Figure\n",
      "\n",
      "import sys\n",
      "if sys.version_info[0] < 3:\n",
      "    import Tkinter as Tk\n",
      "else:\n",
      "    import tkinter as Tk\n",
      "\n",
      "def destroy(e): sys.exit()\n",
      "\n",
      "root = Tk.Tk()\n",
      "root.wm_title(\"Embedding in TK\")\n",
      "#root.bind(\"<Destroy>\", destroy)\n",
      "\n",
      "\n",
      "f = Figure(figsize=(5,4), dpi=100)\n",
      "a = f.add_subplot(111)\n",
      "t = arange(0.0,3.0,0.01)\n",
      "s = sin(2*pi*t)\n",
      "\n",
      "a.plot(t,s)\n",
      "a.set_title('Tk embedding')\n",
      "a.set_xlabel('X axis label')\n",
      "a.set_ylabel('Y label')\n",
      "\n",
      "\n",
      "# a tk.DrawingArea\n",
      "canvas = FigureCanvasTkAgg(f, master=root)\n",
      "canvas.show()\n",
      "canvas.get_tk_widget().pack(side=Tk.TOP, fill=Tk.BOTH, expand=1)\n",
      "\n",
      "#toolbar = NavigationToolbar2TkAgg( canvas, root )\n",
      "#toolbar.update()\n",
      "canvas._tkcanvas.pack(side=Tk.TOP, fill=Tk.BOTH, expand=1)\n",
      "\n",
      "button = Tk.Button(master=root, text='Quit', command=sys.exit)\n",
      "button.pack(side=Tk.BOTTOM)\n",
      "\n",
      "Tk.mainloop()"
     ],
     "language": "python",
     "metadata": {},
     "outputs": [
      {
       "ename": "SystemExit",
       "evalue": "",
       "output_type": "pyerr",
       "traceback": [
        "An exception has occurred, use %tb to see the full traceback.\n",
        "\u001b[0;31mSystemExit\u001b[0m\n"
       ]
      },
      {
       "output_type": "stream",
       "stream": "stderr",
       "text": [
        "To exit: use 'exit', 'quit', or Ctrl-D.\n"
       ]
      }
     ],
     "prompt_number": 1
    },
    {
     "cell_type": "code",
     "collapsed": false,
     "input": [],
     "language": "python",
     "metadata": {},
     "outputs": [],
     "prompt_number": 185
    },
    {
     "cell_type": "code",
     "collapsed": false,
     "input": [],
     "language": "python",
     "metadata": {},
     "outputs": [],
     "prompt_number": 119
    },
    {
     "cell_type": "code",
     "collapsed": false,
     "input": [],
     "language": "python",
     "metadata": {},
     "outputs": [],
     "prompt_number": 88
    },
    {
     "cell_type": "code",
     "collapsed": false,
     "input": [],
     "language": "python",
     "metadata": {},
     "outputs": [],
     "prompt_number": 179
    },
    {
     "cell_type": "code",
     "collapsed": false,
     "input": [],
     "language": "python",
     "metadata": {},
     "outputs": [],
     "prompt_number": 180
    },
    {
     "cell_type": "code",
     "collapsed": false,
     "input": [],
     "language": "python",
     "metadata": {},
     "outputs": [],
     "prompt_number": 181
    },
    {
     "cell_type": "code",
     "collapsed": false,
     "input": [],
     "language": "python",
     "metadata": {},
     "outputs": [],
     "prompt_number": 185
    },
    {
     "cell_type": "code",
     "collapsed": false,
     "input": [],
     "language": "python",
     "metadata": {},
     "outputs": [],
     "prompt_number": 183
    },
    {
     "cell_type": "code",
     "collapsed": false,
     "input": [],
     "language": "python",
     "metadata": {},
     "outputs": [],
     "prompt_number": 184
    },
    {
     "cell_type": "code",
     "collapsed": false,
     "input": [],
     "language": "python",
     "metadata": {},
     "outputs": [],
     "prompt_number": 185
    },
    {
     "cell_type": "code",
     "collapsed": false,
     "input": [],
     "language": "python",
     "metadata": {},
     "outputs": [],
     "prompt_number": 89
    },
    {
     "cell_type": "code",
     "collapsed": false,
     "input": [],
     "language": "python",
     "metadata": {},
     "outputs": [],
     "prompt_number": 89
    },
    {
     "cell_type": "code",
     "collapsed": false,
     "input": [],
     "language": "python",
     "metadata": {},
     "outputs": [],
     "prompt_number": 89
    },
    {
     "cell_type": "code",
     "collapsed": false,
     "input": [],
     "language": "python",
     "metadata": {},
     "outputs": [],
     "prompt_number": 89
    },
    {
     "cell_type": "code",
     "collapsed": false,
     "input": [
      "def process(node_id):\n",
      "        logging.debug(' processing incoming packet at %d' % node_id)\n",
      "        if len(nodes[node_id].incoming) >= 1:\n",
      "            logging.debug(' processing incoming packet at %d' % node_id)\n",
      "            packet = nodes[node_id].incoming.popleft()\n",
      "            pack = str(packet)\n",
      "            logging.debug(\" packet data: %s\", pack) \n",
      "                   \n",
      "            if packet['_type'] == 'request':\n",
      "                # Packet is a request      \n",
      "                content_name = packet['content_name']\n",
      "                requester_id = packet['from_id']    \n",
      "\n",
      "                # Case 1: content in cache\n",
      "                if content_name in nodes[node_id].content_store:    \n",
      "                    nodes[node_id].outgoing_packet({ 'content_name': content_name, 'from_id':node_id, 'content_data':nodes[node_id].content_store[content_name],  'dest_id':requester_id, '_type':'response'})\n",
      "                    logging.debug(\" content %s already in cache\", content_name) \n",
      "                    logging.debug(\" sent content back to  %d \", requester_id)\n",
      "                    \n",
      "                # Case 2: duplicate request exists\n",
      "                elif content_name in nodes[node_id].pending_table:   \n",
      "                    nodes[node_id].pending_table[content_name] + [requester_id]\n",
      "                    logging.debug(\" duplicate request for content %s , added requester_id %d to PT\", packet[content_name], packet[requester_id]) \n",
      "            \n",
      "                # Case 3: no pending request, but location lives in children, create entry in PT, send request to child\n",
      "                elif content_name in nodes[node_id].forwarding_table:\n",
      "                    directed_child_id  = nodes[node_id].forwarding_table[content_name]   #direction of child where destination node is contained \n",
      "                    nodes[node_id].pending_table[content_name] = [requester_id]          # entry in PT created\n",
      "                    nodes[node_id].outgoing_packet( {'content_name': content_name , 'dest_id':directed_child_id, 'from_id': node_id, '_type': 'request'})\n",
      "                    logging.debug(\" location content %s known, entry for requester %d created in PT\", content_name, requester_id) \n",
      "                    logging.debug(\" forwarded request to child %d \", directed_child_id )\n",
      "                    \n",
      "                # Case 4: no duplicate, add to PT, forward to parent \n",
      "                else: \n",
      "                    nodes[node_id].pending_table[content_name] = [requester_id]\n",
      "                    parent_id = get_parent(node_id)\n",
      "                    nodes[node_id].outgoing_packet({'content_name':content_name, 'from_id':node_id, 'dest_id': parent_id, \"_type\": 'request'})\n",
      "                    logging.debug(\" content %s NOT known, entry for requester %d created in PT, sent request to parent %d\", content_name, requester_id, parent_id) \n",
      "\n",
      "\n",
      "            elif packet['_type'] == 'response':\n",
      "                # packet is a response\n",
      "                content_name = packet['content_name']\n",
      "                data = packet['content_data']    \n",
      "\n",
      "                # Case 1: node is source of request, 0 signifies it is the source of request\n",
      "                if nodes[node_id].pending_table[content_name][0] ==  0:   \n",
      "                    logging.debug(\" DONE! I am the source: %d\" % node_id)\n",
      "                    nodes[node_id].content_store[content_name] = data\n",
      "                    logging.debug(\" Added content (%s) to content store\"  % content_name)\n",
      "                    del nodes[node_id].pending_table[content_name]\n",
      "                    logging.debug(\" Deleted content (%s) from PT\"  % content_name)\n",
      "                # Case 2: node was a middle man\n",
      "                else:\n",
      "                    print logging.debug(\"Forwarding response along to all requesters, I am: %d ... \", node_id)\n",
      "                    for dest_id in nodes[node_id].pending_table[content_name]:\n",
      "                        nodes[node_id].outgoing_packet({'content_name':packet['content_name'], 'from_id':node_id, 'content_data':data, '_type':'response', 'dest_id':dest_id} )\n",
      "                        logging.debug(\"Sent response to requester %d \", dest_id)\n",
      "                    logging.debug(\"Forwarding to all requesters complete\")\n",
      "\n",
      "                    del nodes[node_id].pending_table[packet['content_name']]\n",
      "                    logging.debug(\" Deleted content (%s) from PT\"  % content_name)\n",
      "                    nodes[node_id].content_store[packet['content_name']] = data\n",
      "                    logging.debug(\" Added content (%s) to content store\"  % content_name)\n",
      "\n",
      "            else:\n",
      "                logging.warning(' Mislabeled Packet')\n"
     ],
     "language": "python",
     "metadata": {},
     "outputs": [],
     "prompt_number": 10
    },
    {
     "cell_type": "raw",
     "metadata": {},
     "source": []
    },
    {
     "cell_type": "code",
     "collapsed": false,
     "input": [],
     "language": "python",
     "metadata": {},
     "outputs": [],
     "prompt_number": 89
    },
    {
     "cell_type": "code",
     "collapsed": false,
     "input": [
      "def deliver_in_transit_packets():\n",
      "    while( len(in_transit_packets) > 0):\n",
      "        packet = in_transit_packets.pop()\n",
      "        dest_id = packet['dest_id']\n",
      "        nodes[dest_id].incoming.append(packet) \n",
      "        logging.debug(\" Delivered packet from %d to %d\", packet['from_id'], packet['dest_id'])"
     ],
     "language": "python",
     "metadata": {},
     "outputs": [],
     "prompt_number": 9
    },
    {
     "cell_type": "code",
     "collapsed": false,
     "input": [
      "root.protocol(\"WM_DELETE_WINDOW\", _quit)  #thanks aurelienvlg\n",
      "root.after(100,step)\n",
      "root.after(100,RealtimePloter)\n",
      "Tkinter.mainloop()"
     ],
     "language": "python",
     "metadata": {},
     "outputs": [],
     "prompt_number": 89
    },
    {
     "cell_type": "code",
     "collapsed": false,
     "input": [],
     "language": "python",
     "metadata": {},
     "outputs": []
    }
   ],
   "metadata": {}
  }
 ]
}