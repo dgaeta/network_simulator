{
 "metadata": {
  "name": "",
  "signature": "sha256:48300a587f7bf7019928e28107c8a4190530d678ad7fe798b9e44528881a058f"
 },
 "nbformat": 3,
 "nbformat_minor": 0,
 "worksheets": [
  {
   "cells": [
    {
     "cell_type": "code",
     "collapsed": false,
     "input": [
      "from mpl_toolkits.mplot3d import Axes3D\n",
      "from matplotlib import cm\n",
      "from matplotlib.ticker import LinearLocator, FormatStrFormatter\n",
      "import matplotlib.pyplot as plt\n",
      "import numpy as np\n",
      "\n"
     ],
     "language": "python",
     "metadata": {},
     "outputs": [],
     "prompt_number": 24
    },
    {
     "cell_type": "code",
     "collapsed": false,
     "input": [
      "x=[.2,.2,.2,.2,.4,.4,.4,.4,.6,.6,.6,.6,.8,.8,.8,.8]"
     ],
     "language": "python",
     "metadata": {},
     "outputs": [],
     "prompt_number": 25
    },
    {
     "cell_type": "code",
     "collapsed": false,
     "input": [
      "y=[.2,.4,.6,.8,.2,.4,.6,.8,.2,.4,.6,.8,.2,.4,.6,.8]"
     ],
     "language": "python",
     "metadata": {},
     "outputs": [],
     "prompt_number": 26
    },
    {
     "cell_type": "code",
     "collapsed": false,
     "input": [
      "z = [201,102,98,99,158,154,137,137,158,153,131,130,128,118,115,107]"
     ],
     "language": "python",
     "metadata": {},
     "outputs": [],
     "prompt_number": 27
    },
    {
     "cell_type": "code",
     "collapsed": false,
     "input": [
      "fig = plt.figure()\n",
      "ax = plt.axes(projection='3d')\n",
      "x,y = np.meshgrid(x,y)\n",
      "\n",
      "ax.set_title('Name Based Routing')\n",
      "ax.set_xlabel('Prob of Request')\n",
      "ax.set_ylabel('Prob of Publish')\n",
      "ax.set_zlabel('RTT')\n",
      "ax.plot_wireframe(x, y, z, rstride=10, cstride=10)\n"
     ],
     "language": "python",
     "metadata": {},
     "outputs": [
      {
       "metadata": {},
       "output_type": "pyout",
       "prompt_number": 28,
       "text": [
        "<mpl_toolkits.mplot3d.art3d.Line3DCollection at 0x10b6b9c50>"
       ]
      }
     ],
     "prompt_number": 28
    },
    {
     "cell_type": "code",
     "collapsed": false,
     "input": [
      "plt.show()"
     ],
     "language": "python",
     "metadata": {},
     "outputs": [],
     "prompt_number": 29
    },
    {
     "cell_type": "code",
     "collapsed": false,
     "input": [
      "import csv\n",
      "mean = []\n",
      "rtmeans = []\n",
      "with open('ip_rtt-l=4-p=0.8-q=0.8.csv', 'rb') as rtt:\n",
      "    reader = csv.reader(rtt)\n",
      "    for row in reader:\n",
      "        rtmeans.append(int(row[0]))\n",
      "mean.append(int(sum(rtmeans)/len(rtmeans)))\n",
      "print mean"
     ],
     "language": "python",
     "metadata": {},
     "outputs": [
      {
       "output_type": "stream",
       "stream": "stdout",
       "text": [
        "[308]\n"
       ]
      }
     ],
     "prompt_number": 44
    },
    {
     "cell_type": "code",
     "collapsed": false,
     "input": [
      "x=[.2,.2,.2,.2,.4,.4,.4,.4,.6,.6,.6,.6,.8,.8,.8,.8]\n",
      "y=[.2,.4,.6,.8,.2,.4,.6,.8,.2,.4,.6,.8,.2,.4,.6,.8]\n",
      "z = [220,149,114,176,194,204,246,230,228,261,234,312,311,308,320,340]"
     ],
     "language": "python",
     "metadata": {},
     "outputs": [],
     "prompt_number": 45
    },
    {
     "cell_type": "code",
     "collapsed": false,
     "input": [
      "ax.set_title('IP')\n",
      "ax.set_xlabel('Prob of Request')\n",
      "ax.set_ylabel('Prob of Publish')\n",
      "ax.set_zlabel('RTT')\n",
      "ax.plot_wireframe(x, y, z, rstride=10, cstride=10)"
     ],
     "language": "python",
     "metadata": {},
     "outputs": [
      {
       "metadata": {},
       "output_type": "pyout",
       "prompt_number": 46,
       "text": [
        "<mpl_toolkits.mplot3d.art3d.Line3DCollection at 0x10824f110>"
       ]
      }
     ],
     "prompt_number": 46
    },
    {
     "cell_type": "code",
     "collapsed": false,
     "input": [
      "fig = plt.figure()\n",
      "ax = plt.axes(projection='3d')\n",
      "x,y = np.meshgrid(x,y)\n",
      "\n",
      "ax.set_title('Traditional IP')\n",
      "ax.set_xlabel('Prob of Request')\n",
      "ax.set_ylabel('Prob of Publish')\n",
      "ax.set_zlabel('RTT')\n",
      "ax.plot_wireframe(x, y, z, rstride=10, cstride=10)\n",
      "plt.show()"
     ],
     "language": "python",
     "metadata": {},
     "outputs": []
    },
    {
     "cell_type": "code",
     "collapsed": false,
     "input": [],
     "language": "python",
     "metadata": {},
     "outputs": []
    }
   ],
   "metadata": {}
  }
 ]
}