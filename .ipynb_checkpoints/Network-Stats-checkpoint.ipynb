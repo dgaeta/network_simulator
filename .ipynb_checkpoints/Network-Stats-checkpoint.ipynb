{
 "metadata": {
  "name": "",
  "signature": "sha256:f78339428e734463e29a4abd01a7789494a556088af352fd7cb81eb0ffe1cef9"
 },
 "nbformat": 3,
 "nbformat_minor": 0,
 "worksheets": [
  {
   "cells": [
    {
     "cell_type": "code",
     "collapsed": false,
     "input": [
      "import csv\n",
      "import numpy as np\n",
      "import matplotlib.pyplot as plt\n",
      "import pylab as P\n",
      "import pandas as pd\n",
      "from Simulator import *"
     ],
     "language": "python",
     "metadata": {},
     "outputs": [],
     "prompt_number": 97
    },
    {
     "cell_type": "code",
     "collapsed": false,
     "input": [],
     "language": "python",
     "metadata": {},
     "outputs": [],
     "prompt_number": 97
    },
    {
     "cell_type": "code",
     "collapsed": false,
     "input": [
      "times = []\n",
      "with open('level_congestion.csv', 'rb') as rtt:\n",
      "    reader = csv.reader(rtt)\n",
      "    for row in reader:\n",
      "        times.append([int(x) for x in row])\n"
     ],
     "language": "python",
     "metadata": {},
     "outputs": [],
     "prompt_number": 98
    },
    {
     "cell_type": "code",
     "collapsed": false,
     "input": [
      "numar = np.array(times)"
     ],
     "language": "python",
     "metadata": {},
     "outputs": [],
     "prompt_number": 99
    },
    {
     "cell_type": "code",
     "collapsed": false,
     "input": [
      "df = pd.DataFrame(np.array(times), columns=pd.Index(['0', '1', '2', '3'], name='Level'))"
     ],
     "language": "python",
     "metadata": {},
     "outputs": [],
     "prompt_number": 100
    },
    {
     "cell_type": "code",
     "collapsed": false,
     "input": [
      "df\n"
     ],
     "language": "python",
     "metadata": {},
     "outputs": [
      {
       "html": [
        "<div style=\"max-height:1000px;max-width:1500px;overflow:auto;\">\n",
        "<table border=\"1\" class=\"dataframe\">\n",
        "  <thead>\n",
        "    <tr style=\"text-align: right;\">\n",
        "      <th>Level</th>\n",
        "      <th>0</th>\n",
        "      <th>1</th>\n",
        "      <th>2</th>\n",
        "      <th>3</th>\n",
        "    </tr>\n",
        "  </thead>\n",
        "  <tbody>\n",
        "    <tr>\n",
        "      <th>0</th>\n",
        "      <td>  354</td>\n",
        "      <td> 59</td>\n",
        "      <td> 65</td>\n",
        "      <td> 54</td>\n",
        "    </tr>\n",
        "    <tr>\n",
        "      <th>1</th>\n",
        "      <td>  594</td>\n",
        "      <td> 62</td>\n",
        "      <td> 56</td>\n",
        "      <td> 64</td>\n",
        "    </tr>\n",
        "    <tr>\n",
        "      <th>2</th>\n",
        "      <td>  800</td>\n",
        "      <td> 59</td>\n",
        "      <td> 62</td>\n",
        "      <td> 58</td>\n",
        "    </tr>\n",
        "    <tr>\n",
        "      <th>3</th>\n",
        "      <td> 1039</td>\n",
        "      <td> 51</td>\n",
        "      <td> 58</td>\n",
        "      <td> 59</td>\n",
        "    </tr>\n",
        "    <tr>\n",
        "      <th>4</th>\n",
        "      <td> 1218</td>\n",
        "      <td> 59</td>\n",
        "      <td> 62</td>\n",
        "      <td> 56</td>\n",
        "    </tr>\n",
        "    <tr>\n",
        "      <th>5</th>\n",
        "      <td>  944</td>\n",
        "      <td> 74</td>\n",
        "      <td> 71</td>\n",
        "      <td> 68</td>\n",
        "    </tr>\n",
        "    <tr>\n",
        "      <th>6</th>\n",
        "      <td> 1578</td>\n",
        "      <td> 67</td>\n",
        "      <td> 75</td>\n",
        "      <td> 75</td>\n",
        "    </tr>\n",
        "    <tr>\n",
        "      <th>7</th>\n",
        "      <td> 2069</td>\n",
        "      <td> 78</td>\n",
        "      <td> 70</td>\n",
        "      <td> 83</td>\n",
        "    </tr>\n",
        "    <tr>\n",
        "      <th>8</th>\n",
        "      <td> 2483</td>\n",
        "      <td> 69</td>\n",
        "      <td> 79</td>\n",
        "      <td> 78</td>\n",
        "    </tr>\n",
        "    <tr>\n",
        "      <th>9</th>\n",
        "      <td> 2758</td>\n",
        "      <td> 71</td>\n",
        "      <td> 82</td>\n",
        "      <td> 79</td>\n",
        "    </tr>\n",
        "  </tbody>\n",
        "</table>\n",
        "</div>"
       ],
       "metadata": {},
       "output_type": "pyout",
       "prompt_number": 101,
       "text": [
        "Level     0   1   2   3\n",
        "0       354  59  65  54\n",
        "1       594  62  56  64\n",
        "2       800  59  62  58\n",
        "3      1039  51  58  59\n",
        "4      1218  59  62  56\n",
        "5       944  74  71  68\n",
        "6      1578  67  75  75\n",
        "7      2069  78  70  83\n",
        "8      2483  69  79  78\n",
        "9      2758  71  82  79"
       ]
      }
     ],
     "prompt_number": 101
    },
    {
     "cell_type": "code",
     "collapsed": false,
     "input": [
      "ax = df.plot(kind='bar', label='time', legend=True)\n",
      "ax.set_ylabel('PACKETS')\n",
      "ax.set_xlabel('TIME')\n",
      "ax.set_title('Congestion by Level')\n",
      "\n"
     ],
     "language": "python",
     "metadata": {},
     "outputs": [
      {
       "metadata": {},
       "output_type": "pyout",
       "prompt_number": 110,
       "text": [
        "<matplotlib.text.Text at 0x114e05910>"
       ]
      }
     ],
     "prompt_number": 110
    },
    {
     "cell_type": "code",
     "collapsed": false,
     "input": [
      "plt.show()"
     ],
     "language": "python",
     "metadata": {},
     "outputs": [],
     "prompt_number": 111
    },
    {
     "cell_type": "code",
     "collapsed": false,
     "input": [
      "def _create_circle(self, x, y, r, **kwargs):\n",
      "    return self.create_oval(x-r, y-r, x+r, y+r, **kwargs)\n",
      "tk.Canvas.create_circle = _create_circle"
     ],
     "language": "python",
     "metadata": {},
     "outputs": [],
     "prompt_number": 116
    },
    {
     "cell_type": "code",
     "collapsed": false,
     "input": [
      "from matplotlib.patches import Circle, PathPatch\n",
      "from mpl_toolkits.mplot3d import Axes3D \n",
      "import mpl_toolkits.mplot3d.art3d as art3d\n",
      "\n",
      "\n",
      "fig = plt.figure()\n",
      "ax=fig.gca(projection='3d')\n",
      "\n",
      "for i in range(1,3):\n",
      "    circle = Circle((0, 0), 6/i)\n",
      "    ax.add_patch(circle)\n",
      "    art3d.pathpatch_2d_to_3d(circle, z=(2-i), zdir=\"z\")\n",
      "\n",
      "\n",
      "ax.set_xlim3d(-2, 2)\n",
      "ax.set_ylim3d(-2, 2)\n",
      "ax.set_zlim3d(-2, 2)\n",
      "\n",
      "plt.show()"
     ],
     "language": "python",
     "metadata": {},
     "outputs": []
    },
    {
     "cell_type": "code",
     "collapsed": false,
     "input": [],
     "language": "python",
     "metadata": {},
     "outputs": [],
     "prompt_number": 112
    },
    {
     "cell_type": "code",
     "collapsed": false,
     "input": [],
     "language": "python",
     "metadata": {},
     "outputs": []
    }
   ],
   "metadata": {}
  }
 ]
}