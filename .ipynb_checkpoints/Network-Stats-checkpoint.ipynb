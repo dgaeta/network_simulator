{
 "metadata": {
  "name": "",
  "signature": "sha256:4a6fd4d93005aa522e03bd6f7f6a5cbc8c73086a259e71b7e9828c9aa5460bdc"
 },
 "nbformat": 3,
 "nbformat_minor": 0,
 "worksheets": [
  {
   "cells": [
    {
     "cell_type": "heading",
     "level": 1,
     "metadata": {},
     "source": [
      "Name Based Routing Project"
     ]
    },
    {
     "cell_type": "heading",
     "level": 2,
     "metadata": {},
     "source": [
      "Addressable Problem:\n"
     ]
    },
    {
     "cell_type": "raw",
     "metadata": {},
     "source": [
      "-Reduce the effects of DDoS attack\n",
      "\n",
      "-Speed up content delivery\n",
      "\n",
      "-And open up new markets by routing with named strings instead of DNS and IP."
     ]
    },
    {
     "cell_type": "heading",
     "level": 1,
     "metadata": {},
     "source": [
      "What's new/different?"
     ]
    },
    {
     "cell_type": "heading",
     "level": 3,
     "metadata": {},
     "source": [
      "Akamai's solution:"
     ]
    },
    {
     "cell_type": "raw",
     "metadata": {},
     "source": [
      "FastTCP \n",
      "-- improves traditional TCP to increase throughput and control congestion.\n",
      "-- maintain optimal send rate to not exceed network bandwidth, reducing loss rate. "
     ]
    },
    {
     "cell_type": "heading",
     "level": 6,
     "metadata": {},
     "source": [
      "\"[FastTCP] can only help if there is excess available bandwidth that loss-based TCP cannot take advantage of\" - Akamai White Paper"
     ]
    },
    {
     "cell_type": "heading",
     "level": 3,
     "metadata": {},
     "source": [
      "Our solution:"
     ]
    },
    {
     "cell_type": "raw",
     "metadata": {},
     "source": [
      "Improve Traditional IP by using Name Based Routing techniques \n",
      "    (does not require new or additional hardware)\n",
      "    \n",
      "\n",
      "    \n",
      "-Create a parent/child hierachy relationship between network routers\n",
      "-Any arbitrary string can be registered as a Domain name\n",
      "-Allows for delivery of requests from multiple sources\n"
     ]
    },
    {
     "cell_type": "heading",
     "level": 3,
     "metadata": {},
     "source": [
      "Our Hypothesis:"
     ]
    },
    {
     "cell_type": "raw",
     "metadata": {},
     "source": [
      "-We believes it will beat standard IP for DDoS attacks\n",
      "\n",
      "-It will deliver content faster than the best current content delivery method (Akamai-style content delivery)"
     ]
    },
    {
     "cell_type": "heading",
     "level": 3,
     "metadata": {},
     "source": [
      "Setup:"
     ]
    },
    {
     "cell_type": "code",
     "collapsed": false,
     "input": [
      "- Probability p of a request arising at any leaf node (1/total machine count)\n",
      "\n",
      "- 2 Queues:\n",
      "    -- The forward queue, which queues up requests, \n",
      "    -- The return queue, which queues up return requests.\n",
      "\n",
      "- Heat Map \n",
      "    -- Combines both queues into one for display purposes only.    \n",
      "\n",
      "- Ticks \n",
      "    -- (Used as unit of time)\n",
      "    -- We don't want to use CPU time.\n",
      "\n"
     ],
     "language": "python",
     "metadata": {},
     "outputs": []
    },
    {
     "cell_type": "heading",
     "level": 3,
     "metadata": {},
     "source": [
      "Progress:"
     ]
    },
    {
     "cell_type": "heading",
     "level": 4,
     "metadata": {},
     "source": [
      "    Past:"
     ]
    },
    {
     "cell_type": "raw",
     "metadata": {},
     "source": [
      "-Graphical User Interface \n",
      "    Illustrates differences betweeb Name Based Routing and traditional IP \n",
      "    -- requests 'video'\n",
      "    -- DDoS     'video'\n",
      "    \n",
      "\n",
      "-Discrete Event Simulator \n",
      "    -- collected stats on Round Trip Time for a level 4 Name Based Network (1400 machines) vs IP (1400 machines)"
     ]
    },
    {
     "cell_type": "heading",
     "level": 4,
     "metadata": {},
     "source": [
      "Current:"
     ]
    },
    {
     "cell_type": "raw",
     "metadata": {},
     "source": [
      "-Graphical User Interface\n",
      "    -- NB performance while supporting delivery from multiple sources 'video'\n",
      "    -- IP performance under a spike in requests for particular content 'video'\n",
      "    \n",
      "-Discreate Event Simulator\n",
      "    -- Simulation that collects Rount Trip Time to fulfill a request for IP and NB for:\n",
      "        --- 4 levels (1,400 machines)\n",
      "        --- 5 levels (16,807 machines)\n",
      "        --- 6 levels (117,648 machines)"
     ]
    },
    {
     "cell_type": "raw",
     "metadata": {},
     "source": []
    },
    {
     "cell_type": "code",
     "collapsed": false,
     "input": [
      "from graphs import *\n",
      "%matplotlib inline\n",
      "rtt_means()"
     ],
     "language": "python",
     "metadata": {},
     "outputs": [
      {
       "metadata": {},
       "output_type": "display_data",
       "png": "[encoded data removed]",
       "text": [
        "<matplotlib.figure.Figure at 0x1075bfcd0>"
       ]
      }
     ],
     "prompt_number": 9
    },
    {
     "cell_type": "code",
     "collapsed": false,
     "input": [
      "average_difference()"
     ],
     "language": "python",
     "metadata": {},
     "outputs": [
      {
       "metadata": {},
       "output_type": "display_data",
       "png": "[encoded data removed]",
       "text": [
        "<matplotlib.figure.Figure at 0x10771cad0>"
       ]
      }
     ],
     "prompt_number": 10
    },
    {
     "cell_type": "code",
     "collapsed": false,
     "input": [],
     "language": "python",
     "metadata": {},
     "outputs": []
    }
   ],
   "metadata": {}
  }
 ]
}