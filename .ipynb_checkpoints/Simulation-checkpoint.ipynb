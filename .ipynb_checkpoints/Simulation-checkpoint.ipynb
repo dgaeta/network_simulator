{
 "metadata": {
  "name": "",
  "signature": "sha256:3e1c29863fec835e6dc4773da6fc3f2e540ab76343da2e17cc46ae261d0f0035"
 },
 "nbformat": 3,
 "nbformat_minor": 0,
 "worksheets": [
  {
   "cells": [
    {
     "cell_type": "code",
     "collapsed": false,
     "input": [
      "import Tkinter as tk\n",
      "from time import sleep\n",
      "import math\n",
      "import logging\n",
      "import Servers \n",
      "import random"
     ],
     "language": "python",
     "metadata": {},
     "outputs": [],
     "prompt_number": 7
    },
    {
     "cell_type": "code",
     "collapsed": false,
     "input": [
      "logging.getLogger().setLevel(logging.DEBUG)"
     ],
     "language": "python",
     "metadata": {},
     "outputs": [],
     "prompt_number": 8
    },
    {
     "cell_type": "code",
     "collapsed": false,
     "input": [
      "import matplotlib\n",
      "matplotlib.use('TkAgg')\n",
      "\n",
      "from matplotlib.backends.backend_tkagg import FigureCanvasTkAgg, NavigationToolbar2TkAgg\n",
      "# implement the default mpl key bindings\n",
      "from matplotlib.backend_bases import key_press_handler"
     ],
     "language": "python",
     "metadata": {},
     "outputs": [],
     "prompt_number": 9
    },
    {
     "cell_type": "code",
     "collapsed": false,
     "input": [
      "def _create_circle(self, x, y, r, **kwargs):\n",
      "    \"\"\"implementation for creating a circle in Tk\"\"\"\n",
      "    return self.create_oval(x-r, y-r, x+r, y+r, **kwargs)\n",
      "tk.Canvas.create_circle = _create_circle\n"
     ],
     "language": "python",
     "metadata": {},
     "outputs": [],
     "prompt_number": 10
    },
    {
     "cell_type": "code",
     "collapsed": false,
     "input": [
      "class Network:\n",
      "    def __init__(self, levels):\n",
      "        \n",
      "        # data structs for the network\n",
      "        self.nodes = {}\n",
      "        self.in_transit_packets = []\n",
      "        self.levels = levels\n",
      "        self.lower_lim = 7**levels\n",
      "        self.upper_lim = 7**(levels+1)\n",
      "        self.active_requests = {}\n",
      "        \n",
      "        # GUI for network sim \n",
      "        self.root = tk.Tk()\n",
      "        \n",
      "        self.frame =  tk.Frame(self.root, width=1000, height=1000, bd=2, relief='sunken') # ADDED\n",
      "        self.frame.pack()\n",
      "        \n",
      "        self.canvas = tk.Canvas(self.root, height=1000, width=1000)\n",
      "        self.canvas.pack()\n",
      "        \n",
      "        self.test = tk.Label(self.frame, text=\"Node health scale\")\n",
      "        self.test.pack(side='left')\n",
      "        \n",
      "        # Photo for heatmap\n",
      "        photo = tk.PhotoImage(file=\"heat1.gif\")\n",
      "        self.label = tk.Label(self.frame, text=\"Heatmap!\", image=photo, anchor='w', justify='left')\n",
      "        self.label.photo = photo\n",
      "        self.label.pack(side='left')\n",
      "        \n",
      "        # Enqueue the build into the mainloop\n",
      "        self.root.after(0, self.build(levels))\n",
      "        \n",
      "        \n",
      "        # Create a button to close the program\n",
      "        self.button = tk.Button(\n",
      "            self.frame, text=\"QUIT\", fg=\"red\", command=self.end_program\n",
      "            )\n",
      "        self.button.pack(side='left')\n",
      "        \n",
      "        # Create a button to publish the data\n",
      "        self.button = tk.Button(\n",
      "            self.frame, text=\"Publish\", fg=\"red\", command=lambda: self.publish_content('ok','ok',686)\n",
      "            )\n",
      "        self.button.pack(side='left')\n",
      "        \n",
      "        # Button for testing numbers\n",
      "        #self.button = tk.Button(\n",
      "         #   self.frame, text=\"test num\", fg=\"red\", command=lambda: self.test_nums()\n",
      "          #  )\n",
      "        #self.button.pack(side='left')\n",
      "        \n",
      "        # Button for intiating request\n",
      "        self.button = tk.Button(\n",
      "            self.frame, text=\"Make Request\", fg=\"red\", command=lambda: self.begin_initial_request('ok', 444)\n",
      "            )\n",
      "        self.button.pack(side='left')\n",
      "        \n",
      "        # Button for stepping through simulation\n",
      "        self.button = tk.Button(\n",
      "            self.frame, text=\"Process\", fg=\"red\", command=lambda: self.step()\n",
      "            )\n",
      "        self.button.pack(side='left')\n",
      "        \n",
      "        #\n",
      "        \"\"\"self.button = tk.Button(\n",
      "            self.frame, text=\"Deliver\", fg=\"red\", command=lambda: self.deliver_in_transit_packets()\n",
      "            )\n",
      "        self.button.pack(side='left')\n",
      "        \"\"\"\n",
      "        \n",
      "        # Button displaying original requests still waiting \n",
      "        self.button = tk.Button(\n",
      "            self.frame, text=\"Status\", fg=\"red\", command=lambda: self.status()\n",
      "            )\n",
      "        self.button.pack(side='left')\n",
      "        \n",
      "        #\n",
      "        self.button = tk.Button(\n",
      "            self.frame, text=\"Run\", fg=\"red\", command=lambda: self.simulation()\n",
      "            )\n",
      "        self.button.pack(side='left')\n",
      "        \n",
      "        self.button = tk.Button(\n",
      "            self.frame, text=\"Initiate\", fg=\"red\", command=lambda: self.initiate()\n",
      "            )\n",
      "        self.button.pack(side='left')\n",
      "        \n",
      "        self.button = tk.Button(\n",
      "            self.frame, text=\"Prepare\", fg=\"red\", command=lambda: self.prepare()\n",
      "            )\n",
      "        self.button.pack(side='left')\n",
      "        \n",
      "        self.canvas.update()\n",
      "        self.root.mainloop()\n",
      "        \n",
      "    def status(self):\n",
      "        logging.debug(' Requests still awaiting content %s', str(self.active_requests))\n",
      "    \n",
      "    def test_nums(self):\n",
      "        for i in range(1,100):\n",
      "            print i\n",
      "            self.canvas.itemconfig(self.nodes[i].canvas_id, outline='yellow', width=2.0)\n",
      "            self.canvas.update()\n",
      "            sleep(1)\n",
      "            self.canvas.itemconfig(self.nodes[i].canvas_id, outline='grey', width=1.0)\n",
      "            self.canvas.update()\n",
      "            \n",
      "    def prepare(self):\n",
      "        c = 4000\n",
      "        for n in range(400,10128):\n",
      "            rand = self.get_random_leaf_machine()\n",
      "            self.publish_content(str(c), str(c), rand)\n",
      "            c += 1\n",
      "            \n",
      "    def initiate(self):\n",
      "        for i in range(1,11):\n",
      "            source_id = random.randint(self.lower_lim, self.upper_lim+1)\n",
      "            content_name = str(random.randint(400,10128))\n",
      "            self.nodes[source_id].incoming.append({'content_name': content_name, 'from_id':0, '_type': 'request' })  # 0 signifies that it is the source of request\n",
      "            self.canvas.itemconfig(self.nodes[source_id].canvas_id, outline='blue', width=2.0)\n",
      "            self.canvas.update()\n",
      "            self.active_requests[source_id] = {content_name:1} #1 is a dummy holder\n",
      "        logging.debug('  Simulation ready: ')\n",
      "        \n",
      "        \n",
      "    def rand_request(self):\n",
      "        x = random.randint(lower_lim,upper_lim+1)\n",
      "        content = random.randint(400,10127+1) ## hard coded\n",
      "        self.nodes[x].incoming.append({'content_name': str(content), 'from_id':0, '_type': 'request' })\n",
      "    \n",
      "    def fire(self, amount):\n",
      "        #_100requests_randomly\n",
      "        for j in range(1,amount):\n",
      "            rand_id = random.randint(self.lower_lim ,self.upper_lim )\n",
      "            node = self.nodes[rand_id]\n",
      "            for i in range(1,10):\n",
      "                name = node.id \n",
      "                while name == node.id:\n",
      "                    name = random.randint(4000,7127)\n",
      "                self.nodes[rand_id].incoming.append({'content_name': name, 'from_id':0, '_type': 'request' })\n",
      "                self.active_requests[rand_id] = {name:1}\n",
      "            logging.debug(' FIRE!')\n",
      "            \n",
      "    def simulation(self):\n",
      "        while len(self.active_requests) > 0:\n",
      "            self.step()\n",
      "            self.deliver_in_transit_packets()\n",
      "            sleep(.5)\n",
      "        logging.debug(' No Network Activity')\n",
      "        \n",
      "\n",
      "    \n",
      "    def begin_initial_request(self, content_name, _id):\n",
      "        # Run Simulation\n",
      "        logging.debug(' Initializing Simulation ...')\n",
      "        source_id = _id\n",
      "        logging.debug(' Initializing request for %s at node %d', content_name, source_id)\n",
      "        self.nodes[source_id].incoming.append({'content_name': content_name, 'from_id':0, '_type': 'request' })  # 0 signifies that it is the source of request\n",
      "        logging.debug('  Simulation ready: ')\n",
      "        self.canvas.itemconfig(self.nodes[source_id].canvas_id, outline='blue', width=2.0)\n",
      "        self.canvas.update()\n",
      "        self.active_requests[_id] = {content_name:1} #1 is a dummy holder\n",
      "    \n",
      "    \n",
      "    def end_program(self):\n",
      "        self.root.destroy()\n",
      "    \n",
      "    def get_other_leaf_machine(self,node_id):\n",
      "        x = node_id\n",
      "        while x == node_id:\n",
      "            x = random.randint(self.lower_lim, self.upper_lim)\n",
      "        return x\n",
      "\n",
      "\n",
      "    def get_random_leaf_machine(self):\n",
      "        return random.randint(self.lower_lim, self.upper_lim)\n",
      "    \n",
      "    def publish_content( self,content_name, content_data, dest_id):\n",
      "        ####dest_id hard coded right now, random\n",
      "        #dest_id = self.get_random_leaf_machine()\n",
      "        logging.debug(' Publishing content: (%s)  to  node %d', content_name, dest_id)\n",
      "        self.canvas.itemconfig(self.nodes[dest_id].canvas_id, outline='purple', width=2.0)\n",
      "        self.canvas.update()\n",
      "        self.nodes[dest_id].content_store[content_name] =  content_data\n",
      "        logging.debug(' Publishing Complete')\n",
      "        sleep(1)\n",
      "        self.canvas.itemconfig(self.nodes[dest_id].canvas_id, outline='grey', width=1.0)\n",
      "        self.canvas.update()\n",
      "\n",
      "\n",
      "        logging.debug(' Updating forwarding tables of parents of node %d ... ' % dest_id)\n",
      "        # Get all parents of dest node until reaching root 1\n",
      "        flag = False\n",
      "        current = dest_id\n",
      "        parent_id = self.get_parent(dest_id)\n",
      "        while ( parent_id != 0 ):    # parent of 1 always returns 0\n",
      "            self.nodes[parent_id].forwarding_table[content_name] = current\n",
      "            self.canvas.itemconfig(self.nodes[parent_id].canvas_id, outline='purple', width=2.0)\n",
      "            self.canvas.itemconfig(self.nodes[self.get_actual_node(parent_id)].canvas_id, outline='purple', width=2.0)\n",
      "            self.canvas.update()\n",
      "            sleep(1)\n",
      "            self.canvas.itemconfig(self.nodes[parent_id].canvas_id, outline='grey', width=1.0)\n",
      "            self.canvas.itemconfig(self.nodes[self.get_actual_node(parent_id)].canvas_id, outline='grey', width=1.0)\n",
      "            self.canvas.update()\n",
      "            logging.debug(' Updated forwarding table of node %d ' % parent_id)\n",
      "            logging.debug(' Forwarding table now is: %s', str(self.nodes[parent_id].forwarding_table))\n",
      "            current = parent_id\n",
      "            parent_id = self.get_parent(parent_id)\n",
      "        logging.debug(' Completed updating FT of parents of %d ' % dest_id)\n",
      "    \n",
      "    \n",
      "    def get_child_at(self,direction, node_id):\n",
      "        if (direction.lower() == 'c'):\n",
      "            return 7*node_id + 1\n",
      "        elif (direction.lower() == 'n'):\n",
      "            return 7*node_id + 2\n",
      "        elif (direction.lower() == 's'):\n",
      "            return 7*node_id + 3\n",
      "        elif (direction.lower() == 'ne'):\n",
      "            return 7*node_id+ 4\n",
      "        elif (direction.lower() == 'se'):\n",
      "            return 7*node_id + 5\n",
      "        elif (direction.lower() == 'nw'):\n",
      "            return 7*node_id + 6\n",
      "        elif (direction.lower() == 'sw'):\n",
      "            return 7*node_id + 7\n",
      "        else:\n",
      "            return 'error'\n",
      "    \n",
      "    \n",
      "    \n",
      "    def get_parent(self, node_id):   \n",
      "        n = node_id\n",
      "        if n == 1: \n",
      "            return 0\n",
      "        if (n <= 7):\n",
      "            return 1 \n",
      "        elif (n%7 == 1):\n",
      "            return (n/7)\n",
      "        else:\n",
      "            return self.get_parent((n - ((n-1)%7))) #need one more level up because it was not a center node\n",
      "    \n",
      "    \"\"\"OLD\n",
      "    def get_parent(self,node_id):\n",
      "        n = node_id\n",
      "        if n == 1: \n",
      "            return 0\n",
      "        if (n <= 7):\n",
      "            return 1 \n",
      "        elif (n%7 == 1):\n",
      "            return (n/7) \n",
      "        else:\n",
      "            return (n - ((n-1)%7)) \n",
      "    \"\"\"\n",
      "    \n",
      "    def get_actual_node(self,rep):\n",
      "        lower_lim =7**self.levels \n",
      "        upper_lim =7**(self.levels+1)\n",
      "\n",
      "        curr = rep\n",
      "        while not (curr>=lower_lim and curr<=upper_lim):\n",
      "            curr = self.get_child_at('c',curr)\n",
      "        return curr\n",
      "    \n",
      "    def get_parent_and_actual(self, node_id):\n",
      "        parent_id = self.get_parent(node_id)\n",
      "        return [parent_id, get_actual_node(parent_id, self.levels)]\n",
      "    \n",
      "    def get_color(self, node_id):\n",
      "        size = len(self.nodes[node_id].incoming)\n",
      "        if size == 0:\n",
      "            return 'grey'\n",
      "        elif size < 5:\n",
      "            return 'blue'\n",
      "        elif size < 25:\n",
      "            return 'yellow'\n",
      "        elif size < 75:\n",
      "            return 'orange'\n",
      "        elif size < 101:\n",
      "            return 'red'\n",
      "    \n",
      "    def deliver_in_transit_packets(self):\n",
      "        while( len(self.in_transit_packets) > 0):\n",
      "            packet = self.in_transit_packets.pop()\n",
      "            dest_id = packet['dest_id']\n",
      "            self.nodes[dest_id].incoming.append(packet) \n",
      "            logging.debug(' Delivered packet from %d to %d', packet['from_id'], packet['dest_id'])\n",
      "            #Update the edge color to the recipient\n",
      "            color = self.get_color(dest_id)\n",
      "            canvas_id = self.nodes[dest_id].canvas_id\n",
      "            if self.canvas.itemcget(canvas_id, 'outline') != color:\n",
      "                self.canvas.itemconfig(canvas_id, outline=color, width=1.0)\n",
      "                self.canvas.itemconfig(self.nodes[self.get_actual_node(dest_id)].canvas_id, outline=color, width=1.0)\n",
      "                self.canvas.update()\n",
      "                  \n",
      "        \n",
      "    def step(self):\n",
      "        for n in reversed(range(1, len(self.nodes))):\n",
      "            self.process(n)       \n",
      "        #self.deliver_in_transit_packets()\n",
      "        \n",
      "        \n",
      "    def process(self, node_id):\n",
      "        #logging.debug(' processing incoming packet at %d' % node_id)\n",
      "        if len(self.nodes[node_id].incoming) >= 1:\n",
      "            logging.debug(' processing incoming packet at %d' % node_id)\n",
      "            packet = self.nodes[node_id].incoming.popleft()\n",
      "            pack = str(packet)\n",
      "            logging.debug(\" packet data: %s\", pack) \n",
      "            \n",
      "            #Update the color now that we popped an incoming packet\n",
      "            color = self.get_color(node_id)\n",
      "            self.canvas.itemconfig(self.nodes[node_id].canvas_id, outline=color, width=1.0)\n",
      "            self.canvas.itemconfig(self.nodes[self.get_actual_node(node_id)].canvas_id, outline=color, width=1.0)\n",
      "            self.canvas.update()\n",
      "\n",
      "            if packet['_type'] == 'request':\n",
      "                # Packet is a request      \n",
      "                content_name = packet['content_name']\n",
      "                requester_id = packet['from_id']    \n",
      "                \n",
      "                # Case 1: content in cache\n",
      "                if content_name in self.nodes[node_id].content_store:\n",
      "                    self.nodes[node_id].outgoing_packet({ 'content_name': content_name, 'from_id':node_id,\n",
      "                                                         'content_data':self.nodes[node_id].content_store[content_name], \n",
      "                                                         'dest_id':requester_id, '_type':'response'},\n",
      "                                                         self.in_transit_packets)\n",
      "                    logging.debug(\" content %s already in cache\", content_name) \n",
      "                    logging.debug(\" sent content back to  %d \", requester_id)\n",
      "\n",
      "                # Case 2: duplicate request exists\n",
      "                elif content_name in self.nodes[node_id].pending_table:   \n",
      "                    self.nodes[node_id].pending_table[content_name] + [requester_id]\n",
      "                    #logging.debug(\" duplicate request for content %s , added requester_id %d to PT\", packet[content_name], packet[requester_id]) \n",
      "                    logging.debug(\" duplicate request for content , added requester_id to PT\") \n",
      "                    \n",
      "                # Case 3: no pending request, but location lives in children, create entry in PT, send request to child\n",
      "                elif content_name in self.nodes[node_id].forwarding_table:\n",
      "                    directed_child_id  = self.nodes[node_id].forwarding_table[content_name]   #direction of child where destination node is contained \n",
      "                    self.nodes[node_id].pending_table[content_name] = [requester_id]          # entry in PT created\n",
      "                    self.nodes[node_id].outgoing_packet( {'content_name': content_name , 'dest_id':directed_child_id, \n",
      "                                                          'from_id': node_id, '_type': 'request'}, self.in_transit_packets)\n",
      "                    logging.debug(\" location content %s known, entry for requester %d created in PT\", content_name, requester_id) \n",
      "                    logging.debug(\" forwarded request to child %d \", directed_child_id )\n",
      "\n",
      "                # Case 4: no duplicate, add to PT, forward to parent \n",
      "                else: \n",
      "                    self.nodes[node_id].pending_table[content_name] = [requester_id]\n",
      "                    parent_id = self.get_parent(node_id)\n",
      "                    self.nodes[node_id].outgoing_packet({'content_name':content_name, 'from_id':node_id,\n",
      "                                                         'dest_id': parent_id, \"_type\": 'request'}, self.in_transit_packets)\n",
      "                    logging.debug(\" content %s NOT known, entry for requester %d created in PT, sent request to parent %d\", content_name, requester_id, parent_id) \n",
      "                    self.active_requests[node_id] = {content_name:1}\n",
      "                    \n",
      "            elif packet['_type'] == 'response':\n",
      "                # packet is a response\n",
      "                content_name = packet['content_name']\n",
      "                data = packet['content_data']    \n",
      "\n",
      "                # Case 1: node is source of request, 0 signifies it is the source of request\n",
      "                if self.nodes[node_id].pending_table[content_name][0] ==  0:   \n",
      "                    logging.debug(\" DONE! I am the source: %d\" % node_id)\n",
      "                    self.nodes[node_id].content_store[content_name] = data\n",
      "                    logging.debug(\" Added content (%s) to content store\"  % content_name)\n",
      "                    del self.nodes[node_id].pending_table[content_name]\n",
      "                    logging.debug(\" Deleted content (%s) from PT\"  % content_name)\n",
      "                    # Remove from the networks active requests monitor\n",
      "                    del self.active_requests[node_id][content_name] \n",
      "                    if len(self.active_requests[node_id])==0:\n",
      "                        del self.active_requests[node_id]\n",
      "\n",
      "                # Case 2: node was a middle man\n",
      "                else:\n",
      "                    print logging.debug(\"Forwarding response along to all requesters, I am: %d ... \", node_id)\n",
      "                    for dest_id in self.nodes[node_id].pending_table[content_name]:\n",
      "                        self.nodes[node_id].outgoing_packet({'content_name':packet['content_name'], 'from_id':node_id, \n",
      "                                                             'content_data':data, '_type':'response', 'dest_id':dest_id},\n",
      "                                                            self.in_transit_packets )\n",
      "                        logging.debug(\"Sent response to requester %d \", dest_id)\n",
      "                        logging.debug(\"Forwarding to all requesters complete\")\n",
      "\n",
      "                        del self.nodes[node_id].pending_table[packet['content_name']]\n",
      "                        logging.debug(\" Deleted content (%s) from PT\"  % content_name)\n",
      "                        self.nodes[node_id].content_store[packet['content_name']] = data\n",
      "                        logging.debug(\" Added content (%s) to content store\"  % content_name)\n",
      "\n",
      "            else:\n",
      "                logging.warning(' Mislabeled Packet')\n",
      "\n",
      "    \n",
      "    \n",
      "    def build(self, levels):\n",
      "        self._build(levels, 0, 150, 550, 500)\n",
      "    \n",
      "    def _build(self, level,i,r,x,y):\n",
      "        \"\"\" Helper function for build() \"\"\"\n",
      "        #center = 7i+1\n",
      "        #north = 7i+2\n",
      "        #south = 7i+3\n",
      "        #northaast = 7i+4\n",
      "        #southeast = 7i+5\n",
      "        #northwest = 7i+6\n",
      "        #southwest = 7i+7\n",
      "    \n",
      "      \n",
      "        if level > 0:\n",
      "\n",
      "            #center\n",
      "            canvas_id = self.canvas.create_circle(x, y , r, outline = 'grey', width = 1.0, tags=str(7*i+1))\n",
      "            self.nodes[7*i+1] = Servers.NBServer(7*i+1, canvas_id)\n",
      "            self.canvas.create_circle(x, y , r, outline = 'grey', width = 1.0, tags=str(7*i+1))\n",
      "            self.root.after(0, self._build(level-1,7*i+1,r/3,x,(y)))\n",
      "\n",
      "            #north\n",
      "            canvas_id = self.canvas.create_circle(x, (y-(2.0*r)) , r, outline = 'grey', width = 1.0, tags=str(7*i+2))\n",
      "            self.nodes[7*i+2] = Servers.NBServer(7*i+2, canvas_id)\n",
      "            self.root.after(0, self._build(level-1,7*i+2,r/3,x,(y-(2.0*r))))\n",
      "\n",
      "            #south\n",
      "            canvas_id = self.canvas.create_circle(x, (y+(2.0*r)) , r, outline = 'grey', width = 1.0, tags=str(7*i+3))\n",
      "            self.nodes[7*i+3] = Servers.NBServer(7*i+3, canvas_id)\n",
      "            self.root.after(0, self._build(level-1,7*i+3,r/3,x,(y+(2.0*r))))\n",
      "\n",
      "            #northeast\n",
      "            canvas_id = self.canvas.create_circle(x+2*r*math.sqrt(3)/2, (y-r) , r, outline = 'grey', width = 1.0, tags=str(7*i+4))            \n",
      "            self.nodes[7*i+4] = Servers.NBServer(7*i+4, canvas_id)\n",
      "            self.root.after(0, self._build(level-1,7*i+4,r/3,x+2*r*math.sqrt(3)/2,(y-r)))\n",
      "\n",
      "            #southeast\n",
      "            canvas_id = self.canvas.create_circle(x+2*r*math.sqrt(3)/2, (y+r) , r, outline = 'grey', width = 1.0, tags=str(7*i+5))\n",
      "            self.nodes[7*i+5] = Servers.NBServer(7*i+5, canvas_id)\n",
      "            self.root.after(0, self._build(level-1,7*i+5,r/3,x+2*r*math.sqrt(3)/2,(y+r)))\n",
      "\n",
      "            #northwest\n",
      "            canvas_id = self.canvas.create_circle( x-2*r*math.sqrt(3)/2 , (y-r) , r, outline = 'grey', width = 1.0, tags=str(7*i+6))\n",
      "            self.nodes[7*i+6] = Servers.NBServer(7*i+6, canvas_id)\n",
      "            self.root.after(0, self._build(level-1,7*i+6,r/3,x-2*r*math.sqrt(3)/2,(y-r)))\n",
      "\n",
      "            #southwest\n",
      "            canvas_id = self.canvas.create_circle( x-2*r*math.sqrt(3)/2, (y+r) , r, outline = 'grey', width = 1.0, tags=str(7*i+7))\n",
      "            self.nodes[7*i+7] = Servers.NBServer(7*i+7, canvas_id)\n",
      "            self.root.after(0, self._build(level-1,7*i+7,r/3,x-2*r*math.sqrt(3)/2,(y+r)))\n",
      "                    \n",
      "        else:\n",
      "            if level == 0:\n",
      "                #center\n",
      "                canvas_id = self.canvas.create_circle(x, y , r, outline = 'grey', width = 1.0, tags=str(7*i+1))\n",
      "                self.nodes[7*i+1] = Servers.NBServer(7*i+1, canvas_id)\n",
      "                \n",
      "                #north\n",
      "                canvas_id = self.canvas.create_circle(x, (y-(2.0*r)) , r, outline = 'grey', width = 1.0, tags=str(7*i+2))\n",
      "                self.nodes[7*i+2] = Servers.NBServer(7*i+2, canvas_id)\n",
      "               \n",
      "                #south\n",
      "                canvas_id = self.canvas.create_circle(x, (y+(2.0*r)) , r, outline = 'grey', width = 1.0, tags=str(7*i+3))\n",
      "                self.nodes[7*i+3] = Servers.NBServer(7*i+3, canvas_id)\n",
      "\n",
      "                #northeast\n",
      "                canvas_id = self.canvas.create_circle(x+2*r*math.sqrt(3)/2, (y-r), r, outline = 'grey', width = 1.0, tags=str(7*i+4))\n",
      "                self.nodes[7*i+4] = Servers.NBServer(7*i+4, canvas_id)\n",
      "               \n",
      "                #southeast\n",
      "                canvas_id = self.canvas.create_circle(x+2*r*math.sqrt(3)/2, (y+r) , r, outline = 'grey', width = 1.0, tags=str(7*i+5))\n",
      "                self.nodes[7*i+5] = Servers.NBServer(7*i+5, canvas_id)\n",
      "              \n",
      "                #northwest\n",
      "                canvas_id = self.canvas.create_circle(x-2*r*math.sqrt(3)/2, (y-r) , r, outline = 'grey', width = 1.0, tags=str(7*i+6))\n",
      "                self.nodes[7*i+6] = Servers.NBServer(7*i+6, canvas_id)\n",
      "               \n",
      "\n",
      "                #southwest\n",
      "                canvas_id = self.canvas.create_circle(x-2*r*math.sqrt(3)/2, (y+r) , r, outline = 'grey', width = 1.0, tags=str(7*i+7))\n",
      "                self.nodes[7*i+7] = Servers.NBServer(7*i+7, canvas_id)\n",
      "                \n",
      "\n",
      "                \n"
     ],
     "language": "python",
     "metadata": {},
     "outputs": []
    },
    {
     "cell_type": "code",
     "collapsed": false,
     "input": [
      "#root = tk.Tk()\n",
      "net1 = Network(3)"
     ],
     "language": "python",
     "metadata": {},
     "outputs": [
      {
       "output_type": "stream",
       "stream": "stderr",
       "text": [
        "DEBUG:root: Publishing content: (4000)  to  node 2041\n"
       ]
      },
      {
       "output_type": "stream",
       "stream": "stderr",
       "text": [
        "DEBUG:root: Publishing Complete\n"
       ]
      },
      {
       "output_type": "stream",
       "stream": "stderr",
       "text": [
        "DEBUG:root: Updating forwarding tables of parents of node 2041 ... \n"
       ]
      },
      {
       "output_type": "stream",
       "stream": "stderr",
       "text": [
        "DEBUG:root: Updated forwarding table of node 291 \n"
       ]
      },
      {
       "output_type": "stream",
       "stream": "stderr",
       "text": [
        "DEBUG:root: Forwarding table now is: {'4000': 2041}\n"
       ]
      },
      {
       "output_type": "stream",
       "stream": "stderr",
       "text": [
        "DEBUG:root: Updated forwarding table of node 41 \n"
       ]
      },
      {
       "output_type": "stream",
       "stream": "stderr",
       "text": [
        "DEBUG:root: Forwarding table now is: {'4000': 291}\n"
       ]
      },
      {
       "output_type": "stream",
       "stream": "stderr",
       "text": [
        "DEBUG:root: Updated forwarding table of node 5 \n"
       ]
      },
      {
       "output_type": "stream",
       "stream": "stderr",
       "text": [
        "DEBUG:root: Forwarding table now is: {'4000': 41}\n"
       ]
      },
      {
       "output_type": "stream",
       "stream": "stderr",
       "text": [
        "DEBUG:root: Updated forwarding table of node 1 \n"
       ]
      },
      {
       "output_type": "stream",
       "stream": "stderr",
       "text": [
        "DEBUG:root: Forwarding table now is: {'4000': 5}\n"
       ]
      },
      {
       "output_type": "stream",
       "stream": "stderr",
       "text": [
        "DEBUG:root: Completed updating FT of parents of 2041 \n"
       ]
      },
      {
       "output_type": "stream",
       "stream": "stderr",
       "text": [
        "DEBUG:root: Publishing content: (4001)  to  node 540\n"
       ]
      },
      {
       "output_type": "stream",
       "stream": "stderr",
       "text": [
        "DEBUG:root: Publishing Complete\n"
       ]
      },
      {
       "output_type": "stream",
       "stream": "stderr",
       "text": [
        "DEBUG:root: Updating forwarding tables of parents of node 540 ... \n"
       ]
      },
      {
       "output_type": "stream",
       "stream": "stderr",
       "text": [
        "DEBUG:root: Updated forwarding table of node 77 \n"
       ]
      },
      {
       "output_type": "stream",
       "stream": "stderr",
       "text": [
        "DEBUG:root: Forwarding table now is: {'4001': 540}\n"
       ]
      },
      {
       "output_type": "stream",
       "stream": "stderr",
       "text": [
        "DEBUG:root: Updated forwarding table of node 10 \n"
       ]
      },
      {
       "output_type": "stream",
       "stream": "stderr",
       "text": [
        "DEBUG:root: Forwarding table now is: {'4001': 77}\n"
       ]
      },
      {
       "output_type": "stream",
       "stream": "stderr",
       "text": [
        "DEBUG:root: Updated forwarding table of node 1 \n"
       ]
      },
      {
       "output_type": "stream",
       "stream": "stderr",
       "text": [
        "DEBUG:root: Forwarding table now is: {'4000': 5, '4001': 10}\n"
       ]
      },
      {
       "output_type": "stream",
       "stream": "stderr",
       "text": [
        "DEBUG:root: Completed updating FT of parents of 540 \n"
       ]
      },
      {
       "output_type": "stream",
       "stream": "stderr",
       "text": [
        "DEBUG:root: Publishing content: (4002)  to  node 385\n"
       ]
      },
      {
       "output_type": "stream",
       "stream": "stderr",
       "text": [
        "DEBUG:root: Publishing Complete\n"
       ]
      },
      {
       "output_type": "stream",
       "stream": "stderr",
       "text": [
        "DEBUG:root: Updating forwarding tables of parents of node 385 ... \n"
       ]
      },
      {
       "output_type": "stream",
       "stream": "stderr",
       "text": [
        "DEBUG:root: Updated forwarding table of node 54 \n"
       ]
      },
      {
       "output_type": "stream",
       "stream": "stderr",
       "text": [
        "DEBUG:root: Forwarding table now is: {'4002': 385}\n"
       ]
      },
      {
       "output_type": "stream",
       "stream": "stderr",
       "text": [
        "DEBUG:root: Updated forwarding table of node 7 \n"
       ]
      },
      {
       "output_type": "stream",
       "stream": "stderr",
       "text": [
        "DEBUG:root: Forwarding table now is: {'4002': 54}\n"
       ]
      },
      {
       "output_type": "stream",
       "stream": "stderr",
       "text": [
        "DEBUG:root: Updated forwarding table of node 1 \n"
       ]
      },
      {
       "output_type": "stream",
       "stream": "stderr",
       "text": [
        "DEBUG:root: Forwarding table now is: {'4000': 5, '4001': 10, '4002': 7}\n"
       ]
      },
      {
       "output_type": "stream",
       "stream": "stderr",
       "text": [
        "DEBUG:root: Completed updating FT of parents of 385 \n"
       ]
      },
      {
       "output_type": "stream",
       "stream": "stderr",
       "text": [
        "DEBUG:root: Publishing content: (4003)  to  node 2306\n"
       ]
      },
      {
       "output_type": "stream",
       "stream": "stderr",
       "text": [
        "DEBUG:root: Publishing Complete\n"
       ]
      },
      {
       "output_type": "stream",
       "stream": "stderr",
       "text": [
        "DEBUG:root: Updating forwarding tables of parents of node 2306 ... \n"
       ]
      },
      {
       "output_type": "stream",
       "stream": "stderr",
       "text": [
        "DEBUG:root: Updated forwarding table of node 329 \n"
       ]
      },
      {
       "output_type": "stream",
       "stream": "stderr",
       "text": [
        "DEBUG:root: Forwarding table now is: {'4003': 2306}\n"
       ]
      },
      {
       "output_type": "stream",
       "stream": "stderr",
       "text": [
        "DEBUG:root: Updated forwarding table of node 46 \n"
       ]
      },
      {
       "output_type": "stream",
       "stream": "stderr",
       "text": [
        "DEBUG:root: Forwarding table now is: {'4003': 329}\n"
       ]
      },
      {
       "output_type": "stream",
       "stream": "stderr",
       "text": [
        "DEBUG:root: Updated forwarding table of node 6 \n"
       ]
      },
      {
       "output_type": "stream",
       "stream": "stderr",
       "text": [
        "DEBUG:root: Forwarding table now is: {'4003': 46}\n"
       ]
      },
      {
       "output_type": "stream",
       "stream": "stderr",
       "text": [
        "DEBUG:root: Updated forwarding table of node 1 \n"
       ]
      },
      {
       "output_type": "stream",
       "stream": "stderr",
       "text": [
        "DEBUG:root: Forwarding table now is: {'4000': 5, '4001': 10, '4002': 7, '4003': 6}\n"
       ]
      },
      {
       "output_type": "stream",
       "stream": "stderr",
       "text": [
        "DEBUG:root: Completed updating FT of parents of 2306 \n"
       ]
      },
      {
       "output_type": "stream",
       "stream": "stderr",
       "text": [
        "DEBUG:root: Publishing content: (4004)  to  node 1959\n"
       ]
      },
      {
       "output_type": "stream",
       "stream": "stderr",
       "text": [
        "DEBUG:root: Publishing Complete\n"
       ]
      },
      {
       "output_type": "stream",
       "stream": "stderr",
       "text": [
        "DEBUG:root: Updating forwarding tables of parents of node 1959 ... \n"
       ]
      },
      {
       "output_type": "stream",
       "stream": "stderr",
       "text": [
        "DEBUG:root: Updated forwarding table of node 279 \n"
       ]
      },
      {
       "output_type": "stream",
       "stream": "stderr",
       "text": [
        "DEBUG:root: Forwarding table now is: {'4004': 1959}\n"
       ]
      },
      {
       "output_type": "stream",
       "stream": "stderr",
       "text": [
        "DEBUG:root: Updated forwarding table of node 39 \n"
       ]
      },
      {
       "output_type": "stream",
       "stream": "stderr",
       "text": [
        "DEBUG:root: Forwarding table now is: {'4004': 279}\n"
       ]
      },
      {
       "output_type": "stream",
       "stream": "stderr",
       "text": [
        "DEBUG:root: Updated forwarding table of node 5 \n"
       ]
      },
      {
       "output_type": "stream",
       "stream": "stderr",
       "text": [
        "DEBUG:root: Forwarding table now is: {'4000': 41, '4004': 39}\n"
       ]
      },
      {
       "output_type": "stream",
       "stream": "stderr",
       "text": [
        "DEBUG:root: Updated forwarding table of node 1 \n"
       ]
      },
      {
       "output_type": "stream",
       "stream": "stderr",
       "text": [
        "DEBUG:root: Forwarding table now is: {'4000': 5, '4001': 10, '4002': 7, '4003': 6, '4004': 5}\n"
       ]
      },
      {
       "output_type": "stream",
       "stream": "stderr",
       "text": [
        "DEBUG:root: Completed updating FT of parents of 1959 \n"
       ]
      },
      {
       "output_type": "stream",
       "stream": "stderr",
       "text": [
        "DEBUG:root: Publishing content: (4005)  to  node 2129\n"
       ]
      },
      {
       "output_type": "stream",
       "stream": "stderr",
       "text": [
        "DEBUG:root: Publishing Complete\n"
       ]
      },
      {
       "output_type": "stream",
       "stream": "stderr",
       "text": [
        "DEBUG:root: Updating forwarding tables of parents of node 2129 ... \n"
       ]
      },
      {
       "output_type": "stream",
       "stream": "stderr",
       "text": [
        "DEBUG:root: Updated forwarding table of node 304 \n"
       ]
      },
      {
       "output_type": "stream",
       "stream": "stderr",
       "text": [
        "DEBUG:root: Forwarding table now is: {'4005': 2129}\n"
       ]
      },
      {
       "output_type": "stream",
       "stream": "stderr",
       "text": [
        "DEBUG:root: Updated forwarding table of node 43 \n"
       ]
      },
      {
       "output_type": "stream",
       "stream": "stderr",
       "text": [
        "DEBUG:root: Forwarding table now is: {'4005': 304}\n"
       ]
      },
      {
       "output_type": "stream",
       "stream": "stderr",
       "text": [
        "DEBUG:root: Updated forwarding table of node 6 \n"
       ]
      },
      {
       "output_type": "stream",
       "stream": "stderr",
       "text": [
        "DEBUG:root: Forwarding table now is: {'4003': 46, '4005': 43}\n"
       ]
      },
      {
       "output_type": "stream",
       "stream": "stderr",
       "text": [
        "DEBUG:root: Updated forwarding table of node 1 \n"
       ]
      },
      {
       "output_type": "stream",
       "stream": "stderr",
       "text": [
        "DEBUG:root: Forwarding table now is: {'4000': 5, '4001': 10, '4002': 7, '4003': 6, '4004': 5, '4005': 6}\n"
       ]
      },
      {
       "output_type": "stream",
       "stream": "stderr",
       "text": [
        "DEBUG:root: Completed updating FT of parents of 2129 \n"
       ]
      },
      {
       "output_type": "stream",
       "stream": "stderr",
       "text": [
        "DEBUG:root: Publishing content: (4006)  to  node 1175\n"
       ]
      },
      {
       "output_type": "stream",
       "stream": "stderr",
       "text": [
        "DEBUG:root: Publishing Complete\n"
       ]
      },
      {
       "output_type": "stream",
       "stream": "stderr",
       "text": [
        "DEBUG:root: Updating forwarding tables of parents of node 1175 ... \n"
       ]
      },
      {
       "output_type": "stream",
       "stream": "stderr",
       "text": [
        "DEBUG:root: Updated forwarding table of node 167 \n"
       ]
      },
      {
       "output_type": "stream",
       "stream": "stderr",
       "text": [
        "DEBUG:root: Forwarding table now is: {'4006': 1175}\n"
       ]
      },
      {
       "output_type": "stream",
       "stream": "stderr",
       "text": [
        "DEBUG:root: Updated forwarding table of node 23 \n"
       ]
      },
      {
       "output_type": "stream",
       "stream": "stderr",
       "text": [
        "DEBUG:root: Forwarding table now is: {'4006': 167}\n"
       ]
      },
      {
       "output_type": "stream",
       "stream": "stderr",
       "text": [
        "DEBUG:root: Updated forwarding table of node 3 \n"
       ]
      },
      {
       "output_type": "stream",
       "stream": "stderr",
       "text": [
        "DEBUG:root: Forwarding table now is: {'4006': 23}\n"
       ]
      },
      {
       "output_type": "stream",
       "stream": "stderr",
       "text": [
        "DEBUG:root: Updated forwarding table of node 1 \n"
       ]
      },
      {
       "output_type": "stream",
       "stream": "stderr",
       "text": [
        "DEBUG:root: Forwarding table now is: {'4000': 5, '4001': 10, '4002': 7, '4003': 6, '4004': 5, '4005': 6, '4006': 3}\n"
       ]
      },
      {
       "output_type": "stream",
       "stream": "stderr",
       "text": [
        "DEBUG:root: Completed updating FT of parents of 1175 \n"
       ]
      },
      {
       "output_type": "stream",
       "stream": "stderr",
       "text": [
        "DEBUG:root: Publishing content: (4007)  to  node 683\n"
       ]
      },
      {
       "output_type": "stream",
       "stream": "stderr",
       "text": [
        "DEBUG:root: Publishing Complete\n"
       ]
      },
      {
       "output_type": "stream",
       "stream": "stderr",
       "text": [
        "DEBUG:root: Updating forwarding tables of parents of node 683 ... \n"
       ]
      },
      {
       "output_type": "stream",
       "stream": "stderr",
       "text": [
        "DEBUG:root: Updated forwarding table of node 97 \n"
       ]
      },
      {
       "output_type": "stream",
       "stream": "stderr",
       "text": [
        "DEBUG:root: Forwarding table now is: {'4007': 683}\n"
       ]
      },
      {
       "output_type": "stream",
       "stream": "stderr",
       "text": [
        "DEBUG:root: Updated forwarding table of node 13 \n"
       ]
      },
      {
       "output_type": "stream",
       "stream": "stderr",
       "text": [
        "DEBUG:root: Forwarding table now is: {'4007': 97}\n"
       ]
      },
      {
       "output_type": "stream",
       "stream": "stderr",
       "text": [
        "DEBUG:root: Updated forwarding table of node 1 \n"
       ]
      },
      {
       "output_type": "stream",
       "stream": "stderr",
       "text": [
        "DEBUG:root: Forwarding table now is: {'4000': 5, '4001': 10, '4002': 7, '4003': 6, '4004': 5, '4005': 6, '4006': 3, '4007': 13}\n"
       ]
      },
      {
       "output_type": "stream",
       "stream": "stderr",
       "text": [
        "DEBUG:root: Completed updating FT of parents of 683 \n"
       ]
      },
      {
       "output_type": "stream",
       "stream": "stderr",
       "text": [
        "DEBUG:root: Publishing content: (4008)  to  node 2378\n"
       ]
      },
      {
       "output_type": "stream",
       "stream": "stderr",
       "text": [
        "DEBUG:root: Publishing Complete\n"
       ]
      },
      {
       "output_type": "stream",
       "stream": "stderr",
       "text": [
        "DEBUG:root: Updating forwarding tables of parents of node 2378 ... \n"
       ]
      },
      {
       "output_type": "stream",
       "stream": "stderr",
       "text": [
        "DEBUG:root: Updated forwarding table of node 339 \n"
       ]
      },
      {
       "output_type": "stream",
       "stream": "stderr",
       "text": [
        "DEBUG:root: Forwarding table now is: {'4008': 2378}\n"
       ]
      },
      {
       "output_type": "stream",
       "stream": "stderr",
       "text": [
        "DEBUG:root: Updated forwarding table of node 48 \n"
       ]
      },
      {
       "output_type": "stream",
       "stream": "stderr",
       "text": [
        "DEBUG:root: Forwarding table now is: {'4008': 339}\n"
       ]
      },
      {
       "output_type": "stream",
       "stream": "stderr",
       "text": [
        "DEBUG:root: Updated forwarding table of node 6 \n"
       ]
      },
      {
       "output_type": "stream",
       "stream": "stderr",
       "text": [
        "DEBUG:root: Forwarding table now is: {'4008': 48, '4003': 46, '4005': 43}\n"
       ]
      },
      {
       "output_type": "stream",
       "stream": "stderr",
       "text": [
        "DEBUG:root: Updated forwarding table of node 1 \n"
       ]
      },
      {
       "output_type": "stream",
       "stream": "stderr",
       "text": [
        "DEBUG:root: Forwarding table now is: {'4008': 6, '4000': 5, '4001': 10, '4002': 7, '4003': 6, '4004': 5, '4005': 6, '4006': 3, '4007': 13}\n"
       ]
      },
      {
       "output_type": "stream",
       "stream": "stderr",
       "text": [
        "DEBUG:root: Completed updating FT of parents of 2378 \n"
       ]
      },
      {
       "output_type": "stream",
       "stream": "stderr",
       "text": [
        "DEBUG:root: Publishing content: (4009)  to  node 2387\n"
       ]
      },
      {
       "output_type": "stream",
       "stream": "stderr",
       "text": [
        "DEBUG:root: Publishing Complete\n"
       ]
      },
      {
       "output_type": "stream",
       "stream": "stderr",
       "text": [
        "DEBUG:root: Updating forwarding tables of parents of node 2387 ... \n"
       ]
      },
      {
       "output_type": "stream",
       "stream": "stderr",
       "text": [
        "DEBUG:root: Updated forwarding table of node 340 \n"
       ]
      },
      {
       "output_type": "stream",
       "stream": "stderr",
       "text": [
        "DEBUG:root: Forwarding table now is: {'4009': 2387}\n"
       ]
      },
      {
       "output_type": "stream",
       "stream": "stderr",
       "text": [
        "DEBUG:root: Updated forwarding table of node 48 \n"
       ]
      },
      {
       "output_type": "stream",
       "stream": "stderr",
       "text": [
        "DEBUG:root: Forwarding table now is: {'4008': 339, '4009': 340}\n"
       ]
      },
      {
       "output_type": "stream",
       "stream": "stderr",
       "text": [
        "DEBUG:root: Updated forwarding table of node 6 \n"
       ]
      },
      {
       "output_type": "stream",
       "stream": "stderr",
       "text": [
        "DEBUG:root: Forwarding table now is: {'4008': 48, '4009': 48, '4003': 46, '4005': 43}\n"
       ]
      },
      {
       "output_type": "stream",
       "stream": "stderr",
       "text": [
        "DEBUG:root: Updated forwarding table of node 1 \n"
       ]
      },
      {
       "output_type": "stream",
       "stream": "stderr",
       "text": [
        "DEBUG:root: Forwarding table now is: {'4008': 6, '4009': 6, '4000': 5, '4001': 10, '4002': 7, '4003': 6, '4004': 5, '4005': 6, '4006': 3, '4007': 13}\n"
       ]
      },
      {
       "output_type": "stream",
       "stream": "stderr",
       "text": [
        "DEBUG:root: Completed updating FT of parents of 2387 \n"
       ]
      },
      {
       "output_type": "stream",
       "stream": "stderr",
       "text": [
        "DEBUG:root: Publishing content: (4010)  to  node 1972\n"
       ]
      },
      {
       "output_type": "stream",
       "stream": "stderr",
       "text": [
        "DEBUG:root: Publishing Complete\n"
       ]
      },
      {
       "output_type": "stream",
       "stream": "stderr",
       "text": [
        "DEBUG:root: Updating forwarding tables of parents of node 1972 ... \n"
       ]
      },
      {
       "output_type": "stream",
       "stream": "stderr",
       "text": [
        "DEBUG:root: Updated forwarding table of node 281 \n"
       ]
      },
      {
       "output_type": "stream",
       "stream": "stderr",
       "text": [
        "DEBUG:root: Forwarding table now is: {'4010': 1972}\n"
       ]
      },
      {
       "output_type": "stream",
       "stream": "stderr",
       "text": [
        "DEBUG:root: Updated forwarding table of node 40 \n"
       ]
      },
      {
       "output_type": "stream",
       "stream": "stderr",
       "text": [
        "DEBUG:root: Forwarding table now is: {'4010': 281}\n"
       ]
      },
      {
       "output_type": "stream",
       "stream": "stderr",
       "text": [
        "DEBUG:root: Updated forwarding table of node 5 \n"
       ]
      },
      {
       "output_type": "stream",
       "stream": "stderr",
       "text": [
        "DEBUG:root: Forwarding table now is: {'4000': 41, '4010': 40, '4004': 39}\n"
       ]
      },
      {
       "output_type": "stream",
       "stream": "stderr",
       "text": [
        "DEBUG:root: Updated forwarding table of node 1 \n"
       ]
      },
      {
       "output_type": "stream",
       "stream": "stderr",
       "text": [
        "DEBUG:root: Forwarding table now is: {'4008': 6, '4009': 6, '4010': 5, '4000': 5, '4001': 10, '4002': 7, '4003': 6, '4004': 5, '4005': 6, '4006': 3, '4007': 13}\n"
       ]
      },
      {
       "output_type": "stream",
       "stream": "stderr",
       "text": [
        "DEBUG:root: Completed updating FT of parents of 1972 \n"
       ]
      },
      {
       "output_type": "stream",
       "stream": "stderr",
       "text": [
        "DEBUG:root: Publishing content: (4011)  to  node 1026\n"
       ]
      },
      {
       "output_type": "stream",
       "stream": "stderr",
       "text": [
        "DEBUG:root: Publishing Complete\n"
       ]
      },
      {
       "output_type": "stream",
       "stream": "stderr",
       "text": [
        "DEBUG:root: Updating forwarding tables of parents of node 1026 ... \n"
       ]
      },
      {
       "output_type": "stream",
       "stream": "stderr",
       "text": [
        "DEBUG:root: Updated forwarding table of node 146 \n"
       ]
      },
      {
       "output_type": "stream",
       "stream": "stderr",
       "text": [
        "DEBUG:root: Forwarding table now is: {'4011': 1026}\n"
       ]
      },
      {
       "output_type": "stream",
       "stream": "stderr",
       "text": [
        "DEBUG:root: Updated forwarding table of node 20 \n"
       ]
      },
      {
       "output_type": "stream",
       "stream": "stderr",
       "text": [
        "DEBUG:root: Forwarding table now is: {'4011': 146}\n"
       ]
      },
      {
       "output_type": "stream",
       "stream": "stderr",
       "text": [
        "DEBUG:root: Updated forwarding table of node 2 \n"
       ]
      },
      {
       "output_type": "stream",
       "stream": "stderr",
       "text": [
        "DEBUG:root: Forwarding table now is: {'4011': 20}\n"
       ]
      },
      {
       "output_type": "stream",
       "stream": "stderr",
       "text": [
        "DEBUG:root: Updated forwarding table of node 1 \n"
       ]
      },
      {
       "output_type": "stream",
       "stream": "stderr",
       "text": [
        "DEBUG:root: Forwarding table now is: {'4008': 6, '4009': 6, '4010': 5, '4000': 5, '4001': 10, '4002': 7, '4003': 6, '4004': 5, '4005': 6, '4006': 3, '4007': 13, '4011': 2}\n"
       ]
      },
      {
       "output_type": "stream",
       "stream": "stderr",
       "text": [
        "DEBUG:root: Completed updating FT of parents of 1026 \n"
       ]
      },
      {
       "output_type": "stream",
       "stream": "stderr",
       "text": [
        "DEBUG:root: Publishing content: (4012)  to  node 2197\n"
       ]
      },
      {
       "output_type": "stream",
       "stream": "stderr",
       "text": [
        "DEBUG:root: Publishing Complete\n"
       ]
      },
      {
       "output_type": "stream",
       "stream": "stderr",
       "text": [
        "DEBUG:root: Updating forwarding tables of parents of node 2197 ... \n"
       ]
      },
      {
       "output_type": "stream",
       "stream": "stderr",
       "text": [
        "DEBUG:root: Updated forwarding table of node 313 \n"
       ]
      },
      {
       "output_type": "stream",
       "stream": "stderr",
       "text": [
        "DEBUG:root: Forwarding table now is: {'4012': 2197}\n"
       ]
      },
      {
       "output_type": "stream",
       "stream": "stderr",
       "text": [
        "DEBUG:root: Updated forwarding table of node 44 \n"
       ]
      },
      {
       "output_type": "stream",
       "stream": "stderr",
       "text": [
        "DEBUG:root: Forwarding table now is: {'4012': 313}\n"
       ]
      },
      {
       "output_type": "stream",
       "stream": "stderr",
       "text": [
        "DEBUG:root: Updated forwarding table of node 6 \n"
       ]
      },
      {
       "output_type": "stream",
       "stream": "stderr",
       "text": [
        "DEBUG:root: Forwarding table now is: {'4008': 48, '4009': 48, '4003': 46, '4005': 43, '4012': 44}\n"
       ]
      },
      {
       "output_type": "stream",
       "stream": "stderr",
       "text": [
        "DEBUG:root: Updated forwarding table of node 1 \n"
       ]
      },
      {
       "output_type": "stream",
       "stream": "stderr",
       "text": [
        "DEBUG:root: Forwarding table now is: {'4008': 6, '4009': 6, '4010': 5, '4000': 5, '4001': 10, '4002': 7, '4003': 6, '4004': 5, '4005': 6, '4006': 3, '4007': 13, '4012': 6, '4011': 2}\n"
       ]
      },
      {
       "output_type": "stream",
       "stream": "stderr",
       "text": [
        "DEBUG:root: Completed updating FT of parents of 2197 \n"
       ]
      },
      {
       "output_type": "stream",
       "stream": "stderr",
       "text": [
        "DEBUG:root: Publishing content: (4013)  to  node 480\n"
       ]
      },
      {
       "output_type": "stream",
       "stream": "stderr",
       "text": [
        "DEBUG:root: Publishing Complete\n"
       ]
      },
      {
       "output_type": "stream",
       "stream": "stderr",
       "text": [
        "DEBUG:root: Updating forwarding tables of parents of node 480 ... \n"
       ]
      },
      {
       "output_type": "stream",
       "stream": "stderr",
       "text": [
        "DEBUG:root: Updated forwarding table of node 68 \n"
       ]
      },
      {
       "output_type": "stream",
       "stream": "stderr",
       "text": [
        "DEBUG:root: Forwarding table now is: {'4013': 480}\n"
       ]
      },
      {
       "output_type": "stream",
       "stream": "stderr",
       "text": [
        "DEBUG:root: Updated forwarding table of node 9 \n"
       ]
      },
      {
       "output_type": "stream",
       "stream": "stderr",
       "text": [
        "DEBUG:root: Forwarding table now is: {'4013': 68}\n"
       ]
      },
      {
       "output_type": "stream",
       "stream": "stderr",
       "text": [
        "DEBUG:root: Updated forwarding table of node 1 \n"
       ]
      },
      {
       "output_type": "stream",
       "stream": "stderr",
       "text": [
        "DEBUG:root: Forwarding table now is: {'4008': 6, '4009': 6, '4010': 5, '4000': 5, '4001': 10, '4002': 7, '4003': 6, '4004': 5, '4005': 6, '4006': 3, '4007': 13, '4013': 9, '4012': 6, '4011': 2}\n"
       ]
      },
      {
       "output_type": "stream",
       "stream": "stderr",
       "text": [
        "DEBUG:root: Completed updating FT of parents of 480 \n"
       ]
      },
      {
       "output_type": "stream",
       "stream": "stderr",
       "text": [
        "DEBUG:root: Publishing content: (4014)  to  node 2166\n"
       ]
      },
      {
       "output_type": "stream",
       "stream": "stderr",
       "text": [
        "DEBUG:root: Publishing Complete\n"
       ]
      },
      {
       "output_type": "stream",
       "stream": "stderr",
       "text": [
        "DEBUG:root: Updating forwarding tables of parents of node 2166 ... \n"
       ]
      },
      {
       "output_type": "stream",
       "stream": "stderr",
       "text": [
        "DEBUG:root: Updated forwarding table of node 309 \n"
       ]
      },
      {
       "output_type": "stream",
       "stream": "stderr",
       "text": [
        "DEBUG:root: Forwarding table now is: {'4014': 2166}\n"
       ]
      },
      {
       "output_type": "stream",
       "stream": "stderr",
       "text": [
        "DEBUG:root: Updated forwarding table of node 44 \n"
       ]
      },
      {
       "output_type": "stream",
       "stream": "stderr",
       "text": [
        "DEBUG:root: Forwarding table now is: {'4012': 313, '4014': 309}\n"
       ]
      },
      {
       "output_type": "stream",
       "stream": "stderr",
       "text": [
        "DEBUG:root: Updated forwarding table of node 6 \n"
       ]
      },
      {
       "output_type": "stream",
       "stream": "stderr",
       "text": [
        "DEBUG:root: Forwarding table now is: {'4008': 48, '4009': 48, '4012': 44, '4003': 46, '4005': 43, '4014': 44}\n"
       ]
      }
     ]
    },
    {
     "cell_type": "code",
     "collapsed": false,
     "input": [
      "net1.in_transit_packets"
     ],
     "language": "python",
     "metadata": {},
     "outputs": [
      {
       "metadata": {},
       "output_type": "pyout",
       "prompt_number": 48,
       "text": [
        "[{'_type': 'request', 'content_name': '7010', 'dest_id': 1, 'from_id': 6},\n",
        " {'_type': 'request', 'content_name': '4769', 'dest_id': 1, 'from_id': 5}]"
       ]
      }
     ],
     "prompt_number": 48
    },
    {
     "cell_type": "code",
     "collapsed": false,
     "input": [
      "root = Tk()"
     ],
     "language": "python",
     "metadata": {},
     "outputs": [],
     "prompt_number": 2
    },
    {
     "cell_type": "code",
     "collapsed": false,
     "input": [
      "\n",
      "\n",
      "heatmap = Image.open('heat.jpg')\n",
      "photo = ImageTk.PhotoImage(heatmap)\n",
      "\n",
      "w = Label(root, text='heatmap',image=photo)\n",
      "w.photo = heatmap # keep a reference!\n",
      "w.pack()\n"
     ],
     "language": "python",
     "metadata": {},
     "outputs": [],
     "prompt_number": 3
    },
    {
     "cell_type": "code",
     "collapsed": false,
     "input": [
      "root.mainloop()"
     ],
     "language": "python",
     "metadata": {},
     "outputs": [],
     "prompt_number": 4
    },
    {
     "cell_type": "code",
     "collapsed": false,
     "input": [],
     "language": "python",
     "metadata": {},
     "outputs": [],
     "prompt_number": 9
    },
    {
     "cell_type": "code",
     "collapsed": false,
     "input": [
      "from Tkinter import *\n",
      "from PIL import Image, ImageTk\n",
      "\n",
      "root = Tk()\n",
      "#heatmap = Image.open('heat.jpg')\n",
      "#photo = PhotoImage(heatmap)\n",
      "photo = PhotoImage(file=\"heat1.gif\")\n",
      "w = Label(root, text=\"Heatmap!\", image=photo)\n",
      "w.photo = photo\n",
      "w.pack()\n",
      "\n",
      "root.mainloop()"
     ],
     "language": "python",
     "metadata": {},
     "outputs": [],
     "prompt_number": 2
    },
    {
     "cell_type": "code",
     "collapsed": false,
     "input": [],
     "language": "python",
     "metadata": {},
     "outputs": [
      {
       "metadata": {},
       "output_type": "pyout",
       "prompt_number": 122,
       "text": [
        "400"
       ]
      }
     ],
     "prompt_number": 122
    },
    {
     "cell_type": "code",
     "collapsed": false,
     "input": [],
     "language": "python",
     "metadata": {},
     "outputs": [],
     "prompt_number": 118
    },
    {
     "cell_type": "code",
     "collapsed": false,
     "input": [],
     "language": "python",
     "metadata": {},
     "outputs": [],
     "prompt_number": 129
    },
    {
     "cell_type": "code",
     "collapsed": false,
     "input": [],
     "language": "python",
     "metadata": {},
     "outputs": [
      {
       "metadata": {},
       "output_type": "pyout",
       "prompt_number": 130,
       "text": [
        "[63, 442]"
       ]
      }
     ],
     "prompt_number": 130
    },
    {
     "cell_type": "code",
     "collapsed": false,
     "input": [],
     "language": "python",
     "metadata": {},
     "outputs": [],
     "prompt_number": 95
    },
    {
     "cell_type": "code",
     "collapsed": false,
     "input": [],
     "language": "python",
     "metadata": {},
     "outputs": [],
     "prompt_number": 96
    },
    {
     "cell_type": "code",
     "collapsed": false,
     "input": [],
     "language": "python",
     "metadata": {},
     "outputs": [],
     "prompt_number": 96
    },
    {
     "cell_type": "code",
     "collapsed": false,
     "input": [],
     "language": "python",
     "metadata": {},
     "outputs": [],
     "prompt_number": 141
    },
    {
     "cell_type": "code",
     "collapsed": false,
     "input": [],
     "language": "python",
     "metadata": {},
     "outputs": [],
     "prompt_number": 96
    },
    {
     "cell_type": "code",
     "collapsed": false,
     "input": [],
     "language": "python",
     "metadata": {},
     "outputs": [],
     "prompt_number": 96
    },
    {
     "cell_type": "code",
     "collapsed": false,
     "input": [],
     "language": "python",
     "metadata": {},
     "outputs": [],
     "prompt_number": 96
    },
    {
     "cell_type": "code",
     "collapsed": false,
     "input": [],
     "language": "python",
     "metadata": {},
     "outputs": [],
     "prompt_number": 96
    },
    {
     "cell_type": "code",
     "collapsed": false,
     "input": [],
     "language": "python",
     "metadata": {},
     "outputs": [],
     "prompt_number": 96
    },
    {
     "cell_type": "code",
     "collapsed": false,
     "input": [],
     "language": "python",
     "metadata": {},
     "outputs": [],
     "prompt_number": 96
    },
    {
     "cell_type": "code",
     "collapsed": false,
     "input": [],
     "language": "python",
     "metadata": {},
     "outputs": [],
     "prompt_number": 96
    },
    {
     "cell_type": "code",
     "collapsed": false,
     "input": [],
     "language": "python",
     "metadata": {},
     "outputs": [],
     "prompt_number": 96
    },
    {
     "cell_type": "code",
     "collapsed": false,
     "input": [],
     "language": "python",
     "metadata": {},
     "outputs": [],
     "prompt_number": 96
    },
    {
     "cell_type": "code",
     "collapsed": false,
     "input": [],
     "language": "python",
     "metadata": {},
     "outputs": [],
     "prompt_number": 96
    },
    {
     "cell_type": "code",
     "collapsed": false,
     "input": [],
     "language": "python",
     "metadata": {},
     "outputs": [],
     "prompt_number": 96
    },
    {
     "cell_type": "code",
     "collapsed": false,
     "input": [],
     "language": "python",
     "metadata": {},
     "outputs": [],
     "prompt_number": 96
    },
    {
     "cell_type": "code",
     "collapsed": false,
     "input": [],
     "language": "python",
     "metadata": {},
     "outputs": [],
     "prompt_number": 96
    },
    {
     "cell_type": "code",
     "collapsed": false,
     "input": [],
     "language": "python",
     "metadata": {},
     "outputs": [],
     "prompt_number": 96
    },
    {
     "cell_type": "code",
     "collapsed": false,
     "input": [],
     "language": "python",
     "metadata": {},
     "outputs": [],
     "prompt_number": 96
    },
    {
     "cell_type": "code",
     "collapsed": true,
     "input": [],
     "language": "python",
     "metadata": {},
     "outputs": [],
     "prompt_number": 96
    },
    {
     "cell_type": "code",
     "collapsed": false,
     "input": [],
     "language": "python",
     "metadata": {},
     "outputs": [],
     "prompt_number": 96
    },
    {
     "cell_type": "code",
     "collapsed": false,
     "input": [],
     "language": "python",
     "metadata": {},
     "outputs": [],
     "prompt_number": 96
    },
    {
     "cell_type": "code",
     "collapsed": false,
     "input": [],
     "language": "python",
     "metadata": {},
     "outputs": [],
     "prompt_number": 96
    }
   ],
   "metadata": {}
  }
 ]
}