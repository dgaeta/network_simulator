{
 "metadata": {
  "name": "",
  "signature": "sha256:0d80070fa89ec1369e9d17271113c54cc4d9541cf7c889da5aecac50f7d0962e"
 },
 "nbformat": 3,
 "nbformat_minor": 0,
 "worksheets": [
  {
   "cells": [
    {
     "cell_type": "code",
     "collapsed": false,
     "input": [
      "from mpl_toolkits.mplot3d import Axes3D\n",
      "from matplotlib import cm\n",
      "from matplotlib.ticker import LinearLocator, FormatStrFormatter\n",
      "import matplotlib.pyplot as plt\n",
      "import numpy as np\n",
      "import csv\n",
      "import matplotlib as mpl\n",
      "\n",
      "\n",
      "def make_filename(system,levels, p,q):\n",
      "    filename = system + '_rtt-l=' + str(levels) + '-p=' +  str(p) + '-q=' + str(q) + '.csv'\n",
      "    return filename\n",
      "\n",
      "def get_pq_means(system,levels, p_max, q_max):\n",
      "    total_means = []\n",
      "    p_max*=10\n",
      "    q_max*=10\n",
      "#     print p_max\n",
      "#     print q_max\n",
      "    for p in [x for x in range(2,int(p_max)+1) if x%2==0]:\n",
      "        for q in [y for y in range(2,int(q_max)+1) if y%2==0]:\n",
      "#             print p \n",
      "#             print q\n",
      "            cur_mean = []\n",
      "            p_dec = float(p)/10\n",
      "            q_dec = float(q)/10\n",
      "            print p_dec\n",
      "            print q_dec\n",
      "            filename = make_filename(system,levels,p_dec,q_dec)\n",
      "            print 'opening file ' + filename\n",
      "            with open(filename, 'rb') as rtt:\n",
      "                reader = csv.reader(rtt)\n",
      "                for row in reader:\n",
      "                    cur_mean.append(int(row[0]))\n",
      "            total_means.append(int(sum(cur_mean)/len(cur_mean)))\n",
      "    return total_means\n",
      "    "
     ],
     "language": "python",
     "metadata": {},
     "outputs": [],
     "prompt_number": 85
    },
    {
     "cell_type": "code",
     "collapsed": false,
     "input": [
      "nb_means = get_pq_means('nb',4,.8,.8)"
     ],
     "language": "python",
     "metadata": {},
     "outputs": [
      {
       "output_type": "stream",
       "stream": "stdout",
       "text": [
        "0.2\n",
        "0.2\n",
        "opening file nb_rtt-l=4-p=0.2-q=0.2.csv\n",
        "0.2\n",
        "0.4\n",
        "opening file nb_rtt-l=4-p=0.2-q=0.4.csv\n",
        "0.2\n",
        "0.6\n",
        "opening file nb_rtt-l=4-p=0.2-q=0.6.csv\n",
        "0.2\n",
        "0.8\n",
        "opening file nb_rtt-l=4-p=0.2-q=0.8.csv\n",
        "0.4\n",
        "0.2\n",
        "opening file nb_rtt-l=4-p=0.4-q=0.2.csv\n",
        "0.4\n",
        "0.4\n",
        "opening file nb_rtt-l=4-p=0.4-q=0.4.csv\n",
        "0.4\n",
        "0.6\n",
        "opening file nb_rtt-l=4-p=0.4-q=0.6.csv\n",
        "0.4\n",
        "0.8\n",
        "opening file nb_rtt-l=4-p=0.4-q=0.8.csv\n",
        "0.6\n",
        "0.2\n",
        "opening file nb_rtt-l=4-p=0.6-q=0.2.csv\n",
        "0.6\n",
        "0.4\n",
        "opening file nb_rtt-l=4-p=0.6-q=0.4.csv\n",
        "0.6\n",
        "0.6\n",
        "opening file nb_rtt-l=4-p=0.6-q=0.6.csv\n",
        "0.6\n",
        "0.8\n",
        "opening file nb_rtt-l=4-p=0.6-q=0.8.csv\n",
        "0.8\n",
        "0.2\n",
        "opening file nb_rtt-l=4-p=0.8-q=0.2.csv\n",
        "0.8\n",
        "0.4\n",
        "opening file nb_rtt-l=4-p=0.8-q=0.4.csv\n",
        "0.8\n",
        "0.6\n",
        "opening file nb_rtt-l=4-p=0.8-q=0.6.csv\n",
        "0.8\n",
        "0.8\n",
        "opening file nb_rtt-l=4-p=0.8-q=0.8.csv\n"
       ]
      }
     ],
     "prompt_number": 86
    },
    {
     "cell_type": "code",
     "collapsed": false,
     "input": [
      "nb_means"
     ],
     "language": "python",
     "metadata": {},
     "outputs": [
      {
       "metadata": {},
       "output_type": "pyout",
       "prompt_number": 87,
       "text": [
        "[32, 159, 216, 327, 206, 282, 295, 225, 308, 252, 226, 229, 301, 276, 262, 273]"
       ]
      }
     ],
     "prompt_number": 87
    },
    {
     "cell_type": "code",
     "collapsed": false,
     "input": [
      "ip_means = get_pq_means('ip',4,.8,.8)"
     ],
     "language": "python",
     "metadata": {},
     "outputs": [
      {
       "output_type": "stream",
       "stream": "stdout",
       "text": [
        "0.2\n",
        "0.2\n",
        "opening file ip_rtt-l=4-p=0.2-q=0.2.csv\n",
        "0.2\n",
        "0.4\n",
        "opening file ip_rtt-l=4-p=0.2-q=0.4.csv\n",
        "0.2\n",
        "0.6\n",
        "opening file ip_rtt-l=4-p=0.2-q=0.6.csv\n",
        "0.2\n",
        "0.8\n",
        "opening file ip_rtt-l=4-p=0.2-q=0.8.csv\n",
        "0.4\n",
        "0.2\n",
        "opening file ip_rtt-l=4-p=0.4-q=0.2.csv\n",
        "0.4\n",
        "0.4\n",
        "opening file ip_rtt-l=4-p=0.4-q=0.4.csv\n",
        "0.4\n",
        "0.6\n",
        "opening file ip_rtt-l=4-p=0.4-q=0.6.csv\n",
        "0.4\n",
        "0.8\n",
        "opening file ip_rtt-l=4-p=0.4-q=0.8.csv\n",
        "0.6\n",
        "0.2\n",
        "opening file ip_rtt-l=4-p=0.6-q=0.2.csv\n",
        "0.6\n",
        "0.4\n",
        "opening file ip_rtt-l=4-p=0.6-q=0.4.csv\n",
        "0.6\n",
        "0.6\n",
        "opening file ip_rtt-l=4-p=0.6-q=0.6.csv\n",
        "0.6\n",
        "0.8\n",
        "opening file ip_rtt-l=4-p=0.6-q=0.8.csv\n",
        "0.8\n",
        "0.2\n",
        "opening file ip_rtt-l=4-p=0.8-q=0.2.csv\n",
        "0.8\n",
        "0.4\n",
        "opening file ip_rtt-l=4-p=0.8-q=0.4.csv\n",
        "0.8\n",
        "0.6\n",
        "opening file ip_rtt-l=4-p=0.8-q=0.6.csv\n",
        "0.8\n",
        "0.8\n",
        "opening file ip_rtt-l=4-p=0.8-q=0.8.csv\n"
       ]
      }
     ],
     "prompt_number": 88
    },
    {
     "cell_type": "code",
     "collapsed": false,
     "input": [
      "ip_means"
     ],
     "language": "python",
     "metadata": {},
     "outputs": [
      {
       "metadata": {},
       "output_type": "pyout",
       "prompt_number": 89,
       "text": [
        "[849,\n",
        " 1115,\n",
        " 1322,\n",
        " 1419,\n",
        " 82,\n",
        " 160,\n",
        " 204,\n",
        " 472,\n",
        " 166,\n",
        " 198,\n",
        " 226,\n",
        " 235,\n",
        " 247,\n",
        " 260,\n",
        " 271,\n",
        " 220]"
       ]
      }
     ],
     "prompt_number": 89
    },
    {
     "cell_type": "code",
     "collapsed": false,
     "input": [
      "x=[.2,.2,.2,.2,.4,.4,.4,.4,.6,.6,.6,.6,.8,.8,.8,.8]\n",
      "y=[.2,.2,.2,.2,.4,.4,.4,.4,.6,.6,.6,.6,.8,.8,.8,.8]"
     ],
     "language": "python",
     "metadata": {},
     "outputs": [],
     "prompt_number": 90
    },
    {
     "cell_type": "code",
     "collapsed": false,
     "input": [
      "fig = plt.figure()\n",
      "ax = plt.axes(projection='3d')\n",
      "X,Y = np.meshgrid(x,y)\n",
      "\n",
      "ax.set_title('')\n",
      "ax.set_xlabel('P')\n",
      "ax.set_ylabel('Q')\n",
      "ax.set_zlabel('Z')\n",
      "ax.plot_wireframe(X, Y, ip_means, rstride=10, cstride=10)\n"
     ],
     "language": "python",
     "metadata": {},
     "outputs": [
      {
       "metadata": {},
       "output_type": "pyout",
       "prompt_number": 93,
       "text": [
        "<mpl_toolkits.mplot3d.art3d.Line3DCollection at 0x10bd68210>"
       ]
      }
     ],
     "prompt_number": 93
    },
    {
     "cell_type": "code",
     "collapsed": false,
     "input": [
      "plt.show()"
     ],
     "language": "python",
     "metadata": {},
     "outputs": []
    },
    {
     "cell_type": "code",
     "collapsed": false,
     "input": [
      "n = 10\n",
      "x1s = np.random.uniform(-1, 1, n)"
     ],
     "language": "python",
     "metadata": {},
     "outputs": [],
     "prompt_number": 45
    },
    {
     "cell_type": "code",
     "collapsed": false,
     "input": [
      "x1s"
     ],
     "language": "python",
     "metadata": {},
     "outputs": [
      {
       "metadata": {},
       "output_type": "pyout",
       "prompt_number": 46,
       "text": [
        "array([ 0.75124362, -0.04396874, -0.03001545,  0.2732528 ,  0.52450594,\n",
        "       -0.21547598,  0.6054969 ,  0.1489106 , -0.44973007, -0.55450012])"
       ]
      }
     ],
     "prompt_number": 46
    },
    {
     "cell_type": "code",
     "collapsed": false,
     "input": [
      "from pylab import *\n",
      "phi_m = linspace(0, 2*pi, 100)\n",
      "phi_p = linspace(0, 2*pi, 100)\n",
      "X,Y = meshgrid(phi_p, phi_m)"
     ],
     "language": "python",
     "metadata": {},
     "outputs": [],
     "prompt_number": 59
    },
    {
     "cell_type": "code",
     "collapsed": false,
     "input": [
      "Y"
     ],
     "language": "python",
     "metadata": {},
     "outputs": [
      {
       "metadata": {},
       "output_type": "pyout",
       "prompt_number": 61,
       "text": [
        "array([[ 0.        ,  0.        ,  0.        , ...,  0.        ,\n",
        "         0.        ,  0.        ],\n",
        "       [ 0.06346652,  0.06346652,  0.06346652, ...,  0.06346652,\n",
        "         0.06346652,  0.06346652],\n",
        "       [ 0.12693304,  0.12693304,  0.12693304, ...,  0.12693304,\n",
        "         0.12693304,  0.12693304],\n",
        "       ..., \n",
        "       [ 6.15625227,  6.15625227,  6.15625227, ...,  6.15625227,\n",
        "         6.15625227,  6.15625227],\n",
        "       [ 6.21971879,  6.21971879,  6.21971879, ...,  6.21971879,\n",
        "         6.21971879,  6.21971879],\n",
        "       [ 6.28318531,  6.28318531,  6.28318531, ...,  6.28318531,\n",
        "         6.28318531,  6.28318531]])"
       ]
      }
     ],
     "prompt_number": 61
    },
    {
     "cell_type": "code",
     "collapsed": false,
     "input": [],
     "language": "python",
     "metadata": {},
     "outputs": []
    }
   ],
   "metadata": {}
  }
 ]
}