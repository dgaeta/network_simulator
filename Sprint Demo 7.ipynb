{
 "metadata": {
  "name": "",
  "signature": "sha256:a0ecc9c2f8e900ddb104c32a458efa39f48325c306f39a7783e9a697f1dd12b0"
 },
 "nbformat": 3,
 "nbformat_minor": 0,
 "worksheets": [
  {
   "cells": [
    {
     "cell_type": "code",
     "collapsed": false,
     "input": [
      "from mpl_toolkits.mplot3d import Axes3D\n",
      "from matplotlib import cm\n",
      "from matplotlib.ticker import LinearLocator, FormatStrFormatter\n",
      "import matplotlib.pyplot as plt\n",
      "import numpy as np\n",
      "import csv\n",
      "import matplotlib as mpl\n",
      "\n",
      "\n",
      "def make_filename(system,levels, p,q):\n",
      "    filename = system + '_rtt-l=' + str(levels) + '-p=' +  str(p) + '-q=' + str(q) + '.csv'\n",
      "    return filename\n",
      "\n",
      "def get_pq_means(system,levels, p_max, q_max):\n",
      "    total_means = []\n",
      "    p_max*=10\n",
      "    q_max*=10\n",
      "#     print p_max\n",
      "#     print q_max\n",
      "    for p in [x for x in range(2,int(p_max)+1) if x%2==0]:\n",
      "        for q in [y for y in range(2,int(q_max)+1) if y%2==0]:\n",
      "#             print p \n",
      "#             print q\n",
      "            cur_mean = []\n",
      "            p_dec = float(p)/10\n",
      "            q_dec = float(q)/10\n",
      "            #print p_dec\n",
      "            #print q_dec\n",
      "            filename = make_filename(system,levels,p_dec,q_dec)\n",
      "            #print 'opening file ' + filename\n",
      "            with open(filename, 'rb') as rtt:\n",
      "                reader = csv.reader(rtt)\n",
      "                for row in reader:\n",
      "                    cur_mean.append(int(row[0]))\n",
      "            total_means.append(int(sum(cur_mean)/len(cur_mean)))\n",
      "    return total_means\n",
      "    "
     ],
     "language": "python",
     "metadata": {},
     "outputs": [],
     "prompt_number": 1
    },
    {
     "cell_type": "code",
     "collapsed": false,
     "input": [
      "nb_means = get_pq_means('nb',4,.4,.8)"
     ],
     "language": "python",
     "metadata": {},
     "outputs": [],
     "prompt_number": 2
    },
    {
     "cell_type": "code",
     "collapsed": false,
     "input": [
      "nb_means"
     ],
     "language": "python",
     "metadata": {},
     "outputs": [
      {
       "metadata": {},
       "output_type": "pyout",
       "prompt_number": 3,
       "text": [
        "[144, 149, 148, 29, 96, 114, 123, 126]"
       ]
      }
     ],
     "prompt_number": 3
    },
    {
     "cell_type": "code",
     "collapsed": false,
     "input": [
      "ip_means = get_pq_means('ip',4,.4,.8)"
     ],
     "language": "python",
     "metadata": {},
     "outputs": [],
     "prompt_number": 4
    },
    {
     "cell_type": "code",
     "collapsed": false,
     "input": [
      "ip_means"
     ],
     "language": "python",
     "metadata": {},
     "outputs": [
      {
       "metadata": {},
       "output_type": "pyout",
       "prompt_number": 5,
       "text": [
        "[151, 142, 146, 2, 92, 111, 116, 116]"
       ]
      }
     ],
     "prompt_number": 5
    },
    {
     "cell_type": "code",
     "collapsed": false,
     "input": [
      "x=[.2,.2,.2,.2,.4,.4,.4,.4]\n",
      "y=[.2,.4,.6,.8,.2,.4,.6,.8]"
     ],
     "language": "python",
     "metadata": {},
     "outputs": [],
     "prompt_number": 6
    },
    {
     "cell_type": "code",
     "collapsed": false,
     "input": [
      "fig = plt.figure()\n",
      "ax = plt.axes(projection='3d')\n",
      "X = np.reshape(x, (2,4))\n",
      "Y = np.reshape(y, (2,4))\n",
      "ip2 = np.reshape(ip_means, (2,4))\n",
      "\n",
      "ax.set_title('IP Routing')\n",
      "ax.set_xlabel('Prob of Request')\n",
      "ax.set_ylabel('Prob of Publish')\n",
      "ax.set_zlabel('RTT')\n",
      "ax.plot_wireframe(X,Y,ip2)\n"
     ],
     "language": "python",
     "metadata": {},
     "outputs": [
      {
       "metadata": {},
       "output_type": "pyout",
       "prompt_number": 13,
       "text": [
        "<mpl_toolkits.mplot3d.art3d.Line3DCollection at 0x1081c1350>"
       ]
      }
     ]
    },
    {
     "cell_type": "code",
     "collapsed": false,
     "input": [
      "plt.show()"
     ],
     "language": "python",
     "metadata": {},
     "outputs": []
    },
    {
     "cell_type": "code",
     "collapsed": false,
     "input": [
      "Y"
     ],
     "language": "python",
     "metadata": {},
     "outputs": []
    },
    {
     "cell_type": "code",
     "collapsed": false,
     "input": [],
     "language": "python",
     "metadata": {},
     "outputs": [
      {
       "metadata": {},
       "output_type": "pyout",
       "prompt_number": 11,
       "text": [
        "array([[ 0.2,  0.2,  0.2,  0.2],\n",
        "       [ 0.4,  0.4,  0.4,  0.4]])"
       ]
      }
     ],
     "prompt_number": 11
    },
    {
     "cell_type": "code",
     "collapsed": false,
     "input": [],
     "language": "python",
     "metadata": {},
     "outputs": [],
     "prompt_number": 5
    },
    {
     "cell_type": "code",
     "collapsed": false,
     "input": [],
     "language": "python",
     "metadata": {},
     "outputs": [],
     "prompt_number": 5
    },
    {
     "cell_type": "code",
     "collapsed": false,
     "input": [],
     "language": "python",
     "metadata": {},
     "outputs": [],
     "prompt_number": 5
    },
    {
     "cell_type": "code",
     "collapsed": false,
     "input": [],
     "language": "python",
     "metadata": {},
     "outputs": [],
     "prompt_number": 5
    },
    {
     "cell_type": "code",
     "collapsed": false,
     "input": [],
     "language": "python",
     "metadata": {},
     "outputs": []
    }
   ],
   "metadata": {}
  }
 ]
}