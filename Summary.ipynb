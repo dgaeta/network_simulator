{
 "metadata": {
  "name": "",
  "signature": "sha256:8c96ac1af8f9043f2a42535f61f9d07001344248e934bbef7af1471d36cac56b"
 },
 "nbformat": 3,
 "nbformat_minor": 0,
 "worksheets": [
  {
   "cells": [
    {
     "cell_type": "heading",
     "level": 1,
     "metadata": {},
     "source": [
      "Name Based Routing Project"
     ]
    },
    {
     "cell_type": "heading",
     "level": 2,
     "metadata": {},
     "source": [
      "Addressable Problem:\n"
     ]
    },
    {
     "cell_type": "raw",
     "metadata": {},
     "source": [
      "-Reduce the effects of DDoS attack\n",
      "\n",
      "-Speed up content delivery\n",
      "\n",
      "-And open up new markets by routing with named strings instead of DNS and IP."
     ]
    },
    {
     "cell_type": "heading",
     "level": 1,
     "metadata": {},
     "source": [
      "What's new/different?"
     ]
    },
    {
     "cell_type": "heading",
     "level": 3,
     "metadata": {},
     "source": [
      "A new DDoS Solution:"
     ]
    },
    {
     "cell_type": "raw",
     "metadata": {},
     "source": [
      "Different from Siteprotect\n",
      "-- its too late when an attack converges on a site of interest\n",
      "-- Name Base Routing allows for isolating attacks regionally"
     ]
    },
    {
     "cell_type": "heading",
     "level": 3,
     "metadata": {},
     "source": [
      "Our solution:"
     ]
    },
    {
     "cell_type": "raw",
     "metadata": {},
     "source": [
      "Improve Traditional IP by using Name Based Routing techniques \n",
      "    (does not require new or additional hardware)\n",
      "    \n",
      "\n",
      "    \n",
      "-Create a parent/child hierachy relationship between network routers\n",
      "-Any arbitrary string can be registered as a Domain name\n",
      "-Allows for delivery of requests from multiple sources\n"
     ]
    },
    {
     "cell_type": "heading",
     "level": 3,
     "metadata": {},
     "source": [
      "Our Hypothesis:"
     ]
    },
    {
     "cell_type": "raw",
     "metadata": {},
     "source": [
      "-We believes it will beat standard IP for DDoS attacks\n",
      "\n",
      "-It will deliver content faster than the best current content delivery method (Akamai-style content delivery)"
     ]
    },
    {
     "cell_type": "heading",
     "level": 3,
     "metadata": {},
     "source": [
      "Setup:"
     ]
    },
    {
     "cell_type": "raw",
     "metadata": {},
     "source": [
      "- Probability p of a request arising at any leaf node (1/total machine count)\n",
      "\n",
      "- 2 Queues:\n",
      "    -- The forward queue, which queues up requests, \n",
      "    -- The return queue, which queues up return requests.\n",
      "\n",
      "- Heat Map \n",
      "    -- Combines both queues into one for display purposes only.    \n",
      "\n",
      "- Ticks \n",
      "    -- (Used as unit of time)\n",
      "    -- We don't want to use CPU time.\n",
      "\n",
      "- Request Pooling (not the same as caching)\n",
      "    -- We pool all duplicate requests at individual routers\n",
      "\n",
      "- Conflict Resolution\n",
      "\n",
      "- Both IP and NB routing have caching capability"
     ]
    },
    {
     "cell_type": "heading",
     "level": 3,
     "metadata": {},
     "source": [
      "Progress:"
     ]
    },
    {
     "cell_type": "heading",
     "level": 4,
     "metadata": {},
     "source": [
      "    Past:"
     ]
    },
    {
     "cell_type": "raw",
     "metadata": {},
     "source": [
      "-Graphical User Interface \n",
      "    Illustrates differences betweeb Name Based Routing and traditional IP \n",
      "    -- requests 'video'\n",
      "    -- DDoS     'video'\n",
      "    -- NB performance while supporting delivery from multiple sources 'video'\n",
      "    -- IP performance under a spike in requests for particular content 'video'\n",
      "    -- Build Javascript gui to demonstrate conflict resolution in Name Based Routing\n",
      "    -- Further built upon Attack video for Traditional IP\n",
      "    \n",
      "\n",
      "-Discrete Event Simulator \n",
      "    -- collected stats on Round Trip Time for a level 4 Name Based Network (1400 machines) vs IP (1400 machines)\n",
      "    -- Simulation that collects Rount Trip Time to fulfill a request for IP and NB for:\n",
      "        --- 4 levels (1,400 machines)\n",
      "        --- 5 levels (16,807 machines)\n",
      "        --- 6 levels (117,648 machines)\n",
      "     -- Compiled Simulations for probability (p = .2, .4, .6, .8) of node receiving a request\n",
      "        -- probability (q = .2, .4, .6, .8) of a node being chosen to publish a content source"
     ]
    },
    {
     "cell_type": "heading",
     "level": 4,
     "metadata": {},
     "source": [
      "Current:"
     ]
    },
    {
     "cell_type": "raw",
     "metadata": {},
     "source": [
      "-Graphical User Interface\n",
      "    -- Improved Javascript app displaying conflict resolution strategy\n",
      "      \n",
      "-Discreate Event Simulator\n",
      "    -- Refined Simulations in varying probability of p and q \n",
      "    -- Incorporated a more improved conflict resolution strategy into NB Routing \n",
      "    "
     ]
    },
    {
     "cell_type": "code",
     "collapsed": false,
     "input": [],
     "language": "python",
     "metadata": {},
     "outputs": [],
     "prompt_number": 0
    },
    {
     "cell_type": "code",
     "collapsed": false,
     "input": [],
     "language": "python",
     "metadata": {},
     "outputs": [],
     "prompt_number": 0
    },
    {
     "cell_type": "code",
     "collapsed": false,
     "input": [],
     "language": "python",
     "metadata": {},
     "outputs": []
    },
    {
     "cell_type": "code",
     "collapsed": false,
     "input": [],
     "language": "python",
     "metadata": {},
     "outputs": [],
     "prompt_number": 14
    },
    {
     "cell_type": "code",
     "collapsed": false,
     "input": [],
     "language": "python",
     "metadata": {},
     "outputs": [],
     "prompt_number": 0
    },
    {
     "cell_type": "code",
     "collapsed": false,
     "input": [],
     "language": "python",
     "metadata": {},
     "outputs": [],
     "prompt_number": 0
    },
    {
     "cell_type": "code",
     "collapsed": false,
     "input": [],
     "language": "python",
     "metadata": {},
     "outputs": [],
     "prompt_number": 0
    },
    {
     "cell_type": "code",
     "collapsed": false,
     "input": [],
     "language": "python",
     "metadata": {},
     "outputs": [],
     "prompt_number": 0
    },
    {
     "cell_type": "code",
     "collapsed": false,
     "input": [],
     "language": "python",
     "metadata": {},
     "outputs": []
    }
   ],
   "metadata": {}
  }
 ]
}